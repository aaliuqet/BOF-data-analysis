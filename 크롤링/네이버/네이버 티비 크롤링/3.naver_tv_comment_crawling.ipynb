{
 "cells": [
  {
   "cell_type": "code",
   "execution_count": 41,
   "metadata": {},
   "outputs": [],
   "source": [
    "from selenium import webdriver\n",
    "from selenium.webdriver.common.keys import Keys\n",
    "from selenium.webdriver.common.by import By\n",
    "from pymongo import MongoClient\n",
    "from tqdm import tqdm\n",
    "from selenium.webdriver.support.ui import WebDriverWait\n",
    "from selenium.webdriver.support import expected_conditions as EC\n",
    "from selenium.common.exceptions import TimeoutException, NoSuchElementException, ElementClickInterceptedException\n",
    "import time\n",
    "import urllib.request\n",
    "import datetime\n",
    "import copy\n",
    "import re"
   ]
  },
  {
   "cell_type": "code",
   "execution_count": 42,
   "metadata": {},
   "outputs": [],
   "source": [
    "# MongoDB 클라이언트 및 컬렉션 설정\n",
    "client = MongoClient(host=\"\", port=, username='', password='')\n",
    "db = client['BOF2024_crawling']\n",
    "collection = db['naver_tv_crawling']\n",
    "data_list = list(collection.find({\"URL\" : \"https://tv.naver.com/v/2294808\"}, {\"_id\": 1, \"URL\": 1}))"
   ]
  },
  {
   "cell_type": "code",
   "execution_count": 43,
   "metadata": {},
   "outputs": [],
   "source": [
    "data_list1 = copy.deepcopy(data_list)"
   ]
  },
  {
   "cell_type": "code",
   "execution_count": 44,
   "metadata": {},
   "outputs": [],
   "source": [
    "driver = webdriver.Chrome()"
   ]
  },
  {
   "cell_type": "code",
   "execution_count": 45,
   "metadata": {},
   "outputs": [],
   "source": [
    "# 좋아요 개수를 변환 (ex) 1.3만 → 13000 형식으로 변환)\n",
    "def convert_like_count(like_text):\n",
    "    like_text = like_text.replace(',', '')  # 쉼표 제거\n",
    "    try:\n",
    "        if '만' in like_text:\n",
    "            count = float(like_text.replace('만', '')) * 10000\n",
    "        else:\n",
    "            count = float(like_text)\n",
    "        return int(count)\n",
    "    except ValueError:\n",
    "        return 0  # 숫자로 변환할 수 없는 경우 0을 반환"
   ]
  },
  {
   "cell_type": "code",
   "execution_count": 46,
   "metadata": {},
   "outputs": [],
   "source": [
    "# 날짜 데이터 변환 함수 수정\n",
    "def convert_published_time(published_time):\n",
    "    current_date = datetime.datetime.now()\n",
    "\n",
    "    if \"일\" in published_time:\n",
    "        time_unit = int(published_time.split(\"일\")[0])\n",
    "        delta = current_date - datetime.timedelta(days=time_unit)\n",
    "    elif \"주\" in published_time:\n",
    "        time_unit = int(published_time.split(\"주\")[0])\n",
    "        delta = current_date - datetime.timedelta(weeks=time_unit)\n",
    "    elif \"개월\" in published_time:\n",
    "        time_unit = int(published_time.split(\"개월\")[0])\n",
    "        delta = current_date - datetime.timedelta(days=30 * time_unit)\n",
    "    elif \"년\" in published_time:\n",
    "        time_unit = int(published_time.split(\"년\")[0])\n",
    "        delta = current_date - datetime.timedelta(days=365 * time_unit)\n",
    "    else:\n",
    "        delta = current_date\n",
    "\n",
    "    return delta.strftime(\"%Y.%m.%d.\")"
   ]
  },
  {
   "cell_type": "code",
   "execution_count": 47,
   "metadata": {},
   "outputs": [],
   "source": [
    "def process_link(url):\n",
    "    try:\n",
    "        driver.get(url)\n",
    "\n",
    "        time.sleep(3)\n",
    "\n",
    "        # 재생 버튼을 클릭해 일시정지 → 비디오 길이가 짧아 자동으로 다음 비디오가 재생됨을 방지함 (다음 비디오가 재생되면 오류 발생)\n",
    "        def click_video_play_button():\n",
    "            try:\n",
    "                play_button = driver.find_element(By.CSS_SELECTOR, \"button.pzp-button.pzp-playback-switch.pzp-pc-playback-switch.pzp-pc__playback-switch\")\n",
    "                play_button.click()\n",
    "                return True\n",
    "            except (NoSuchElementException, ElementClickInterceptedException):\n",
    "                return False\n",
    "\n",
    "        # 비디오 재생 버튼 클릭\n",
    "        if click_video_play_button():\n",
    "            time.sleep(3)  # 클릭 후 대기 시간\n",
    "            \n",
    "        # 맨 아래까지 스크롤\n",
    "        SCROLL_PAUSE_TIME = 1.5\n",
    "        last_height = driver.execute_script(\"return document.documentElement.scrollHeight\")\n",
    "\n",
    "        while True:\n",
    "            driver.execute_script(\"window.scrollTo(0, document.documentElement.scrollHeight);\")\n",
    "            time.sleep(SCROLL_PAUSE_TIME)\n",
    "            new_height = driver.execute_script(\"return document.documentElement.scrollHeight;\")\n",
    "            if new_height == last_height:\n",
    "                break\n",
    "            last_height = new_height\n",
    "\n",
    "        time.sleep(5)\n",
    "\n",
    "        # 사용자 이름 요소 찾기\n",
    "        usernames = driver.find_elements(By.CSS_SELECTOR, \"span.CommentListItem_nickname__Jd3gD\")\n",
    "        usernames_text = [username.text for username in usernames]\n",
    "\n",
    "        # 댓글 내용 요소 찾기\n",
    "        comments = driver.find_elements(By.CSS_SELECTOR, \"p.CommentListItem_article__8wfwu\")\n",
    "        comments_text = []\n",
    "        for comment in comments:\n",
    "            text = comment.text.strip()\n",
    "            if text:  # 공백이 아닌 경우에만 추가\n",
    "                comments_text.append(text)\n",
    "\n",
    "        # 작성일자 요소 찾기\n",
    "        dates = driver.find_elements(By.CSS_SELECTOR, \"span.CommentListItem_time__MMnF3\")\n",
    "        dates_text = [date.text.replace('등록일', '').strip() for date in dates]\n",
    "        dates_text = [convert_published_time(date) for date in dates_text]\n",
    "\n",
    "        # 좋아요 개수 요소 찾기\n",
    "        try:\n",
    "            like_buttons = driver.find_elements(By.XPATH, \"//div[@class='CommentListItem_reaction_area__SY7fm']//button[.//span[text()='좋아요']]//span[@class='CommentListItem_text__M77fF']\")\n",
    "            likes_text = [like.text for like in like_buttons]\n",
    "\n",
    "            likes = []\n",
    "            for like_text in likes_text:\n",
    "                if like_text == \"좋아요\":\n",
    "                    likes.append(0)\n",
    "                else:\n",
    "                    likes.append(convert_like_count(like_text))\n",
    "\n",
    "        except NoSuchElementException:\n",
    "            likes = [0] * len(usernames)  # 좋아요 요소가 없는 경우 0을 할당\n",
    "\n",
    "         # MongoDB에 적재\n",
    "        comments_data = []\n",
    "        for i in range(len(usernames_text)):\n",
    "            comment_data = {\n",
    "                \"사용자 이름\": usernames_text[i],\n",
    "                \"댓글 내용\": comments_text[i],\n",
    "                \"작성일자\": dates_text[i],\n",
    "                \"댓글 좋아요\": likes[i]\n",
    "            }\n",
    "            comments_data.append(comment_data)\n",
    "\n",
    "        collection.update_one({\"URL\": url}, {\"$set\": {\n",
    "            \"댓글\": comments_data,  \n",
    "            \"댓글 개수\": len(comments_data)  \n",
    "        }})\n",
    "\n",
    "        time.sleep(3)\n",
    "\n",
    "    except Exception as e:\n",
    "        print(\"URL 처리 중 오류 발생:\", e)"
   ]
  },
  {
   "cell_type": "code",
   "execution_count": 48,
   "metadata": {},
   "outputs": [
    {
     "name": "stderr",
     "output_type": "stream",
     "text": [
      "Processing Links: 100%|██████████| 1/1 [00:16<00:00, 16.05s/link]\n"
     ]
    }
   ],
   "source": [
    "for data in tqdm(data_list1, desc=\"Processing Links\", unit=\"link\"):\n",
    "    url = data['URL']\n",
    "    process_link(url)\n",
    "\n",
    "client.close()\n",
    "driver.quit()"
   ]
  }
 ],
 "metadata": {
  "kernelspec": {
   "display_name": "Python 3",
   "language": "python",
   "name": "python3"
  },
  "language_info": {
   "codemirror_mode": {
    "name": "ipython",
    "version": 3
   },
   "file_extension": ".py",
   "mimetype": "text/x-python",
   "name": "python",
   "nbconvert_exporter": "python",
   "pygments_lexer": "ipython3",
   "version": "3.11.4"
  }
 },
 "nbformat": 4,
 "nbformat_minor": 2
}
