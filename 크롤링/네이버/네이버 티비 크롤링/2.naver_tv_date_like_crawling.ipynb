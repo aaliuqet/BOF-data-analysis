{
 "cells": [
  {
   "cell_type": "code",
   "execution_count": 33,
   "metadata": {},
   "outputs": [],
   "source": [
    "from selenium import webdriver\n",
    "from selenium.webdriver.common.keys import Keys\n",
    "from selenium.webdriver.common.by import By\n",
    "from pymongo import MongoClient\n",
    "from tqdm import tqdm\n",
    "from selenium.webdriver.support.ui import WebDriverWait\n",
    "from selenium.webdriver.support import expected_conditions as EC\n",
    "from selenium.common.exceptions import TimeoutException, NoSuchElementException\n",
    "import time\n",
    "import urllib.request\n",
    "import datetime\n",
    "import copy\n",
    "import re"
   ]
  },
  {
   "cell_type": "code",
   "execution_count": 34,
   "metadata": {},
   "outputs": [],
   "source": [
    "# MongoDB 클라이언트 및 컬렉션 설정\n",
    "client = MongoClient(host=\"\", port=, username='', password='')\n",
    "db = client['BOF2024_crawling']\n",
    "collection = db['naver_tv_crawling']\n",
    "data_list = list(collection.find({\"검색키워드\" : \"Busan One Asia Festival\"}, {\"_id\": 1, \"URL\": 1}))"
   ]
  },
  {
   "cell_type": "code",
   "execution_count": 35,
   "metadata": {},
   "outputs": [],
   "source": [
    "data_list1 = copy.deepcopy(data_list)"
   ]
  },
  {
   "cell_type": "code",
   "execution_count": 36,
   "metadata": {},
   "outputs": [],
   "source": [
    "driver = webdriver.Chrome()"
   ]
  },
  {
   "cell_type": "code",
   "execution_count": 37,
   "metadata": {},
   "outputs": [],
   "source": [
    "# 좋아요 개수를 변환 (ex) 1.3만 → 13000 형식으로 변환)\n",
    "def convert_like_count(like_count_text):\n",
    "    like_count_text = like_count_text.replace(',', '')  # 쉼표 제거\n",
    "    try:\n",
    "        if '만' in like_count_text:\n",
    "            count = float(like_count_text.replace('만', '')) * 10000\n",
    "        else:\n",
    "            count = float(like_count_text)\n",
    "        return int(count)\n",
    "    except ValueError:\n",
    "        return 0  # 숫자로 변환할 수 없는 경우 0을 반환"
   ]
  },
  {
   "cell_type": "code",
   "execution_count": 38,
   "metadata": {},
   "outputs": [],
   "source": [
    "# 공연일자 연도 추출\n",
    "def extract_airing_year(airing_date_text):\n",
    "    year_match = re.search(r'^(\\d{4})', airing_date_text)\n",
    "    if year_match:\n",
    "        return year_match.group(1)\n",
    "    return \"\""
   ]
  },
  {
   "cell_type": "code",
   "execution_count": 39,
   "metadata": {},
   "outputs": [],
   "source": [
    "def process_link(url):\n",
    "    try:\n",
    "        driver.get(url)\n",
    "\n",
    "        time.sleep(3)\n",
    "\n",
    "        # 더보기 버튼 요소 찾기\n",
    "        try:\n",
    "            more_button = WebDriverWait(driver, 10).until(EC.element_to_be_clickable((By.CSS_SELECTOR, 'button.ArticleSection_button_open__mTDBA')))\n",
    "            more_button.click()\n",
    "            time.sleep(3)\n",
    "        except TimeoutException:\n",
    "             print(\"더보기 버튼 없음. 계속 진행합니다.\")\n",
    "\n",
    "        # 맨 아래까지 스크롤\n",
    "        SCROLL_PAUSE_TIME = 1.5\n",
    "        last_height = driver.execute_script(\"return document.documentElement.scrollHeight\")\n",
    "\n",
    "        while True:\n",
    "            driver.execute_script(\"window.scrollTo(0, document.documentElement.scrollHeight);\")\n",
    "            time.sleep(SCROLL_PAUSE_TIME)\n",
    "            new_height = driver.execute_script(\"return document.documentElement.scrollHeight;\")\n",
    "            if new_height == last_height:\n",
    "                break\n",
    "            last_height = new_height\n",
    "\n",
    "        # 좋아요 개수 요소 찾기\n",
    "        try:\n",
    "            like_count_elem = WebDriverWait(driver, 10).until(EC.element_to_be_clickable((By.CSS_SELECTOR, '.ArticleSection_button_item__fvSDs .ArticleSection_text__Hdvc7')))\n",
    "            like_count_text = like_count_elem.text.strip()\n",
    "    \n",
    "            # 좋아요가 \"좋아요\"인 경우\n",
    "            if like_count_text == \"좋아요\":\n",
    "                like_count = 0\n",
    "            else:\n",
    "                like_count = convert_like_count(like_count_text)\n",
    "        except NoSuchElementException:\n",
    "            like_count = 0  # 좋아요 요소가 없는 경우 0을 할당\n",
    "            like_count_text = \"좋아요 요소를 찾을 수 없음\"\n",
    "\n",
    "        # 업로드 날짜 요소 찾기\n",
    "        try:\n",
    "            date_elem = WebDriverWait(driver, 10).until(EC.element_to_be_clickable((By.CSS_SELECTOR, '.ArticleSection_list_item__q6zOX > span:last-child')))\n",
    "            date_text = date_elem.text.strip() + '.'\n",
    "        except NoSuchElementException:\n",
    "            date_text = \"\"  # 업로드 날짜 요소가 없는 경우 공백으로 할당\n",
    "\n",
    "        # 공연일자 요소 찾기\n",
    "        try:\n",
    "            airing_date_elem = WebDriverWait(driver, 10).until(EC.element_to_be_clickable((By.XPATH, \"//span[text()='방영일']/following-sibling::span\")))\n",
    "            airing_date_text = airing_date_elem.text.strip()\n",
    "            airing_year = extract_airing_year(airing_date_text)\n",
    "        except NoSuchElementException:\n",
    "            airing_year = \"\"  # 공연일자 요소가 없는 경우 공백으로 할당\n",
    "        except TimeoutException:\n",
    "            airing_year = \"\"  # TimeoutException 발생 시 공백으로 할당\n",
    "            \n",
    "         # Mongodb에 적재\n",
    "        collection.update_one({\"URL\": url}, {\"$set\": {\n",
    "            \"좋아요\": like_count,\n",
    "            \"업로드 날짜\": date_text,\n",
    "            \"공연일자\": airing_year\n",
    "        }})\n",
    "\n",
    "    except Exception as e:\n",
    "        print(\"URL 처리 중 오류 발생:\", e)"
   ]
  },
  {
   "cell_type": "code",
   "execution_count": 40,
   "metadata": {},
   "outputs": [
    {
     "name": "stderr",
     "output_type": "stream",
     "text": [
      "Processing Links:   8%|▊         | 1/13 [00:18<03:38, 18.23s/link]"
     ]
    },
    {
     "name": "stdout",
     "output_type": "stream",
     "text": [
      "더보기 버튼 없음. 계속 진행합니다.\n"
     ]
    },
    {
     "name": "stderr",
     "output_type": "stream",
     "text": [
      "Processing Links:  23%|██▎       | 3/13 [01:01<03:23, 20.34s/link]"
     ]
    },
    {
     "name": "stdout",
     "output_type": "stream",
     "text": [
      "더보기 버튼 없음. 계속 진행합니다.\n"
     ]
    },
    {
     "name": "stderr",
     "output_type": "stream",
     "text": [
      "Processing Links:  46%|████▌     | 6/13 [02:02<02:18, 19.78s/link]"
     ]
    },
    {
     "name": "stdout",
     "output_type": "stream",
     "text": [
      "더보기 버튼 없음. 계속 진행합니다.\n"
     ]
    },
    {
     "name": "stderr",
     "output_type": "stream",
     "text": [
      "Processing Links:  54%|█████▍    | 7/13 [02:27<02:09, 21.52s/link]"
     ]
    },
    {
     "name": "stdout",
     "output_type": "stream",
     "text": [
      "더보기 버튼 없음. 계속 진행합니다.\n"
     ]
    },
    {
     "name": "stderr",
     "output_type": "stream",
     "text": [
      "Processing Links: 100%|██████████| 13/13 [04:30<00:00, 20.78s/link]\n"
     ]
    }
   ],
   "source": [
    "for data in tqdm(data_list1, desc=\"Processing Links\", unit=\"link\"):\n",
    "    url = data['URL']\n",
    "    process_link(url)\n",
    "\n",
    "client.close()\n",
    "driver.quit()"
   ]
  }
 ],
 "metadata": {
  "kernelspec": {
   "display_name": "Python 3",
   "language": "python",
   "name": "python3"
  },
  "language_info": {
   "codemirror_mode": {
    "name": "ipython",
    "version": 3
   },
   "file_extension": ".py",
   "mimetype": "text/x-python",
   "name": "python",
   "nbconvert_exporter": "python",
   "pygments_lexer": "ipython3",
   "version": "3.11.4"
  }
 },
 "nbformat": 4,
 "nbformat_minor": 2
}
