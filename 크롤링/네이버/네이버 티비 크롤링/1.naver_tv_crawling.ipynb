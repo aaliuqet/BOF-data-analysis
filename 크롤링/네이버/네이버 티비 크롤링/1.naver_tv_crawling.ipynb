{
 "cells": [
  {
   "cell_type": "code",
   "execution_count": 8,
   "metadata": {},
   "outputs": [],
   "source": [
    "from selenium import webdriver\n",
    "from selenium.webdriver.common.keys import Keys\n",
    "from selenium.webdriver.common.by import By\n",
    "from selenium.webdriver.support.ui import WebDriverWait\n",
    "from selenium.webdriver.support import expected_conditions as EC\n",
    "from selenium.common.exceptions import TimeoutException, NoSuchElementException\n",
    "from selenium.webdriver.common.action_chains import ActionChains\n",
    "from pymongo import MongoClient\n",
    "from tqdm import tqdm\n",
    "import time\n",
    "from datetime import datetime"
   ]
  },
  {
   "cell_type": "code",
   "execution_count": 9,
   "metadata": {},
   "outputs": [],
   "source": [
    "# MongoDB 클라이언트 및 컬렉션 설정\n",
    "client = MongoClient(host=\"\", port=, username='', password='')\n",
    "db = client['BOF2024_crawling']\n",
    "collection = db['naver_tv_crawling']"
   ]
  },
  {
   "cell_type": "code",
   "execution_count": 10,
   "metadata": {},
   "outputs": [],
   "source": [
    "# 웹드라이버 초기화 및 네이버tv 검색 페이지 열기\n",
    "driver = webdriver.Chrome()\n",
    "driver.get(\"https://tv.naver.com/\")\n",
    "driver.maximize_window()\n",
    "\n",
    "# 3초간 대기\n",
    "time.sleep(3)"
   ]
  },
  {
   "cell_type": "code",
   "execution_count": 11,
   "metadata": {},
   "outputs": [],
   "source": [
    "# 검색어 입력 요소 찾기\n",
    "search_input = WebDriverWait(driver, 10).until(EC.presence_of_element_located((By.ID, \"__gnb__searchInput\")))\n",
    "\n",
    "# 검색어 입력\n",
    "search_input.send_keys(\"Busan One Asia Festival\")\n",
    "\n",
    "# 3초간 대기 후 엔터 키 입력\n",
    "time.sleep(3)\n",
    "search_input.send_keys(Keys.RETURN) "
   ]
  },
  {
   "cell_type": "code",
   "execution_count": 12,
   "metadata": {},
   "outputs": [],
   "source": [
    "# 조회수 형식을 변환 (ex) 1.3만 → 13000 형식으로 변환)\n",
    "def convert_view_count(view_count_text):\n",
    "    view_count_text = view_count_text.replace(',', '')  # 쉼표 제거\n",
    "    if '만' in view_count_text:\n",
    "        count = int(float(view_count_text.replace('만', '')) * 10000)\n",
    "    else:\n",
    "        count = int(view_count_text)\n",
    "    return count"
   ]
  },
  {
   "cell_type": "code",
   "execution_count": 13,
   "metadata": {},
   "outputs": [],
   "source": [
    "# 3초간 대기\n",
    "time.sleep(3)\n",
    "\n",
    "# 맨 아래까지 스크롤\n",
    "SCROLL_PAUSE_TIME = 1.5\n",
    "last_height = driver.execute_script(\"return document.documentElement.scrollHeight\")\n",
    "\n",
    "while True:\n",
    "    driver.execute_script(\"window.scrollTo(0, document.documentElement.scrollHeight);\")\n",
    "    time.sleep(SCROLL_PAUSE_TIME)\n",
    "    new_height = driver.execute_script(\"return document.documentElement.scrollHeight;\")\n",
    "    if new_height == last_height:\n",
    "        break\n",
    "    last_height = new_height"
   ]
  },
  {
   "cell_type": "code",
   "execution_count": 14,
   "metadata": {},
   "outputs": [
    {
     "name": "stderr",
     "output_type": "stream",
     "text": [
      "동영상 수집 진행 중: 100%|██████████| 139/139 [00:11<00:00, 12.46it/s]\n"
     ]
    }
   ],
   "source": [
    "try:\n",
    "    # 영상 정보 가져오기\n",
    "    video_datas = driver.find_elements(By.CSS_SELECTOR, '.ClipHorizontalCardV2_list_item__dtxfs')\n",
    "\n",
    "    for data in tqdm(video_datas, desc=\"동영상 수집 진행 중\"):\n",
    "        # 영상 제목 요소 찾기\n",
    "        video_title_elem = data.find_element(By.CSS_SELECTOR, '.ClipHorizontalCardV2_title__4gz8z')\n",
    "        video_title = video_title_elem.text.strip()\n",
    "\n",
    "        # 영상 URL 요소 찾기\n",
    "        video_url_elem = data.find_element(By.CSS_SELECTOR, '.ClipHorizontalCardV2_link_title__v1EH7')\n",
    "        video_url = video_url_elem.get_attribute('href')\n",
    "        \n",
    "        # 채널명 요소 찾기\n",
    "        channel_name_elem = data.find_element(By.CSS_SELECTOR, '.ClipHorizontalCardV2_channel_name__XaLUw')\n",
    "        channel_name = channel_name_elem.text.strip()\n",
    "\n",
    "        # 조회수 요소 찾기\n",
    "        try:\n",
    "            view_count_elem = data.find_element(By.CSS_SELECTOR, '.ClipHorizontalCardV2_text__4iw73')\n",
    "            view_count_text = view_count_elem.text.strip()\n",
    "            # 숫자가 아닌 경우 해당 데이터를 건너뜀 (ex) \"19세 이상\" 등으로 조회수가 표기된 경우 존재)\n",
    "            if not view_count_text.replace('만', '').replace(',', '').replace('.', '').isdigit():\n",
    "                continue\n",
    "            view_count = convert_view_count(view_count_text)\n",
    "        except NoSuchElementException:\n",
    "            view_count = 0  # 조회수 요소가 없는 경우 0을 할당\n",
    "\n",
    "        # 설명 요소 찾기\n",
    "        video_description_elem = data.find_element(By.CSS_SELECTOR, '.ClipHorizontalCardV2_description__RBDmS')\n",
    "        video_description = video_description_elem.text.strip()\n",
    "\n",
    "        # 영상 길이 요소 찾기\n",
    "        video_length_elem = data.find_element(By.CSS_SELECTOR, '.ClipHorizontalCardV2_playtime__smy9H')\n",
    "        video_length = video_length_elem.text.strip()\n",
    "\n",
    "        # MongoDB에 데이터 적재\n",
    "        data = {\n",
    "            \"제목\": video_title,\n",
    "            \"URL\": video_url,\n",
    "            \"채널명\": channel_name,\n",
    "            \"조회수\": view_count,\n",
    "            \"설명\": video_description,\n",
    "            \"영상 길이\": video_length,\n",
    "            \"검색키워드\": \"Busan One Asia Festival\"  # 검색 키워드를 지정 \n",
    "        }\n",
    "        collection.insert_one(data)\n",
    "\n",
    "finally:\n",
    "    # 작업 완료 후 드라이버 닫기\n",
    "    driver.quit()\n",
    "    client.close()"
   ]
  }
 ],
 "metadata": {
  "kernelspec": {
   "display_name": "Python 3",
   "language": "python",
   "name": "python3"
  },
  "language_info": {
   "codemirror_mode": {
    "name": "ipython",
    "version": 3
   },
   "file_extension": ".py",
   "mimetype": "text/x-python",
   "name": "python",
   "nbconvert_exporter": "python",
   "pygments_lexer": "ipython3",
   "version": "3.11.4"
  }
 },
 "nbformat": 4,
 "nbformat_minor": 2
}
