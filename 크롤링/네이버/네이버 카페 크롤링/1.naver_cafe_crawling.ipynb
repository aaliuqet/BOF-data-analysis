{
 "cells": [
  {
   "cell_type": "code",
   "execution_count": 160,
   "metadata": {},
   "outputs": [],
   "source": [
    "from selenium import webdriver\n",
    "from selenium.webdriver.common.keys import Keys\n",
    "from selenium.webdriver.common.by import By\n",
    "from selenium.webdriver.support.ui import WebDriverWait\n",
    "from selenium.webdriver.support import expected_conditions as EC\n",
    "from selenium.common.exceptions import TimeoutException, NoSuchElementException\n",
    "from selenium.webdriver.common.action_chains import ActionChains\n",
    "from pymongo import MongoClient\n",
    "from tqdm import tqdm\n",
    "import time\n",
    "from datetime import datetime, timedelta"
   ]
  },
  {
   "cell_type": "code",
   "execution_count": 161,
   "metadata": {},
   "outputs": [],
   "source": [
    "# MongoDB 클라이언트 및 컬렉션 설정\n",
    "client = MongoClient(host=\"\", port=, username='', password='')\n",
    "db = client['BOF2024_crawling']\n",
    "collection = db['naver_cafe_crawling']"
   ]
  },
  {
   "cell_type": "code",
   "execution_count": 162,
   "metadata": {},
   "outputs": [],
   "source": [
    "# 웹드라이버 초기화 및 네이버 카페 검색 페이지 열기\n",
    "driver = webdriver.Chrome()\n",
    "driver.get(\"https://section.cafe.naver.com/\")\n",
    "driver.maximize_window()\n",
    "\n",
    "# 3초간 대기\n",
    "time.sleep(3)"
   ]
  },
  {
   "cell_type": "code",
   "execution_count": 163,
   "metadata": {},
   "outputs": [],
   "source": [
    "# 검색어 입력 요소 찾기\n",
    "search_box = driver.find_element(By.XPATH, '//input[@placeholder=\"원하는 카페, 글을 찾아보세요\"]')\n",
    "\n",
    "# 검색어 입력\n",
    "search_box.send_keys('부산원아시아페스티벌')\n",
    "\n",
    "# 3초간 대기 후 엔터 키 입력\n",
    "time.sleep(3)\n",
    "search_box.send_keys(Keys.ENTER)"
   ]
  },
  {
   "cell_type": "code",
   "execution_count": 164,
   "metadata": {},
   "outputs": [
    {
     "name": "stdout",
     "output_type": "stream",
     "text": [
      "Error occurred: Message: \n",
      "Stacktrace:\n",
      "\tGetHandleVerifier [0x00007FF64CB7EEA2+31554]\n",
      "\t(No symbol) [0x00007FF64CAF7ED9]\n",
      "\t(No symbol) [0x00007FF64C9B872A]\n",
      "\t(No symbol) [0x00007FF64CA08434]\n",
      "\t(No symbol) [0x00007FF64CA0853C]\n",
      "\t(No symbol) [0x00007FF64CA4F6A7]\n",
      "\t(No symbol) [0x00007FF64CA2D06F]\n",
      "\t(No symbol) [0x00007FF64CA4C977]\n",
      "\t(No symbol) [0x00007FF64CA2CDD3]\n",
      "\t(No symbol) [0x00007FF64C9FA33B]\n",
      "\t(No symbol) [0x00007FF64C9FAED1]\n",
      "\tGetHandleVerifier [0x00007FF64CE88B1D+3217341]\n",
      "\tGetHandleVerifier [0x00007FF64CED5AE3+3532675]\n",
      "\tGetHandleVerifier [0x00007FF64CECB0E0+3489152]\n",
      "\tGetHandleVerifier [0x00007FF64CC2E776+750614]\n",
      "\t(No symbol) [0x00007FF64CB0375F]\n",
      "\t(No symbol) [0x00007FF64CAFEB14]\n",
      "\t(No symbol) [0x00007FF64CAFECA2]\n",
      "\t(No symbol) [0x00007FF64CAEE16F]\n",
      "\tBaseThreadInitThunk [0x00007FF8CDF1257D+29]\n",
      "\tRtlUserThreadStart [0x00007FF8CF60AF28+40]\n",
      "\n"
     ]
    },
    {
     "name": "stderr",
     "output_type": "stream",
     "text": [
      "MongoDB에 데이터 적재 중: 100%|██████████| 3936/3936 [00:34<00:00, 115.72it/s]\n"
     ]
    }
   ],
   "source": [
    "try:\n",
    "    SCROLL_PAUSE_TIME = 1.5\n",
    "    current_page = 1\n",
    "    all_data = []\n",
    "\n",
    "    while True:\n",
    "        # 페이지 스크롤\n",
    "        driver.execute_script(\"window.scrollTo(0, document.documentElement.scrollHeight);\")\n",
    "        time.sleep(SCROLL_PAUSE_TIME)\n",
    "\n",
    "        # 게시글 요소들 찾기\n",
    "        elements = driver.find_elements(By.CSS_SELECTOR, 'div.ArticleItem')\n",
    "\n",
    "        for element in elements:\n",
    "            try:\n",
    "                # strong 태그의 클래스명이 'title'인 요소 찾기\n",
    "                title_element = element.find_element(By.CSS_SELECTOR, 'strong.title')\n",
    "                title = title_element.text\n",
    "\n",
    "                # a 태그의 href 속성값 가져오기\n",
    "                url_element = element.find_element(By.CSS_SELECTOR, 'div.article_item_wrap > a')\n",
    "                url = url_element.get_attribute('href')\n",
    "\n",
    "                # span 태그의 클래스명이 'cafe_name'인 요소들 찾기\n",
    "                cafe_name_element = element.find_element(By.CSS_SELECTOR, 'span.cafe_name')\n",
    "                cafe_name = cafe_name_element.text\n",
    "\n",
    "                # p 태그의 클래스명이 'text'인 요소 찾기\n",
    "                cafe_content_element = element.find_element(By.CSS_SELECTOR, 'p.text')\n",
    "                content = cafe_content_element.text\n",
    "\n",
    "                # span 태그의 클래스명이 'date'인 요소 찾기\n",
    "                date_element = element.find_element(By.CSS_SELECTOR, 'span.date')\n",
    "                date_text = date_element.text\n",
    "                \n",
    "                # 날짜 처리\n",
    "                if \"분 전\" in date_text:\n",
    "                    minutes = int(date_text.split()[0])\n",
    "                    post_date = datetime.now() - timedelta(minutes=minutes)\n",
    "                    post_date_str = post_date.strftime(\"%Y.%m.%d.\")\n",
    "                elif \"시간 전\" in date_text:\n",
    "                    hours = int(date_text.split()[0])\n",
    "                    post_date = datetime.now() - timedelta(hours=hours)\n",
    "                    post_date_str = post_date.strftime(\"%Y.%m.%d.\")\n",
    "                else:\n",
    "                    # yyyy.mm.dd. 형식이면 그대로 사용\n",
    "                    post_date_str = date_text\n",
    "\n",
    "                # 모든 필드가 존재할 경우에만 MongoDB에 데이터 적재\n",
    "                if title and url and cafe_name and content and post_date_str:\n",
    "                    data = {\n",
    "                        \"제목\": title,\n",
    "                        \"URL\": url,\n",
    "                        \"카페이름\": cafe_name,\n",
    "                        \"카페요약\": content,\n",
    "                        \"업로드 날짜\": post_date_str,\n",
    "                        \"검색키워드\": \"부산원아시아페스티벌\"  # 검색 키워드를 지정 \n",
    "                    }\n",
    "                    all_data.append(data)\n",
    "\n",
    "            except NoSuchElementException as e:\n",
    "                print(f\"Element not found: {e}\")\n",
    "            except Exception as e:\n",
    "                print(f\"Error processing element: {e}\")\n",
    "\n",
    "        # 페이지 이동\n",
    "        if current_page % 10 == 0:\n",
    "            next_button = WebDriverWait(driver, 10).until(EC.element_to_be_clickable((By.CSS_SELECTOR, \"button.btn.type_next\")))\n",
    "            next_button.click()\n",
    "        else:\n",
    "            next_page_button = WebDriverWait(driver, 10).until(EC.element_to_be_clickable((By.XPATH, f\"//button[@class='btn number' and normalize-space(text())='{current_page + 1}']\")))\n",
    "            next_page_button.click()\n",
    "\n",
    "        current_page += 1\n",
    "        time.sleep(2)  # 페이지 로딩 대기\n",
    "\n",
    "except Exception as e:\n",
    "    print(f\"Error occurred: {e}\")\n",
    "\n",
    "    # 데이터 적재 진행 \n",
    "    for data in tqdm(all_data, desc='MongoDB에 데이터 적재 중'):\n",
    "        collection.insert_one(data)\n",
    "\n",
    "finally:\n",
    "    driver.quit()"
   ]
  }
 ],
 "metadata": {
  "kernelspec": {
   "display_name": "Python 3",
   "language": "python",
   "name": "python3"
  },
  "language_info": {
   "codemirror_mode": {
    "name": "ipython",
    "version": 3
   },
   "file_extension": ".py",
   "mimetype": "text/x-python",
   "name": "python",
   "nbconvert_exporter": "python",
   "pygments_lexer": "ipython3",
   "version": "3.11.4"
  }
 },
 "nbformat": 4,
 "nbformat_minor": 2
}
