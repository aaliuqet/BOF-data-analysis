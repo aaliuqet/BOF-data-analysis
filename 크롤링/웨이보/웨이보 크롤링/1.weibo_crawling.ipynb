{
 "cells": [
  {
   "cell_type": "code",
   "execution_count": 13,
   "metadata": {},
   "outputs": [],
   "source": [
    "from selenium import webdriver\n",
    "from selenium.webdriver.common.keys import Keys\n",
    "from selenium.webdriver.common.by import By\n",
    "from selenium.webdriver.support.ui import WebDriverWait\n",
    "from selenium.webdriver.support import expected_conditions as EC\n",
    "from selenium.webdriver.common.action_chains import ActionChains\n",
    "from pymongo import MongoClient\n",
    "from tqdm import tqdm\n",
    "import time\n",
    "from datetime import datetime"
   ]
  },
  {
   "cell_type": "code",
   "execution_count": 14,
   "metadata": {},
   "outputs": [],
   "source": [
    "# MongoDB 클라이언트 및 컬렉션 설정\n",
    "client = MongoClient(host=\"\", port=, username='', password='')\n",
    "db = client['weibo_crawling']\n",
    "collection = db['OneAsia_weibo_crawling']"
   ]
  },
  {
   "cell_type": "code",
   "execution_count": 15,
   "metadata": {},
   "outputs": [],
   "source": [
    "# 웹드라이버 초기화 및 weibo 검색 페이지 열기\n",
    "driver = webdriver.Chrome()\n",
    "driver.get(\"https://www.weibo.com\")\n",
    "driver.maximize_window()"
   ]
  },
  {
   "cell_type": "code",
   "execution_count": 16,
   "metadata": {},
   "outputs": [],
   "source": [
    "# 버튼 요소 찾기\n",
    "wait = WebDriverWait(driver, 10)\n",
    "button = wait.until(EC.element_to_be_clickable((By.CLASS_NAME, 'LoginCard_btn_Jp_u1')))\n",
    "    \n",
    "# 버튼 클릭 (모바일 QR코드로 로그인, 30초 내로 완료해야 함.)\n",
    "button.click()\n",
    "time.sleep(30)"
   ]
  },
  {
   "cell_type": "code",
   "execution_count": 17,
   "metadata": {},
   "outputs": [],
   "source": [
    "# 검색어 입력\n",
    "search_input = wait.until(EC.visibility_of_element_located((By.CSS_SELECTOR, 'input.woo-input-main')))\n",
    "search_input.send_keys(\"부산원아시아페스티벌\")\n",
    "\n",
    "# 검색 버튼 요소 찾기\n",
    "search_result_link = wait.until(EC.element_to_be_clickable((By.CSS_SELECTOR, 'div.SearchBar_rWeibo_YdBa9 a.ALink_none_26qv1')))\n",
    "search_result_link.click()"
   ]
  },
  {
   "cell_type": "code",
   "execution_count": 18,
   "metadata": {},
   "outputs": [],
   "source": [
    "# 새 창으로 전환\n",
    "original_window = driver.current_window_handle\n",
    "for window_handle in driver.window_handles:\n",
    "    if window_handle != original_window:\n",
    "        driver.switch_to.window(window_handle)\n",
    "        break"
   ]
  },
  {
   "cell_type": "code",
   "execution_count": 19,
   "metadata": {},
   "outputs": [],
   "source": [
    "# 날짜 형식 설정 2023年11月03日 → 2023.11.03. or 11月03日 → 2024.11.03.\n",
    "def convert_date_format(date_text):\n",
    "    if '-' in date_text:\n",
    "        # 하이픈(-)을 점(.)으로 변환하고 마지막에 점 추가\n",
    "        formatted_date = date_text.replace('-', '.') + '.'\n",
    "    else:\n",
    "        # 年, 月, 日을 \".\"으로 변환\n",
    "        formatted_date = date_text.replace(\"年\", \".\").replace(\"月\", \".\").replace(\"日\", \".\").strip()\n",
    "        if formatted_date.count('.') == 3:\n",
    "            return formatted_date\n",
    "        # 연도가 누락된 경우는 올해 연도를 사용\n",
    "        current_year = datetime.now().year\n",
    "        return f\"{current_year}.{formatted_date}\"\n",
    "    return formatted_date"
   ]
  },
  {
   "cell_type": "code",
   "execution_count": 20,
   "metadata": {},
   "outputs": [
    {
     "name": "stderr",
     "output_type": "stream",
     "text": [
      "데이터 적재 중: 100%|██████████| 47/47 [00:00<00:00, 85.00it/s]\n"
     ]
    }
   ],
   "source": [
    "SCROLL_PAUSE_TIME = 1.5\n",
    "max_clicks = 48  # 최대 클릭 횟수 (weibo 검색 키워드 별 최대 페이지 수 확인 ex) 50p 라면 50-2=48, 48을 최대 클릭 횟수로 설정함.)\n",
    "click_counter = 0  # 클릭 카운터 변수 초기화\n",
    "all_data = []\n",
    "\n",
    "while click_counter < max_clicks:\n",
    "    try:\n",
    "        driver.execute_script(\"window.scrollTo(0, document.documentElement.scrollHeight);\")\n",
    "        time.sleep(SCROLL_PAUSE_TIME)\n",
    "\n",
    "        # 채널명, URL, 업로드 날짜, 좋아요 개수 수집 \n",
    "        user_names = driver.find_elements(By.CSS_SELECTOR, 'a.name')\n",
    "        links = driver.find_elements(By.XPATH, '//div[@class=\"from\"]/a[1]')\n",
    "        date_elements = driver.find_elements(By.XPATH, '//div[@class=\"from\"]/a[1]')\n",
    "        like_elements = driver.find_elements(By.CSS_SELECTOR, 'div.card-act ul li a.woo-box-flex.woo-box-alignCenter.woo-box-justifyCenter span.woo-like-count')\n",
    "    \n",
    "        min_length = min(len(user_names), len(links), len(date_elements), len(like_elements))\n",
    "    \n",
    "        for i in range(min_length):\n",
    "            user_name = user_names[i].text\n",
    "            href = links[i].get_attribute(\"href\")\n",
    "            date_text = date_elements[i].text.split()[0]\n",
    "            converted_date = convert_date_format(date_text)\n",
    "            like_text = like_elements[i].text.strip()\n",
    "            if like_text == \"赞\":\n",
    "                count = 0\n",
    "            elif like_text.isdigit():\n",
    "                count = int(like_text)\n",
    "\n",
    "            data = {\n",
    "                \"채널명\": user_name,\n",
    "                \"URL\": href,\n",
    "                \"업로드 날짜\": converted_date,\n",
    "                \"좋아요\": count,\n",
    "                \"검색키워드\": \"부산원아시아페스티벌\"\n",
    "            }\n",
    "            all_data.append(data)\n",
    "    \n",
    "        # 다음 페이지로 이동\n",
    "        next_page_link = WebDriverWait(driver, 10).until(EC.element_to_be_clickable((By.CSS_SELECTOR, 'a.next')))\n",
    "        next_page_link.click()\n",
    "        time.sleep(2)  # 페이지 이동 후 잠시 대기\n",
    "\n",
    "        click_counter += 1  # 클릭 횟수 증가\n",
    "\n",
    "    except Exception as e:\n",
    "        print(f\"예외 발생: {e}\")\n",
    "        break\n",
    "\n",
    "# MongoDB에 데이터 적재\n",
    "for data in tqdm(all_data, desc=\"데이터 적재 중\"):\n",
    "    collection.insert_one(data)\n",
    "\n",
    "client.close()"
   ]
  },
  {
   "cell_type": "code",
   "execution_count": 21,
   "metadata": {},
   "outputs": [],
   "source": [
    "driver.quit()"
   ]
  }
 ],
 "metadata": {
  "kernelspec": {
   "display_name": "Python 3",
   "language": "python",
   "name": "python3"
  },
  "language_info": {
   "codemirror_mode": {
    "name": "ipython",
    "version": 3
   },
   "file_extension": ".py",
   "mimetype": "text/x-python",
   "name": "python",
   "nbconvert_exporter": "python",
   "pygments_lexer": "ipython3",
   "version": "3.11.4"
  }
 },
 "nbformat": 4,
 "nbformat_minor": 2
}
