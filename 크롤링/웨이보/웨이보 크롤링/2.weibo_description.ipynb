{
 "cells": [
  {
   "cell_type": "code",
   "execution_count": 41,
   "metadata": {},
   "outputs": [],
   "source": [
    "from selenium import webdriver\n",
    "from selenium.webdriver.common.by import By\n",
    "from selenium.webdriver.support import expected_conditions as EC\n",
    "from selenium.webdriver.support.ui import WebDriverWait\n",
    "from selenium.common.exceptions import NoSuchElementException\n",
    "import time\n",
    "from pymongo import MongoClient\n",
    "import re\n",
    "from datetime import datetime\n",
    "import copy\n",
    "import random\n",
    "from tqdm import tqdm"
   ]
  },
  {
   "cell_type": "code",
   "execution_count": 42,
   "metadata": {},
   "outputs": [],
   "source": [
    "# MongoDB 클라이언트 및 컬렉션 설정\n",
    "client = MongoClient(host=\"\", port=, username='', password='')\n",
    "db = client['weibo_crawling']\n",
    "collection = db['OneAsia_weibo_crawling']\n",
    "data_list = list(collection.find({\"검색키워드\": \"부산원아시아페스티벌\"}, {\"_id\": 1, \"URL\": 1}))"
   ]
  },
  {
   "cell_type": "code",
   "execution_count": 43,
   "metadata": {},
   "outputs": [],
   "source": [
    "data_list1 = copy.deepcopy(data_list)\n",
    "# 웹드라이버 초기화 및 weibo 검색 페이지 열기\n",
    "driver = webdriver.Chrome()\n",
    "driver.maximize_window()"
   ]
  },
  {
   "cell_type": "code",
   "execution_count": 44,
   "metadata": {},
   "outputs": [],
   "source": [
    "# Weibo 로그인 페이지로 이동\n",
    "weibo_login_url = 'https://weibo.com/login.php'\n",
    "driver.get(weibo_login_url)\n",
    "\n",
    "# 로그인 대기 (로그인 정보 직접 입력)\n",
    "WebDriverWait(driver, 20).until(EC.url_changes(weibo_login_url))  # 로그인 완료될 때까지 대기 (필요 시 시간 조정)\n",
    "\n",
    "# 로그인 후 쿠키 저장\n",
    "cookies = driver.get_cookies()"
   ]
  },
  {
   "cell_type": "code",
   "execution_count": null,
   "metadata": {},
   "outputs": [],
   "source": [
    "def process_url(url):\n",
    "    try:\n",
    "        driver.get(url)\n",
    "        \n",
    "        # 쿠키 추가\n",
    "        for cookie in cookies:\n",
    "            driver.add_cookie(cookie)\n",
    "        \n",
    "        # 페이지 새로고침하여 쿠키 적용\n",
    "        driver.refresh()\n",
    "        \n",
    "        # 페이지가 완전히 로드될 때까지 대기\n",
    "        time.sleep(10) \n",
    "        \n",
    "        # 설명 요소 찾기\n",
    "        detail_text_element = driver.find_element(By.CLASS_NAME, 'detail_text_1U10O')\n",
    "        detail_text = detail_text_element.text\n",
    "\n",
    "        try:\n",
    "            translate_text_element = driver.find_element(By.CLASS_NAME, 'translate_text_1I4G1')\n",
    "            translate_text = translate_text_element.text\n",
    "            filtered_text = detail_text.replace(translate_text, '')\n",
    "        except NoSuchElementException:\n",
    "            filtered_text = detail_text  # 번역 텍스트 요소가 없는 경우 원본 텍스트 사용\n",
    "            \n",
    "        print(filtered_text)\n",
    "        \n",
    "        # MongoDB 업데이트\n",
    "        collection.update_one({'URL': url}, {'$set': {'설명': filtered_text}})\n",
    "    \n",
    "    except Exception as e:\n",
    "        print(f\"URL 처리 중 오류 발생: {url}, 오류 내용: {e}\")\n",
    "        return False\n",
    "    \n",
    "    return True\n",
    "\n",
    "# URL을 하나씩 열기 및 tqdm 사용\n",
    "for index, data in enumerate(tqdm(data_list, desc=\"URL 처리 진행 중\", unit=\"URL\")):\n",
    "    url = data['URL']\n",
    "    success = process_url(url)\n",
    "    \n",
    "    if not success:\n",
    "        # 5분 후 재시도\n",
    "        print(f\"5분 후 재시도: {url}\")\n",
    "        time.sleep(300)\n",
    "        \n",
    "        # 2번째 시도 (최대 2번의 시도 후 URL 로드가 불가하다면 다음 URL로 넘어감)\n",
    "        success = process_url(url)\n",
    "        \n",
    "        if not success:\n",
    "            print(f\"{url} 처리 실패, 다음 URL로 넘어갑니다.\")\n",
    "            continue\n",
    "    \n",
    "    # 각 요청 사이에 랜덤 대기 시간 추가 (5~10초 사이) → weibo에서 빈번한 접속은 일정 시간의 접속을 차단시킴, 일정 대기 시간을 주어 접속 차단을 방지함\n",
    "    time.sleep(random.randint(5, 10))\n",
    "\n",
    "# 드라이버 종료\n",
    "driver.quit()"
   ]
  }
 ],
 "metadata": {
  "kernelspec": {
   "display_name": "Python 3",
   "language": "python",
   "name": "python3"
  },
  "language_info": {
   "codemirror_mode": {
    "name": "ipython",
    "version": 3
   },
   "file_extension": ".py",
   "mimetype": "text/x-python",
   "name": "python",
   "nbconvert_exporter": "python",
   "pygments_lexer": "ipython3",
   "version": "3.11.4"
  }
 },
 "nbformat": 4,
 "nbformat_minor": 2
}
