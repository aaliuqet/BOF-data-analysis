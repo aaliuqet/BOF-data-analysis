{
 "cells": [
  {
   "cell_type": "code",
   "execution_count": 37,
   "metadata": {},
   "outputs": [],
   "source": [
    "from selenium import webdriver\n",
    "from selenium.webdriver.common.keys import Keys\n",
    "from selenium.webdriver.common.by import By\n",
    "from selenium.webdriver.support.ui import WebDriverWait\n",
    "from selenium.webdriver.support import expected_conditions as EC\n",
    "from selenium.common.exceptions import TimeoutException, NoSuchElementException\n",
    "from selenium.webdriver.common.action_chains import ActionChains\n",
    "from pymongo import MongoClient\n",
    "from tqdm import tqdm\n",
    "import time\n",
    "from datetime import datetime, timedelta\n",
    "import re"
   ]
  },
  {
   "cell_type": "code",
   "execution_count": 38,
   "metadata": {},
   "outputs": [],
   "source": [
    "# MongoDB 클라이언트 및 컬렉션 설정\n",
    "client = MongoClient(host=\"\", port=, username='', password='')\n",
    "db = client['BOF2024_crawling']\n",
    "collection = db['tiktok_crawling']"
   ]
  },
  {
   "cell_type": "code",
   "execution_count": 39,
   "metadata": {},
   "outputs": [],
   "source": [
    "# 웹드라이버 초기화 및 네이버 카페 검색 페이지 열기\n",
    "driver = webdriver.Chrome()\n",
    "driver.get(\"https://www.tiktok.com/\")\n",
    "driver.maximize_window()\n",
    "\n",
    "time.sleep(5) # 5초간 대기"
   ]
  },
  {
   "cell_type": "code",
   "execution_count": 40,
   "metadata": {},
   "outputs": [],
   "source": [
    "# 검색어 입력 요소 찾기\n",
    "search_input = driver.find_element(By.CSS_SELECTOR, 'input[name=\"q\"]')\n",
    "\n",
    "# 검색어 입력\n",
    "search_input.send_keys(\"釜山亚洲艺术节\")\n",
    "\n",
    "# 엔터키 입력 \n",
    "search_input.send_keys(Keys.RETURN)\n",
    "\n",
    "# 10초간 대기 (2단계 인증)\n",
    "time.sleep(10)"
   ]
  },
  {
   "cell_type": "code",
   "execution_count": null,
   "metadata": {},
   "outputs": [],
   "source": [
    "# 숫자 값을 선택적으로 소수 및 K/M(천/백만) 접미사와 일치시키는 정규 표현식 패턴\n",
    "pattern = r'(\\d*\\.?\\d+)([KM])?'\n",
    "\n",
    "# 조회수 요소 찾기\n",
    "view_count_elements = driver.find_elements(By.CLASS_NAME, 'css-ws4x78-StrongVideoCount')\n",
    "\n",
    "# 조회수 추출 및 저장\n",
    "view_counts = []\n",
    "for view_count_element in view_count_elements:\n",
    "    try:\n",
    "        view_count_text = view_count_element.text\n",
    "        match = re.match(pattern, view_count_text)\n",
    "        if match:\n",
    "            number = float(match.group(1))  # 숫자 부분 추출\n",
    "            suffix = match.group(2)\n",
    "            if suffix == 'K':\n",
    "                number *= 1000  # 'K' (천 단위)일 경우 x 1000 \n",
    "            elif suffix == 'M':\n",
    "                number *= 1000000  # 'M' (백만 단위)일 경우 x 1000000\n",
    "            view_counts.append(int(number))\n",
    "    except:\n",
    "        pass"
   ]
  },
  {
   "cell_type": "code",
   "execution_count": null,
   "metadata": {},
   "outputs": [],
   "source": [
    "# 오늘 날짜 설정\n",
    "today = datetime.today()\n",
    "\n",
    "def parse_date(date_text):\n",
    "    try:\n",
    "        if \"일 전\" in date_text:\n",
    "            days = int(re.search(r'(\\d+)일 전', date_text).group(1))\n",
    "            date = today - timedelta(days=days)\n",
    "        elif \"주 전\" in date_text:\n",
    "            weeks = int(re.search(r'(\\d+)주 전', date_text).group(1))\n",
    "            date = today - timedelta(weeks=weeks)\n",
    "        elif \"시간 전\" in date_text or \"분 전\" in date_text:\n",
    "            date = today\n",
    "        elif '-' in date_text:\n",
    "            parts = date_text.split('-')\n",
    "            if len(parts) == 2:  # mm-dd 형식\n",
    "                month, day = int(parts[0]), int(parts[1])\n",
    "                date = datetime(today.year, month, day)\n",
    "            elif len(parts) == 3:  # yyyy-mm-dd 형식\n",
    "                year, month, day = int(parts[0]), int(parts[1]), int(parts[2])\n",
    "                date = datetime(year, month, day)\n",
    "        else:\n",
    "            date = today  # 기본적으로 오늘 날짜 할당\n",
    "\n",
    "        return date.strftime('%Y.%m.%d.')\n",
    "    except:\n",
    "        return \"N/A\""
   ]
  },
  {
   "cell_type": "code",
   "execution_count": 41,
   "metadata": {},
   "outputs": [],
   "source": [
    "# 맨 아래까지 스크롤\n",
    "SCROLL_PAUSE_TIME = 1.5\n",
    "last_height = driver.execute_script(\"return document.documentElement.scrollHeight\")\n",
    "\n",
    "while True:\n",
    "    driver.execute_script(\"window.scrollTo(0, document.documentElement.scrollHeight);\")\n",
    "    time.sleep(SCROLL_PAUSE_TIME)\n",
    "    new_height = driver.execute_script(\"return document.documentElement.scrollHeight;\")\n",
    "    if new_height == last_height:\n",
    "        break\n",
    "    last_height = new_height"
   ]
  },
  {
   "cell_type": "code",
   "execution_count": 42,
   "metadata": {},
   "outputs": [
    {
     "name": "stderr",
     "output_type": "stream",
     "text": [
      "데이터 적재 진행 중: 100%|██████████| 134/134 [00:01<00:00, 98.16데이터/s] \n"
     ]
    }
   ],
   "source": [
    "title_divs = driver.find_elements(By.CLASS_NAME, 'css-1iy6zew-DivContainer')  # 제목 요소 찾기\n",
    "url_divs = driver.find_elements(By.CLASS_NAME, 'css-at0k0c-DivWrapper')  # URL 요소 찾기\n",
    "channel_name_divs = driver.find_elements(By.CLASS_NAME, 'css-dq7zy8-DivUserInfo')  # 채널 이름 요소 찾기\n",
    "date_elements = driver.find_elements(By.CLASS_NAME, 'css-dennn6-DivTimeTag')  # 날짜 요소 찾기\n",
    "\n",
    "total_data_count = len(title_divs)\n",
    "\n",
    "# 제목, URL, 채널 이름, 조회수 및 날짜 추출 및 출력\n",
    "data_list = []\n",
    "for i, (title_div, url_div, channel_div) in enumerate(zip(title_divs, url_divs, channel_name_divs), start=1):\n",
    "    try:\n",
    "        # 모든 요소가 있는지 확인\n",
    "        if not (title_div and url_div and channel_div and i <= len(view_counts) and i <= len(date_elements)):\n",
    "            continue  # 요소 중 하나라도 없으면 다음 항목으로 건너뛰기\n",
    "\n",
    "        # 제목 추출\n",
    "        title_texts = []\n",
    "        for element in title_div.find_elements(By.XPATH, './/*'):\n",
    "            if element.tag_name == 'a':\n",
    "                aria_label = element.get_attribute('aria-label')\n",
    "                if aria_label and '#' in aria_label:\n",
    "                    try:\n",
    "                        title_texts.append('#' + aria_label.split('#')[1].split()[0])\n",
    "                    except IndexError:\n",
    "                        continue  \n",
    "            else:\n",
    "                title_texts.append(element.text)\n",
    "        title = ' '.join(title_texts)\n",
    "\n",
    "        # URL 추출\n",
    "        url_texts = []\n",
    "        for element in url_div.find_elements(By.TAG_NAME, 'a'):\n",
    "            url_texts.append(element.get_attribute('href'))\n",
    "        url = ' '.join(url_texts)\n",
    "\n",
    "        # 채널 이름 추출\n",
    "        channel_names = []\n",
    "        for channel_div_element in channel_div.find_elements(By.CLASS_NAME, 'css-2zn17v-PUniqueId'):\n",
    "            channel_names.append(channel_div_element.text)\n",
    "\n",
    "        # 날짜 추출 및 변환\n",
    "        raw_date_text = date_elements[i-1].text\n",
    "        date_text = parse_date(raw_date_text)\n",
    "\n",
    "        # 데이터 리스트에 추가\n",
    "        for channel_name in channel_names:\n",
    "            data_list.append({\n",
    "                \"제목\": title,\n",
    "                \"URL\": url,\n",
    "                \"채널명\": channel_name,\n",
    "                \"조회수\": view_counts[i-1],\n",
    "                \"업로드 날짜\": date_text,\n",
    "                \"검색키워드\": \"釜山亚洲艺术节\",\n",
    "                \"설명\": title\n",
    "            })\n",
    "\n",
    "    except:\n",
    "        continue\n",
    "\n",
    "# MongoDB에 데이터 적재\n",
    "for data in tqdm(data_list, desc=\"데이터 적재 진행 중\", unit=\"데이터\"):\n",
    "    collection.insert_one(data)"
   ]
  }
 ],
 "metadata": {
  "kernelspec": {
   "display_name": "Python 3",
   "language": "python",
   "name": "python3"
  },
  "language_info": {
   "codemirror_mode": {
    "name": "ipython",
    "version": 3
   },
   "file_extension": ".py",
   "mimetype": "text/x-python",
   "name": "python",
   "nbconvert_exporter": "python",
   "pygments_lexer": "ipython3",
   "version": "3.11.4"
  }
 },
 "nbformat": 4,
 "nbformat_minor": 2
}
