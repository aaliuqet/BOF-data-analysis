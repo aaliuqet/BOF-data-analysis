{
 "cells": [
  {
   "cell_type": "code",
   "execution_count": 15,
   "metadata": {},
   "outputs": [],
   "source": [
    "from selenium import webdriver\n",
    "from selenium.webdriver.common.keys import Keys\n",
    "from selenium.webdriver.common.by import By\n",
    "from selenium.webdriver.support.ui import WebDriverWait\n",
    "from selenium.webdriver.support import expected_conditions as EC\n",
    "from selenium.common.exceptions import TimeoutException, NoSuchElementException\n",
    "from selenium.webdriver.common.action_chains import ActionChains\n",
    "from pymongo import MongoClient\n",
    "from tqdm import tqdm\n",
    "import time\n",
    "from datetime import datetime, timedelta\n",
    "import re\n",
    "import copy"
   ]
  },
  {
   "cell_type": "code",
   "execution_count": 16,
   "metadata": {},
   "outputs": [],
   "source": [
    "# MongoDB 클라이언트 및 컬렉션 설정\n",
    "client = MongoClient(host=\"\", port=, username='', password='')\n",
    "db = client['BOF2024_crawling']\n",
    "collection = db['tiktok_crawling']\n",
    "data_list = list(collection.find({\"검색키워드\": \"BOF 釜山\"}, {\"_id\": 1, \"URL\": 1}))"
   ]
  },
  {
   "cell_type": "code",
   "execution_count": 17,
   "metadata": {},
   "outputs": [],
   "source": [
    "data_list1 = copy.deepcopy(data_list)"
   ]
  },
  {
   "cell_type": "code",
   "execution_count": 18,
   "metadata": {},
   "outputs": [],
   "source": [
    "driver = webdriver.Chrome()"
   ]
  },
  {
   "cell_type": "code",
   "execution_count": 19,
   "metadata": {},
   "outputs": [],
   "source": [
    "# 오늘 날짜 설정\n",
    "today = datetime.today()\n",
    "\n",
    "def parse_date(date_text):\n",
    "    try:\n",
    "        if \"일 전\" in date_text:\n",
    "            days = int(re.search(r'(\\d+)일 전', date_text).group(1))\n",
    "            date = today - timedelta(days=days)\n",
    "        elif \"주 전\" in date_text:\n",
    "            weeks = int(re.search(r'(\\d+)주 전', date_text).group(1))\n",
    "            date = today - timedelta(weeks=weeks)\n",
    "        elif \"시간 전\" in date_text or \"분 전\" in date_text:\n",
    "            date = today\n",
    "        elif '-' in date_text:\n",
    "            parts = date_text.split('-')\n",
    "            if len(parts) == 2:  # mm-dd 형식\n",
    "                month, day = int(parts[0]), int(parts[1])\n",
    "                date = datetime(today.year, month, day)\n",
    "            elif len(parts) == 3:  # yyyy-mm-dd 형식\n",
    "                year, month, day = int(parts[0]), int(parts[1]), int(parts[2])\n",
    "                date = datetime(year, month, day)\n",
    "        else:\n",
    "            date = today  # 기본적으로 오늘 날짜 할당\n",
    "\n",
    "        return date.strftime('%Y.%m.%d.')\n",
    "    except:\n",
    "        return \"N/A\""
   ]
  },
  {
   "cell_type": "code",
   "execution_count": 20,
   "metadata": {},
   "outputs": [],
   "source": [
    "def process_link(url):\n",
    "    try:\n",
    "        driver.get(url)\n",
    "        time.sleep(5)  # 페이지가 로드될 때까지 대기\n",
    "\n",
    "        # 맨 아래까지 스크롤\n",
    "        SCROLL_PAUSE_TIME = 1.5\n",
    "        last_height = driver.execute_script(\"return document.documentElement.scrollHeight\")\n",
    "\n",
    "        while True:\n",
    "            driver.execute_script(\"window.scrollTo(0, document.documentElement.scrollHeight);\")\n",
    "            time.sleep(SCROLL_PAUSE_TIME)\n",
    "            new_height = driver.execute_script(\"return document.documentElement.scrollHeight;\")\n",
    "            if new_height == last_height:\n",
    "                break\n",
    "            last_height = new_height\n",
    "\n",
    "        time.sleep(5)\n",
    "        \n",
    "        # 모든 댓글 요소들을 찾기\n",
    "        username_elements = driver.find_elements(By.CSS_SELECTOR, \"span[data-e2e='comment-username-1']\")\n",
    "        comment_elements = driver.find_elements(By.CSS_SELECTOR, \"p[data-e2e='comment-level-1'] span\")\n",
    "        date_elements = driver.find_elements(By.CSS_SELECTOR, \"span[data-e2e='comment-time-1']\")\n",
    "        like_elements = driver.find_elements(By.CSS_SELECTOR, \"span[data-e2e='comment-like-count']\")\n",
    "\n",
    "        comments = []\n",
    "\n",
    "        for username_element, comment_element, date_element, like_element in zip(username_elements, comment_elements, date_elements, like_elements):\n",
    "            try:\n",
    "                # 사용자 이름\n",
    "                username = username_element.text.strip()\n",
    "\n",
    "                # 댓글 내용\n",
    "                comment_text = comment_element.text.strip()\n",
    "\n",
    "                # 작성일자\n",
    "                date_text = date_element.text\n",
    "                formatted_date = parse_date(date_text)\n",
    "\n",
    "                # 댓글 좋아요\n",
    "                likes = int(like_element.text)\n",
    "\n",
    "                # 사용자 이름이나 댓글 내용이 공백이 아닌 경우에만 추가\n",
    "                if username and comment_text:\n",
    "                    comments.append({\n",
    "                        \"사용자 이름\": username,\n",
    "                        \"댓글 내용\": comment_text,\n",
    "                        \"작성일자\": formatted_date,\n",
    "                        \"댓글 좋아요\": likes\n",
    "                    })\n",
    "\n",
    "            except Exception as e:\n",
    "                print(f\"Error processing comment: {e}\")\n",
    "\n",
    "        # 댓글 개수\n",
    "        comment_count = len(comments)\n",
    "\n",
    "        # MongoDB 업데이트\n",
    "        collection.update_one({\"URL\": url}, {\"$set\": {\n",
    "            \"댓글 개수\": comment_count,\n",
    "            \"댓글\": comments\n",
    "        }})\n",
    "\n",
    "    except Exception as e:\n",
    "        print(f\"Error processing link {url}: {e}\")\n"
   ]
  },
  {
   "cell_type": "code",
   "execution_count": null,
   "metadata": {},
   "outputs": [],
   "source": [
    "for data in tqdm(data_list1, desc=\"링크 처리 중\", leave=False):\n",
    "    url = data['URL']\n",
    "    process_link(url)\n",
    "\n",
    "client.close()\n",
    "driver.quit()"
   ]
  }
 ],
 "metadata": {
  "kernelspec": {
   "display_name": "Python 3",
   "language": "python",
   "name": "python3"
  },
  "language_info": {
   "codemirror_mode": {
    "name": "ipython",
    "version": 3
   },
   "file_extension": ".py",
   "mimetype": "text/x-python",
   "name": "python",
   "nbconvert_exporter": "python",
   "pygments_lexer": "ipython3",
   "version": "3.11.4"
  }
 },
 "nbformat": 4,
 "nbformat_minor": 2
}
