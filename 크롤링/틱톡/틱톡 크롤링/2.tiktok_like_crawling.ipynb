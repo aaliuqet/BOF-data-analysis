{
 "cells": [
  {
   "cell_type": "code",
   "execution_count": 43,
   "metadata": {},
   "outputs": [],
   "source": [
    "from selenium import webdriver\n",
    "from selenium.webdriver.common.keys import Keys\n",
    "from selenium.webdriver.common.by import By\n",
    "from selenium.webdriver.support.ui import WebDriverWait\n",
    "from selenium.webdriver.support import expected_conditions as EC\n",
    "from selenium.common.exceptions import TimeoutException, NoSuchElementException\n",
    "from selenium.webdriver.common.action_chains import ActionChains\n",
    "from pymongo import MongoClient\n",
    "from tqdm import tqdm\n",
    "import time\n",
    "from datetime import datetime\n",
    "import copy"
   ]
  },
  {
   "cell_type": "code",
   "execution_count": 44,
   "metadata": {},
   "outputs": [],
   "source": [
    "# MongoDB 클라이언트 및 컬렉션 설정\n",
    "client = MongoClient(host=\"\", port=, username='', password='')\n",
    "db = client['BOF2024_crawling']\n",
    "collection = db['tiktok_crawling']\n",
    "data_list = list(collection.find({\"검색키워드\": \"釜山亚洲艺术节\"}, {\"_id\": 1, \"URL\": 1}))"
   ]
  },
  {
   "cell_type": "code",
   "execution_count": 45,
   "metadata": {},
   "outputs": [],
   "source": [
    "data_list1 = copy.deepcopy(data_list)"
   ]
  },
  {
   "cell_type": "code",
   "execution_count": 46,
   "metadata": {},
   "outputs": [],
   "source": [
    "driver = webdriver.Chrome()"
   ]
  },
  {
   "cell_type": "code",
   "execution_count": 47,
   "metadata": {},
   "outputs": [],
   "source": [
    "def process_link(url):\n",
    "    try:\n",
    "        driver.get(url)\n",
    "        time.sleep(5)   # 페이지가 로드될 때까지 대기\n",
    "\n",
    "        # 영상 길이 추출\n",
    "        try:\n",
    "            time_element = driver.find_element(By.CSS_SELECTOR, 'div.css-1cuqcrm-DivSeekBarTimeContainer')\n",
    "            time_text = time_element.text\n",
    "            if '/' in time_text:\n",
    "                video_length = time_text.split('/')[1].strip()\n",
    "            else:\n",
    "                video_length = \"\"\n",
    "        except Exception as e:\n",
    "            print(f'영상 길이 추출 오류: {e}')\n",
    "            video_length = \"\"\n",
    "\n",
    "        # 좋아요 개수 추출\n",
    "        try:\n",
    "            like_count_element = driver.find_element(By.CSS_SELECTOR, 'strong[data-e2e=\"like-count\"]')\n",
    "            like_count_text = like_count_element.text\n",
    "            if 'K' in like_count_text:\n",
    "                like_count = int(float(like_count_text.replace('K', '')) * 1000)\n",
    "            elif 'M' in like_count_text:\n",
    "                like_count = int(float(like_count_text.replace('M', '')) * 1000000)\n",
    "            else:\n",
    "                like_count = int(like_count_text)\n",
    "        except Exception as e:\n",
    "            print(f'좋아요 개수 추출 오류: {e}')\n",
    "            like_count = \"\"\n",
    "\n",
    "        # MongoDB에 적재\n",
    "        collection.update_one({\"URL\": url}, {\"$set\": {\n",
    "            \"영상 길이\": video_length,\n",
    "            \"좋아요\": like_count,\n",
    "        }})\n",
    "    \n",
    "    except Exception as e:\n",
    "        print(f'오류 발생: {e}')"
   ]
  },
  {
   "cell_type": "code",
   "execution_count": null,
   "metadata": {},
   "outputs": [],
   "source": [
    "for data in tqdm(data_list1, desc=\"Processing Links\", unit=\"link\"):\n",
    "    url = data['URL']\n",
    "    process_link(url)\n",
    "\n",
    "client.close()\n",
    "driver.quit()"
   ]
  }
 ],
 "metadata": {
  "kernelspec": {
   "display_name": "Python 3",
   "language": "python",
   "name": "python3"
  },
  "language_info": {
   "codemirror_mode": {
    "name": "ipython",
    "version": 3
   },
   "file_extension": ".py",
   "mimetype": "text/x-python",
   "name": "python",
   "nbconvert_exporter": "python",
   "pygments_lexer": "ipython3",
   "version": "3.11.4"
  }
 },
 "nbformat": 4,
 "nbformat_minor": 2
}
