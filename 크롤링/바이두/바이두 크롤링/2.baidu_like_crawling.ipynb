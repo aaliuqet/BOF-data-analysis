{
 "cells": [
  {
   "cell_type": "code",
   "execution_count": 119,
   "metadata": {},
   "outputs": [],
   "source": [
    "from selenium import webdriver\n",
    "from selenium.webdriver.common.keys import Keys\n",
    "from selenium.webdriver.common.by import By\n",
    "from pytube import YouTube\n",
    "from pymongo import MongoClient\n",
    "from tqdm import tqdm\n",
    "from selenium.webdriver.support.ui import WebDriverWait\n",
    "from selenium.webdriver.support import expected_conditions as EC\n",
    "from selenium.webdriver.common.action_chains import ActionChains\n",
    "from selenium.common.exceptions import NoSuchElementException\n",
    "from selenium.common.exceptions import TimeoutException\n",
    "import time\n",
    "import urllib.request\n",
    "import datetime\n",
    "import copy"
   ]
  },
  {
   "cell_type": "code",
   "execution_count": 120,
   "metadata": {},
   "outputs": [],
   "source": [
    "# MongoDB 클라이언트 및 컬렉션 설정\n",
    "client = MongoClient(host=\"\", port=, username='', password='')\n",
    "db = client['baidu_crawling']\n",
    "collection = db['OneAsia_baidu_video_crawling']\n",
    "data_list = list(collection.find({\"URL\": \"http://www.baidu.com/link?url=5fmDTIRACq7Iklhsz9tMvu8GN4g_6DCoj-1RxLQxbDdeLcv8knpMDT-z5VK0bg8gfw3kFD8s1w9D212J8QGYfq\"}, {\"_id\": 1, \"URL\": 1}))"
   ]
  },
  {
   "cell_type": "code",
   "execution_count": 122,
   "metadata": {},
   "outputs": [],
   "source": [
    "data_list1 = copy.deepcopy(data_list)"
   ]
  },
  {
   "cell_type": "code",
   "execution_count": 123,
   "metadata": {},
   "outputs": [],
   "source": [
    "driver = webdriver.Chrome()"
   ]
  },
  {
   "cell_type": "code",
   "execution_count": 124,
   "metadata": {},
   "outputs": [
    {
     "name": "stderr",
     "output_type": "stream",
     "text": [
      "Processing Links: 100%|██████████| 1/1 [00:03<00:00,  3.24s/link]\n"
     ]
    }
   ],
   "source": [
    "for data in tqdm(data_list, desc=\"Processing Links\", unit=\"link\"):\n",
    "    url = data[\"URL\"]\n",
    "    driver.get(url)\n",
    "    \n",
    "    try:\n",
    "        # 좋아요 수 요소 찾기\n",
    "        like_count_element = driver.find_element(By.CSS_SELECTOR, \".video-like-info\")\n",
    "        \n",
    "        # 텍스트 가져오기 (좋아요 수)\n",
    "        like_count_str = like_count_element.text\n",
    "        \n",
    "        # 좋아요 수를 숫자형으로 변환, 변환 실패 시 0으로 처리\n",
    "        try:\n",
    "            like_count = int(like_count_str)\n",
    "        except ValueError:\n",
    "            like_count = 0\n",
    "        \n",
    "        # MongoDB에 좋아요 필드 추가\n",
    "        collection.update_one({\"_id\": data[\"_id\"]}, {\"$set\": {\"좋아요\": like_count}})\n",
    "    except NoSuchElementException:\n",
    "        # 만약 좋아요 수를 찾을 수 없는 경우에는 0으로 처리\n",
    "        collection.update_one({\"_id\": data[\"_id\"]}, {\"$set\": {\"좋아요\": 0}})\n",
    "    \n",
    "    # 1초 대기\n",
    "    time.sleep(1)"
   ]
  },
  {
   "cell_type": "code",
   "execution_count": 125,
   "metadata": {},
   "outputs": [],
   "source": [
    "# MongoDB 연결 종료\n",
    "client.close()\n",
    "\n",
    "# 드라이버 종료\n",
    "driver.quit()"
   ]
  }
 ],
 "metadata": {
  "kernelspec": {
   "display_name": "Python 3",
   "language": "python",
   "name": "python3"
  },
  "language_info": {
   "codemirror_mode": {
    "name": "ipython",
    "version": 3
   },
   "file_extension": ".py",
   "mimetype": "text/x-python",
   "name": "python",
   "nbconvert_exporter": "python",
   "pygments_lexer": "ipython3",
   "version": "3.11.4"
  }
 },
 "nbformat": 4,
 "nbformat_minor": 2
}
