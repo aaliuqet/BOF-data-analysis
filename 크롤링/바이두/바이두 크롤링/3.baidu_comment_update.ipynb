{
 "cells": [
  {
   "cell_type": "code",
   "execution_count": 3079,
   "metadata": {},
   "outputs": [],
   "source": [
    "from selenium import webdriver\n",
    "from selenium.webdriver.common.keys import Keys\n",
    "from pymongo import MongoClient\n",
    "import datetime"
   ]
  },
  {
   "cell_type": "code",
   "execution_count": 3080,
   "metadata": {},
   "outputs": [],
   "source": [
    "# MongoDB 클라이언트 및 컬렉션 설정\n",
    "client = MongoClient(host=\"\", port=, username='', password='')\n",
    "db = client['baidu_crawling']\n",
    "collection = db['OneAsia_baidu_video_crawling']"
   ]
  },
  {
   "cell_type": "code",
   "execution_count": 3081,
   "metadata": {},
   "outputs": [],
   "source": [
    "# 업데이트할 URL\n",
    "url = \"http://www.baidu.com/link?url=5fmDTIRACq7Iklhsz9tMvuEsocf6riSJ0RZOM8Q9ba-i1cVZGnZInsPQ53SnuM8ilMQ_9vRHrImjBVTCEbdlgq\""
   ]
  },
  {
   "cell_type": "code",
   "execution_count": 3082,
   "metadata": {},
   "outputs": [],
   "source": [
    "# 업데이트할 데이터\n",
    "new_comment = {\n",
    "    \"사용자 이름\": \"磕巴磕巴磕磕巴\",\n",
    "    \"댓글 내용\": \"好耶\",\n",
    "    \"작성일자\": \"2023-10-23\",\n",
    "    \"댓글 좋아요\": 0\n",
    "}"
   ]
  },
  {
   "cell_type": "code",
   "execution_count": null,
   "metadata": {},
   "outputs": [],
   "source": [
    "# 해당 URL에 대한 댓글 필드 업데이트\n",
    "collection.update_one(\n",
    "    {\"URL\": url},\n",
    "    {\"$addToSet\": {\"댓글\": new_comment}}\n",
    ")"
   ]
  },
  {
   "cell_type": "code",
   "execution_count": 3084,
   "metadata": {},
   "outputs": [
    {
     "name": "stdout",
     "output_type": "stream",
     "text": [
      "댓글이 업데이트되었습니다.\n"
     ]
    }
   ],
   "source": [
    "print(\"댓글이 업데이트되었습니다.\")"
   ]
  }
 ],
 "metadata": {
  "kernelspec": {
   "display_name": "Python 3",
   "language": "python",
   "name": "python3"
  },
  "language_info": {
   "codemirror_mode": {
    "name": "ipython",
    "version": 3
   },
   "file_extension": ".py",
   "mimetype": "text/x-python",
   "name": "python",
   "nbconvert_exporter": "python",
   "pygments_lexer": "ipython3",
   "version": "3.11.4"
  }
 },
 "nbformat": 4,
 "nbformat_minor": 2
}
