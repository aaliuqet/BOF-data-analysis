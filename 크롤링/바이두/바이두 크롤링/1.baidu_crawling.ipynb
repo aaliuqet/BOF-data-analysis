{
 "cells": [
  {
   "cell_type": "code",
   "execution_count": 159,
   "metadata": {},
   "outputs": [],
   "source": [
    "from selenium import webdriver\n",
    "from selenium.webdriver.common.keys import Keys\n",
    "from selenium.webdriver.common.by import By\n",
    "from selenium.webdriver.support.ui import WebDriverWait\n",
    "from selenium.webdriver.support import expected_conditions as EC\n",
    "from selenium.webdriver.common.action_chains import ActionChains\n",
    "from selenium.common.exceptions import NoSuchElementException\n",
    "from pytube import YouTube\n",
    "from pymongo import MongoClient\n",
    "from tqdm import tqdm\n",
    "import time\n",
    "import datetime"
   ]
  },
  {
   "cell_type": "code",
   "execution_count": 160,
   "metadata": {},
   "outputs": [],
   "source": [
    "# MongoDB 클라이언트 및 컬렉션 설정\n",
    "client = MongoClient(host=\"\", port=, username='', password='')\n",
    "db = client['baidu_crawling']\n",
    "collection = db['OneAsia_baidu_video_crawling']"
   ]
  },
  {
   "cell_type": "code",
   "execution_count": 161,
   "metadata": {},
   "outputs": [],
   "source": [
    "# 웹드라이버 초기화 및 baidu 검색 페이지 열기\n",
    "driver = webdriver.Chrome()\n",
    "driver.get(\"https://www.baidu.com\")"
   ]
  },
  {
   "cell_type": "code",
   "execution_count": 162,
   "metadata": {},
   "outputs": [],
   "source": [
    "# 검색어 입력\n",
    "elem = driver.find_element(By.ID, \"kw\")\n",
    "elem.send_keys(\"Busan One Asia Festival\")\n",
    "elem.send_keys(Keys.RETURN)\n",
    "time.sleep(3)"
   ]
  },
  {
   "cell_type": "code",
   "execution_count": 163,
   "metadata": {},
   "outputs": [],
   "source": [
    "# \"视频\" 버튼을 찾아 클릭\n",
    "video_button = driver.find_element(By.CSS_SELECTOR, \".s-tab-item.s-tab-video_1Sf_u\")\n",
    "video_button.click()\n",
    "time.sleep(3)"
   ]
  },
  {
   "cell_type": "code",
   "execution_count": 164,
   "metadata": {},
   "outputs": [],
   "source": [
    "# 맨 아래까지 스크롤\n",
    "SCROLL_PAUSE_TIME = 1.5\n",
    "last_height = driver.execute_script(\"return document.documentElement.scrollHeight\")\n",
    "\n",
    "while True:\n",
    "    driver.execute_script(\"window.scrollTo(0, document.documentElement.scrollHeight);\")\n",
    "    time.sleep(SCROLL_PAUSE_TIME)\n",
    "    new_height = driver.execute_script(\"return document.documentElement.scrollHeight;\")\n",
    "    if new_height == last_height:\n",
    "        break\n",
    "    last_height = new_height"
   ]
  },
  {
   "cell_type": "code",
   "execution_count": 165,
   "metadata": {},
   "outputs": [
    {
     "name": "stderr",
     "output_type": "stream",
     "text": [
      "동영상 수집 진행 중: 100%|██████████| 56/56 [00:05<00:00,  9.79it/s]\n"
     ]
    }
   ],
   "source": [
    "# url 요소 찾기\n",
    "video_links = driver.find_elements(By.CSS_SELECTOR, \".video_list_container .video_list a\")\n",
    "video_links_unique = [link.get_attribute('href') for link in video_links[::2]]\n",
    "\n",
    "# 제목 요소 찾기\n",
    "video_titles = driver.find_elements(By.CSS_SELECTOR, \".video_list_container .video-title\")\n",
    "\n",
    "# 출처 요소 찾기\n",
    "video_sources = driver.find_elements(By.CSS_SELECTOR, \".video_list_container .video_small_intro .c-color-gray2\")\n",
    "\n",
    "# 영상 길이 요소 찾기\n",
    "video_lengths = driver.find_elements(By.CSS_SELECTOR, \".video_list_container .time_con .video_play_timer\")\n",
    "\n",
    "for title, link, source, length in tqdm(zip(video_titles, video_links_unique, video_sources, video_lengths), total=len(video_titles), desc=\"동영상 수집 진행 중\"):\n",
    "    publisher_element = source.text.split(\"来源：\", 1)[-1].split(\" 发布时间\")[0] if \"来源：\" in source.text else None\n",
    "    publisher = publisher_element if publisher_element else \"\"  \n",
    "    \n",
    "    length_text = length.text if length else \"\"\n",
    "    if \":\" in length_text:  \n",
    "        hours, minutes, *seconds = length_text.split(\":\")  \n",
    "        if len(seconds) > 0:  \n",
    "            length_text = f\"{hours}:{minutes}\" \n",
    "        else:\n",
    "            length_text = length_text  \n",
    "    \n",
    "    data = {\n",
    "        \"제목\": title.text,\n",
    "        \"출처\": publisher,\n",
    "        \"URL\": link if link else \"\",\n",
    "        \"영상 길이\": length_text, \n",
    "        \"검색키워드\": \"Busan One Asia Festival\"\n",
    "    }\n",
    "    collection.insert_one(data)"
   ]
  },
  {
   "cell_type": "code",
   "execution_count": 166,
   "metadata": {},
   "outputs": [],
   "source": [
    "driver.quit()"
   ]
  }
 ],
 "metadata": {
  "kernelspec": {
   "display_name": "Python 3",
   "language": "python",
   "name": "python3"
  },
  "language_info": {
   "codemirror_mode": {
    "name": "ipython",
    "version": 3
   },
   "file_extension": ".py",
   "mimetype": "text/x-python",
   "name": "python",
   "nbconvert_exporter": "python",
   "pygments_lexer": "ipython3",
   "version": "3.11.4"
  }
 },
 "nbformat": 4,
 "nbformat_minor": 2
}
