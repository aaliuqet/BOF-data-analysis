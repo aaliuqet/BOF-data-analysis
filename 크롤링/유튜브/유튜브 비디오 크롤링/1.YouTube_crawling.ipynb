{
 "cells": [
  {
   "cell_type": "code",
   "execution_count": 17,
   "metadata": {},
   "outputs": [],
   "source": [
    "from selenium import webdriver\n",
    "from selenium.webdriver.common.keys import Keys\n",
    "from selenium.webdriver.common.by import By\n",
    "from selenium.webdriver.support.ui import WebDriverWait\n",
    "from selenium.webdriver.support import expected_conditions as EC\n",
    "from selenium.webdriver.common.action_chains import ActionChains\n",
    "from pytube import YouTube\n",
    "from pymongo import MongoClient\n",
    "from tqdm import tqdm\n",
    "import time\n",
    "import datetime"
   ]
  },
  {
   "cell_type": "code",
   "execution_count": 18,
   "metadata": {},
   "outputs": [],
   "source": [
    "# MongoDB 클라이언트 및 컬렉션 설정\n",
    "client = MongoClient(host=\"\", port=, username='', password='')\n",
    "db = client['YouTube_crawling']\n",
    "collection = db['OneAsia_YouTube_crawling']"
   ]
  },
  {
   "cell_type": "code",
   "execution_count": 19,
   "metadata": {},
   "outputs": [],
   "source": [
    "# 웹드라이버 초기화 및 YouTube 검색 페이지 열기\n",
    "driver = webdriver.Chrome()\n",
    "driver.get(\"https://www.youtube.com/\")"
   ]
  },
  {
   "cell_type": "code",
   "execution_count": 20,
   "metadata": {},
   "outputs": [],
   "source": [
    "# 검색어 입력\n",
    "elem = driver.find_element(By.NAME, \"search_query\")\n",
    "elem.send_keys(\"釜山ワンアジアフェスティバル\")\n",
    "elem.send_keys(Keys.RETURN)\n",
    "time.sleep(3)"
   ]
  },
  {
   "cell_type": "code",
   "execution_count": 21,
   "metadata": {},
   "outputs": [],
   "source": [
    "# 동영상 필터 버튼을 찾을 때까지 최대 10초간 대기\n",
    "video_button = WebDriverWait(driver, 10).until(\n",
    "    EC.element_to_be_clickable((By.XPATH, \"//div[@id='container' or @id='scroll-container']//yt-chip-cloud-chip-renderer//yt-formatted-string[contains(text(), '동영상')]\"))\n",
    ")\n",
    "\n",
    "# 동영상 필터 버튼 클릭\n",
    "video_button.click()\n",
    "\n",
    "time.sleep(3)"
   ]
  },
  {
   "cell_type": "code",
   "execution_count": 22,
   "metadata": {},
   "outputs": [],
   "source": [
    "# 맨 아래까지 스크롤\n",
    "SCROLL_PAUSE_TIME = 1.5\n",
    "last_height = driver.execute_script(\"return document.documentElement.scrollHeight\")\n",
    "\n",
    "while True:\n",
    "    driver.execute_script(\"window.scrollTo(0, document.documentElement.scrollHeight);\")\n",
    "    time.sleep(SCROLL_PAUSE_TIME)\n",
    "    new_height = driver.execute_script(\"return document.documentElement.scrollHeight;\")\n",
    "    if new_height == last_height:\n",
    "        break\n",
    "    last_height = new_height"
   ]
  },
  {
   "cell_type": "code",
   "execution_count": 23,
   "metadata": {},
   "outputs": [
    {
     "name": "stderr",
     "output_type": "stream",
     "text": [
      "동영상 수집 진행 중: 100%|██████████| 527/527 [12:48<00:00,  1.46s/it]\n"
     ]
    }
   ],
   "source": [
    "# 데이터 수집 및 MongoDB에 적재\n",
    "titles = driver.find_elements(By.CSS_SELECTOR, \"#dismissible.style-scope.ytd-video-renderer\")\n",
    "\n",
    "total_videos = len(titles)\n",
    "\n",
    "for title in tqdm(titles, desc=\"동영상 수집 진행 중\"):\n",
    "    main_title = title.find_element(By.CSS_SELECTOR, \"#video-title\").get_property(\"title\")\n",
    "    tube_url = title.find_element(By.CSS_SELECTOR, \"#video-title\").get_property(\"href\")\n",
    "    aria_label = title.find_element(By.CSS_SELECTOR, \"#video-title\").get_attribute(\"aria-label\")\n",
    "    start_index = aria_label.find(\"게시자:\") + len(\"게시자:\")\n",
    "    end_index = aria_label.find(\"조회수\")\n",
    "    channel_name = aria_label[start_index:end_index].strip()\n",
    "\n",
    "    # 동영상 정보 수집\n",
    "    tube = YouTube(tube_url)\n",
    "    view_count = tube.vid_info.get(\"videoDetails\", {}).get(\"viewCount\")\n",
    "    view = int(view_count) if view_count is not None else 0\n",
    "    update_dates = str(tube.publish_date)\n",
    "    update_date = update_dates.split(\" \")\n",
    "    length_second = int(tube.length)\n",
    "    length = str(datetime.timedelta(seconds=length_second))\n",
    "\n",
    "    # MongoDB에 데이터 적재\n",
    "    data = {\n",
    "        \"제목\": main_title,\n",
    "        \"URL\": tube_url,\n",
    "        \"채널명\": channel_name,\n",
    "        \"조회수\": view,\n",
    "        \"업로드 날짜\": update_date[0],\n",
    "        \"영상 길이\": length,\n",
    "        \"검색키워드\": \"釜山ワンアジアフェスティバル\"  # 검색 키워드를 지정 \n",
    "    }\n",
    "    collection.insert_one(data)\n",
    "\n",
    "client.close()"
   ]
  },
  {
   "cell_type": "code",
   "execution_count": 24,
   "metadata": {},
   "outputs": [],
   "source": [
    "# 웹드라이버 종료\n",
    "driver.quit()"
   ]
  }
 ],
 "metadata": {
  "kernelspec": {
   "display_name": "Python 3",
   "language": "python",
   "name": "python3"
  },
  "language_info": {
   "codemirror_mode": {
    "name": "ipython",
    "version": 3
   },
   "file_extension": ".py",
   "mimetype": "text/x-python",
   "name": "python",
   "nbconvert_exporter": "python",
   "pygments_lexer": "ipython3",
   "version": "3.11.4"
  }
 },
 "nbformat": 4,
 "nbformat_minor": 2
}
