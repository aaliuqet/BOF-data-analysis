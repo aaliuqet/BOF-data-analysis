{
 "cells": [
  {
   "cell_type": "code",
   "execution_count": 37,
   "metadata": {},
   "outputs": [],
   "source": [
    "from selenium import webdriver\n",
    "from selenium.webdriver.common.keys import Keys\n",
    "from selenium.webdriver.common.by import By\n",
    "from pytube import YouTube\n",
    "from pymongo import MongoClient\n",
    "from tqdm import tqdm\n",
    "from selenium.webdriver.support.ui import WebDriverWait\n",
    "from selenium.webdriver.support import expected_conditions as EC\n",
    "import time\n",
    "import urllib.request\n",
    "import datetime\n",
    "import copy"
   ]
  },
  {
   "cell_type": "code",
   "execution_count": 38,
   "metadata": {},
   "outputs": [],
   "source": [
    "# MongoDB 클라이언트 및 컬렉션 설정\n",
    "client = MongoClient(host=\"\", port=, username='', password='')\n",
    "db = client['YouTube_crawling']\n",
    "collection = db['OneAsia_YouTube_crawling']\n",
    "data_list = list(collection.find({}, {\"_id\": 1, \"URL\": 1}))"
   ]
  },
  {
   "cell_type": "code",
   "execution_count": 40,
   "metadata": {},
   "outputs": [],
   "source": [
    "data_list1 = copy.deepcopy(data_list)"
   ]
  },
  {
   "cell_type": "code",
   "execution_count": 41,
   "metadata": {},
   "outputs": [],
   "source": [
    "driver = webdriver.Chrome()"
   ]
  },
  {
   "cell_type": "code",
   "execution_count": null,
   "metadata": {},
   "outputs": [],
   "source": [
    "# 좋아요 개수를 변환 (ex) 1.3천 → 1300, 1.3만 → 13000 형식으로 변환)\n",
    "def convert_like_count(like_count_text):\n",
    "    if '천' in like_count_text:\n",
    "        count = int(float(like_count_text.replace('천', '')) * 1000)\n",
    "    elif '만' in like_count_text:\n",
    "        count = int(float(like_count_text.replace('만', '')) * 10000)\n",
    "    else:\n",
    "        count = int(like_count_text)\n",
    "    return count"
   ]
  },
  {
   "cell_type": "code",
   "execution_count": 42,
   "metadata": {},
   "outputs": [],
   "source": [
    "def process_link(url):\n",
    "    try:\n",
    "        driver.get(url)\n",
    "\n",
    "        time.sleep(3)\n",
    "\n",
    "        # 설명 요소 찾기\n",
    "        more_button = WebDriverWait(driver, 10).until(EC.element_to_be_clickable((By.ID, \"expand\")))\n",
    "        more_button.click()\n",
    "        time.sleep(2)\n",
    "\n",
    "        description_element = driver.find_element(By.XPATH, '//div[@id=\"description-inner\"]//yt-attributed-string[@class=\"style-scope ytd-text-inline-expander\"]')\n",
    "        description_text = description_element.text if description_element else \"\"\n",
    "\n",
    "        print(\"Description Text:\", description_text)\n",
    "\n",
    "        # 맨 아래까지 스크롤\n",
    "        SCROLL_PAUSE_TIME = 1.5\n",
    "        last_height = driver.execute_script(\"return document.documentElement.scrollHeight\")\n",
    "\n",
    "        while True:\n",
    "            driver.execute_script(\"window.scrollTo(0, document.documentElement.scrollHeight);\")\n",
    "            time.sleep(SCROLL_PAUSE_TIME)\n",
    "            new_height = driver.execute_script(\"return document.documentElement.scrollHeight;\")\n",
    "            if new_height == last_height:\n",
    "                break\n",
    "            last_height = new_height\n",
    "        \n",
    "        time.sleep(3)\n",
    "\n",
    "        # 좋아요 요소 찾기 \n",
    "        try:\n",
    "            like_button = driver.find_element(By.CSS_SELECTOR, '.yt-spec-button-shape-next--icon-leading[aria-label^=\"나 외에 사용자\"]')\n",
    "            like_count_text_element = like_button.find_element(By.CSS_SELECTOR, '.yt-spec-button-shape-next__button-text-content')\n",
    "            like_count_text = like_count_text_element.text\n",
    "        except Exception as e:\n",
    "            like_count_text = \"\"\n",
    "            print(\"좋아요 수 텍스트를 가져오는 중 오류 발생:\", e)\n",
    "\n",
    "        # 숫자형으로 변환\n",
    "        if like_count_text:\n",
    "            like_count = convert_like_count(like_count_text)\n",
    "        # 좋아요 개수 없을 경우 0을 할당\n",
    "        else:\n",
    "            like_count = 0\n",
    "\n",
    "        print(\"Like Count:\", like_count)\n",
    "\n",
    "        # Mongodb에 적재\n",
    "        collection.update_one({\"URL\": url}, {\"$set\": {\n",
    "            \"설명\": description_text,\n",
    "            \"좋아요\": like_count,\n",
    "        }})\n",
    "\n",
    "    except Exception as e:\n",
    "        print(\"URL 처리 중 오류 발생:\", e)"
   ]
  },
  {
   "cell_type": "code",
   "execution_count": 43,
   "metadata": {},
   "outputs": [
    {
     "name": "stderr",
     "output_type": "stream",
     "text": [
      "Processing Links:   0%|          | 0/444 [00:00<?, ?link/s]"
     ]
    },
    {
     "name": "stdout",
     "output_type": "stream",
     "text": [
      "Description Text: #Kstyle #TREASURE #트레저\n",
      "\n",
      "＝＝＝＝＝＝＝＝＝＝＝＝＝＝＝＝＝\n",
      "\n",
      "21日午後、釜山（プサン）アジアド主競技場で「釜山ワンアジアフェスティバル 2023（BUSAN ONE ASIA FESTIVAL 2023）」のK-POPコンサートが開催✨\n",
      "\n",
      "TREASUREの「JIKJIN」のステージをお届け！\n",
      "\n",
      "・フォト記事はコチラ\n",
      "⇒https://news.kstyle.com/article.ksn?a...\n",
      "\n",
      "・TREASURE 関連記事はコチラ\n",
      "⇒https://news.kstyle.com/topicNews.ksn...\n",
      "\n",
      "★Kstyleで最新ニュースをチェック！\n",
      "⇒https://www.kstyle.com/\n",
      "\n",
      "★Kstyle公式SNS\n",
      "Twitter：\n",
      "  / kstyle_news  \n",
      "Instagram：\n",
      "  / kstylenews  \n",
      "★KstyleのLINE公式アカウント\n",
      "【友だち追加はコチラ】⇒ https://line.me/R/ti/p/@oa-kstyle?fro...\n",
      "\n",
      "＝＝＝＝＝＝＝＝＝＝＝＝＝＝＝＝＝\n"
     ]
    },
    {
     "name": "stderr",
     "output_type": "stream",
     "text": [
      "Processing Links:   0%|          | 1/444 [00:12<1:34:47, 12.84s/link]"
     ]
    },
    {
     "name": "stdout",
     "output_type": "stream",
     "text": [
      "Like Count: 177\n",
      "Description Text: 「2017 釜山ワンアジアフェスティバル 開幕記念公演」\n",
      "韓流を代表するスターだけが立てる舞台。K-POPを率いてきた最高のアーティスト達が集結！\n",
      "\n",
      "【放送日】 12月23日（土）19：00～\n",
      "出演：ナムグン・ミン、キム・ソヒョン、Brave Brother、Apink、ASTRO、BAP、GOT7、SF9、NU'EST W、MOMOLAND、BLACKPINK、iKON、GFRIEND、Wanna One、SECHSKIES、NCT127ほか\n",
      "\n",
      "番組サイト→https://knda.tv/datv/program/dt001283/\n"
     ]
    },
    {
     "name": "stderr",
     "output_type": "stream",
     "text": [
      "Processing Links:   0%|          | 2/444 [00:23<1:25:47, 11.65s/link]"
     ]
    },
    {
     "name": "stdout",
     "output_type": "stream",
     "text": [
      "좋아요 수 텍스트를 가져오는 중 오류 발생: Message: no such element: Unable to locate element: {\"method\":\"css selector\",\"selector\":\".yt-spec-button-shape-next--icon-leading[aria-label^=\"나 외에 사용자\"]\"}\n",
      "  (Session info: chrome=123.0.6312.123); For documentation on this error, please visit: https://www.selenium.dev/documentation/webdriver/troubleshooting/errors#no-such-element-exception\n",
      "Stacktrace:\n",
      "\tGetHandleVerifier [0x00007FF61D717032+63090]\n",
      "\t(No symbol) [0x00007FF61D682C82]\n",
      "\t(No symbol) [0x00007FF61D51EC65]\n",
      "\t(No symbol) [0x00007FF61D56499D]\n",
      "\t(No symbol) [0x00007FF61D564ADC]\n",
      "\t(No symbol) [0x00007FF61D5A5B37]\n",
      "\t(No symbol) [0x00007FF61D58701F]\n",
      "\t(No symbol) [0x00007FF61D5A3412]\n",
      "\t(No symbol) [0x00007FF61D586D83]\n",
      "\t(No symbol) [0x00007FF61D5583A8]\n",
      "\t(No symbol) [0x00007FF61D559441]\n",
      "\tGetHandleVerifier [0x00007FF61DB125AD+4238317]\n",
      "\tGetHandleVerifier [0x00007FF61DB4F70D+4488525]\n",
      "\tGetHandleVerifier [0x00007FF61DB479EF+4456495]\n",
      "\tGetHandleVerifier [0x00007FF61D7F0576+953270]\n",
      "\t(No symbol) [0x00007FF61D68E54F]\n",
      "\t(No symbol) [0x00007FF61D689224]\n",
      "\t(No symbol) [0x00007FF61D68935B]\n",
      "\t(No symbol) [0x00007FF61D679B94]\n",
      "\tBaseThreadInitThunk [0x00007FFFE7CF257D+29]\n",
      "\tRtlUserThreadStart [0x00007FFFE8EAAA48+40]\n",
      "\n",
      "Like Count: 0\n",
      "Description Text: 「2018 釜山ワンアジアフェスティバル 開幕記念公演」\n",
      "韓流を代表するスターだけが立てる舞台。K-POPを率いてきた最高のアーティスト達が集結！\n",
      "\n",
      "【放送日】11月25日（日）23：15～\n",
      "出演：EXO、Wanna One、SEVENTEEN、NCT 127、CELEB FIVE、MAMAMOO、EXID、GFRIENDほか\n",
      "\n",
      "番組ページ→https://knda.tv/datv/program/dt001429/\n"
     ]
    },
    {
     "name": "stderr",
     "output_type": "stream",
     "text": [
      "Processing Links:   1%|          | 3/444 [00:34<1:22:41, 11.25s/link]"
     ]
    },
    {
     "name": "stdout",
     "output_type": "stream",
     "text": [
      "좋아요 수 텍스트를 가져오는 중 오류 발생: Message: no such element: Unable to locate element: {\"method\":\"css selector\",\"selector\":\".yt-spec-button-shape-next--icon-leading[aria-label^=\"나 외에 사용자\"]\"}\n",
      "  (Session info: chrome=123.0.6312.123); For documentation on this error, please visit: https://www.selenium.dev/documentation/webdriver/troubleshooting/errors#no-such-element-exception\n",
      "Stacktrace:\n",
      "\tGetHandleVerifier [0x00007FF61D717032+63090]\n",
      "\t(No symbol) [0x00007FF61D682C82]\n",
      "\t(No symbol) [0x00007FF61D51EC65]\n",
      "\t(No symbol) [0x00007FF61D56499D]\n",
      "\t(No symbol) [0x00007FF61D564ADC]\n",
      "\t(No symbol) [0x00007FF61D5A5B37]\n",
      "\t(No symbol) [0x00007FF61D58701F]\n",
      "\t(No symbol) [0x00007FF61D5A3412]\n",
      "\t(No symbol) [0x00007FF61D586D83]\n",
      "\t(No symbol) [0x00007FF61D5583A8]\n",
      "\t(No symbol) [0x00007FF61D559441]\n",
      "\tGetHandleVerifier [0x00007FF61DB125AD+4238317]\n",
      "\tGetHandleVerifier [0x00007FF61DB4F70D+4488525]\n",
      "\tGetHandleVerifier [0x00007FF61DB479EF+4456495]\n",
      "\tGetHandleVerifier [0x00007FF61D7F0576+953270]\n",
      "\t(No symbol) [0x00007FF61D68E54F]\n",
      "\t(No symbol) [0x00007FF61D689224]\n",
      "\t(No symbol) [0x00007FF61D68935B]\n",
      "\t(No symbol) [0x00007FF61D679B94]\n",
      "\tBaseThreadInitThunk [0x00007FFFE7CF257D+29]\n",
      "\tRtlUserThreadStart [0x00007FFFE8EAAA48+40]\n",
      "\n",
      "Like Count: 0\n",
      "Description Text: \n"
     ]
    },
    {
     "name": "stderr",
     "output_type": "stream",
     "text": [
      "Processing Links:   1%|          | 4/444 [00:46<1:25:10, 11.61s/link]"
     ]
    },
    {
     "name": "stdout",
     "output_type": "stream",
     "text": [
      "Like Count: 175\n",
      "Description Text: #bof #kpop\n"
     ]
    },
    {
     "name": "stderr",
     "output_type": "stream",
     "text": [
      "Processing Links:   1%|          | 5/444 [00:59<1:27:09, 11.91s/link]"
     ]
    },
    {
     "name": "stdout",
     "output_type": "stream",
     "text": [
      "Like Count: 4\n",
      "Description Text: 「2018 釜山ワンアジアフェスティバル」\n",
      "開幕記念公演　5月3日（金）午後 9：00\n",
      "閉幕公演　　　5月4日（土）午後 8：30\n"
     ]
    },
    {
     "name": "stderr",
     "output_type": "stream",
     "text": [
      "Processing Links:   1%|▏         | 6/444 [01:11<1:28:47, 12.16s/link]"
     ]
    },
    {
     "name": "stdout",
     "output_type": "stream",
     "text": [
      "Like Count: 0\n",
      "Description Text: \n"
     ]
    },
    {
     "name": "stderr",
     "output_type": "stream",
     "text": [
      "Processing Links:   2%|▏         | 7/444 [01:24<1:29:55, 12.35s/link]"
     ]
    },
    {
     "name": "stdout",
     "output_type": "stream",
     "text": [
      "Like Count: 0\n",
      "Description Text: #부산원아시아페스티벌 #bof #釜山ワンアジアフェスティバル #bae173 #gt #classy #클라씨 #shutdown #트레저 #treasure #bonabona #보나보나 #darari #다라리\n"
     ]
    },
    {
     "name": "stderr",
     "output_type": "stream",
     "text": [
      "Processing Links:   2%|▏         | 8/444 [01:37<1:30:48, 12.50s/link]"
     ]
    },
    {
     "name": "stdout",
     "output_type": "stream",
     "text": [
      "Like Count: 203\n",
      "Description Text: #Kstyle #NCT127 #NCT \n",
      "\n",
      "＝＝＝＝＝＝＝＝＝＝＝＝＝＝＝＝＝\n",
      "\n",
      "21日午後、釜山（プサン）アジアド主競技場で「釜山ワンアジアフェスティバル 2023（BUSAN ONE ASIA FESTIVAL 2023）」のK-POPコンサートが開催✨\n",
      "\n",
      "NCT 127の「Fact Check」のステージをお届け！\n",
      "\n",
      "・フォト記事はコチラ\n",
      "⇒https://news.kstyle.com/article.ksn?a...\n",
      "\n",
      "・NCT 127 関連記事はコチラ\n",
      "⇒https://news.kstyle.com/topicNews.ksn...\n",
      "\n",
      "★Kstyleで最新ニュースをチェック！\n",
      "⇒https://www.kstyle.com/\n",
      "\n",
      "★Kstyle公式SNS\n",
      "Twitter：\n",
      "  / kstyle_news  \n",
      "Instagram：\n",
      "  / kstylenews  \n",
      "★KstyleのLINE公式アカウント\n",
      "【友だち追加はコチラ】⇒ https://line.me/R/ti/p/@oa-kstyle?fro...\n",
      "\n",
      "＝＝＝＝＝＝＝＝＝＝＝＝＝＝＝＝＝\n"
     ]
    },
    {
     "name": "stderr",
     "output_type": "stream",
     "text": [
      "Processing Links:   2%|▏         | 9/444 [01:49<1:30:00, 12.42s/link]"
     ]
    },
    {
     "name": "stdout",
     "output_type": "stream",
     "text": [
      "Like Count: 208\n",
      "Description Text: 👉 その日の最新ニュース  ||  皆さんこんにちは、私たちのニュースチャンネルへようこそ \n",
      "👉 私たちのチャンネルでさらに素晴らしいコンテンツをぜひ視聴してください。https://bit.ly/3PCbSIy\n",
      "👉 興味深いニュースを見て、最新のビデオをまとめます。 最もホットで完全なニュースをここで更新します。 ぜひご視聴ください\n",
      "1 . 音楽グループ : https://bit.ly/48b0D0Z\n",
      "#nssign #n.SSign #n.SSign2023 #n.SSign2024 #nssignjapan   \n",
      "\n",
      "プサン（釜山）市は、「2024釜山ワンアジアフェスティバル（Busan One Asia Festival：以下、2024 BOF）」の「BOF Bigコンサート」の全出演者のラインナップを公開した。その主人公は「god」「SUPER JUNIOR-D&E」「ZEROBASEONE」「BOYNEXTDOOR」「n.Ssign」らだ。\n",
      "今年で8回目を迎える「BOF」は、釜山の様々な韓国カルチャーとK-POPのコンテンツが結合した名実共にアジアを代表するコンサートで、釜山市が主催して釜山観光公社が主管する。\n",
      "毎年10月に開催されたが、今年から6月に開催時期を変更する。釜山の大型フェスティバルが下半期に集中し、「BOF」の観覧客が航空券や宿舎を予約しにくいという状況が発生するという釜山観光業界の持続的な要請と開催時期の差別性を確保しようと開催日を移した。\n",
      "「2024 BOF」は6月8日と9日の2日にわたって行われる。8日はグローバルファンの心を虜にしたK-POPアーティストと共にする「BOF Bigコンサート」を釜山アシアド主競技場で、9日は釜山市民が共にする「パークコンサート」をファミョン（華明）生態公園で開催される。\n",
      "「2024 BOF Bigコンサート」には、「god」「SUPER JUNIOR-D&E」「ZEROBASEONE」「BOYNEXTDOOR」「n.Ssign」など韓流をリードするK-POPの主役たちが総出動する。\n",
      "K-POPの基礎を磨いた伝説のグループや、K-POPの未来をリードする人気アイドルなど、「Bigコンサート」という名前にふさわしい「Big」なラインナップで 国内外のファンをひとつにまとめる歴代級のステージを披露する予定だ。\n",
      "\n",
      "シム・ジェミン釜山市文化体育局長は「6月に開催される『BOF Bigコンサート』は、伝説（レジェンド）1・2世代のアイドルと現在の人気アイドルグループが総出動する『ビッグラインナップ』で釜山を訪問する国内外の観光客と市民が一緒に楽しめるフェスティバルだ」として「今年初めて6月に開催し、さらに特別な音楽の経験と思い出をプレゼントする予定なので、多くの関心と参加をお願いする」と伝えた。\n",
      "コンサート公式チケット前売りはyes24で行われ、4月19日（金）に1次前売りが始まる。\n"
     ]
    },
    {
     "name": "stderr",
     "output_type": "stream",
     "text": [
      "Processing Links:   2%|▏         | 10/444 [02:02<1:30:18, 12.48s/link]"
     ]
    },
    {
     "name": "stdout",
     "output_type": "stream",
     "text": [
      "Like Count: 55\n",
      "Description Text: #Kstyle #OHMYGIRL #오마이걸 \n",
      "\n",
      "＝＝＝＝＝＝＝＝＝＝＝＝＝＝＝＝＝\n",
      "\n",
      "21日午後、釜山（プサン）アジアド主競技場で「釜山ワンアジアフェスティバル 2023（BUSAN ONE ASIA FESTIVAL 2023）」のK-POPコンサートが開催✨\n",
      "\n",
      "OH MY GIRLの「Dolphin」のステージをお届け！\n",
      "\n",
      "・フォト記事はコチラ\n",
      "⇒https://news.kstyle.com/article.ksn?a...\n",
      "\n",
      "・OH MY GIRL 関連記事はコチラ\n",
      "⇒https://news.kstyle.com/topicNews.ksn...\n",
      "\n",
      "★Kstyleで最新ニュースをチェック！\n",
      "⇒https://www.kstyle.com/\n",
      "\n",
      "★Kstyle公式SNS\n",
      "Twitter：\n",
      "  / kstyle_news  \n",
      "Instagram：\n",
      "  / kstylenews  \n",
      "★KstyleのLINE公式アカウント\n",
      "【友だち追加はコチラ】⇒ https://line.me/R/ti/p/@oa-kstyle?fro...\n",
      "\n",
      "＝＝＝＝＝＝＝＝＝＝＝＝＝＝＝＝＝\n"
     ]
    },
    {
     "name": "stderr",
     "output_type": "stream",
     "text": [
      "Processing Links:   2%|▏         | 11/444 [02:14<1:30:23, 12.52s/link]"
     ]
    },
    {
     "name": "stdout",
     "output_type": "stream",
     "text": [
      "Like Count: 25\n",
      "Description Text: #Kstyle #ZEROBASEONE #제로베이스원 \n",
      "\n",
      "＝＝＝＝＝＝＝＝＝＝＝＝＝＝＝＝＝\n",
      "\n",
      "21日午後、釜山（プサン）アジアド主競技場で「釜山ワンアジアフェスティバル 2023（BUSAN ONE ASIA FESTIVAL 2023）」のK-POPコンサートが開催✨\n",
      "\n",
      "ZEROBASEONEの「New Kidz on the Block」のステージをお届け！\n",
      "\n",
      "・フォト記事はコチラ\n",
      "⇒https://news.kstyle.com/article.ksn?a...\n",
      "\n",
      "・ZEROBASEONE 関連記事はコチラ\n",
      "⇒https://news.kstyle.com/topicNews.ksn...\n",
      "\n",
      "★Kstyleで最新ニュースをチェック！\n",
      "⇒https://www.kstyle.com/\n",
      "\n",
      "★Kstyle公式SNS\n",
      "Twitter：\n",
      "  / kstyle_news  \n",
      "Instagram：\n",
      "  / kstylenews  \n",
      "★KstyleのLINE公式アカウント\n",
      "【友だち追加はコチラ】⇒ https://line.me/R/ti/p/@oa-kstyle?fro...\n",
      "\n",
      "＝＝＝＝＝＝＝＝＝＝＝＝＝＝＝＝＝\n"
     ]
    },
    {
     "name": "stderr",
     "output_type": "stream",
     "text": [
      "Processing Links:   3%|▎         | 12/444 [02:27<1:30:21, 12.55s/link]"
     ]
    },
    {
     "name": "stdout",
     "output_type": "stream",
     "text": [
      "Like Count: 51\n",
      "Description Text: 「2017 釜山ワンアジアフェスティバル開幕記念公演」\n",
      "7月15日（日）よる10：00～\n"
     ]
    },
    {
     "name": "stderr",
     "output_type": "stream",
     "text": [
      "Processing Links:   3%|▎         | 13/444 [02:39<1:30:06, 12.54s/link]"
     ]
    },
    {
     "name": "stdout",
     "output_type": "stream",
     "text": [
      "Like Count: 0\n",
      "Description Text: 韓国釜山に住む日本人が韓国や釜山の魅力をお届けしています！\n",
      "부산 거주 일본인들이 부산 매력을 전달하는 채널입니다!\n",
      "\n",
      "動画を見て気に入って頂ければ、高評価＆チャンネル登録していただけると励みになります。\n",
      "영상을 재미있게 보셨으면 좋아요 및 구독 눌러주시면 힘이 됩니다.\n",
      "\n",
      "【わぼいそ釜山公式LINE】\n",
      "更新情報やライブ放送の案内をわぼいそ釜山公式LINE＠でご案内いたします。\n",
      "お友達登録お願いします！\n",
      "http://line.me/ti/p/%40cja8662k\n",
      "LINE:@waboiso　（＠から入力してください）\n"
     ]
    },
    {
     "name": "stderr",
     "output_type": "stream",
     "text": [
      "Processing Links:   3%|▎         | 14/444 [02:52<1:29:19, 12.46s/link]"
     ]
    },
    {
     "name": "stdout",
     "output_type": "stream",
     "text": [
      "Like Count: 70\n",
      "Description Text: #부산원아시아페스티벌 #bof #釜山ワンアジアフェスティバル #bae173 #gt #classy #클라씨 #shutdown #트레저 #treasure #bonabona #보나보나\n"
     ]
    },
    {
     "name": "stderr",
     "output_type": "stream",
     "text": [
      "Processing Links:   3%|▎         | 15/444 [03:04<1:29:29, 12.52s/link]"
     ]
    },
    {
     "name": "stdout",
     "output_type": "stream",
     "text": [
      "Like Count: 386\n",
      "Description Text: \n"
     ]
    },
    {
     "name": "stderr",
     "output_type": "stream",
     "text": [
      "Processing Links:   4%|▎         | 16/444 [03:17<1:29:08, 12.50s/link]"
     ]
    },
    {
     "name": "stdout",
     "output_type": "stream",
     "text": [
      "Like Count: 432\n",
      "Description Text: \n"
     ]
    },
    {
     "name": "stderr",
     "output_type": "stream",
     "text": [
      "Processing Links:   4%|▍         | 17/444 [03:29<1:28:59, 12.51s/link]"
     ]
    },
    {
     "name": "stdout",
     "output_type": "stream",
     "text": [
      "Like Count: 7\n",
      "Description Text: BOF Busan One Asia Festival(부산원아시아페스티벌)ITZY(있지)ICY fancam 직캠 20191019\n",
      "2019 부산원아시아페스티벌 화명생태공원 운동장에서 라이브 무대 직접 촬영하여 다같이 시청할수있게 공유해드립니다.\n",
      "촬영잘비로는 니콘 p1000으로 촬영했구요 너무 멀리서 찍어서 마음에 들지는 않네요 그래도 팬분들은 소중한 영상이겠죠^\n"
     ]
    },
    {
     "name": "stderr",
     "output_type": "stream",
     "text": [
      "Processing Links:   4%|▍         | 18/444 [03:41<1:27:50, 12.37s/link]"
     ]
    },
    {
     "name": "stdout",
     "output_type": "stream",
     "text": [
      "Like Count: 23\n",
      "Description Text: \n"
     ]
    },
    {
     "name": "stderr",
     "output_type": "stream",
     "text": [
      "Processing Links:   4%|▍         | 19/444 [03:54<1:28:02, 12.43s/link]"
     ]
    },
    {
     "name": "stdout",
     "output_type": "stream",
     "text": [
      "Like Count: 8\n",
      "Description Text: http://bof.or.kr/kor/main/\n",
      "\n",
      "2016 부산 원아시아 페스티벌\n",
      "2016 Busan One Asia Festival (BOF)\n",
      "\n",
      "기 간 : 10월 1일(토) ~ 10월 23일(일) / 총 23일간 개최\n",
      "장 소 : 부산 일원(벡스코, 부산아시아드주경기장 등)\n"
     ]
    },
    {
     "name": "stderr",
     "output_type": "stream",
     "text": [
      "Processing Links:   5%|▍         | 20/444 [04:07<1:28:23, 12.51s/link]"
     ]
    },
    {
     "name": "stdout",
     "output_type": "stream",
     "text": [
      "Like Count: 1\n",
      "Description Text: \n"
     ]
    },
    {
     "name": "stderr",
     "output_type": "stream",
     "text": [
      "Processing Links:   5%|▍         | 21/444 [04:19<1:28:16, 12.52s/link]"
     ]
    },
    {
     "name": "stdout",
     "output_type": "stream",
     "text": [
      "Like Count: 0\n",
      "Description Text: #부산원아시아페스티벌 #bof #釜山ワンアジアフェスティバル #bae173 #gt\n"
     ]
    },
    {
     "name": "stderr",
     "output_type": "stream",
     "text": [
      "Processing Links:   5%|▍         | 22/444 [04:32<1:27:49, 12.49s/link]"
     ]
    },
    {
     "name": "stdout",
     "output_type": "stream",
     "text": [
      "Like Count: 24\n",
      "Description Text: 2016/10/01 釜山ワンアジアフェスティバル開幕公演\n",
      "最後が数秒切れていたので，くっつけて直しました(笑)\n",
      "「let's go!」まで聞けます^^\n",
      "\n",
      "↓こちらの方は最後が切れていますが，画質がよりきれいです\n",
      "   • [4K] 161001 BTS 「FIRE」＆挨拶 ＠ BOF 釜山ワンア...  \n"
     ]
    },
    {
     "name": "stderr",
     "output_type": "stream",
     "text": [
      "Processing Links:   5%|▌         | 23/444 [04:44<1:27:12, 12.43s/link]"
     ]
    },
    {
     "name": "stdout",
     "output_type": "stream",
     "text": [
      "Like Count: 57\n",
      "Description Text: 先日のBOF (釜山ワンアジアフェスティバル)での出来事を、\n",
      "ユウトのVapp(2021.05.13thu)で話してくれました😌 \n",
      "\n",
      "PENTAGONのこういう絆が本当にすき🥰\n",
      "\n",
      "\n",
      "✏︎ ------------------------------------------------------- ☺︎\n",
      "\n",
      "#ペンタゴン #PENTAGON #ユウト \n",
      "#펜타곤 #ユト #유토 #yuto #BOF \n",
      "#キノ #키노 #kino #ひょんぐ #ユトキノ \n",
      "#釜山 #オンラインコンサート\n"
     ]
    },
    {
     "name": "stderr",
     "output_type": "stream",
     "text": [
      "Processing Links:   5%|▌         | 24/444 [04:57<1:27:32, 12.51s/link]"
     ]
    },
    {
     "name": "stdout",
     "output_type": "stream",
     "text": [
      "Like Count: 217\n",
      "Description Text: #BOF Busan One Asia Festival(부산원아시아페스티벌)뉴이스트(#NU'EST)fancam 직캠 20191019\n",
      "2019 #부산원아시아페스티벌 화명생태공원 운동장에서 라이브 무대 직접 촬영하여 다같이 시청할수있게 공유해드립니다.\n"
     ]
    },
    {
     "name": "stderr",
     "output_type": "stream",
     "text": [
      "Processing Links:   6%|▌         | 25/444 [05:09<1:27:25, 12.52s/link]"
     ]
    },
    {
     "name": "stdout",
     "output_type": "stream",
     "text": [
      "Like Count: 11\n",
      "Description Text: #부산원아시아페스티벌 #bof #釜山ワンアジアフェスティバル #bae173 #gt #classy #클라씨 #shutdown #트레저 #treasure #bonabona #보나보나 #darari #다라리 #이채연 #knock #zerobaseone #제로베이스원  #제베원 #inbloom\n"
     ]
    },
    {
     "name": "stderr",
     "output_type": "stream",
     "text": [
      "Processing Links:   6%|▌         | 26/444 [05:22<1:27:14, 12.52s/link]"
     ]
    },
    {
     "name": "stdout",
     "output_type": "stream",
     "text": [
      "Like Count: 20\n",
      "Description Text: コンサート後のミニペンミ♡\n"
     ]
    },
    {
     "name": "stderr",
     "output_type": "stream",
     "text": [
      "Processing Links:   6%|▌         | 27/444 [05:35<1:28:07, 12.68s/link]"
     ]
    },
    {
     "name": "stdout",
     "output_type": "stream",
     "text": [
      "Like Count: 0\n",
      "Description Text: #busan #treasure #bof\n"
     ]
    },
    {
     "name": "stderr",
     "output_type": "stream",
     "text": [
      "Processing Links:   6%|▋         | 28/444 [05:47<1:27:38, 12.64s/link]"
     ]
    },
    {
     "name": "stdout",
     "output_type": "stream",
     "text": [
      "Like Count: 113\n",
      "Description Text: Subscribe KBS World Official YouTube: \n",
      "   / kbsworld  \n",
      "------------------------------------------------\n",
      "KBS World is a TV channel for international audiences provided by KBS, the flagship public service broadcaster in Korea.  Enjoy Korea's latest and most popular K-Drama, K-Pop, K-Entertainment & K-Documentary with multilingual subtitles, by subscribing KBS World official YouTube.\n",
      "------------------------------------------------\n",
      "대한민국 대표 해외채널 KBS World를 유튜브에서 만나세요. KBS World는 전세계 시청자에게 재미있고 유익한 한류 콘텐츠를 영어 자막과 함께 제공하는 No.1 한류 채널입니다. KBS World 유튜브 채널을 구독하고 최신 드라마, K-Pop, 예능, 다큐멘터리 정보를  받아보세요. \n",
      "------------------------------------------------\n",
      "[Visit KBS World Official Pages]\n",
      "Homepage: http://www.kbsworld.co.kr \n",
      "Facebook: \n",
      "  / kbsworld  \n",
      "Twitter: \n",
      "  / kbsworldtv  \n",
      " \n",
      "Instagram: @kbsworldtv\n",
      "Line: @kbsworld_asia\n",
      "KakaoTalk: @kbs_world (http://plus.kakao.com/friend/@kbs_world)\n",
      "Google+: http://plus.google.com/+kbsworldtv\n"
     ]
    },
    {
     "name": "stderr",
     "output_type": "stream",
     "text": [
      "Processing Links:   7%|▋         | 29/444 [05:58<1:24:11, 12.17s/link]"
     ]
    },
    {
     "name": "stdout",
     "output_type": "stream",
     "text": [
      "Like Count: 41000\n",
      "Description Text: BOF Busan One Asia Festival(부산원아시아페스티벌)마마무(MAMAMOO) 고고베베(gogobebe)fancam 직캠 20191019\n",
      "2019 부산원아시아페스티벌 화명생태공원 운동장에서 라이브 무대 직접 촬영하여 다같이 시청할수있게 공유해드립니다.\n",
      "촬영잘비로는 니콘 p1000으로 촬영했구요 너무 멀리서 찍어서 마음에 들지는 않네요 그래도 팬분들은 소중한 영상이겠죠^^\n",
      "너무멀리서 찍어 줌마이크 기능이 안좋습니다. 음향은 포기하고 보세요ㅠ\n",
      "\n",
      "가수 : 마마무(Mamamoo)\n",
      "장르 : 댄스(국내)\n",
      "작사 : 김도훈(RBW),솔라(마마무),문별(마마무)\n",
      "작곡 : 김건모,김도훈(RBW)\n",
      "편곡 : 김도훈(RBW)\n",
      "수록앨범\n",
      "White Wind(2019.03.14.)\n",
      "\n",
      "가사\n",
      "일루와 일루와 일루와 일루와\n",
      "\n",
      "일루와 일루와\n",
      "\n",
      "일루와 일루와 일루와 일루와\n",
      "\n",
      "일루와 일루와\n",
      "\n",
      "폰은 저리 치워 끼는 좀 더 부려\n",
      "\n",
      "골치 아픈 건 던져\n",
      "\n",
      "여기서 한 잔에 상처를 다 마셔\n",
      "\n",
      "착한 척은 그만둬\n",
      "\n",
      "붐 까까꿍 타다둥 리듬에 몸을 맡겨\n",
      "\n",
      "뻔뻔하게 놀아 라라라\n",
      "\n",
      "야야 하루아침에 내가 변한 건 아냐\n",
      "\n",
      "별거 아닌 거에 의미 갖지 마 인마\n",
      "\n",
      "어우 얘\n",
      "\n",
      "괜한 antipathy\n",
      "\n",
      "등 떠민 적 없지\n",
      "\n",
      "아이고(I go) 아이고(I go)\n",
      "\n",
      "Butterfly\n",
      "\n",
      "그냥 잔을 부딪쳐 zzann\n",
      "\n",
      "It’ ok to not be fine\n",
      "\n",
      "괜찮지 않아도 괜찮아\n",
      "\n",
      "뻔뻔하게 즐겨 drop drop drop\n",
      "\n",
      "고고베베\n",
      "\n",
      "던져 버려 suit & tie\n",
      "\n",
      "드레스 코든 bling bling bling\n",
      "\n",
      "너와 나의 mix & match\n",
      "\n",
      "빼지 말고 drunken drunken\n",
      "\n",
      "고고베베\n",
      "\n",
      "뻔뻔하게 놀아\n",
      "\n",
      "미친 듯이 즐겨\n",
      "\n",
      "필요 없어 wrong & right\n",
      "\n",
      "on & on on & on\n",
      "\n",
      "고고베베\n",
      "\n",
      "일루와 일루와 일루와 일루와\n",
      "\n",
      "일루와 일루와\n",
      "\n",
      "고고베베\n",
      "\n",
      "일루와 일루와 일루와 일루와\n",
      "\n",
      "일루와 일루와\n",
      "\n",
      "고고베베\n",
      "\n",
      "Look up the here\n",
      "\n",
      "focus focus focus\n",
      "\n",
      "난 나의 피사체\n",
      "\n",
      "무시해 잔소린 음소거 Click Click 삑\n",
      "\n",
      "이렇다저렇다 가타부타\n",
      "\n",
      "꼭 말 많은 애들이 먼저\n",
      "\n",
      "영화에선 die해 So raise 자기애\n",
      "\n",
      "It’ ok to not be fine\n",
      "\n",
      "괜찮지 않아도 괜찮아\n",
      "\n",
      "뻔뻔하게 즐겨 drop drop drop\n",
      "\n",
      "고고베베\n",
      "\n",
      "던져 버려 suit & tie\n",
      "\n",
      "드레스 코든 bling bling bling\n",
      "\n",
      "너와 나의 mix & match\n",
      "\n",
      "빼지 말고 drunken drunken\n",
      "\n",
      "고고베베\n",
      "\n",
      "뻔뻔하게 놀아\n",
      "\n",
      "미친 듯이 즐겨\n",
      "\n",
      "필요 없어 wrong & right\n",
      "\n",
      "on & on on & on\n",
      "\n",
      "고고베베\n",
      "\n",
      "일루와 일루와 일루와 일루와\n",
      "\n",
      "일루와 일루와\n",
      "\n",
      "고고베베\n",
      "\n",
      "일루와 일루와 일루와 일루와\n",
      "\n",
      "일루와 일루와\n",
      "\n",
      "고고베베\n",
      "\n",
      "Nine / Six six nineteen\n",
      "\n",
      "Nine / Six gogobebe\n",
      "\n",
      "몸 다 풀었어\n",
      "\n",
      "미칠 준비가 됐어\n",
      "\n",
      "이제 시작해\n",
      "\n",
      "다들 난리가 나 나 난리가 나\n",
      "\n",
      "고고베베\n",
      "\n",
      "던져 버려 suit & tie\n",
      "\n",
      "드레스 코든 bling bling bling\n",
      "\n",
      "너와 나의 mix & match\n",
      "\n",
      "빼지 말고 drunken drunken\n",
      "\n",
      "고고베베\n",
      "\n",
      "뻔뻔하게 놀아\n",
      "\n",
      "미친 듯이 즐겨\n",
      "\n",
      "필요 없어 wrong & right\n",
      "\n",
      "on & on on & on\n",
      "\n",
      "고고베베\n",
      "\n",
      "일루와 일루와 일루와 일루와\n",
      "\n",
      "일루와 일루와\n",
      "\n",
      "고고베베\n",
      "\n",
      "일루와 일루와 일루와 일루와\n",
      "\n",
      "일루와 일루와\n",
      "\n",
      "고고베베\n",
      "\n",
      "고고베베\n",
      "\n",
      "고고베베\n"
     ]
    },
    {
     "name": "stderr",
     "output_type": "stream",
     "text": [
      "Processing Links:   7%|▋         | 30/444 [06:11<1:24:25, 12.23s/link]"
     ]
    },
    {
     "name": "stdout",
     "output_type": "stream",
     "text": [
      "Like Count: 14\n",
      "Description Text: 2018年10月20日韓国は釜山で行われた「釜山ワンアジアフェスティバル」の開幕式に取材に行ってきました。\n",
      "\n",
      "今回は、普通に見るのではなく正式的にPRESSの申請を行い許可をもらって取材を敢行\n",
      "\n",
      "わぼいそ総力取材です。今回はコンサートの模様をお届けします。\n",
      "\n",
      "私たちなりに臨場感をお届けしたいと思います。優、真奈、れいみ、あんな、かんなの5人の取材楽しんでください。\n",
      "\n",
      "この後、コンサート会場で行った別取材の動画も後日アップします。\n",
      "\n",
      "#EXO #WANNAONE #SEVENTEEN\n",
      "\n",
      "韓国釜山に住む日本人が韓国や釜山の魅力をお届けしています！\n",
      "부산 거주 일본인들이 부산 매력을 전달하는 채널입니다!\n",
      "\n",
      "動画を見て気に入って頂ければ、高評価＆チャンネル登録していただけると励みになります。\n",
      "영상을 재미있게 보셨으면 좋아요 및 구독 눌러주시면 힘이 됩니다.\n",
      "\n",
      "\n",
      "【facebookグループ】\n",
      "「わぼいそ釜山」釜山愛を語ろう！\n",
      "  / you.and.busan  \n",
      "釜山の情報をたくさんの人と共有できるグループです。\n",
      "釜山に関するご質問は、こちらへ♪♪\n",
      "\n",
      "【Instagram】\n",
      "釜山の情報を写真でお届け♪\n",
      "  / waboiso_busan  \n",
      "【Twitter】\n",
      "公式&各メンバーのフォローお願いします！\n",
      "公式 \n",
      "  / waboiso_busan  \n",
      "ゆう \n",
      "  / waboiso_yuu  \n",
      "まな \n",
      "  / waboiso_mana  \n",
      "ももか \n",
      "  / waboiso_momoka  \n",
      "れいみ \n",
      "  / waboiso_reimi  \n",
      "まり \n",
      "  / waboiso_mariiii  \n",
      "社長 \n",
      "  / waboiso_kon  \n",
      "ゆうじ \n",
      "  / waboiso_yuji  \n",
      "【わぼいそ釜山公式LINE】\n",
      "http://line.me/ti/p/%40cja8662k\n",
      "LINE:@waboiso　（＠から入力してください）\n",
      "\n",
      "【字幕協力(자막 협조)】\n",
      "日本語、韓国語etcの字幕協力をしてくださる方はこちらよりお願いいたします↓↓\n",
      "자막 협조해주실 분은 아래 링크에서 해주시면 정말 감사합니다^^\n",
      "http://www.youtube.com/timedtext_cs_p...\n"
     ]
    },
    {
     "name": "stderr",
     "output_type": "stream",
     "text": [
      "Processing Links:   7%|▋         | 31/444 [06:23<1:24:39, 12.30s/link]"
     ]
    },
    {
     "name": "stdout",
     "output_type": "stream",
     "text": [
      "Like Count: 255\n",
      "Description Text: \n"
     ]
    },
    {
     "name": "stderr",
     "output_type": "stream",
     "text": [
      "Processing Links:   7%|▋         | 32/444 [06:36<1:25:38, 12.47s/link]"
     ]
    },
    {
     "name": "stdout",
     "output_type": "stream",
     "text": [
      "Like Count: 27\n",
      "Description Text: 2019 #부산원아시아페스티벌\n",
      "#화명생태공원 운동장에서 2019 부산원아시아페스티벌 오랜만에 \n",
      "#SUPER JUNIOR(슈퍼주니어)무대\n",
      "라이브 무대 직접 촬영하여 다같이 시청할수있게 공유해드립니다.\n",
      "\n",
      "\n",
      "\n",
      "#SUPER Clap\n",
      "아티스트명SUPER JUNIOR (슈퍼주니어)\n",
      "작사 민연재, 1월 8일, 김태현 (lalala studio), 122.2MHz, 맑은이, 임수란, 이효재, 심야\n",
      "작곡 Sebastian Thott, Andreas Oberg, Ninos Hanna\n",
      "편곡 Sebastian Thott\n",
      "\n",
      "\n",
      "가사\n",
      "Clap! I'll make you SUPER Clap\n",
      "I’m ma make you SUPER Clap\n",
      "\n",
      "TV는 Turn off 맨날 똑같은 Bad Bad Bad Bad News\n",
      "분위기를 Turn up 손뼉을 들고 Let’s make something good\n",
      "머릿속에 네 손끝에 가시처럼 박힌 Trouble 모든 Trouble\n",
      "한순간에 네 손안에 사라져 버릴 걸 Like bubble 터뜨려\n",
      "\n",
      "타고난 Wit 센스는 덤\n",
      "우린 다 Freak 유쾌할 걸\n",
      "답답했던 마음 다 털어내 봐 (Three Two One)\n",
      "\n",
      "Oh Baby 아무 생각 안 나게 (I got ya, got ya, got ya)\n",
      "미친 듯이 Do it again (I want you, want you, want you)\n",
      "이 세상을 흔들어 깨워볼까 리듬에 몸을 맡겨\n",
      "다 같이 SUPER Clap\n",
      "\n",
      "나를 따라 SUPER Clap\n",
      "모두 SUPER Clap\n",
      "\n",
      "SUPER Clap 딱 좋은 Vibe\n",
      "두둥 Hit the bass Let’s hit the bass\n",
      "짝 소리에 몸 반응해\n",
      "다 몸을 꿀렁여 Dance\n",
      "\n",
      "허리와 가슴을 Wavy 무대를 Party로 Swervin’\n",
      "기분은 하늘에 닿지 거기 너 안 놀고 뭐해\n",
      "\n",
      "흐르는 Beat 리듬을 타\n",
      "고민 다 Freeze 볼륨은 Up\n",
      "답답했던 마음 다 털어내 봐 (Three Two One)\n",
      "\n",
      "Oh Baby 아무 생각 안 나게 (I got ya, got ya, got ya)\n",
      "미친 듯이 Do it again (I want you, want you, want you)\n",
      "이 세상을 흔들어 깨워볼까 리듬에 몸을 맡겨\n",
      "다 같이 SUPER Clap\n",
      "\n",
      "나를 따라 SUPER Clap\n",
      "모두 SUPER Clap\n",
      "\n",
      "나를 따라 SUPER Clap\n",
      "모두 SUPER Clap\n",
      "\n",
      "하늘 위에 닿게 Let it go\n",
      "폭발 시켜 너를 Boom Boom Boom\n",
      "참아왔던 우린 다 같이 온 세상이 흔들리게\n",
      "(미쳐 다 같이) SUPER Clap\n",
      "Woo, I'll make you SUPER Clap, Yeah\n",
      "\n",
      "Oh Baby 아무 생각 안 나게 (I got ya, got ya, got ya)\n",
      "미친 듯이 Do it again (I want you, want you, want you)\n",
      "이 세상을 흔들어 깨워볼까 리듬에 몸을 맡겨\n",
      "\n",
      "Oh Baby 아무 생각 안 나게 (I got ya, got ya, got ya)\n",
      "미친 듯이 Do it again (I want you, want you, want you)\n",
      "이 세상을 흔들어 깨워볼까 리듬에 몸을 맡겨\n",
      "다 같이 SUPER Clap\n",
      "\n",
      "나를 따라 SUPER Clap\n",
      "모두 SUPER Clap\n",
      "\n",
      "나를 따라 SUPER Clap\n",
      "모두 SUPER Clap\n"
     ]
    },
    {
     "name": "stderr",
     "output_type": "stream",
     "text": [
      "Processing Links:   7%|▋         | 33/444 [06:49<1:25:49, 12.53s/link]"
     ]
    },
    {
     "name": "stdout",
     "output_type": "stream",
     "text": [
      "Like Count: 25\n",
      "Description Text: 2019 #부산원아시아페스티벌\n",
      "화명생태공원 운동장에서 2019 부산원아시아페스티벌 #스트레이키즈 무대\n",
      "라이브 무대 직접 촬영하여 다같이 시청할수있게 공유해드립니다.\n",
      "스트레이키즈 화이팅~\n",
      "#니콘p1000으로 촬영\n",
      "\n",
      "\n",
      "\n",
      "Double Knot\n",
      "아티스트명Stray Kids (스트레이 키즈)\n",
      "작사 방찬 (3RACHA), 창빈(3RACHA), 한 (3RACHA)\n",
      "작곡 방찬 (3RACHA), 창빈(3RACHA), 한 (3RACHA), Nick Furlong, DallasK\n",
      "편곡 DallasK, 방찬 (3RACHA)\n",
      "\n",
      "\n",
      "가사\n",
      "\n",
      "어디로 갈까 하는 질문 이젠 상관없어\n",
      "발길이 닿는 대로 어떤 곳이든 난 Runnin’\n",
      "느슨해진 신발 끈을 다시 묶어 Movin’\n",
      " \n",
      "Now I’m free! Get up\n",
      "어디든 나는 갈 수 있어\n",
      "Free! Get up\n",
      "갈 길을 가지 뭐든 비켜\n",
      "Free! Get out\n",
      "어디로 가든 신경 다 꺼\n",
      "다 다다다 다다 다 다 다\n",
      " \n",
      "웅크렸던 자세를 펴\n",
      "어디든 걸어 여유를 느껴\n",
      "흙탕물 범벅 길도\n",
      "삐까뻔쩍한 길로\n",
      "드라마틱한 틱하면 틱하고 척하면 척하는\n",
      "결말을 만드는 감독\n",
      "인생 명작 So\n",
      " \n",
      "꽉 꽉 끈질기게\n",
      "\n",
      "더 꽉 묶어 Double knot\n",
      "더 꽉 묶어 Double knot\n",
      "\n",
      "어디로든 가 난 Go go\n",
      "내 맘대로 골라 Go go\n",
      "어디로든 가 난 Go go\n",
      "\n",
      "가고 싶은 대로\n",
      "다 다다다 다다 다 다\n",
      "\n",
      "눈금 없는 Dice 앞뒤 없는 Coin\n",
      "어떤 면이 보인대도 상관없어 나는\n",
      "방향 없는 나침반을 보며 Going\n",
      " \n",
      "많은 걸 얻지 못하더라도\n",
      "괜찮아 백 중에 하나라도\n",
      "백지에다 욕심부려 모든 색을\n",
      "칠해봤자 검은색만 남아\n",
      "\n",
      "Now I’m free! Get up\n",
      "어디든 나는 갈 수 있어\n",
      "Free! Get up\n",
      "갈 길을 가지 뭐든 비켜\n",
      "Free! Get out\n",
      "어디로 가든 신경 다 꺼\n",
      "다 다다다 다다 다 다 다\n",
      " \n",
      "한 곳만을 바라보고 왔던\n",
      "내 시야는 넓어지고 많은 길로\n",
      "눈을 돌려 여러 갈래길로\n",
      "나눠진 이곳을 보며 커진 동공\n",
      "Go! Break all the, break all the rules\n",
      "발이 막 닿는 대로\n",
      "숨이 턱 끝까지 차올라\n",
      "\n",
      "꽉 꽉 끈질기게\n",
      "더 꽉 묶어 Double knot\n",
      "더 꽉 묶어 Double knot\n",
      "어디로든 가 난 Go go\n",
      "내 맘대로 골라 Go go\n",
      "어디로든 가 난 Go go\n",
      "가고 싶은 대로\n",
      "다 다다다 다다 다 다\n",
      " \n",
      "멈추든 말든 Ey ey\n",
      "Wherever I go, ey ey\n",
      "뭘 하든 말든 모두\n",
      "다 내 맘대로\n",
      " \n",
      "Double knot\n",
      "Double knot\n",
      "가! 가! 가! 가!\n",
      "가! 가! Double knot\n"
     ]
    },
    {
     "name": "stderr",
     "output_type": "stream",
     "text": [
      "Processing Links:   8%|▊         | 34/444 [07:01<1:25:38, 12.53s/link]"
     ]
    },
    {
     "name": "stdout",
     "output_type": "stream",
     "text": [
      "Like Count: 167\n",
      "Description Text: BUSAN ONE ASIA FESTIVAL(BOF)は釜山全域で行われる一大韓流文化フェスティバル！今年はEXO,Red Velvetが出演決定。\n",
      "\n",
      "詳細：http://m.utravelnote.com/busan/play/b...\n"
     ]
    },
    {
     "name": "stderr",
     "output_type": "stream",
     "text": [
      "Processing Links:   8%|▊         | 35/444 [07:14<1:25:08, 12.49s/link]"
     ]
    },
    {
     "name": "stdout",
     "output_type": "stream",
     "text": [
      "Like Count: 0\n",
      "Description Text: HD動画はこちらから\n",
      "   • [HD] 161023 BTS 「피 땀 눈물 (Blood Sweat ...  \n"
     ]
    },
    {
     "name": "stderr",
     "output_type": "stream",
     "text": [
      "Processing Links:   8%|▊         | 36/444 [07:26<1:25:11, 12.53s/link]"
     ]
    },
    {
     "name": "stdout",
     "output_type": "stream",
     "text": [
      "Like Count: 34\n",
      "Description Text: \n"
     ]
    },
    {
     "name": "stderr",
     "output_type": "stream",
     "text": [
      "Processing Links:   8%|▊         | 37/444 [07:39<1:24:59, 12.53s/link]"
     ]
    },
    {
     "name": "stdout",
     "output_type": "stream",
     "text": [
      "Like Count: 0\n",
      "Description Text: #BOF Busan One Asia Festival(#부산원아시아페스티벌)#뉴이스트(NU'EST)fancam 직캠 20191019\n",
      "2019 부산원아시아페스티벌 화명생태공원 운동장에서 라이브 무대 직접 촬영하여 다같이 시청할수있게 공유해드립니다.\n",
      "촬영잘비로는 니콘 p1000으로 촬영했구요 너무 멀리서 찍어서 마음에 들지는 않네요 그래도 팬분들은 소중한 영상이겠죠^^\n"
     ]
    },
    {
     "name": "stderr",
     "output_type": "stream",
     "text": [
      "Processing Links:   9%|▊         | 38/444 [07:51<1:24:55, 12.55s/link]"
     ]
    },
    {
     "name": "stdout",
     "output_type": "stream",
     "text": [
      "Like Count: 9\n",
      "Description Text: 2022年10月30日(日)釜山（プサン）アジアード競技場で開催「2022釜山ワンアジアフェスティバル(BOF)」釜山と世界の若者が一緒に楽しめる文化コンテンツを提供しているアジアの代表的な文化イベント\n",
      "\n",
      "MAMAMOO,KANG DANIEL,YUJU,PENTAGON,PURPLE KISS,EXO KAI,WEi,(G)I-DLE、LIGHTSUM,LE SSERAFIM,AB6IX,Golden Child,Brave Girls\n",
      "\n",
      "mamamoo Solar\n",
      "mamamoo Moonbyul\n",
      "mamamoo Wheein\n",
      "mamamoo Hwasa\n",
      "\n",
      "exo Xiumin\n",
      "exo Suho\n",
      "exo Lay\n",
      "exo Baekhyun\n",
      "exo Chen\n",
      "exo Chanyeol\n",
      "exo D.O.\n",
      "exo Kai\n",
      "exo Sehun\n",
      "\n",
      "wanna one Yoon Ji-sung\n",
      "wanna one Ha Sung-woon\n",
      "wanna one Hwang Min-hyun\n",
      "wanna one Ong Seong-wu\n",
      "wanna one Kim Jae-hwan\n",
      "wanna one Kang Daniel\n",
      "wanna one Park Ji-hoon\n",
      "wanna one Park Woo-jin\n",
      "wanna one Bae Jin-young\n",
      "wanna one Lee Dae-hwi\n",
      "wanna one Lai Kuan-lin\n",
      "\n",
      "pentagon Jinho\n",
      "pentagon Hui\n",
      "pentagon Hongseok\n",
      "pentagon Shinwon\n",
      "pentagon Yeo One\n",
      "pentagon Yan An\n",
      "pentagon Yuto\n",
      "pentagon Kino\n",
      "pentagon Wooseok\n",
      "\n",
      "purple kiss Park Ji-eun\n",
      "purple kiss Na Go-eun\n",
      "purple kiss Dosie\n",
      "purple kiss Ireh\n",
      "purple kiss Yuki\n",
      "purple kiss Chaein\n",
      "purple kiss Swan\n",
      "\n",
      "wei Daehyeon\n",
      "wei Donghan\n",
      "wei Yongha\n",
      "wei Yohan\n",
      "wei Seokhwa\n",
      "wei Junseo\n",
      "\n",
      "(g)i-dle Miyeon\n",
      "(g)i-dle Minnie\n",
      "(g)i-dle Soyeon\n",
      "(g)i-dle Yuqi\n",
      "(g)i-dle Shuhua\n",
      "\n",
      "BUSAN ONE ASIA FESTIVAL 2022,釜山ワンアジアフェスティバル2022,브레이브걸스,釜山,LE_SSERAFIM,GoldenChild,MAMAMOO,カン・ダニエルユジュ,PENTAGON,PURPLEKISS,カンダニエル,KANGDANIEL,YUJU,PURPLE KISS,부산원아시아페스티벌2022,르세라핌,(g)i-dle nxde,2022 BOF,2022 bof,2022 bof,mamamoo,wanna one,exo,exo Kai,(g)i-dle japan,wei,purple kiss,(g)i-dle,asia song festival 2022,exo mama live,kpop china,brave girls\n"
     ]
    },
    {
     "name": "stderr",
     "output_type": "stream",
     "text": [
      "Processing Links:   9%|▉         | 39/444 [08:04<1:25:06, 12.61s/link]"
     ]
    },
    {
     "name": "stdout",
     "output_type": "stream",
     "text": [
      "Like Count: 21\n",
      "Description Text: チャンネル登録お願いします。\n",
      "   / @k-top3683  \n",
      "関連動画\n",
      "\n",
      "180525 \"Travel The World on EXO Ladder\" - CBX's Japan | ep.5-1 日本語字幕\n",
      "   • 동영상  \n",
      "EXOのあみだで世界旅行～CBX日本編～ Teaser\n",
      "   • 동영상  \n",
      "EXO CBX 'Travel the World on EXO's Ladder' Epi 5\n",
      "   • 동영상  \n",
      "【Red Velvet】年上にはタメ口を使えないスルギちゃん(ft.ソンミ)【日本語字幕】\n",
      "   • 동영상  \n",
      "[日本語字幕]「Red VelvetのLEVEL UP PROJECT　シーズン１」dTVにて6/1配信スタート！\n",
      "   • [日本語字幕]「Red VelvetのLEVEL UP PROJECT　シ...  \n",
      "COOKIE JAR - Red Velvet ( Short ver ) Japan Debut\n",
      "   • 동영상  \n",
      "180525 Red Velvet (WENDY) - LAST LOVE @ Red Room in Sapporo\n",
      "   • 동영상  \n",
      "【日本語字幕】「SAVE ME」BTS @釜山ワンアジアフェスティバル 2016\n",
      "   • 동영상  \n",
      "【超楽しんだ！】韓国2017釜山ワンアジアフェスティバル開幕コンサートに行ってみた。踊ってみた。\n",
      "   • 【韓国】2017釜山ワンアジアフェスティバル開幕コンサートに行った！踊った！  \n",
      "20171022 釜山ワンアジアフェスティバル BLACKPINK #BLACKPINK #ブルピン #블랙핑크\n",
      "   • 20171022 釜山ワンアジアフェスティバル BLACKPINK #...  \n",
      "引用元\n",
      "http://news.livedoor.com/article/deta...\n",
      "\n",
      "引用BGM\n",
      "Weekend\n",
      "   • Weekend @ フリーBGM DOVA-SYNDROME OFFICI...  \n"
     ]
    },
    {
     "name": "stderr",
     "output_type": "stream",
     "text": [
      "Processing Links:   9%|▉         | 40/444 [08:17<1:25:12, 12.65s/link]"
     ]
    },
    {
     "name": "stdout",
     "output_type": "stream",
     "text": [
      "Like Count: 0\n",
      "Description Text: EXO＆Wanna Oneら出演「2018 釜山ワンアジアフェスティバル」8/8より日本でチケット発売 Big News TV \n",
      " Reginald Reed  \n",
      "   / @reginaldreed3138  \n"
     ]
    },
    {
     "name": "stderr",
     "output_type": "stream",
     "text": [
      "Processing Links:   9%|▉         | 41/444 [08:29<1:24:52, 12.64s/link]"
     ]
    },
    {
     "name": "stdout",
     "output_type": "stream",
     "text": [
      "Like Count: 0\n",
      "Description Text: #부산원아시아페스티벌 #bof #釜山ワンアジアフェスティバル #bae173 #gt #classy #클라씨 #shutdown\n"
     ]
    },
    {
     "name": "stderr",
     "output_type": "stream",
     "text": [
      "Processing Links:   9%|▉         | 42/444 [08:42<1:24:16, 12.58s/link]"
     ]
    },
    {
     "name": "stdout",
     "output_type": "stream",
     "text": [
      "Like Count: 11\n",
      "Description Text: \n"
     ]
    },
    {
     "name": "stderr",
     "output_type": "stream",
     "text": [
      "Processing Links:  10%|▉         | 43/444 [08:54<1:23:30, 12.50s/link]"
     ]
    },
    {
     "name": "stdout",
     "output_type": "stream",
     "text": [
      "Like Count: 15\n",
      "Description Text: 2014年11月2日、釜山アジアードメイン競技場で行われた 第11回目となる「アジアソングフェスティバル2014」をKNTVで日本初放送！\n",
      "\n",
      "【出演】＜MC＞イトゥク(SUPER JUNIOR)、ジコ(Block B)、ミナ(Girl’s Day)\n",
      "【本放送】1/11（日）後3：20～後5：40\n",
      "【詳細ページ】http://www.kntv.co.jp/prog/detail/?p=...\n"
     ]
    },
    {
     "name": "stderr",
     "output_type": "stream",
     "text": [
      "Processing Links:  10%|▉         | 44/444 [09:07<1:23:20, 12.50s/link]"
     ]
    },
    {
     "name": "stdout",
     "output_type": "stream",
     "text": [
      "Like Count: 2\n",
      "Description Text: EXO＆Wanna Oneら出演「2018 釜山ワンアジアフェスティバル」開幕公演の最終ラインナップ公開 Big News TV \n",
      " Reginald Reed  \n",
      "   / @reginaldreed3138  \n"
     ]
    },
    {
     "name": "stderr",
     "output_type": "stream",
     "text": [
      "Processing Links:  10%|█         | 45/444 [09:19<1:22:53, 12.47s/link]"
     ]
    },
    {
     "name": "stdout",
     "output_type": "stream",
     "text": [
      "Like Count: 1\n",
      "Description Text: EXO＆Wanna Oneら出演「2018 釜山ワンアジアフェスティバル」開幕公演チケットが発売5分で完売 Big News TV \n",
      " Reginald Reed  \n",
      "   / @reginaldreed3138  \n"
     ]
    },
    {
     "name": "stderr",
     "output_type": "stream",
     "text": [
      "Processing Links:  10%|█         | 46/444 [09:32<1:22:54, 12.50s/link]"
     ]
    },
    {
     "name": "stdout",
     "output_type": "stream",
     "text": [
      "Like Count: 0\n",
      "Description Text: © Bulletproof_SG \n",
      "\n",
      "BTS was not be able to see in Vlive but they are performing and here is the video 😂\n",
      "\n",
      "Note: Namjoon was not there because of his condition\n",
      "\n",
      "Enjoy watching\n"
     ]
    },
    {
     "name": "stderr",
     "output_type": "stream",
     "text": [
      "Processing Links:  11%|█         | 47/444 [09:44<1:22:32, 12.47s/link]"
     ]
    },
    {
     "name": "stdout",
     "output_type": "stream",
     "text": [
      "Like Count: 6\n",
      "Description Text: #asahi #아사히  #트레저 #treasure\n"
     ]
    },
    {
     "name": "stderr",
     "output_type": "stream",
     "text": [
      "Processing Links:  11%|█         | 48/444 [09:55<1:19:54, 12.11s/link]"
     ]
    },
    {
     "name": "stdout",
     "output_type": "stream",
     "text": [
      "Like Count: 79\n",
      "Description Text: BOF Busan One Asia Festival(부산원아시아페스티벌) 에이비식스(AB6IX)fancam 직캠 20191019\n",
      "2019 부산원아시아페스티벌 화명생태공원 운동장에서 라이브 무대 직접 촬영하여 다같이 시청할수있게 공유해드립니다.\n",
      "촬영잘비로는 니콘 p1000으로 촬영했구요 너무 멀리서 찍어서 마음에 들지는 않네요 그래도 팬분들은 소중한 영상이겠죠^^\n",
      "너무멀리서 찍어 줌마이크 기능이 안좋습니다. 음향은 포기하고 보세요ㅠ\n"
     ]
    },
    {
     "name": "stderr",
     "output_type": "stream",
     "text": [
      "Processing Links:  11%|█         | 49/444 [10:08<1:20:39, 12.25s/link]"
     ]
    },
    {
     "name": "stdout",
     "output_type": "stream",
     "text": [
      "Like Count: 15\n",
      "Description Text: \n"
     ]
    },
    {
     "name": "stderr",
     "output_type": "stream",
     "text": [
      "Processing Links:  11%|█▏        | 50/444 [10:20<1:20:19, 12.23s/link]"
     ]
    },
    {
     "name": "stdout",
     "output_type": "stream",
     "text": [
      "Like Count: 0\n",
      "Description Text: #asahi #아사히  #트레저 #treasure\n"
     ]
    },
    {
     "name": "stderr",
     "output_type": "stream",
     "text": [
      "Processing Links:  11%|█▏        | 51/444 [10:31<1:17:36, 11.85s/link]"
     ]
    },
    {
     "name": "stdout",
     "output_type": "stream",
     "text": [
      "Like Count: 87\n",
      "Description Text: #트레저 #treasure \n",
      "Busan One Asia Festival (BOF) 2023\n",
      "#부산원아시아페스티벌\n",
      "📆Saturday, 21 October 2023\n",
      "📍Busan Asiad Main Stadium, Busan, South Korea\n"
     ]
    },
    {
     "name": "stderr",
     "output_type": "stream",
     "text": [
      "Processing Links:  12%|█▏        | 52/444 [10:44<1:19:13, 12.13s/link]"
     ]
    },
    {
     "name": "stdout",
     "output_type": "stream",
     "text": [
      "Like Count: 3\n",
      "Description Text: 2016 Busan One Asia Festival\n"
     ]
    },
    {
     "name": "stderr",
     "output_type": "stream",
     "text": [
      "Processing Links:  12%|█▏        | 53/444 [10:57<1:20:10, 12.30s/link]"
     ]
    },
    {
     "name": "stdout",
     "output_type": "stream",
     "text": [
      "Like Count: 2\n",
      "Description Text: \n"
     ]
    },
    {
     "name": "stderr",
     "output_type": "stream",
     "text": [
      "Processing Links:  12%|█▏        | 54/444 [11:09<1:20:13, 12.34s/link]"
     ]
    },
    {
     "name": "stdout",
     "output_type": "stream",
     "text": [
      "Like Count: 2\n",
      "Description Text: #에이이173\n",
      "\n",
      "Busan One Asia Festival (BOF) 2023 \n",
      "#부산원아시아페스티벌\n",
      "Saturday, 21 October 2023\n",
      "Busan Asiad Main Stadium, Busan, Korea\n",
      "\n",
      "Thank you for watching!\n",
      "\n",
      "Instagram : @yutikamelia\n"
     ]
    },
    {
     "name": "stderr",
     "output_type": "stream",
     "text": [
      "Processing Links:  12%|█▏        | 55/444 [11:21<1:20:17, 12.38s/link]"
     ]
    },
    {
     "name": "stdout",
     "output_type": "stream",
     "text": [
      "좋아요 수 텍스트를 가져오는 중 오류 발생: Message: no such element: Unable to locate element: {\"method\":\"css selector\",\"selector\":\".yt-spec-button-shape-next--icon-leading[aria-label^=\"나 외에 사용자\"]\"}\n",
      "  (Session info: chrome=123.0.6312.123); For documentation on this error, please visit: https://www.selenium.dev/documentation/webdriver/troubleshooting/errors#no-such-element-exception\n",
      "Stacktrace:\n",
      "\tGetHandleVerifier [0x00007FF61D717032+63090]\n",
      "\t(No symbol) [0x00007FF61D682C82]\n",
      "\t(No symbol) [0x00007FF61D51EC65]\n",
      "\t(No symbol) [0x00007FF61D56499D]\n",
      "\t(No symbol) [0x00007FF61D564ADC]\n",
      "\t(No symbol) [0x00007FF61D5A5B37]\n",
      "\t(No symbol) [0x00007FF61D58701F]\n",
      "\t(No symbol) [0x00007FF61D5A3412]\n",
      "\t(No symbol) [0x00007FF61D586D83]\n",
      "\t(No symbol) [0x00007FF61D5583A8]\n",
      "\t(No symbol) [0x00007FF61D559441]\n",
      "\tGetHandleVerifier [0x00007FF61DB125AD+4238317]\n",
      "\tGetHandleVerifier [0x00007FF61DB4F70D+4488525]\n",
      "\tGetHandleVerifier [0x00007FF61DB479EF+4456495]\n",
      "\tGetHandleVerifier [0x00007FF61D7F0576+953270]\n",
      "\t(No symbol) [0x00007FF61D68E54F]\n",
      "\t(No symbol) [0x00007FF61D689224]\n",
      "\t(No symbol) [0x00007FF61D68935B]\n",
      "\t(No symbol) [0x00007FF61D679B94]\n",
      "\tBaseThreadInitThunk [0x00007FFFE7CF257D+29]\n",
      "\tRtlUserThreadStart [0x00007FFFE8EAAA48+40]\n",
      "\n",
      "Like Count: 0\n",
      "Description Text: 韓国釜山に住む日本人が韓国や釜山の魅力をお届けしています！\n",
      "부산 거주 일본인들이 부산 매력을 전달하는 채널입니다!\n",
      "\n",
      "動画を見て気に入って頂ければ、高評価＆チャンネル登録していただけると励みになります。\n",
      "영상을 재미있게 보셨으면 좋아요 및 구독 눌러주시면 힘이 됩니다.\n",
      "\n",
      "【わぼいそ釜山公式LINE】\n",
      "更新情報やライブ放送の案内をわぼいそ釜山公式LINE＠でご案内いたします。\n",
      "お友達登録お願いします！\n",
      "http://line.me/ti/p/%40cja8662k\n",
      "LINE:@waboiso　（＠から入力してください）\n"
     ]
    },
    {
     "name": "stderr",
     "output_type": "stream",
     "text": [
      "Processing Links:  13%|█▎        | 56/444 [11:34<1:20:17, 12.42s/link]"
     ]
    },
    {
     "name": "stdout",
     "output_type": "stream",
     "text": [
      "Like Count: 87\n",
      "Description Text: \n"
     ]
    },
    {
     "name": "stderr",
     "output_type": "stream",
     "text": [
      "Processing Links:  13%|█▎        | 57/444 [11:46<1:19:57, 12.40s/link]"
     ]
    },
    {
     "name": "stdout",
     "output_type": "stream",
     "text": [
      "Like Count: 0\n",
      "Description Text: #부산원아시아페스티벌 #bof #釜山ワンアジアフェスティバル #bae173 #gt #classy #클라씨 #shutdown #트레저 #treasure #bonabona #보나보나 #darari #다라리 #이채연 #knock\n"
     ]
    },
    {
     "name": "stderr",
     "output_type": "stream",
     "text": [
      "Processing Links:  13%|█▎        | 58/444 [11:59<1:19:49, 12.41s/link]"
     ]
    },
    {
     "name": "stdout",
     "output_type": "stream",
     "text": [
      "Like Count: 15\n",
      "Description Text: SEVENTEEN＆Wanna Oneら出演決定！「2018 釜山ワンアジアフェスティバル」2次ラインナップ公開 Big News TV \n",
      " Reginald Reed  \n",
      "   / @reginaldreed3138  \n"
     ]
    },
    {
     "name": "stderr",
     "output_type": "stream",
     "text": [
      "Processing Links:  13%|█▎        | 59/444 [12:11<1:19:47, 12.44s/link]"
     ]
    },
    {
     "name": "stdout",
     "output_type": "stream",
     "text": [
      "Like Count: 0\n",
      "Description Text: #treasure #트레저 #BOF\n"
     ]
    },
    {
     "name": "stderr",
     "output_type": "stream",
     "text": [
      "Processing Links:  14%|█▎        | 60/444 [12:24<1:20:14, 12.54s/link]"
     ]
    },
    {
     "name": "stdout",
     "output_type": "stream",
     "text": [
      "Like Count: 4\n",
      "Description Text: 💜ソウル音楽フェスティバル💜\n",
      "\n",
      "10月初め、ソウル市は今年初めてソウル音楽フェスティバルを開催し\n",
      "\n",
      "世界の人々が愛するKPOPの本場であるソウルだけの特別なプログラムを披露しました🤗\n",
      "\n",
      "\n",
      "また、ソウルの都市ブランドI SEOUL U(アイソウルユー)誕生4周年を迎えて、外国人と一緒に様々なイベントも行われました🎶\n",
      "\n",
      "ユーチューバー ミーガン(Megan)のファンミーティングと共にその日の様子を見てみましょう～🎥\n",
      "\n",
      "\n",
      "#ISeoulU #Seoul #ソウル #ソウル市 #韓国ソウル #ソウル旅行 #ソウル旅 #ソウルツアー #ソウル生活 #ソウル大好き #ソウル観光 #ソウル音楽フェスティバル #KPOP #ユーチューバー #コンサート #光化門 #光化門広場 #ミュージックフェスティバル #ソウルイベント #韓国旅行 #서울 #서울뮤직페스티벌 #광화문\n"
     ]
    },
    {
     "name": "stderr",
     "output_type": "stream",
     "text": [
      "Processing Links:  14%|█▎        | 61/444 [12:36<1:19:46, 12.50s/link]"
     ]
    },
    {
     "name": "stdout",
     "output_type": "stream",
     "text": [
      "Like Count: 0\n",
      "Description Text: \n"
     ]
    },
    {
     "name": "stderr",
     "output_type": "stream",
     "text": [
      "Processing Links:  14%|█▍        | 62/444 [12:49<1:19:43, 12.52s/link]"
     ]
    },
    {
     "name": "stdout",
     "output_type": "stream",
     "text": [
      "Like Count: 1\n",
      "Description Text: \n"
     ]
    },
    {
     "name": "stderr",
     "output_type": "stream",
     "text": [
      "Processing Links:  14%|█▍        | 63/444 [13:02<1:20:16, 12.64s/link]"
     ]
    },
    {
     "name": "stdout",
     "output_type": "stream",
     "text": [
      "Like Count: 10\n",
      "Description Text: #부산원아시아페스티벌 #bof #釜山ワンアジアフェスティバル #bae173 #gt #classy #클라씨 #shutdown #트레저 #treasure #bonabona #보나보나 #darari #다라리 #이채연 #knock #zerobaseone #제로베이스원  #제베원 #inbloom #ohmygirl #오마이걸 #dolphin #nct127 #엔시티127 #영웅 #kickit\n"
     ]
    },
    {
     "name": "stderr",
     "output_type": "stream",
     "text": [
      "Processing Links:  14%|█▍        | 64/444 [13:14<1:19:54, 12.62s/link]"
     ]
    },
    {
     "name": "stdout",
     "output_type": "stream",
     "text": [
      "Like Count: 7\n",
      "Description Text: 181003 #SEVENTEEN (세븐틴) - Oh My!(어쩌나) + Don't Wanna Cry(울고 싶지 않아) + CLAP(박수) \n",
      " 2018 Asia Song Festival\n"
     ]
    },
    {
     "name": "stderr",
     "output_type": "stream",
     "text": [
      "Processing Links:  15%|█▍        | 65/444 [13:29<1:22:46, 13.11s/link]"
     ]
    },
    {
     "name": "stdout",
     "output_type": "stream",
     "text": [
      "Like Count: 3000\n",
      "Description Text: 韓国釜山に住む日本人が韓国や釜山の魅力をお届けしています！\n",
      "부산 거주 일본인들이 부산 매력을 전달하는 채널입니다!\n",
      "\n",
      "動画を見て気に入って頂ければ、高評価＆チャンネル登録していただけると励みになります。\n",
      "영상을 재미있게 보셨으면 좋아요 및 구독 눌러주시면 힘이 됩니다.\n",
      "\n",
      "【わぼいそ釜山公式LINE】\n",
      "更新情報やライブ放送の案内をわぼいそ釜山公式LINE＠でご案内いたします。\n",
      "お友達登録お願いします！\n",
      "http://line.me/ti/p/%40cja8662k\n",
      "LINE:@waboiso　（＠から入力してください）\n"
     ]
    },
    {
     "name": "stderr",
     "output_type": "stream",
     "text": [
      "Processing Links:  15%|█▍        | 66/444 [13:42<1:22:06, 13.03s/link]"
     ]
    },
    {
     "name": "stdout",
     "output_type": "stream",
     "text": [
      "Like Count: 90\n",
      "Description Text: 「釜山ワンアジアフェスティバル 2019｣開幕公演レポート\n",
      "\"Busan One Asia Festival 2019\" Opening Report\n",
      "⇒https://korealove-girls.com/29926/\n"
     ]
    },
    {
     "name": "stderr",
     "output_type": "stream",
     "text": [
      "Processing Links:  15%|█▌        | 67/444 [13:54<1:21:17, 12.94s/link]"
     ]
    },
    {
     "name": "stdout",
     "output_type": "stream",
     "text": [
      "Like Count: 4\n",
      "Description Text: Do Not Reupload and Edit！\n",
      "부산 원아시아 드림콘서트\n",
      "Busan One Asia Dream Concert\n",
      "釜山ワンアジアドリームコンサート\n"
     ]
    },
    {
     "name": "stderr",
     "output_type": "stream",
     "text": [
      "Processing Links:  15%|█▌        | 68/444 [14:05<1:17:39, 12.39s/link]"
     ]
    },
    {
     "name": "stdout",
     "output_type": "stream",
     "text": [
      "Like Count: 30\n",
      "Description Text: 「釜山ワンアジアフェスティバル 2019｣開幕公演レポート\n",
      "\"Busan One Asia Festival 2019\" Opening Report\n",
      "⇒https://korealove-girls.com/29926/\n"
     ]
    },
    {
     "name": "stderr",
     "output_type": "stream",
     "text": [
      "Processing Links:  16%|█▌        | 69/444 [14:18<1:17:41, 12.43s/link]"
     ]
    },
    {
     "name": "stdout",
     "output_type": "stream",
     "text": [
      "Like Count: 7\n",
      "Description Text: BOF Busan One Asia Festival(부산원아시아페스티벌) 여자친구(GFRIEND)fancam 직캠 20191019\n",
      "2019 부산원아시아페스티벌 화명생태공원 운동장에서 라이브 무대 직접 촬영하여 다같이 시청할수있게 공유해드립니다.\n",
      "촬영잘비로는 니콘 p1000으로 촬영했구요 너무 멀리서 찍어서 마음에 들지는 않네요 그래도 팬분들은 소중한 영상이겠죠^^\n",
      "너무멀리서 찍어 줌마이크 기능이 안좋습니다. 음향은 포기하고 보세요ㅠ\n",
      "\n",
      "아티스트\n",
      "여자친구(GFRIEND)\n",
      "장르\n",
      "댄스(국내)\n",
      "작사\n",
      "이기(오레오),씨노(오레오),웅킴(오레오)\n",
      "작곡\n",
      "이기(오레오),씨노(오레오),웅킴(오레오)\n",
      "편곡\n",
      "씨노(오레오),웅킴(오레오)\n",
      "수록앨범\n",
      "여자친구 The 7th Mini Album 'FEVER SEASON'(2019.07.01)\n",
      "\n",
      "\n",
      "가사\n",
      "\n",
      "지금 이 순간 후회 없이 보여주고 싶어\n",
      "\n",
      "그저 네 심장을 뛰게 하고 싶어\n",
      "\n",
      "눈부신 달빛 아래 열대야 같은 사랑을 하고 있어\n",
      "\n",
      "너와 나\n",
      "\n",
      "\n",
      "\n",
      "불이 켜지는 순간이야 아직 아련한 메아리야\n",
      "\n",
      "꿈을 꾸는 듯한 ARIA Na na na na\n",
      "\n",
      "어쩔 줄 모르던 나야 불확실한 것에 겁이 나\n",
      "\n",
      "기다리진 않을 거야\n",
      "\n",
      "\n",
      "\n",
      "코끝이 찡하니 들뜨는 이 밤\n",
      "\n",
      "소리 없이 피어난 멋진 계절 같아 Oh yeah\n",
      "\n",
      "높아져 가는 낮과 밤의 온도\n",
      "\n",
      "너무나 뜨거워 터질 것만 같아\n",
      "\n",
      "\n",
      "\n",
      "지금 이 순간 후회 없이 보여주고 싶어\n",
      "\n",
      "그저 네 심장을 뛰게 하고 싶어\n",
      "\n",
      "눈부신 달빛 아래 열대야 같은 사랑을 하고 있어\n",
      "\n",
      "너와 나\n",
      "\n",
      "\n",
      "\n",
      "아직도 깊어져만 가는 열대야\n",
      "\n",
      "여전히 사라지지 않는 열대야\n",
      "\n",
      "차가운 어둠 지난 저 불꽃처럼\n",
      "\n",
      "남김없이 사랑하는\n",
      "\n",
      "너와 나\n",
      "\n",
      "\n",
      "\n",
      "널 느낄 수 있어 언제나 찾을 수 있어\n",
      "\n",
      "조금씩 선명해져 가\n",
      "\n",
      "\n",
      "\n",
      "행복한 이 느낌 여름밤 꿈처럼\n",
      "\n",
      "너를 만난 후로 퍼져가 새로운 나 Oh yeah\n",
      "\n",
      "작은 세상에 큰 꽃을 피워\n",
      "\n",
      "날 사랑하는 법을 알 것만 같아\n",
      "\n",
      "\n",
      "\n",
      "지금 이 순간 후회 없이 보여주고 싶어\n",
      "\n",
      "그저 네 심장을 뛰게 하고 싶어\n",
      "\n",
      "눈부신 달빛 아래 열대야 같은 사랑을 하고 있어\n",
      "\n",
      "너와 나\n",
      "\n",
      "\n",
      "\n",
      "Hot summer night\n",
      "\n",
      "\n",
      "\n",
      "새벽이 온대도 네 두 눈 속에서\n",
      "\n",
      "아무 말 안 해도 날 느낄 수 있어\n",
      "\n",
      "커져가 커져가 이 불씨에\n",
      "\n",
      "사르르 사르르 녹아내려도\n",
      "\n",
      "널 안아줄 거야\n",
      "\n",
      "영원할 거야 이대로\n",
      "\n",
      "\n",
      "\n",
      "아직도 깊어져만 가는 열대야\n",
      "\n",
      "여전히 사라지지 않는 열대야\n",
      "\n",
      "차가운 어둠 지난 저 불꽃처럼\n",
      "\n",
      "남김없이 사랑하는\n",
      "\n",
      "너와 나\n"
     ]
    },
    {
     "name": "stderr",
     "output_type": "stream",
     "text": [
      "Processing Links:  16%|█▌        | 70/444 [14:30<1:16:51, 12.33s/link]"
     ]
    },
    {
     "name": "stdout",
     "output_type": "stream",
     "text": [
      "Like Count: 9\n",
      "Description Text: 부산의 40계단\n",
      "\n",
      "WAKEYWAKEYCAFE\n",
      "부산시 중구 대청로 135번길 13\n",
      "070-4150-3904\n",
      "10시~22시\n",
      "40계단 바로 옆\n",
      "https://www.nishinippon.co.jp/nnp/nat...\n",
      "\n",
      "[Follow me on SNS]\n",
      "• FACEBOOK　 \n",
      "  / busansarang  \n",
      "• 부산한일교류회그룹 \n",
      "  / 585987878233454  \n",
      "• 부산정보교환그룹\n",
      "  / you.and.busan  \n",
      "• 부산사랑HP　https://busansaran.com/\n",
      "\n",
      "© CJ E & M CORPORATION\n"
     ]
    },
    {
     "name": "stderr",
     "output_type": "stream",
     "text": [
      "Processing Links:  16%|█▌        | 71/444 [14:43<1:17:02, 12.39s/link]"
     ]
    },
    {
     "name": "stdout",
     "output_type": "stream",
     "text": [
      "Like Count: 216\n",
      "Description Text: \n"
     ]
    },
    {
     "name": "stderr",
     "output_type": "stream",
     "text": [
      "Processing Links:  16%|█▌        | 72/444 [14:53<1:14:02, 11.94s/link]"
     ]
    },
    {
     "name": "stdout",
     "output_type": "stream",
     "text": [
      "Like Count: 0\n",
      "Description Text: 💜SEOUL GUIDE💜＃４ ソウルミュージックフェスティバル\n",
      "\n",
      "Myeong-Hoonがあなたのソウルガイドになって、ソウルで実際に体験した経験を共有します🤗\n",
      "\n",
      "ソウル市は、誰でもどこでも音楽公演を観覧して一年中音楽祭を楽しめる、グローバル音楽都市を作ろうとしています🎶\n",
      "\n",
      "今年9月に行われたソウルミュージックフェスティバル(SMUF)は、ソウル市が保有している音楽資源を活用して開催された初めてのイベントで、市民と観光客、誰でも開けた空間からソウルだけの特色あるK-POPプログラムを楽しめるようにしました😎💫\n",
      "\n",
      "\n",
      "🔎詳しい情報は https://bit.ly/2E2H0vb から確認できます！\n",
      "\n",
      "\n",
      "#ISeoulU #Seoul #ソウル #ソウル市 #韓国 #ソウル生活 #ソウル情報 #ソウルニュース\n"
     ]
    },
    {
     "name": "stderr",
     "output_type": "stream",
     "text": [
      "Processing Links:  16%|█▋        | 73/444 [15:06<1:14:42, 12.08s/link]"
     ]
    },
    {
     "name": "stdout",
     "output_type": "stream",
     "text": [
      "Like Count: 0\n",
      "Description Text: \n"
     ]
    },
    {
     "name": "stderr",
     "output_type": "stream",
     "text": [
      "Processing Links:  17%|█▋        | 74/444 [15:19<1:15:45, 12.28s/link]"
     ]
    },
    {
     "name": "stdout",
     "output_type": "stream",
     "text": [
      "Like Count: 49\n",
      "Description Text: Do not reupload / logo crop\n",
      "재업로드, 2차 가공 금지\n",
      "\n",
      "#JAEHYUN #재현 #NCT127\n"
     ]
    },
    {
     "name": "stderr",
     "output_type": "stream",
     "text": [
      "Processing Links:  17%|█▋        | 75/444 [15:31<1:16:20, 12.41s/link]"
     ]
    },
    {
     "name": "stdout",
     "output_type": "stream",
     "text": [
      "Like Count: 18\n",
      "Description Text: \n"
     ]
    },
    {
     "name": "stderr",
     "output_type": "stream",
     "text": [
      "Processing Links:  17%|█▋        | 76/444 [15:44<1:16:23, 12.45s/link]"
     ]
    },
    {
     "name": "stdout",
     "output_type": "stream",
     "text": [
      "Like Count: 12\n",
      "Description Text: \n"
     ]
    },
    {
     "name": "stderr",
     "output_type": "stream",
     "text": [
      "Processing Links:  17%|█▋        | 77/444 [15:57<1:17:15, 12.63s/link]"
     ]
    },
    {
     "name": "stdout",
     "output_type": "stream",
     "text": [
      "Like Count: 47\n",
      "Description Text: #nct127 #nct #마크 #mark #펙트체크 #부산 #불가사의 #Fancam\n"
     ]
    },
    {
     "name": "stderr",
     "output_type": "stream",
     "text": [
      "Processing Links:  18%|█▊        | 78/444 [16:10<1:17:20, 12.68s/link]"
     ]
    },
    {
     "name": "stdout",
     "output_type": "stream",
     "text": [
      "Like Count: 203\n",
      "Description Text: #제베원 #ZB1 #BOF #원아페\n"
     ]
    },
    {
     "name": "stderr",
     "output_type": "stream",
     "text": [
      "Processing Links:  18%|█▊        | 79/444 [16:22<1:16:58, 12.65s/link]"
     ]
    },
    {
     "name": "stdout",
     "output_type": "stream",
     "text": [
      "Like Count: 90\n",
      "Description Text: #데이드림 #원아페 #BOF\n"
     ]
    },
    {
     "name": "stderr",
     "output_type": "stream",
     "text": [
      "Processing Links:  18%|█▊        | 80/444 [16:35<1:16:38, 12.63s/link]"
     ]
    },
    {
     "name": "stdout",
     "output_type": "stream",
     "text": [
      "Like Count: 49\n",
      "Description Text: \n"
     ]
    },
    {
     "name": "stderr",
     "output_type": "stream",
     "text": [
      "Processing Links:  18%|█▊        | 81/444 [16:48<1:16:26, 12.63s/link]"
     ]
    },
    {
     "name": "stdout",
     "output_type": "stream",
     "text": [
      "Like Count: 0\n",
      "Description Text: 「釜山ワンアジアフェスティバル 2019｣開幕公演レポート\n",
      "\"Busan One Asia Festival 2019\" Opening Report\n",
      "⇒https://korealove-girls.com/29926/\n"
     ]
    },
    {
     "name": "stderr",
     "output_type": "stream",
     "text": [
      "Processing Links:  18%|█▊        | 82/444 [17:00<1:16:03, 12.61s/link]"
     ]
    },
    {
     "name": "stdout",
     "output_type": "stream",
     "text": [
      "Like Count: 3\n",
      "Description Text: \n"
     ]
    },
    {
     "name": "stderr",
     "output_type": "stream",
     "text": [
      "Processing Links:  19%|█▊        | 83/444 [17:13<1:15:34, 12.56s/link]"
     ]
    },
    {
     "name": "stdout",
     "output_type": "stream",
     "text": [
      "Like Count: 22\n",
      "Description Text: 「231021 부산 원아시아 페스티벌 Busan One Asia Festival」 \n",
      "보나 보나 BONA BONA\n",
      "트레저 아사히 직캠 TREASURE ASAHI FANCAM\n",
      "#ASAHI #아사히 #朝光\n",
      "\n",
      "by @csb___myg\n"
     ]
    },
    {
     "name": "stderr",
     "output_type": "stream",
     "text": [
      "Processing Links:  19%|█▉        | 84/444 [17:25<1:15:36, 12.60s/link]"
     ]
    },
    {
     "name": "stdout",
     "output_type": "stream",
     "text": [
      "Like Count: 80\n",
      "Description Text: 한국에서 방송출연했습니다~!\n",
      "\n",
      "저희가 촬영하는 모습을 찍으신다고 해서 한국어로 진행도 했는데 평소 때보다 더 재미있게 된 것 같아요.\n",
      "\n",
      "그런데 제일 재미있는 부분이 방송에서 짤렸다는..ㅠㅠ\n",
      "\n",
      "168계단\n",
      "부산시 동구 초량동 994-873\n",
      "\n",
      "이바구공작소\n",
      "부산시 동구 초량동 875-2\n",
      "051-468-0289\n"
     ]
    },
    {
     "name": "stderr",
     "output_type": "stream",
     "text": [
      "Processing Links:  19%|█▉        | 85/444 [17:44<1:26:20, 14.43s/link]"
     ]
    },
    {
     "name": "stdout",
     "output_type": "stream",
     "text": [
      "Like Count: 1100\n",
      "Description Text: 설명\n"
     ]
    },
    {
     "name": "stderr",
     "output_type": "stream",
     "text": [
      "Processing Links:  19%|█▉        | 86/444 [17:57<1:22:56, 13.90s/link]"
     ]
    },
    {
     "name": "stdout",
     "output_type": "stream",
     "text": [
      "Like Count: 32\n",
      "Description Text: 「キュジョンに会いたい」\n",
      "独占日本初放送！等身大のキュジョンの日常に密着したリアルストーリー！\n",
      "\n",
      "【放送日】10月27日スタート　（土）23：00～\n",
      "出演：キム・キュジョン\n",
      "\n",
      "番組ページ→https://knda.tv/datv/program/dt001422/\n"
     ]
    },
    {
     "name": "stderr",
     "output_type": "stream",
     "text": [
      "Processing Links:  20%|█▉        | 87/444 [18:07<1:16:49, 12.91s/link]"
     ]
    },
    {
     "name": "stdout",
     "output_type": "stream",
     "text": [
      "좋아요 수 텍스트를 가져오는 중 오류 발생: Message: no such element: Unable to locate element: {\"method\":\"css selector\",\"selector\":\".yt-spec-button-shape-next--icon-leading[aria-label^=\"나 외에 사용자\"]\"}\n",
      "  (Session info: chrome=123.0.6312.123); For documentation on this error, please visit: https://www.selenium.dev/documentation/webdriver/troubleshooting/errors#no-such-element-exception\n",
      "Stacktrace:\n",
      "\tGetHandleVerifier [0x00007FF61D717032+63090]\n",
      "\t(No symbol) [0x00007FF61D682C82]\n",
      "\t(No symbol) [0x00007FF61D51EC65]\n",
      "\t(No symbol) [0x00007FF61D56499D]\n",
      "\t(No symbol) [0x00007FF61D564ADC]\n",
      "\t(No symbol) [0x00007FF61D5A5B37]\n",
      "\t(No symbol) [0x00007FF61D58701F]\n",
      "\t(No symbol) [0x00007FF61D5A3412]\n",
      "\t(No symbol) [0x00007FF61D586D83]\n",
      "\t(No symbol) [0x00007FF61D5583A8]\n",
      "\t(No symbol) [0x00007FF61D559441]\n",
      "\tGetHandleVerifier [0x00007FF61DB125AD+4238317]\n",
      "\tGetHandleVerifier [0x00007FF61DB4F70D+4488525]\n",
      "\tGetHandleVerifier [0x00007FF61DB479EF+4456495]\n",
      "\tGetHandleVerifier [0x00007FF61D7F0576+953270]\n",
      "\t(No symbol) [0x00007FF61D68E54F]\n",
      "\t(No symbol) [0x00007FF61D689224]\n",
      "\t(No symbol) [0x00007FF61D68935B]\n",
      "\t(No symbol) [0x00007FF61D679B94]\n",
      "\tBaseThreadInitThunk [0x00007FFFE7CF257D+29]\n",
      "\tRtlUserThreadStart [0x00007FFFE8EAAA48+40]\n",
      "\n",
      "Like Count: 0\n",
      "Description Text: #韓國 #演唱會 #明星 #愛豆 #Kpop #韓星 #韓娛 #kpop #BOF #釜山BOF #韓國旅行 #韓國旅遊新玩法 #韓國 #韓國演唱會 #BusanOneAsiaFestival #KPOP慶典 #韓星 #韓國明星 #GOD #SuperJunior #ZB1 #BOYNEXTDOOR #nSSign #H1KEY #Billie #LUN8 #nowadays \n",
      "\n",
      "全世界為之狂熱的K-POP明星聚集一起帶來精彩表演！\n",
      "釜山One Asia Festival以音樂的動感能量渲染釜山的秋夜。\n",
      "\n",
      "更多資訊可上粉絲團 / 官網 查詢\n",
      "👉Facebook：tktravelkr\n",
      "👉Instagram：tktravelkorea\n",
      "👉Official Website：http://tktravelkorea.com/\n",
      "👉LINE：@tktravelkorea\n",
      "👉whatsapp：+82-10-8249-1901\n",
      "👉wechat：tktravelcs\n",
      "👉Kakaotalk：tktravelcs\n"
     ]
    },
    {
     "name": "stderr",
     "output_type": "stream",
     "text": [
      "Processing Links:  20%|█▉        | 88/444 [18:20<1:16:14, 12.85s/link]"
     ]
    },
    {
     "name": "stdout",
     "output_type": "stream",
     "text": [
      "Like Count: 1\n",
      "Description Text: \n"
     ]
    },
    {
     "name": "stderr",
     "output_type": "stream",
     "text": [
      "Processing Links:  20%|██        | 89/444 [18:32<1:15:32, 12.77s/link]"
     ]
    },
    {
     "name": "stdout",
     "output_type": "stream",
     "text": [
      "Like Count: 2\n",
      "Description Text: #treasure #darari #kpop #bof\n"
     ]
    },
    {
     "name": "stderr",
     "output_type": "stream",
     "text": [
      "Processing Links:  20%|██        | 90/444 [18:44<1:12:24, 12.27s/link]"
     ]
    },
    {
     "name": "stdout",
     "output_type": "stream",
     "text": [
      "Like Count: 4\n",
      "Description Text: ぷさんさらんのメンバー5人が釜山全域を相手に旅に出た。\n",
      "行く所は、すべて抽選で。\n",
      "釜山50ヶ所をランダムで回る旅。予定にない筋書きのない旅が始まります。\n",
      "Season2第1話予告COMING SOON…\n"
     ]
    },
    {
     "name": "stderr",
     "output_type": "stream",
     "text": [
      "Processing Links:  20%|██        | 91/444 [18:56<1:12:32, 12.33s/link]"
     ]
    },
    {
     "name": "stdout",
     "output_type": "stream",
     "text": [
      "Like Count: 13\n",
      "Description Text: #釜山ワンアジアフェスティバル #BOF #公式旅行会社 リハーサル始まりました！時間まで楽しみです！ まだチケットのご案内可能です！ご希望の方はご連絡ください！\n",
      "  / 782063625678708736  \n"
     ]
    },
    {
     "name": "stderr",
     "output_type": "stream",
     "text": [
      "Processing Links:  21%|██        | 92/444 [19:08<1:11:56, 12.26s/link]"
     ]
    },
    {
     "name": "stdout",
     "output_type": "stream",
     "text": [
      "Like Count: 5\n",
      "Description Text: \n",
      "Like Count: 5\n"
     ]
    },
    {
     "name": "stderr",
     "output_type": "stream",
     "text": [
      "Processing Links:  21%|██        | 93/444 [19:21<1:13:01, 12.48s/link]"
     ]
    },
    {
     "name": "stdout",
     "output_type": "stream",
     "text": [
      "Description Text: \n"
     ]
    },
    {
     "name": "stderr",
     "output_type": "stream",
     "text": [
      "Processing Links:  21%|██        | 94/444 [19:34<1:13:09, 12.54s/link]"
     ]
    },
    {
     "name": "stdout",
     "output_type": "stream",
     "text": [
      "Like Count: 19\n",
      "Description Text: 벚꽃이 피웠습니다~!\n",
      "부산에는 벛꽃 명소가 너무 많이 있네요~\n",
      "벛꽃이 예쁘다는 명소에 부산사랑 일본인들이 가봤습니다!\n",
      "\n",
      "쌍둥이 자매 안나 칸나 첫 출연입니다~\n",
      "\n",
      "시청자분께서 자막 달아주셨어요.\n",
      "사투리가 있어서 알아듣기 힘드실텐데,, 너무 감사합니다!\n",
      "\n",
      "영상을 재미있게 보셨으면 좋아요 및 구독 눌러주시면 힘이 됩니다.\n",
      "\n",
      "\n",
      "【facebookグループ】\n",
      "「わぼいそ釜山」釜山愛を語ろう！\n",
      "  / you.and.busan  \n",
      "釜山の情報をたくさんの人と共有できるグループです。\n",
      "釜山に関するご質問は、こちらへ♪♪\n",
      "\n",
      "【Instagram】\n",
      "釜山の情報を写真でお届け♪\n",
      "  / waboiso_busan  \n",
      "【Twitter】\n",
      "公式&各メンバーのフォローお願いします！\n",
      "公式 \n",
      "  / waboiso_busan  \n",
      "ゆう \n",
      "  / waboiso_yuu  \n",
      "まな \n",
      "  / waboiso_mana  \n",
      "ももか \n",
      "  / waboiso_momoka  \n",
      "れいみ \n",
      "  / waboiso_reimi  \n",
      "まり \n",
      "  / waboiso_mariiii  \n",
      "社長 \n",
      "  / waboiso_kon  \n",
      "ゆうじ \n",
      "  / waboiso_yuji  \n",
      "【字幕協力(자막 협조)】\n",
      "자막 협조해주실 분은 아래 링크에서 해주시면 정말 감사합니다^^\n",
      "http://www.youtube.com/timedtext_cs_p...\n"
     ]
    },
    {
     "name": "stderr",
     "output_type": "stream",
     "text": [
      "Processing Links:  21%|██▏       | 95/444 [19:50<1:18:38, 13.52s/link]"
     ]
    },
    {
     "name": "stdout",
     "output_type": "stream",
     "text": [
      "Like Count: 545\n",
      "Description Text: 유튜브 - @OFFICIAL_BAE173\n",
      "\n",
      "#BAE173 #제이민  #한결  #유준  #무진  #준서  #영서  #도하  #빛\n",
      "\n",
      " #한류 #K-POP #콘서트 #부산 아시아드 경기장 #아이돌\n",
      "\n",
      "#부산원아시아페스티벌\n",
      "\n",
      "라인업 - \n",
      "#더윈드 #BAE173 #XODIAC #오마이걸 #이채연 #클라씨 #트레저 #하이라이트 #NCT127 #제로베이스원\n"
     ]
    },
    {
     "name": "stderr",
     "output_type": "stream",
     "text": [
      "Processing Links:  22%|██▏       | 96/444 [20:02<1:16:51, 13.25s/link]"
     ]
    },
    {
     "name": "stdout",
     "output_type": "stream",
     "text": [
      "Like Count: 83\n",
      "Description Text: \n"
     ]
    },
    {
     "name": "stderr",
     "output_type": "stream",
     "text": [
      "Processing Links:  22%|██▏       | 97/444 [20:15<1:15:47, 13.11s/link]"
     ]
    },
    {
     "name": "stdout",
     "output_type": "stream",
     "text": [
      "Like Count: 36\n",
      "Description Text: \n"
     ]
    },
    {
     "name": "stderr",
     "output_type": "stream",
     "text": [
      "Processing Links:  22%|██▏       | 98/444 [20:28<1:14:31, 12.92s/link]"
     ]
    },
    {
     "name": "stdout",
     "output_type": "stream",
     "text": [
      "Like Count: 3\n",
      "Description Text: \n"
     ]
    },
    {
     "name": "stderr",
     "output_type": "stream",
     "text": [
      "Processing Links:  22%|██▏       | 99/444 [20:40<1:13:33, 12.79s/link]"
     ]
    },
    {
     "name": "stdout",
     "output_type": "stream",
     "text": [
      "Like Count: 4\n",
      "Description Text: #다라리락버전 #원아페 #BOF\n"
     ]
    },
    {
     "name": "stderr",
     "output_type": "stream",
     "text": [
      "Processing Links:  23%|██▎       | 100/444 [20:53<1:12:52, 12.71s/link]"
     ]
    },
    {
     "name": "stdout",
     "output_type": "stream",
     "text": [
      "Like Count: 123\n",
      "Description Text: \n"
     ]
    },
    {
     "name": "stderr",
     "output_type": "stream",
     "text": [
      "Processing Links:  23%|██▎       | 101/444 [21:05<1:12:46, 12.73s/link]"
     ]
    },
    {
     "name": "stdout",
     "output_type": "stream",
     "text": [
      "Like Count: 0\n",
      "Description Text: \n"
     ]
    },
    {
     "name": "stderr",
     "output_type": "stream",
     "text": [
      "Processing Links:  23%|██▎       | 102/444 [21:18<1:12:15, 12.68s/link]"
     ]
    },
    {
     "name": "stdout",
     "output_type": "stream",
     "text": [
      "Like Count: 28\n",
      "Description Text: @ 부산 아시아드 주경기장\n"
     ]
    },
    {
     "name": "stderr",
     "output_type": "stream",
     "text": [
      "Processing Links:  23%|██▎       | 103/444 [21:31<1:12:20, 12.73s/link]"
     ]
    },
    {
     "name": "stdout",
     "output_type": "stream",
     "text": [
      "Like Count: 4\n",
      "Description Text: 朝鮮通信使ユネスコ世界記憶遺産登録記念行事\n"
     ]
    },
    {
     "name": "stderr",
     "output_type": "stream",
     "text": [
      "Processing Links:  23%|██▎       | 104/444 [21:43<1:11:59, 12.71s/link]"
     ]
    },
    {
     "name": "stdout",
     "output_type": "stream",
     "text": [
      "Like Count: 3\n",
      "Description Text: ★完全生中継\n",
      "8/1(水)・2(木)に韓国・高尺(コチョク)スカイドームで開催される「2018 KOREA MUSIC FESTIVAL」。昨年につづき2回目の開催となる今回も、超豪華K-POPアーティストが登場！盛り上がること必至のこのライブイベントを、エムオン!で2日間完全生中継！\n",
      "\n",
      "＜放送日時＞\n",
      "DAY1：8/1(水) 19:00～23:00\n",
      "　　　【再】8/4(土) 21:30～25:00\n",
      "DAY2：8/2(木) 19:00～23:00\n",
      "　　　【再】8/5(日) 21:30～25:00\n",
      "\n",
      "☆出演アーティスト\n",
      "＜DAY1＞\n",
      "TWICE、Wanna One、iKON、MAMAMOO、SF9、OH MY GIRL、Weki Meki、宇宙少女、LABOUM、VICTON\n",
      "＜DAY2＞\n",
      "SHINee、NCT 127、MOMOLAND、BTOB、Apink、AOA、EXID、9MUSES、SNUPER、gugudan、Chung Ha\n",
      "\n",
      "※生中継の開始時間は未定です。\n",
      "※放送アーティストは予告なく変更されることがございます。\n",
      "※放送時間は変更になる可能性がございます。\n",
      "\n",
      "＜特設ページ＞\n",
      "http://www.m-on.jp/special/2018-kmf/\n"
     ]
    },
    {
     "name": "stderr",
     "output_type": "stream",
     "text": [
      "Processing Links:  24%|██▎       | 105/444 [21:56<1:11:24, 12.64s/link]"
     ]
    },
    {
     "name": "stdout",
     "output_type": "stream",
     "text": [
      "Like Count: 5\n",
      "Description Text: 説明\n"
     ]
    },
    {
     "name": "stderr",
     "output_type": "stream",
     "text": [
      "Processing Links:  24%|██▍       | 106/444 [22:08<1:11:05, 12.62s/link]"
     ]
    },
    {
     "name": "stdout",
     "output_type": "stream",
     "text": [
      "Like Count: 89\n",
      "Description Text: 日本とアジアの架け橋を音楽と文化で創るOneasia Festival\n",
      "二日目の模様です\n",
      "（ウエイウエイ・ウーさんは著作権の関係で削除しています）\n"
     ]
    },
    {
     "name": "stderr",
     "output_type": "stream",
     "text": [
      "Processing Links:  24%|██▍       | 107/444 [22:21<1:11:07, 12.66s/link]"
     ]
    },
    {
     "name": "stdout",
     "output_type": "stream",
     "text": [
      "Like Count: 11\n",
      "Description Text: 誕生日　おめでとう♫\n",
      "\n",
      "大好きだよーーーーーーー♥\n"
     ]
    },
    {
     "name": "stderr",
     "output_type": "stream",
     "text": [
      "Processing Links:  24%|██▍       | 108/444 [22:33<1:10:20, 12.56s/link]"
     ]
    },
    {
     "name": "stdout",
     "output_type": "stream",
     "text": [
      "Like Count: 6\n",
      "Description Text: \n"
     ]
    },
    {
     "name": "stderr",
     "output_type": "stream",
     "text": [
      "Processing Links:  25%|██▍       | 109/444 [22:46<1:09:58, 12.53s/link]"
     ]
    },
    {
     "name": "stdout",
     "output_type": "stream",
     "text": [
      "Like Count: 7\n",
      "Description Text: 231021 2023 (BOF) 부산원아시아페스티벌\n",
      "이채연 - KNOCK\n",
      "(직캠 4K)\n",
      "\n",
      "#이채연 #LEECHAEYEON #OverTheMoon #KNOCK #이제깨어KNOCK  @official_LCY\n"
     ]
    },
    {
     "name": "stderr",
     "output_type": "stream",
     "text": [
      "Processing Links:  25%|██▍       | 110/444 [22:57<1:07:04, 12.05s/link]"
     ]
    },
    {
     "name": "stdout",
     "output_type": "stream",
     "text": [
      "Like Count: 31\n",
      "Description Text: #채연 #아이즈원 #이채연\n",
      "\n",
      "#한류 #K-POP #콘서트 #부산 아시아드 경기장 #아이돌 #BOF\n",
      "\n",
      "#부산원아시아페스티벌\n",
      "\n",
      "라인업 - \n",
      "#더윈드 #BAE173 #XODIAC #오마이걸 #이채연 #클라씨 #트레저 #하이라이트 #NCT127 #제로베이스원\n"
     ]
    },
    {
     "name": "stderr",
     "output_type": "stream",
     "text": [
      "Processing Links:  25%|██▌       | 111/444 [23:10<1:08:01, 12.26s/link]"
     ]
    },
    {
     "name": "stdout",
     "output_type": "stream",
     "text": [
      "Like Count: 19\n",
      "Description Text: 유튜브 - @OFFICIAL_BAE173\n",
      "\n",
      "#BAE173 #제이민  #한결  #유준  #무진  #준서  #영서  #도하  #빛\n",
      "\n",
      " #한류 #K-POP #콘서트 #부산 아시아드 경기장 #아이돌\n",
      "\n",
      "#부산원아시아페스티벌\n",
      "\n",
      "라인업 - \n",
      "#더윈드 #BAE173 #XODIAC #오마이걸 #이채연 #클라씨 #트레저 #하이라이트 #NCT127 #제로베이스원\n"
     ]
    },
    {
     "name": "stderr",
     "output_type": "stream",
     "text": [
      "Processing Links:  25%|██▌       | 112/444 [23:22<1:08:36, 12.40s/link]"
     ]
    },
    {
     "name": "stdout",
     "output_type": "stream",
     "text": [
      "Like Count: 44\n",
      "Description Text: 「アジチャン特派員」は、動画サイト：アジチャンを発展させた地上波番組。ＲＫＢが2018年8月24日26:58～27:58に放送しました。今回は、韓国プサンで頑張る日本人女性と福岡で頑張る韓国人女性が登場します。また、動画サイト：アジチャンに世界各地から動画を投稿する福岡在住の男性も紹介します。\n",
      "\n",
      "投稿者：アジチャン事務局\n",
      "\n",
      "九州@アジアチャンネル\n",
      "https://atasia.jp/\n"
     ]
    },
    {
     "name": "stderr",
     "output_type": "stream",
     "text": [
      "Processing Links:  25%|██▌       | 113/444 [23:33<1:05:46, 11.92s/link]"
     ]
    },
    {
     "name": "stdout",
     "output_type": "stream",
     "text": [
      "좋아요 수 텍스트를 가져오는 중 오류 발생: Message: no such element: Unable to locate element: {\"method\":\"css selector\",\"selector\":\".yt-spec-button-shape-next--icon-leading[aria-label^=\"나 외에 사용자\"]\"}\n",
      "  (Session info: chrome=123.0.6312.123); For documentation on this error, please visit: https://www.selenium.dev/documentation/webdriver/troubleshooting/errors#no-such-element-exception\n",
      "Stacktrace:\n",
      "\tGetHandleVerifier [0x00007FF61D717032+63090]\n",
      "\t(No symbol) [0x00007FF61D682C82]\n",
      "\t(No symbol) [0x00007FF61D51EC65]\n",
      "\t(No symbol) [0x00007FF61D56499D]\n",
      "\t(No symbol) [0x00007FF61D564ADC]\n",
      "\t(No symbol) [0x00007FF61D5A5B37]\n",
      "\t(No symbol) [0x00007FF61D58701F]\n",
      "\t(No symbol) [0x00007FF61D5A3412]\n",
      "\t(No symbol) [0x00007FF61D586D83]\n",
      "\t(No symbol) [0x00007FF61D5583A8]\n",
      "\t(No symbol) [0x00007FF61D559441]\n",
      "\tGetHandleVerifier [0x00007FF61DB125AD+4238317]\n",
      "\tGetHandleVerifier [0x00007FF61DB4F70D+4488525]\n",
      "\tGetHandleVerifier [0x00007FF61DB479EF+4456495]\n",
      "\tGetHandleVerifier [0x00007FF61D7F0576+953270]\n",
      "\t(No symbol) [0x00007FF61D68E54F]\n",
      "\t(No symbol) [0x00007FF61D689224]\n",
      "\t(No symbol) [0x00007FF61D68935B]\n",
      "\t(No symbol) [0x00007FF61D679B94]\n",
      "\tBaseThreadInitThunk [0x00007FFFE7CF257D+29]\n",
      "\tRtlUserThreadStart [0x00007FFFE8EAAA48+40]\n",
      "\n",
      "Like Count: 0\n",
      "Description Text: 「釜山ワンアジアフェスティバル 2019｣開幕公演レポート\n",
      "\"Busan One Asia Festival 2019\" Opening Report\n",
      "⇒https://korealove-girls.com/29926/\n"
     ]
    },
    {
     "name": "stderr",
     "output_type": "stream",
     "text": [
      "Processing Links:  26%|██▌       | 114/444 [23:46<1:06:47, 12.14s/link]"
     ]
    },
    {
     "name": "stdout",
     "output_type": "stream",
     "text": [
      "Like Count: 0\n",
      "Description Text: \n"
     ]
    },
    {
     "name": "stderr",
     "output_type": "stream",
     "text": [
      "Processing Links:  26%|██▌       | 115/444 [23:57<1:05:06, 11.87s/link]"
     ]
    },
    {
     "name": "stdout",
     "output_type": "stream",
     "text": [
      "Like Count: 1\n",
      "Description Text: \n"
     ]
    },
    {
     "name": "stderr",
     "output_type": "stream",
     "text": [
      "Processing Links:  26%|██▌       | 116/444 [24:10<1:06:20, 12.13s/link]"
     ]
    },
    {
     "name": "stdout",
     "output_type": "stream",
     "text": [
      "Like Count: 24\n",
      "Description Text: \n"
     ]
    },
    {
     "name": "stderr",
     "output_type": "stream",
     "text": [
      "Processing Links:  26%|██▋       | 117/444 [24:23<1:07:13, 12.33s/link]"
     ]
    },
    {
     "name": "stdout",
     "output_type": "stream",
     "text": [
      "Like Count: 36\n",
      "Description Text: #트레저 \n",
      "\n",
      "Busan One Asia Festival (BOF) 2023 \n",
      "#부산원아시아페스티벌\n",
      "Saturday, 21 October 2023\n",
      "Busan Asiad Main Stadium, Busan, Korea\n",
      "\n",
      "Thank you for watching!\n",
      "\n",
      "Instagram : @yutikamelia\n"
     ]
    },
    {
     "name": "stderr",
     "output_type": "stream",
     "text": [
      "Processing Links:  27%|██▋       | 118/444 [24:40<1:15:25, 13.88s/link]"
     ]
    },
    {
     "name": "stdout",
     "output_type": "stream",
     "text": [
      "좋아요 수 텍스트를 가져오는 중 오류 발생: Message: no such element: Unable to locate element: {\"method\":\"css selector\",\"selector\":\".yt-spec-button-shape-next--icon-leading[aria-label^=\"나 외에 사용자\"]\"}\n",
      "  (Session info: chrome=123.0.6312.123); For documentation on this error, please visit: https://www.selenium.dev/documentation/webdriver/troubleshooting/errors#no-such-element-exception\n",
      "Stacktrace:\n",
      "\tGetHandleVerifier [0x00007FF61D717032+63090]\n",
      "\t(No symbol) [0x00007FF61D682C82]\n",
      "\t(No symbol) [0x00007FF61D51EC65]\n",
      "\t(No symbol) [0x00007FF61D56499D]\n",
      "\t(No symbol) [0x00007FF61D564ADC]\n",
      "\t(No symbol) [0x00007FF61D5A5B37]\n",
      "\t(No symbol) [0x00007FF61D58701F]\n",
      "\t(No symbol) [0x00007FF61D5A3412]\n",
      "\t(No symbol) [0x00007FF61D586D83]\n",
      "\t(No symbol) [0x00007FF61D5583A8]\n",
      "\t(No symbol) [0x00007FF61D559441]\n",
      "\tGetHandleVerifier [0x00007FF61DB125AD+4238317]\n",
      "\tGetHandleVerifier [0x00007FF61DB4F70D+4488525]\n",
      "\tGetHandleVerifier [0x00007FF61DB479EF+4456495]\n",
      "\tGetHandleVerifier [0x00007FF61D7F0576+953270]\n",
      "\t(No symbol) [0x00007FF61D68E54F]\n",
      "\t(No symbol) [0x00007FF61D689224]\n",
      "\t(No symbol) [0x00007FF61D68935B]\n",
      "\t(No symbol) [0x00007FF61D679B94]\n",
      "\tBaseThreadInitThunk [0x00007FFFE7CF257D+29]\n",
      "\tRtlUserThreadStart [0x00007FFFE8EAAA48+40]\n",
      "\n",
      "Like Count: 0\n",
      "Description Text: \n"
     ]
    },
    {
     "name": "stderr",
     "output_type": "stream",
     "text": [
      "Processing Links:  27%|██▋       | 119/444 [24:53<1:13:23, 13.55s/link]"
     ]
    },
    {
     "name": "stdout",
     "output_type": "stream",
     "text": [
      "Like Count: 1\n",
      "Description Text: \n"
     ]
    },
    {
     "name": "stderr",
     "output_type": "stream",
     "text": [
      "Processing Links:  27%|██▋       | 120/444 [25:05<1:11:36, 13.26s/link]"
     ]
    },
    {
     "name": "stdout",
     "output_type": "stream",
     "text": [
      "Like Count: 2\n",
      "Description Text: \n"
     ]
    },
    {
     "name": "stderr",
     "output_type": "stream",
     "text": [
      "Processing Links:  27%|██▋       | 121/444 [25:18<1:10:15, 13.05s/link]"
     ]
    },
    {
     "name": "stdout",
     "output_type": "stream",
     "text": [
      "Like Count: 0\n",
      "Description Text: #nct127 \n",
      "#FactCheck \n",
      "#TAEYONG\n"
     ]
    },
    {
     "name": "stderr",
     "output_type": "stream",
     "text": [
      "Processing Links:  27%|██▋       | 122/444 [25:31<1:09:30, 12.95s/link]"
     ]
    },
    {
     "name": "stdout",
     "output_type": "stream",
     "text": [
      "Like Count: 7\n",
      "Description Text: #오마이걸 \n",
      "\n",
      "Busan One Asia Festival (BOF) 2023 \n",
      "#부산원아시아페스티벌\n",
      "Saturday, 21 October 2023\n",
      "Busan Asiad Main Stadium, Busan, Korea\n",
      "\n",
      "Thank you for watching!\n",
      "\n",
      "Instagram : @yutikamelia\n"
     ]
    },
    {
     "name": "stderr",
     "output_type": "stream",
     "text": [
      "Processing Links:  28%|██▊       | 123/444 [25:43<1:08:43, 12.85s/link]"
     ]
    },
    {
     "name": "stdout",
     "output_type": "stream",
     "text": [
      "좋아요 수 텍스트를 가져오는 중 오류 발생: Message: no such element: Unable to locate element: {\"method\":\"css selector\",\"selector\":\".yt-spec-button-shape-next--icon-leading[aria-label^=\"나 외에 사용자\"]\"}\n",
      "  (Session info: chrome=123.0.6312.123); For documentation on this error, please visit: https://www.selenium.dev/documentation/webdriver/troubleshooting/errors#no-such-element-exception\n",
      "Stacktrace:\n",
      "\tGetHandleVerifier [0x00007FF61D717032+63090]\n",
      "\t(No symbol) [0x00007FF61D682C82]\n",
      "\t(No symbol) [0x00007FF61D51EC65]\n",
      "\t(No symbol) [0x00007FF61D56499D]\n",
      "\t(No symbol) [0x00007FF61D564ADC]\n",
      "\t(No symbol) [0x00007FF61D5A5B37]\n",
      "\t(No symbol) [0x00007FF61D58701F]\n",
      "\t(No symbol) [0x00007FF61D5A3412]\n",
      "\t(No symbol) [0x00007FF61D586D83]\n",
      "\t(No symbol) [0x00007FF61D5583A8]\n",
      "\t(No symbol) [0x00007FF61D559441]\n",
      "\tGetHandleVerifier [0x00007FF61DB125AD+4238317]\n",
      "\tGetHandleVerifier [0x00007FF61DB4F70D+4488525]\n",
      "\tGetHandleVerifier [0x00007FF61DB479EF+4456495]\n",
      "\tGetHandleVerifier [0x00007FF61D7F0576+953270]\n",
      "\t(No symbol) [0x00007FF61D68E54F]\n",
      "\t(No symbol) [0x00007FF61D689224]\n",
      "\t(No symbol) [0x00007FF61D68935B]\n",
      "\t(No symbol) [0x00007FF61D679B94]\n",
      "\tBaseThreadInitThunk [0x00007FFFE7CF257D+29]\n",
      "\tRtlUserThreadStart [0x00007FFFE8EAAA48+40]\n",
      "\n",
      "Like Count: 0\n",
      "Description Text: ファンミ終わって自宅からインスタライブ✨\n",
      "\n",
      "ありがとう🥰💕\n",
      "\n",
      "\n",
      "#김규종 \n",
      "#kimkyujong \n",
      "#キムキュジョン\n"
     ]
    },
    {
     "name": "stderr",
     "output_type": "stream",
     "text": [
      "Processing Links:  28%|██▊       | 124/444 [25:56<1:07:54, 12.73s/link]"
     ]
    },
    {
     "name": "stdout",
     "output_type": "stream",
     "text": [
      "Like Count: 12\n",
      "Description Text: \n"
     ]
    },
    {
     "name": "stderr",
     "output_type": "stream",
     "text": [
      "Processing Links:  28%|██▊       | 125/444 [26:11<1:11:29, 13.45s/link]"
     ]
    },
    {
     "name": "stdout",
     "output_type": "stream",
     "text": [
      "Like Count: 545\n",
      "Description Text: 부산 원아시아페스티벌 BOF (161001) - 방탄소년단 불타오르네 (fire) 직캠 (응원 생목주의 !)\n"
     ]
    },
    {
     "name": "stderr",
     "output_type": "stream",
     "text": [
      "Processing Links:  28%|██▊       | 126/444 [26:24<1:10:04, 13.22s/link]"
     ]
    },
    {
     "name": "stdout",
     "output_type": "stream",
     "text": [
      "Like Count: 1\n",
      "Description Text: 【チャンネル登録】\n",
      "   / @gotabloid3458  \n",
      "【関連動画】\n",
      "[BANGTAN BOMB] '작은 것들을 위한 시 (Boy With Luv)' Dance Practice (Eye contact ver.) - BTS (방탄소년단)\n",
      "   • [BANGTAN BOMB] '작은 것들을 위한 시 (Boy With...  \n",
      "BTS (방탄소년단) '작은 것들을 위한 시 (Boy With Luv) feat. Halsey' Official MV\n",
      "   • BTS (방탄소년단) '작은 것들을 위한 시 (Boy With Lu...  \n",
      "[CHOREOGRAPHY] BTS (방탄소년단) 'Dionysus' Dance Practice\n",
      "   • [CHOREOGRAPHY] BTS (방탄소년단) 'Dionysus'...  \n",
      "＃BTS　＃防弾少年団\n"
     ]
    },
    {
     "name": "stderr",
     "output_type": "stream",
     "text": [
      "Processing Links:  29%|██▊       | 127/444 [26:36<1:08:57, 13.05s/link]"
     ]
    },
    {
     "name": "stdout",
     "output_type": "stream",
     "text": [
      "Like Count: 24\n",
      "Description Text: 天！現場版就是不一樣！！ＸＤ\n"
     ]
    },
    {
     "name": "stderr",
     "output_type": "stream",
     "text": [
      "Processing Links:  29%|██▉       | 128/444 [26:49<1:07:39, 12.85s/link]"
     ]
    },
    {
     "name": "stdout",
     "output_type": "stream",
     "text": [
      "Like Count: 2\n",
      "Description Text: Follow my account in musical.ly:@zarasophia1216\n"
     ]
    },
    {
     "name": "stderr",
     "output_type": "stream",
     "text": [
      "Processing Links:  29%|██▉       | 129/444 [27:02<1:07:31, 12.86s/link]"
     ]
    },
    {
     "name": "stdout",
     "output_type": "stream",
     "text": [
      "Like Count: 1\n",
      "Description Text: こんにちは、2013年11月30日から2014年1月5日まで、釜山市中区光復路一帯で開催されます。\n"
     ]
    },
    {
     "name": "stderr",
     "output_type": "stream",
     "text": [
      "Processing Links:  29%|██▉       | 130/444 [27:14<1:07:09, 12.83s/link]"
     ]
    },
    {
     "name": "stdout",
     "output_type": "stream",
     "text": [
      "Like Count: 0\n",
      "Description Text: ネットビジネス裁判官のブログはこちら\n",
      "→ http://bakuronet.com/?p=2205\n",
      "\n",
      "７日間だけのネット通信無料講座はこちら\n",
      "→http://yuumiya.jewel-info.com/\n",
      "\n",
      "\n",
      "\n",
      "\n",
      "ONE ASIA PROJECT, プロダクトローンチ, レビュー, ワンアジアプロジェクト, ワンアジアプロジェクトレビュー, ワンアジアプロジェクト暴露, ワンアジアプロジェクト相談, ワンアジアプロジェクト詐欺, ワンアジアプロジェクト評価, ワンアジアプロジェクト返金, ワンアジアプロジェクト騙された, 暴露, 渡邉幸司, 渡邉幸司レビュー, 渡邉幸司暴露, 渡邉幸司相談, 渡邉幸司詐欺, 渡邉幸司評価, 渡邉幸司返金, 渡邉幸司騙された, 無料オファー, 相談, 藤本京, 詐欺, 評価, 返金, 騙された\n"
     ]
    },
    {
     "name": "stderr",
     "output_type": "stream",
     "text": [
      "Processing Links:  30%|██▉       | 131/444 [27:25<1:03:28, 12.17s/link]"
     ]
    },
    {
     "name": "stdout",
     "output_type": "stream",
     "text": [
      "좋아요 수 텍스트를 가져오는 중 오류 발생: Message: no such element: Unable to locate element: {\"method\":\"css selector\",\"selector\":\".yt-spec-button-shape-next--icon-leading[aria-label^=\"나 외에 사용자\"]\"}\n",
      "  (Session info: chrome=123.0.6312.123); For documentation on this error, please visit: https://www.selenium.dev/documentation/webdriver/troubleshooting/errors#no-such-element-exception\n",
      "Stacktrace:\n",
      "\tGetHandleVerifier [0x00007FF61D717032+63090]\n",
      "\t(No symbol) [0x00007FF61D682C82]\n",
      "\t(No symbol) [0x00007FF61D51EC65]\n",
      "\t(No symbol) [0x00007FF61D56499D]\n",
      "\t(No symbol) [0x00007FF61D564ADC]\n",
      "\t(No symbol) [0x00007FF61D5A5B37]\n",
      "\t(No symbol) [0x00007FF61D58701F]\n",
      "\t(No symbol) [0x00007FF61D5A3412]\n",
      "\t(No symbol) [0x00007FF61D586D83]\n",
      "\t(No symbol) [0x00007FF61D5583A8]\n",
      "\t(No symbol) [0x00007FF61D559441]\n",
      "\tGetHandleVerifier [0x00007FF61DB125AD+4238317]\n",
      "\tGetHandleVerifier [0x00007FF61DB4F70D+4488525]\n",
      "\tGetHandleVerifier [0x00007FF61DB479EF+4456495]\n",
      "\tGetHandleVerifier [0x00007FF61D7F0576+953270]\n",
      "\t(No symbol) [0x00007FF61D68E54F]\n",
      "\t(No symbol) [0x00007FF61D689224]\n",
      "\t(No symbol) [0x00007FF61D68935B]\n",
      "\t(No symbol) [0x00007FF61D679B94]\n",
      "\tBaseThreadInitThunk [0x00007FFFE7CF257D+29]\n",
      "\tRtlUserThreadStart [0x00007FFFE8EAAA48+40]\n",
      "\n",
      "Like Count: 0\n",
      "Description Text: \n"
     ]
    },
    {
     "name": "stderr",
     "output_type": "stream",
     "text": [
      "Processing Links:  30%|██▉       | 132/444 [27:38<1:03:55, 12.29s/link]"
     ]
    },
    {
     "name": "stdout",
     "output_type": "stream",
     "text": [
      "Like Count: 3\n",
      "Description Text: 福岡⇆釜山の2泊3日の旅行のvlogです✈️\n",
      "動画編集が初めてなので下手ですみません。\n",
      "韓国語は自動翻訳です。\n",
      "\n",
      "釜山の方がとても親切で充実した旅になりました😊\n",
      "営業時間や内容がコロナ後変わっている所が多かったです！\n",
      "\n",
      "부산사람 친절히 대해주셔서 감사합니다☺️\n"
     ]
    },
    {
     "name": "stderr",
     "output_type": "stream",
     "text": [
      "Processing Links:  30%|██▉       | 133/444 [27:51<1:04:47, 12.50s/link]"
     ]
    },
    {
     "name": "stdout",
     "output_type": "stream",
     "text": [
      "Like Count: 18\n",
      "Description Text: 場所:大田区民プラザ大ホール\n"
     ]
    },
    {
     "name": "stderr",
     "output_type": "stream",
     "text": [
      "Processing Links:  30%|███       | 134/444 [28:03<1:04:39, 12.51s/link]"
     ]
    },
    {
     "name": "stdout",
     "output_type": "stream",
     "text": [
      "Like Count: 4\n",
      "Description Text: 「釜山ワンアジアフェスティバル 2019｣開幕公演レポート\n",
      "\"Busan One Asia Festival 2019\" Opening Report\n",
      "⇒https://korealove-girls.com/29926/\n"
     ]
    },
    {
     "name": "stderr",
     "output_type": "stream",
     "text": [
      "Processing Links:  30%|███       | 135/444 [28:16<1:04:28, 12.52s/link]"
     ]
    },
    {
     "name": "stdout",
     "output_type": "stream",
     "text": [
      "Like Count: 1\n",
      "Description Text: BIFF 광장 근처 맛집 디자트 가계가 있다고 해서 다녀왔습니다.\n",
      "\n",
      "-클라우드 밤 카페\n",
      "독창적인 스위트는 외모도 최고! 맛도 최고였습니다.\n",
      "부산 중구 중구로 6 번길 6-1\n",
      "부산시 중구 중구로 6 번 킬 6-1\n",
      "051-245-2369\n",
      "영업 시간 12 : 00 ~ 23 : 00 Last order 22:00\n",
      "부산 지하철 7 번 출구에서 도보 10 분\n",
      "MEGABOX 부산 극장 신관 뒷골목 / ARTBOX 점포 옆의 길을 들어간다\n",
      "\n",
      "[Follow me on SNS]\n",
      "• FACEBOOK　 \n",
      "  / busansarang  \n",
      "• 부산한일교류회그룹)\n",
      "  / 585987878233454  \n",
      "• 부산정보교환그룹\n",
      "  / you.and.busan  \n",
      "• 부산사랑HP　https://busansaran.com/\n",
      "\n",
      "© CJ E & M CORPORATION\n"
     ]
    },
    {
     "name": "stderr",
     "output_type": "stream",
     "text": [
      "Processing Links:  31%|███       | 136/444 [28:28<1:03:57, 12.46s/link]"
     ]
    },
    {
     "name": "stdout",
     "output_type": "stream",
     "text": [
      "Like Count: 87\n",
      "Description Text: 年間30ヵ国 を旅するジョージが世界でみつけた「アナタのオアシス」をお届けします！\n",
      "http://a139.jp/ktj\n",
      "（ジョージ・ブログ：旅ライフのつくりかた） \n",
      "チャンネル登録をお願いします！→　https://goo.gl/JEptUV\n",
      "\n",
      "\n",
      "\n",
      "\n",
      "\n",
      "（おススメ動画集：ベトナム・ダナン）\n",
      "【大事なお知らせ】ベトナムフェスin代々木公園\n",
      "   • 동영상  \n",
      "ベトナムフェスティバル2016　Love VIETNAM SHOW　2016.6.12\n",
      "   • ベトナムフェスティバル2016　Love VIETNAM SHOW　201...  \n",
      "【４Ｋ】ベトナムフェスティバル2017　アオザイショー  VIETNAM FESTIVAL2017 Áo dài show\n",
      "   • 【４Ｋ】ベトナムフェスティバル2017　アオザイショー  VIETNAM ...  \n",
      "時東ぁみ　2017.6.11　ベトナムフェスティバル　代々木公園イベント広場\n",
      "   • 時東ぁみ　2017.6.11　ベトナムフェスティバル　代々木公園イベント広場  \n",
      "ベトナムフェスティバル2016 　アオザイショー\n",
      "   • 동영상  \n",
      "ベトナムフェスティバル２０１６\n",
      "   • 동영상  \n",
      "サンプラザ中野くん＆パッパラー河合　ベトナムフェスティバル2016\n",
      "   • サンプラザ中野くん＆パッパラー河合　ベトナムフェスティバル2016  \n",
      "ベトナムフェスで買った食材で料理してみようっと！\n",
      "   • ベトナムフェスで買った食材で料理してみようっと！  \n",
      "ベトナムフェスティバル2017　アオザイの美\n",
      "   • ベトナムフェスティバル2017　アオザイの美  \n",
      "2016東京ベトナムフェス\n",
      "   • 동영상  \n",
      "【従軍カメラマンプレイ15】サバゲ みんなの森 2017.10.01【ベトナムフェス】\n",
      "   • 【従軍カメラマンプレイ15】サバゲ みんなの森 2017.10.01【ベト...  \n",
      "ベトナムフェス！日本でベトナム文化を体験！\n",
      "   • 동영상  \n",
      "時東ぁみ　ベトナムフェスティバル2016\n",
      "   • 時東ぁみ　ベトナムフェスティバル2016  \n",
      "Vietnam Festival 2010 in Tokyo Japan / Part１★ ao dai（アオザイ）・xich-lo（シクロ）\n",
      "   • Vietnam Festival 2010 in Tokyo Japan ...  \n",
      "ベトナムフェスティバル2017～東京ベトナム学校\n",
      "   • ベトナムフェスティバル2017～東京ベトナム学校  \n",
      "Hồ Quỳnh Hương ベトナムフェスティバル2017\n",
      "   • 동영상  \n",
      "仙台貨物 イガグリ千葉　in　ベトナムフェスティバル　2015　栗原\n",
      "   • 仙台貨物 イガグリ千葉　in　ベトナムフェスティバル　2015　栗原  \n",
      "ベトナムフェスin代々木公園\n",
      "   • ベトナムフェスin代々木公園  \n",
      "20150614　ベトナムフェス2015　「Runner」　ランナーベトナムフェス2015Ver. 　爆風スランプ\n",
      "   • 20150614　ベトナムフェス2015　「Runner」　ランナーベトナ...  \n",
      "【4K】ベトナムフェスティバル2017 - アオザイショーP2\n",
      "   • 동영상  \n",
      "SNH48 Team HII 2016アジア・ミュージックフェス in 上海碧海金沙 20160821\n",
      "   • 동영상  \n",
      "林檎フェス\n",
      "   • 林檎フェス  \n",
      "061016 Mnet 2016 アジアソングフェスティバル 片平里菜 - 女の子は泣かない\n",
      "   • 061016 Mnet 2016 아시아 송 페스티벌 - 카타히라 리나...  \n",
      "アンジュルム スポーツ・オブ・ハート ミュージックフェス2016\n",
      "   • アンジュルム スポーツ・オブ・ハート ミュージックフェス2016  \n",
      "Asia Song Festival AKB48\n",
      "   • Asia Song Festival AKB48  \n",
      "ゆめ観音アジアフェスティバル記録\n",
      "   • ゆめ観音アジアフェスティバル記録  \n",
      "アジア文化フェスティバル in 韓国\n",
      "   • アジア文化フェスティバル in 韓国  \n",
      "欅坂46 初フェスにドキドキ！AAA 高橋みなみ「がんばろう！九州ハウステンボスMUSIC FES」\n",
      "   • 동영상  \n",
      "【超楽しんだ！】韓国2017釜山ワンアジアフェスティバル開幕コンサートに行ってみた。踊ってみた。\n",
      "   • 【韓国】2017釜山ワンアジアフェスティバル開幕コンサートに行った！踊った！  \n",
      "ドキュメンタリーCM『橋の下世界音楽祭～SOUL BEAT ASIA～』\n",
      "   • ドキュメンタリーCM『橋の下世界音楽祭～SOUL BEAT ASIA～』  \n",
      "アジア・シルクロード音楽フェスティバル笛と太鼓の祭典ー第８回愛川町音楽祭\n",
      "   • アジア・シルクロード音楽フェスティバル笛と太鼓の祭典ー第８回愛川町音楽祭  \n",
      "イトゥク×片平里菜×Yuta～2016 Asia song festival\n",
      "   • イトゥク×片平里菜×Yuta～2016 Asia song festival  \n",
      "【瞑想・癒し・ヒーリング用音楽】バリ瞑想　神の国バリで心を鎮める\n",
      "   • 동영상  \n",
      "【作業用BGM】癒し…中国アジア民族音楽に美しい歌声をのせて♪\n",
      "   • 동영상  \n",
      "日本最大級フェス！ROCK IN JAPAN 2017\n",
      "   • 동영상  \n",
      "桑田・B&#39;z・ゆずが大熱唱！最大級夏フェス！ROCK IN JAPAN 2017\n",
      "   • 동영상  \n",
      "2015年6月20日世界さまぁ～リゾート　ベトナム・ダナンSP\n",
      "   • 동영상  \n",
      "H.I.S.が語るベトナムのリゾート「ダナン」の魅力\n",
      "   • H.I.S.が語るベトナムのリゾート「ダナン」の魅力  \n",
      "ダナンの楽しみ方 観光＆スパ編\n",
      "   • ダナンの楽しみ方 観光＆スパ編  \n",
      "ダナンの街を歩きながらお土産探し（ハン市場/Pheva ChocolateDanang/Souvenirs &amp; Cafe）\n",
      "   • ダナンの街を歩きながらお土産探し（ハン市場/Pheva Chocolate...  \n",
      "ベトナム ダナンへの旅 A trip to Da Nang Vietnam.\n",
      "   • ベトナム ダナンへの旅 Traveling to Da Nang Viet...  \n",
      "ムムム♪ ベトナム♪ 新発見♪　②ダナン編（後編）\n",
      "   • ムムム♪ ベトナム♪ 新発見♪　②ダナン編（後編）｜ ソフトバンクニュース  \n",
      "Vlog #5　【前編】ダナン行ってきた！\n",
      "   • Vlog #5　【前編】ダナン行ってきた！  \n",
      "旅サラダ　ベトナム中部　ダナン\n",
      "   • 동영상  \n",
      "【まるで南国リゾート】ベトナム・ダナンの街並みと海\n",
      "   • 동영상  \n",
      "Vlog #6　【後編】ダナン行ってきた！\n",
      "   • Vlog #6　【後編】ダナン行ってきた！  \n",
      "2015年7月4日　世界さまぁ～リゾート　ベトナム 最新リゾートSP！\n",
      "   • 동영상  \n",
      "ダナン　Bar &amp; Lounge Passion\n",
      "   • ダナン　Bar & Lounge Passion  \n",
      "【べトナム】海まで５分！安飯屋も多し！ダナンの安宿を紹介します！\n",
      "   • 【べトナム】海まで５分！安飯屋も多し！ダナンの安宿を紹介します！  \n",
      "Michelley ダナンへ行く！の巻 その４ ダナンのグルメを大満喫☆\n",
      "   • 동영상  \n",
      "【ダナン】絶景！山登りに洞窟も楽しい！マーブルマウンテン（五行山 ）\n",
      "   • 【ダナン】絶景！山登りに洞窟も楽しい！マーブルマウンテン（五行山 ）  \n",
      "ＨＩＳで行くベトナム　中部ダナン・フエ\n",
      "   • 동영상  \n",
      "成田発！ベトナム航空で行くダナンの旅（成田-ダナン空港-フラマリゾート）\n",
      "   • 成田発！ベトナム航空で行くダナンの旅（成田-ダナン空港-フラマリゾート）  \n",
      "ダナン名物「ミークアン」を食べてみた　（Mi Quang 1A）\n",
      "   • ダナン名物「ミークアン」を食べてみた　（Mi Quang 1A）  \n"
     ]
    },
    {
     "name": "stderr",
     "output_type": "stream",
     "text": [
      "Processing Links:  31%|███       | 137/444 [28:39<1:01:51, 12.09s/link]"
     ]
    },
    {
     "name": "stdout",
     "output_type": "stream",
     "text": [
      "좋아요 수 텍스트를 가져오는 중 오류 발생: Message: no such element: Unable to locate element: {\"method\":\"css selector\",\"selector\":\".yt-spec-button-shape-next--icon-leading[aria-label^=\"나 외에 사용자\"]\"}\n",
      "  (Session info: chrome=123.0.6312.123); For documentation on this error, please visit: https://www.selenium.dev/documentation/webdriver/troubleshooting/errors#no-such-element-exception\n",
      "Stacktrace:\n",
      "\tGetHandleVerifier [0x00007FF61D717032+63090]\n",
      "\t(No symbol) [0x00007FF61D682C82]\n",
      "\t(No symbol) [0x00007FF61D51EC65]\n",
      "\t(No symbol) [0x00007FF61D56499D]\n",
      "\t(No symbol) [0x00007FF61D564ADC]\n",
      "\t(No symbol) [0x00007FF61D5A5B37]\n",
      "\t(No symbol) [0x00007FF61D58701F]\n",
      "\t(No symbol) [0x00007FF61D5A3412]\n",
      "\t(No symbol) [0x00007FF61D586D83]\n",
      "\t(No symbol) [0x00007FF61D5583A8]\n",
      "\t(No symbol) [0x00007FF61D559441]\n",
      "\tGetHandleVerifier [0x00007FF61DB125AD+4238317]\n",
      "\tGetHandleVerifier [0x00007FF61DB4F70D+4488525]\n",
      "\tGetHandleVerifier [0x00007FF61DB479EF+4456495]\n",
      "\tGetHandleVerifier [0x00007FF61D7F0576+953270]\n",
      "\t(No symbol) [0x00007FF61D68E54F]\n",
      "\t(No symbol) [0x00007FF61D689224]\n",
      "\t(No symbol) [0x00007FF61D68935B]\n",
      "\t(No symbol) [0x00007FF61D679B94]\n",
      "\tBaseThreadInitThunk [0x00007FFFE7CF257D+29]\n",
      "\tRtlUserThreadStart [0x00007FFFE8EAAA48+40]\n",
      "\n",
      "Like Count: 0\n",
      "Description Text: FRF'16 第6弾ラインナップ発表！\n",
      "\n",
      "BIFFY CLYRO、THE AVALANCHES、UA and more！フジロックまであと３ヶ月・・・！今回新\n",
      "たに１１組の出演アーティストが決定！　　　　　\n",
      "\n",
      "ただいまチケット２次先行販売中！20周年プラン！早く買うほどリーズナブル！お得な2日\n",
      "券も登場！中学生以下無料！売り切れ次第終了となるのでお求めはお早めに！\n",
      "\n",
      "オフィシャルツアーも受付中！\n",
      "\n",
      "7月22日（金）23日（土）24日（日）新潟県 湯沢町 苗場スキー場\n",
      "http://www.fujirockfestival.com\n"
     ]
    },
    {
     "name": "stderr",
     "output_type": "stream",
     "text": [
      "Processing Links:  31%|███       | 138/444 [28:52<1:02:17, 12.21s/link]"
     ]
    },
    {
     "name": "stdout",
     "output_type": "stream",
     "text": [
      "Like Count: 4\n",
      "Description Text: #원아시아페스티벌 #nct127 #엔시티127\n"
     ]
    },
    {
     "name": "stderr",
     "output_type": "stream",
     "text": [
      "Processing Links:  31%|███▏      | 139/444 [29:04<1:02:23, 12.27s/link]"
     ]
    },
    {
     "name": "stdout",
     "output_type": "stream",
     "text": [
      "Like Count: 1\n",
      "Description Text: 161023 부산 원아시아 페스티벌 폐막식 방탄소년단(BTS) - 피 땀 눈물 (지민위주)\n",
      "※Do not re-uproad\n"
     ]
    },
    {
     "name": "stderr",
     "output_type": "stream",
     "text": [
      "Processing Links:  32%|███▏      | 140/444 [29:17<1:02:35, 12.35s/link]"
     ]
    },
    {
     "name": "stdout",
     "output_type": "stream",
     "text": [
      "Like Count: 149\n",
      "Description Text: #보나보나 #BOF #원아페\n"
     ]
    },
    {
     "name": "stderr",
     "output_type": "stream",
     "text": [
      "Processing Links:  32%|███▏      | 141/444 [29:29<1:02:42, 12.42s/link]"
     ]
    },
    {
     "name": "stdout",
     "output_type": "stream",
     "text": [
      "Like Count: 164\n",
      "Description Text: \n"
     ]
    },
    {
     "name": "stderr",
     "output_type": "stream",
     "text": [
      "Processing Links:  32%|███▏      | 142/444 [29:42<1:02:54, 12.50s/link]"
     ]
    },
    {
     "name": "stdout",
     "output_type": "stream",
     "text": [
      "Like Count: 2\n",
      "Description Text: 드디어 와보이소 부산 모임 날짜가 정해졌습니다!\n",
      "\n",
      "버스투어를 한지 6개월이 지나가, 드디어 시창자분들을 뵐 수 있으니 저희 멤버들도 기대하고 있어요♪\n",
      "\n",
      "여러분이 재미있게 크리스마스 파티에 참여해 주실 수 있도록 준비를 많이 해서 부산에서 디라릴게요☆\n",
      "\n",
      "～외보이소 부산 크리스마스 파티～\n",
      "날짜:12월22일(토)\n",
      "장소:부산 서면(따로 연락드립니다)\n",
      "비용: 성인 3만 원 / 고・대학생 만 원/ 중학생 이하 무료\n",
      "나이는 상관없이 한 명 한 개 만 원정도의 선물을 준비해서 와 주세요!!\n",
      "\n",
      "\n",
      "韓国釜山に住む日本人が韓国や釜山の魅力をお届けしています！\n",
      "부산 거주 일본인들이 부산 매력을 전달하는 채널입니다!\n",
      "\n",
      "動画を見て気に入って頂ければ、高評価＆チャンネル登録していただけると励みになります。\n",
      "영상을 재미있게 보셨으면 좋아요 및 구독 눌러주시면 힘이 됩니다.\n",
      "\n",
      "\n",
      "【facebookグループ】\n",
      "「わぼいそ釜山」釜山愛を語ろう！\n",
      "  / you.and.busan  \n",
      "釜山の情報をたくさんの人と共有できるグループです。\n",
      "釜山に関するご質問は、こちらへ♪♪\n",
      "\n",
      "【Instagram】\n",
      "釜山の情報を写真でお届け♪\n",
      "  / waboiso_busan  \n",
      "【Twitter】\n",
      "公式&各メンバーのフォローお願いします！\n",
      "公式 \n",
      "  / waboiso_busan  \n",
      "ゆう \n",
      "  / waboiso_yuu  \n",
      "まな \n",
      "  / waboiso_mana  \n",
      "ももか \n",
      "  / waboiso_momoka  \n",
      "れいみ \n",
      "  / waboiso_reimi  \n",
      "まり \n",
      "  / waboiso_mariiii  \n",
      "社長 \n",
      "  / waboiso_kon  \n",
      "ゆうじ \n",
      "  / waboiso_yuji  \n",
      "【わぼいそ釜山公式LINE】\n",
      "http://line.me/ti/p/%40cja8662k\n",
      "LINE:@waboiso　（＠から入力してください）\n",
      "\n",
      "【字幕協力(자막 협조)】\n",
      "日本語、韓国語etcの字幕協力をしてくださる方はこちらよりお願いいたします↓↓\n",
      "자막 협조해주실 분은 아래 링크에서 해주시면 정말 감사합니다^^\n",
      "http://www.youtube.com/timedtext_cs_p...\n"
     ]
    },
    {
     "name": "stderr",
     "output_type": "stream",
     "text": [
      "Processing Links:  32%|███▏      | 143/444 [29:56<1:05:00, 12.96s/link]"
     ]
    },
    {
     "name": "stdout",
     "output_type": "stream",
     "text": [
      "Like Count: 285\n",
      "Description Text: \n"
     ]
    },
    {
     "name": "stderr",
     "output_type": "stream",
     "text": [
      "Processing Links:  32%|███▏      | 144/444 [30:09<1:04:27, 12.89s/link]"
     ]
    },
    {
     "name": "stdout",
     "output_type": "stream",
     "text": [
      "Like Count: 0\n",
      "Description Text: \n"
     ]
    },
    {
     "name": "stderr",
     "output_type": "stream",
     "text": [
      "Processing Links:  33%|███▎      | 145/444 [30:22<1:04:16, 12.90s/link]"
     ]
    },
    {
     "name": "stdout",
     "output_type": "stream",
     "text": [
      "Like Count: 11\n",
      "Description Text: \n"
     ]
    },
    {
     "name": "stderr",
     "output_type": "stream",
     "text": [
      "Processing Links:  33%|███▎      | 146/444 [30:34<1:03:44, 12.83s/link]"
     ]
    },
    {
     "name": "stdout",
     "output_type": "stream",
     "text": [
      "Like Count: 1\n",
      "Description Text: まだ未完成ですが・・・\n"
     ]
    },
    {
     "name": "stderr",
     "output_type": "stream",
     "text": [
      "Processing Links:  33%|███▎      | 147/444 [30:47<1:03:08, 12.75s/link]"
     ]
    },
    {
     "name": "stdout",
     "output_type": "stream",
     "text": [
      "Like Count: 2\n",
      "Description Text: この動画は、\n",
      "預け荷物なしのＬＣＣチケットを速攻でポチり、\n",
      "鞄ひとつで行ってきただけの動画です。\n",
      "一人あたり約２万円で行けました（ＬＣＣとＨＯＴＥＬ）。\n",
      "帰りの荷物はパンパンになりました。\n",
      "ちなみにシティツアーバスは昼と夜の二回乗りました。\n",
      "ドライブレコーダーみたいになってしまいました。\n",
      "あとはいつもの離着陸があります。\n",
      "長いです。\n",
      "\n",
      "免疫のない方、ブラウザバック推奨。\n",
      "抗体のある方、ゆっくりしてってね～！\n"
     ]
    },
    {
     "name": "stderr",
     "output_type": "stream",
     "text": [
      "Processing Links:  33%|███▎      | 148/444 [31:00<1:02:57, 12.76s/link]"
     ]
    },
    {
     "name": "stdout",
     "output_type": "stream",
     "text": [
      "Like Count: 7\n",
      "Description Text: \n"
     ]
    },
    {
     "name": "stderr",
     "output_type": "stream",
     "text": [
      "Processing Links:  34%|███▎      | 149/444 [31:12<1:02:36, 12.73s/link]"
     ]
    },
    {
     "name": "stdout",
     "output_type": "stream",
     "text": [
      "Like Count: 16\n",
      "Description Text: 운명이라는 길을 걷고 있을까\n",
      "\n",
      "#소정환 #정환 #TREASURE #트레저 #SOJUNGHWAN #완벽폭풍소정환\n"
     ]
    },
    {
     "name": "stderr",
     "output_type": "stream",
     "text": [
      "Processing Links:  34%|███▍      | 150/444 [31:25<1:01:45, 12.60s/link]"
     ]
    },
    {
     "name": "stdout",
     "output_type": "stream",
     "text": [
      "Like Count: 76\n",
      "Description Text: 3月の대구での桜まつりジェジュン。\n",
      "さくらに包まれたイメージで作ってみました。\n",
      "只今、練習中( v^-゜)♪  \n",
      "動画お借りしました。いつもありがとうございます。\n"
     ]
    },
    {
     "name": "stderr",
     "output_type": "stream",
     "text": [
      "Processing Links:  34%|███▍      | 151/444 [31:37<1:01:52, 12.67s/link]"
     ]
    },
    {
     "name": "stdout",
     "output_type": "stream",
     "text": [
      "Like Count: 13\n",
      "Description Text: キム・キュジョン（Double S 301）ファンミーティング開催！\n",
      "キム・キュジョン FANMEETING IN TOKYO ～キセキ～\n",
      "チケット好評発売中！\n",
      "\n",
      "公演日：2016/11/30（水）\n",
      "会　場：新宿文化センター　大ホール（東京都）\n",
      "\n",
      "お求めはこちらから！\n",
      "http://l-tike.com/search/?lcd=74723\n"
     ]
    },
    {
     "name": "stderr",
     "output_type": "stream",
     "text": [
      "Processing Links:  34%|███▍      | 152/444 [31:50<1:01:40, 12.67s/link]"
     ]
    },
    {
     "name": "stdout",
     "output_type": "stream",
     "text": [
      "Like Count: 5\n",
      "Description Text: 부산시 서구 송도\n",
      "송도 케이블카\n",
      "\n",
      "[Follow me on SNS]\n",
      "• FACEBOOK　 \n",
      "  / busansarang  \n",
      "• 부산한일교류회그룹 \n",
      "  / 585987878233454  \n",
      "• 부산정보교환그룹\n",
      "  / you.and.busan  \n",
      "• 부산사랑HP　https://busansaran.com/\n"
     ]
    },
    {
     "name": "stderr",
     "output_type": "stream",
     "text": [
      "Processing Links:  34%|███▍      | 153/444 [32:02<1:01:02, 12.58s/link]"
     ]
    },
    {
     "name": "stdout",
     "output_type": "stream",
     "text": [
      "Like Count: 186\n",
      "Description Text: ⬇️旅行予定のある方必見‼️国内外のアミューズメント全て５％オフチケット\n",
      "https://www.klook.com/ja/\n",
      "クーポンコード➡️HARU5OFF\n",
      "⬇️おすすめeSIM\n",
      "海外旅行をするなら無制限でデータ使い放題のHolaflyのeSIMがオススメ！\n",
      "クーポンコード：HARUDAILY\n",
      "https://esim.holafly.com/ja/?ref=ztrh...\n",
      "\n",
      "⬇︎無料で作れる楽天カード\n",
      "海外旅行保険や貯まったポイントを有効活用できるのでとても便利です。ぜひご活用ください♪【紹介経由で6,000ポイントゲット】\n",
      "https://r10.to/hYUJKd\n",
      "⬇︎海外でもそのまま使える楽天モバイルはこちら【紹介経由で13,000ポイントゲット】https://r10.to/hUwHd0\n",
      "\n",
      "⬇︎旅行好きの為の最強クレジットカード\n",
      "マリオットボンヴォイ・アメックスはお得なホテルステイやマイルを貯めたい方に1番おすすめのクレジットカードです！こちらの紹介経由のお申し込みで【最大45,000ポイントゲット】できます。\n",
      "https://haru-tokoteko.com/marriott-am...\n",
      "\n",
      "✈️楽天ROOMにおすすめ旅行グッズまとめています\n",
      "https://room.rakuten.co.jp/room_harud...\n",
      "🍩メンバーシップはこちらから\n",
      "   / @haru_daily  \n",
      "🌼Haru DailyのLINEスタンプはこちら\n",
      "https://line.me/S/shop/sticker/author...\n",
      "🎵音楽はArtlistを使用しています\n",
      "https://artlist.io/Daily-3055762\n",
      "\n",
      "SNSもぜひフォローしてね！\n",
      "YouTube : \n",
      "   / @haru_daily  \n",
      "Instagram：https://www.instagram.com/_haru_daily...\n",
      "Twitter：\n",
      "  / _haru_daily_  \n",
      "ブログ：https://haru-tokoteko.com\n",
      "TikTok：\n",
      "  / _haru_daily_  \n",
      "お仕事のご依頼はこちら\n",
      "メールアドレス：harudaily.donut@gmail.com\n",
      "ホテルやエアライン等旅行に関することや、その他様々なジャンルのご依頼お待ちしております！\n",
      "\n",
      "⬇️Amazonと楽天の広告リンクになります。\n",
      "楽天：https://a.r10.to/hMY73o\n",
      "楽天トラベル：https://a.r10.to/hUGDNx\n",
      "Amazon : https://amzn.to/43EPGCA\n",
      "こちらのリンクからお買い物をして頂くと、売り上げの１〜３％が収入になりますので動画制作の費用にさせていただきます。\n",
      "\n",
      "【使用機材】\n",
      "カメラ：https://amzn.to/3uQUIPI\n",
      "\n",
      "#韓国 #釜山 #食べ歩き #爆食 #チャガルチ市場 #国際市場 #BIFF広場 #富平カントン市場 #屋台\n"
     ]
    },
    {
     "name": "stderr",
     "output_type": "stream",
     "text": [
      "Processing Links:  35%|███▍      | 154/444 [32:20<1:08:00, 14.07s/link]"
     ]
    },
    {
     "name": "stdout",
     "output_type": "stream",
     "text": [
      "Like Count: 796\n",
      "Description Text: \n"
     ]
    },
    {
     "name": "stderr",
     "output_type": "stream",
     "text": [
      "Processing Links:  35%|███▍      | 155/444 [32:33<1:05:49, 13.66s/link]"
     ]
    },
    {
     "name": "stdout",
     "output_type": "stream",
     "text": [
      "Like Count: 0\n",
      "Description Text: PENTAGON シノンさんの\n",
      "魅力をぎゅっと詰め込んだ動画です🐰💛\n",
      "\n",
      "\n",
      " #신원  #SHINWON \n",
      " #펜타곤  #PENTAGON\n"
     ]
    },
    {
     "name": "stderr",
     "output_type": "stream",
     "text": [
      "Processing Links:  35%|███▌      | 156/444 [32:45<1:04:18, 13.40s/link]"
     ]
    },
    {
     "name": "stdout",
     "output_type": "stream",
     "text": [
      "Like Count: 19\n",
      "Description Text: 2017年最後のわぼいそです！！\n",
      "みなさん良いお年を～！！\n",
      "そして、2018年もよろしくお願いします^^\n",
      "\n",
      "크라운스트라이크볼링장(クラウンストライクボウリング場)\n",
      "부산시 부산진구 중앙대로691번길 32\n",
      "釜山市 釜山鎮区 中央大路691番キル32\n",
      "電話番号:051-804-7844\n",
      "平日昼 1人　4000w\n",
      "平日夜間(18時以降) 1人　5000w\n",
      "週末 1人　5000w\n",
      "\n",
      "\n",
      "韓国釜山に住む日本人が韓国や釜山の魅力をお届けしています！\n",
      "부산 거주 일본인들이 부산 매력을 전달하는 채널입니다!\n",
      "\n",
      "動画を見て気に入って頂ければ、高評価＆チャンネル登録していただけると励みになります。\n",
      "영상을 재미있게 보셨으면 좋아요 및 구독 눌러주시면 힘이 됩니다.\n",
      "\n",
      "【わぼいそ釜山公式LINE】\n",
      "更新情報やライブ放送の案内をわぼいそ釜山公式LINE＠でご案内いたします。ご質問・ご連絡もこちらまで^^\n",
      "http://line.me/ti/p/%40cja8662k\n",
      "LINE:@waboiso　（＠から入力してください）\n",
      "\n",
      "【わぼいそ釜山公式インスタグラム】\n",
      "waboiso_busan\n",
      "こちらでも韓国・釜山の情報お届け中！\n",
      "\n",
      "【わぼいそ釜山メンバー公式ツイッター】\n",
      "ゆう @waboiso_yuu\n",
      "まな @waboiso_mana\n",
      "ももか @waboiso_momoka\n",
      "れいみ @waboiso_reimi\n",
      "まり @waboiso_mariiii\n",
      "社長 @waboiso_kon\n",
      "ゆうじ@waboiso_yuji\n",
      "こちらのフォローもよろしくお願いします☆\n"
     ]
    },
    {
     "name": "stderr",
     "output_type": "stream",
     "text": [
      "Processing Links:  35%|███▌      | 157/444 [32:58<1:02:52, 13.15s/link]"
     ]
    },
    {
     "name": "stdout",
     "output_type": "stream",
     "text": [
      "Like Count: 115\n",
      "Description Text: #쟈니 #johnny #johnnysuh #BOF #NCT127 #Kickit #영웅 #원아페 #부산원아시아페스티벌 #부산\n"
     ]
    },
    {
     "name": "stderr",
     "output_type": "stream",
     "text": [
      "Processing Links:  36%|███▌      | 158/444 [33:11<1:01:47, 12.96s/link]"
     ]
    },
    {
     "name": "stdout",
     "output_type": "stream",
     "text": [
      "Like Count: 42\n",
      "Description Text: \n"
     ]
    },
    {
     "name": "stderr",
     "output_type": "stream",
     "text": [
      "Processing Links:  36%|███▌      | 159/444 [33:24<1:01:48, 13.01s/link]"
     ]
    },
    {
     "name": "stdout",
     "output_type": "stream",
     "text": [
      "Like Count: 20\n",
      "Description Text: \n"
     ]
    },
    {
     "name": "stderr",
     "output_type": "stream",
     "text": [
      "Processing Links:  36%|███▌      | 160/444 [33:36<1:01:00, 12.89s/link]"
     ]
    },
    {
     "name": "stdout",
     "output_type": "stream",
     "text": [
      "Like Count: 5\n",
      "Description Text: 【PHOTO】SEVENTEEN「アジアソングフェスティバル」レッドカーペットに登場…輝くビジュアル Big News TV \n",
      " Reginald Reed  \n",
      "   / @reginaldreed3138  \n"
     ]
    },
    {
     "name": "stderr",
     "output_type": "stream",
     "text": [
      "Processing Links:  36%|███▋      | 161/444 [33:49<1:00:15, 12.78s/link]"
     ]
    },
    {
     "name": "stdout",
     "output_type": "stream",
     "text": [
      "Like Count: 1\n",
      "Description Text: \n"
     ]
    },
    {
     "name": "stderr",
     "output_type": "stream",
     "text": [
      "Processing Links:  36%|███▋      | 162/444 [34:01<59:46, 12.72s/link]  "
     ]
    },
    {
     "name": "stdout",
     "output_type": "stream",
     "text": [
      "Like Count: 118\n",
      "Description Text: #nct #nct127 #doyoung #jaehyun #도영 #재현 #Factcheck\n"
     ]
    },
    {
     "name": "stderr",
     "output_type": "stream",
     "text": [
      "Processing Links:  37%|███▋      | 163/444 [34:14<59:14, 12.65s/link]"
     ]
    },
    {
     "name": "stdout",
     "output_type": "stream",
     "text": [
      "Like Count: 34\n",
      "Description Text: \n"
     ]
    },
    {
     "name": "stderr",
     "output_type": "stream",
     "text": [
      "Processing Links:  37%|███▋      | 164/444 [34:27<59:02, 12.65s/link]"
     ]
    },
    {
     "name": "stdout",
     "output_type": "stream",
     "text": [
      "Like Count: 1\n",
      "Description Text: ユウトの作った曲の中で1番好きです☺️\n",
      "https://soundcloud.app.goo.gl/gdcjZC4...\n",
      "\n",
      "✏︎ ------------------------------------------------------- ☺︎\n",
      "\n",
      "#ペンタゴン #PENTAGON #YUTO \n",
      "#ユト #유토 #yuto #유토 \n",
      "#傷 #フイ #후이 #hui #キノ #키노 #kino #ひょんぐ \n",
      "#ウソク #우석 #wooseok #うゆ\n"
     ]
    },
    {
     "name": "stderr",
     "output_type": "stream",
     "text": [
      "Processing Links:  37%|███▋      | 165/444 [34:39<58:21, 12.55s/link]"
     ]
    },
    {
     "name": "stdout",
     "output_type": "stream",
     "text": [
      "Like Count: 238\n",
      "Description Text: \n"
     ]
    },
    {
     "name": "stderr",
     "output_type": "stream",
     "text": [
      "Processing Links:  37%|███▋      | 166/444 [34:51<57:50, 12.48s/link]"
     ]
    },
    {
     "name": "stdout",
     "output_type": "stream",
     "text": [
      "Like Count: 5\n",
      "Description Text: \n"
     ]
    },
    {
     "name": "stderr",
     "output_type": "stream",
     "text": [
      "Processing Links:  38%|███▊      | 167/444 [35:04<57:50, 12.53s/link]"
     ]
    },
    {
     "name": "stdout",
     "output_type": "stream",
     "text": [
      "Like Count: 1\n",
      "Description Text: ついに日本進出！\n",
      "Mnetが大推薦するボーイズグループVIXXの魅力をたっぷり紹介する「VIXX File」。\n",
      "6月18日(火)から放送スタート！\n",
      "(火)午後11:45～深夜0:00\n",
      "\n",
      "【再放送】\n",
      "(日)深夜0:45～1:00　、(月)午後3:45～4:00\n",
      "\n",
      "【番組HP】\n",
      "http://jp.mnet.com/program/main.m?pro...\n",
      "\n",
      "※転載禁止\n"
     ]
    },
    {
     "name": "stderr",
     "output_type": "stream",
     "text": [
      "Processing Links:  38%|███▊      | 168/444 [35:16<57:28, 12.49s/link]"
     ]
    },
    {
     "name": "stdout",
     "output_type": "stream",
     "text": [
      "Like Count: 19\n",
      "Description Text: \n"
     ]
    },
    {
     "name": "stderr",
     "output_type": "stream",
     "text": [
      "Processing Links:  38%|███▊      | 169/444 [35:29<57:29, 12.54s/link]"
     ]
    },
    {
     "name": "stdout",
     "output_type": "stream",
     "text": [
      "Like Count: 27\n",
      "Description Text: SS501のメンバー、キュジョンですｗ\n"
     ]
    },
    {
     "name": "stderr",
     "output_type": "stream",
     "text": [
      "Processing Links:  38%|███▊      | 170/444 [35:41<57:06, 12.50s/link]"
     ]
    },
    {
     "name": "stdout",
     "output_type": "stream",
     "text": [
      "Like Count: 28\n",
      "Description Text: 231021 BOF 부산원아시아페스티벌 - 제로베이스원 우주먼지(and I) \n",
      "#제로베이스원 #ZEROBASEONE #ZB1 #우주먼지 #BOF #원아페\n"
     ]
    },
    {
     "name": "stderr",
     "output_type": "stream",
     "text": [
      "Processing Links:  39%|███▊      | 171/444 [35:54<56:49, 12.49s/link]"
     ]
    },
    {
     "name": "stdout",
     "output_type": "stream",
     "text": [
      "Like Count: 9\n",
      "Description Text: \n"
     ]
    },
    {
     "name": "stderr",
     "output_type": "stream",
     "text": [
      "Processing Links:  39%|███▊      | 172/444 [36:07<57:18, 12.64s/link]"
     ]
    },
    {
     "name": "stdout",
     "output_type": "stream",
     "text": [
      "Like Count: 11\n",
      "Description Text: \n"
     ]
    },
    {
     "name": "stderr",
     "output_type": "stream",
     "text": [
      "Processing Links:  39%|███▉      | 173/444 [36:19<57:00, 12.62s/link]"
     ]
    },
    {
     "name": "stdout",
     "output_type": "stream",
     "text": [
      "Like Count: 89\n",
      "Description Text: 231021 부산 원아시아페스티벌 TREASURE(트레저)\n",
      "⭐🎵 TREASURE - 보나보나, 직진, 다라리\n",
      "\n",
      "#부산원아시아페스티벌 #트레저\n"
     ]
    },
    {
     "name": "stderr",
     "output_type": "stream",
     "text": [
      "Processing Links:  39%|███▉      | 174/444 [36:32<56:31, 12.56s/link]"
     ]
    },
    {
     "name": "stdout",
     "output_type": "stream",
     "text": [
      "Like Count: 58\n",
      "Description Text: 2016年7月17日（日）、鹿児島県奄美市名瀬で開催された「さたぜぇないとフェスティバル2016」へ行ってきました。\n",
      "\n",
      "使用機材\n",
      "Panasonic　DMC-GX8\n",
      "GoproHERO4\n",
      "GoproHERO3\n"
     ]
    },
    {
     "name": "stderr",
     "output_type": "stream",
     "text": [
      "Processing Links:  39%|███▉      | 175/444 [36:42<53:51, 12.01s/link]"
     ]
    },
    {
     "name": "stdout",
     "output_type": "stream",
     "text": [
      "Like Count: 0\n",
      "Description Text: 場所: 大田区民プラザ大ホール\n"
     ]
    },
    {
     "name": "stderr",
     "output_type": "stream",
     "text": [
      "Processing Links:  40%|███▉      | 176/444 [36:55<54:15, 12.15s/link]"
     ]
    },
    {
     "name": "stdout",
     "output_type": "stream",
     "text": [
      "Like Count: 9\n",
      "Description Text: 20161023 Busan One Asia festival Dream Concert\n",
      "BTS 방탄소년단[4K직캠]피 땀 눈물 Blood Sweat & Tears@20161023 Rock Music\n",
      "男性アイドルグループ ,男性偶像团体 BTS 방탄소년단  FANCAM\n",
      "http://bubleprice.tistory.com\n",
      "After downloading and uploading transformation prohibited.\n"
     ]
    },
    {
     "name": "stderr",
     "output_type": "stream",
     "text": [
      "Processing Links:  40%|███▉      | 177/444 [37:07<54:27, 12.24s/link]"
     ]
    },
    {
     "name": "stdout",
     "output_type": "stream",
     "text": [
      "Like Count: 605\n",
      "Description Text: \n"
     ]
    },
    {
     "name": "stderr",
     "output_type": "stream",
     "text": [
      "Processing Links:  40%|████      | 178/444 [37:20<54:56, 12.39s/link]"
     ]
    },
    {
     "name": "stdout",
     "output_type": "stream",
     "text": [
      "Like Count: 9\n",
      "Description Text: \n"
     ]
    },
    {
     "name": "stderr",
     "output_type": "stream",
     "text": [
      "Processing Links:  40%|████      | 179/444 [37:33<55:33, 12.58s/link]"
     ]
    },
    {
     "name": "stdout",
     "output_type": "stream",
     "text": [
      "Like Count: 2\n",
      "Description Text: Twitter - @_Always_To_You\n"
     ]
    },
    {
     "name": "stderr",
     "output_type": "stream",
     "text": [
      "Processing Links:  41%|████      | 180/444 [37:46<55:32, 12.62s/link]"
     ]
    },
    {
     "name": "stdout",
     "output_type": "stream",
     "text": [
      "Like Count: 13\n",
      "Description Text: 韓国の釜山にあるホチョン村にいってきました！\n",
      "夜景が最高です！そしてBOFフェスティバルにて\n",
      "たくさんのアイドルの方に釜山の魅力を紹介してもらいました。\n",
      "\n",
      "안녕하세요!\n",
      "얼마전에 부산 호천마을에 놀러갔어요!새러운 부산에 이쁜 장소 알게되서 너무 좋았고 야경이 정말 아름다웠어요 ㅎㅎ\n",
      "그리고 BOF페스티벌 가서 많은 아이돌분들이 부산에 매력을 알려주셨어요 ^^다른 인터뷰 영상은 나중에 올릴게요!!\n",
      "영상 재밌게 봐주세요 ㅎㅎㅎ\n"
     ]
    },
    {
     "name": "stderr",
     "output_type": "stream",
     "text": [
      "Processing Links:  41%|████      | 181/444 [38:01<58:41, 13.39s/link]"
     ]
    },
    {
     "name": "stdout",
     "output_type": "stream",
     "text": [
      "Like Count: 477\n",
      "Description Text: YouTube Captureから\n"
     ]
    },
    {
     "name": "stderr",
     "output_type": "stream",
     "text": [
      "Processing Links:  41%|████      | 182/444 [38:14<57:29, 13.16s/link]"
     ]
    },
    {
     "name": "stdout",
     "output_type": "stream",
     "text": [
      "Like Count: 22\n",
      "Description Text: 무대 위에서 행복해하는 유준이 모습이 너무 좋아✨️\n",
      "\n",
      "#BAE173 #유준 #비에이이173 #YOOJUN #반하겠어\n"
     ]
    },
    {
     "name": "stderr",
     "output_type": "stream",
     "text": [
      "Processing Links:  41%|████      | 183/444 [38:26<56:26, 12.97s/link]"
     ]
    },
    {
     "name": "stdout",
     "output_type": "stream",
     "text": [
      "Like Count: 15\n",
      "Description Text: \n"
     ]
    },
    {
     "name": "stderr",
     "output_type": "stream",
     "text": [
      "Processing Links:  41%|████▏     | 184/444 [38:39<55:32, 12.82s/link]"
     ]
    },
    {
     "name": "stdout",
     "output_type": "stream",
     "text": [
      "Like Count: 7\n",
      "Description Text: 日本ソロデビュー曲\"愛を描く\"の\n",
      "台湾リリイベ＆FM\n"
     ]
    },
    {
     "name": "stderr",
     "output_type": "stream",
     "text": [
      "Processing Links:  42%|████▏     | 185/444 [38:51<54:49, 12.70s/link]"
     ]
    },
    {
     "name": "stdout",
     "output_type": "stream",
     "text": [
      "Like Count: 49\n",
      "Description Text: \n"
     ]
    },
    {
     "name": "stderr",
     "output_type": "stream",
     "text": [
      "Processing Links:  42%|████▏     | 186/444 [39:04<54:24, 12.65s/link]"
     ]
    },
    {
     "name": "stdout",
     "output_type": "stream",
     "text": [
      "Like Count: 5\n",
      "Description Text: 【PHOTO】JBJ出身キム・ドンハン＆GFRIEND＆PENTAGONら「2018済州韓流フェスティバル」に出演 Big News TV \n",
      " Reginald Reed  \n",
      "   / @reginaldreed3138  \n"
     ]
    },
    {
     "name": "stderr",
     "output_type": "stream",
     "text": [
      "Processing Links:  42%|████▏     | 187/444 [39:16<54:21, 12.69s/link]"
     ]
    },
    {
     "name": "stdout",
     "output_type": "stream",
     "text": [
      "Like Count: 0\n",
      "Description Text: 時間：2021年3月27日\n",
      "場所：台湾高雄市の某中堅造船所\n",
      "#衝撃映像\n"
     ]
    },
    {
     "name": "stderr",
     "output_type": "stream",
     "text": [
      "Processing Links:  42%|████▏     | 188/444 [40:09<1:45:11, 24.65s/link]"
     ]
    },
    {
     "name": "stdout",
     "output_type": "stream",
     "text": [
      "Like Count: 3200\n",
      "Description Text: Wanna One＆Red Velvet＆NCT DREAMら、11/4開催「済州韓流フェスティバル」に出演決定！ Big News TV \n",
      " Reginald Reed  \n",
      "   / @reginaldreed3138  \n"
     ]
    },
    {
     "name": "stderr",
     "output_type": "stream",
     "text": [
      "Processing Links:  43%|████▎     | 189/444 [40:22<1:29:24, 21.04s/link]"
     ]
    },
    {
     "name": "stdout",
     "output_type": "stream",
     "text": [
      "Like Count: 0\n",
      "Description Text: 20150530 6시 김규종팬미팅   ホシゾラ\n",
      "\n",
      "Do not re-upload !!!!!!!\n"
     ]
    },
    {
     "name": "stderr",
     "output_type": "stream",
     "text": [
      "Processing Links:  43%|████▎     | 190/444 [40:34<1:18:16, 18.49s/link]"
     ]
    },
    {
     "name": "stdout",
     "output_type": "stream",
     "text": [
      "Like Count: 104\n",
      "Description Text: 부산 원아시아페스티벌 엔시티127 \n",
      "⭐🎵NCT127 - 질주, Fact Check (마크, 재현 위주)\n",
      "\n",
      "#부산원아시아페스티벌 #엔시티127\n"
     ]
    },
    {
     "name": "stderr",
     "output_type": "stream",
     "text": [
      "Processing Links:  43%|████▎     | 191/444 [40:47<1:10:24, 16.70s/link]"
     ]
    },
    {
     "name": "stdout",
     "output_type": "stream",
     "text": [
      "Like Count: 12\n",
      "Description Text: \n"
     ]
    },
    {
     "name": "stderr",
     "output_type": "stream",
     "text": [
      "Processing Links:  43%|████▎     | 192/444 [40:59<1:04:43, 15.41s/link]"
     ]
    },
    {
     "name": "stdout",
     "output_type": "stream",
     "text": [
      "Like Count: 175\n",
      "Description Text: #BraveGirls #브레이브걸스 #Popstival2022\n"
     ]
    },
    {
     "name": "stderr",
     "output_type": "stream",
     "text": [
      "Processing Links:  43%|████▎     | 193/444 [41:12<1:00:48, 14.53s/link]"
     ]
    },
    {
     "name": "stdout",
     "output_type": "stream",
     "text": [
      "Like Count: 25\n",
      "Description Text: \n"
     ]
    },
    {
     "name": "stderr",
     "output_type": "stream",
     "text": [
      "Processing Links:  44%|████▎     | 194/444 [41:24<58:14, 13.98s/link]  "
     ]
    },
    {
     "name": "stdout",
     "output_type": "stream",
     "text": [
      "Like Count: 25\n",
      "Description Text: Rec: Mar 2024 1:00pm\n",
      "Map:\n",
      "https://www.google.com/maps/place/BIF...\n",
      "\n",
      "#trending \n",
      "#trip \n",
      "#japan \n",
      "\n",
      "-----------------------------------------------------------------------\n",
      "▼material▼\n",
      "~camera~\n",
      "FUJIFILM X-T4\n",
      "(JP)\n",
      "https://amzn.to/3hoOOKd\n",
      "(US)\n",
      "https://amzn.to/2BaZwmM\n",
      "\n",
      "DJI POCKET 2\n",
      "https://amzn.to/3pEh3I5\n",
      "\n",
      "~lens~\n",
      "LAOWA 9mm F2.8 ZERO-D FUJIFILM X-Mount\n",
      "(JP)\n",
      "https://amzn.to/3fqTihN\n",
      "\n",
      "7artisans 35mm f1.2 (Fuji-X)\n",
      "(JP)\n",
      "https://amzn.to/30Et1YX\n",
      "(US)\n",
      "https://amzn.to/3hrebv6\n",
      "\n",
      "~gimbal~\n",
      "FeiyuTech G6MAX\n",
      "(JP)\n",
      "https://amzn.to/3cX3Nrv\n",
      "(US)\n",
      "https://amzn.to/2B3jsZ4\n",
      "\n",
      "\n",
      "~other~\n",
      "HAKUBA M-80 DCS-03M80BK\n",
      "(JP)\n",
      "https://amzn.to/2MVwMBh\n",
      "\n",
      "ProGrade Digital SD-Card 128GB\n",
      "(JP)\n",
      "https://amzn.to/2YxmFbk\n",
      "(US)\n",
      "https://amzn.to/3e0ncJr\n",
      "\n",
      "PeakDesign アンカー リンクス \n",
      "(JP)\n",
      "https://amzn.to/30KIF54\n",
      "\n",
      "※リンクURLはAmazonアソシエイトリンクを使用しています。\n",
      "-----------------------------------------------------------------------\n",
      "\n",
      "Instagram is here.\n",
      "  / walk_samurai55  \n"
     ]
    },
    {
     "name": "stderr",
     "output_type": "stream",
     "text": [
      "Processing Links:  44%|████▍     | 195/444 [41:37<55:55, 13.48s/link]"
     ]
    },
    {
     "name": "stdout",
     "output_type": "stream",
     "text": [
      "Like Count: 19\n",
      "Description Text: \n"
     ]
    },
    {
     "name": "stderr",
     "output_type": "stream",
     "text": [
      "Processing Links:  44%|████▍     | 196/444 [41:49<54:25, 13.17s/link]"
     ]
    },
    {
     "name": "stdout",
     "output_type": "stream",
     "text": [
      "Like Count: 3\n",
      "Description Text: \n"
     ]
    },
    {
     "name": "stderr",
     "output_type": "stream",
     "text": [
      "Processing Links:  44%|████▍     | 197/444 [42:01<53:23, 12.97s/link]"
     ]
    },
    {
     "name": "stdout",
     "output_type": "stream",
     "text": [
      "Like Count: 10\n",
      "Description Text: \n"
     ]
    },
    {
     "name": "stderr",
     "output_type": "stream",
     "text": [
      "Processing Links:  45%|████▍     | 198/444 [42:14<53:06, 12.95s/link]"
     ]
    },
    {
     "name": "stdout",
     "output_type": "stream",
     "text": [
      "Like Count: 1\n",
      "Description Text: \n"
     ]
    },
    {
     "name": "stderr",
     "output_type": "stream",
     "text": [
      "Processing Links:  45%|████▍     | 199/444 [42:27<52:55, 12.96s/link]"
     ]
    },
    {
     "name": "stdout",
     "output_type": "stream",
     "text": [
      "Like Count: 0\n",
      "Description Text: この動画の取材レポートはこちらから！写真もいっぱい⇒ http://k-plaza.com/2015/08/kyu-jong.html\n"
     ]
    },
    {
     "name": "stderr",
     "output_type": "stream",
     "text": [
      "Processing Links:  45%|████▌     | 200/444 [42:40<52:11, 12.84s/link]"
     ]
    },
    {
     "name": "stdout",
     "output_type": "stream",
     "text": [
      "Like Count: 6\n",
      "Description Text: 부산 원아페 폐막식 BOF (161023)-방탄소년단 피 땀 눈물 직캠\n"
     ]
    },
    {
     "name": "stderr",
     "output_type": "stream",
     "text": [
      "Processing Links:  45%|████▌     | 201/444 [42:52<51:39, 12.76s/link]"
     ]
    },
    {
     "name": "stdout",
     "output_type": "stream",
     "text": [
      "Like Count: 2\n",
      "Description Text: 160930  창원 케이팝 월드 페스티벌 'Save Me' SUGA focus\n"
     ]
    },
    {
     "name": "stderr",
     "output_type": "stream",
     "text": [
      "Processing Links:  45%|████▌     | 202/444 [43:05<51:41, 12.82s/link]"
     ]
    },
    {
     "name": "stdout",
     "output_type": "stream",
     "text": [
      "Like Count: 174\n",
      "Description Text: KPOP研究所は韓国アイドルに関する様々なことを\n",
      "独特の視点でお伝えしていくチャンネルです。\n",
      "\n",
      "ご視聴ありがとうございます。\n"
     ]
    },
    {
     "name": "stderr",
     "output_type": "stream",
     "text": [
      "Processing Links:  46%|████▌     | 203/444 [43:21<54:46, 13.64s/link]"
     ]
    },
    {
     "name": "stdout",
     "output_type": "stream",
     "text": [
      "Like Count: 995\n",
      "Description Text: [日本語字幕] PENTAGON(펜타곤) - Interview Film 'RE: PENTAGON' \n",
      "\n",
      "Official Video ▶︎ \n",
      "   • 펜타곤(PENTAGON) - Interview Film 'RE: P...  \n",
      " \n",
      "\n",
      "\n",
      "#PENTAGON #펜타곤\n"
     ]
    },
    {
     "name": "stderr",
     "output_type": "stream",
     "text": [
      "Processing Links:  46%|████▌     | 204/444 [43:34<53:23, 13.35s/link]"
     ]
    },
    {
     "name": "stdout",
     "output_type": "stream",
     "text": [
      "Like Count: 267\n",
      "Description Text: \n"
     ]
    },
    {
     "name": "stderr",
     "output_type": "stream",
     "text": [
      "Processing Links:  46%|████▌     | 205/444 [43:46<52:10, 13.10s/link]"
     ]
    },
    {
     "name": "stdout",
     "output_type": "stream",
     "text": [
      "Like Count: 4\n",
      "Description Text: #채연 #아이즈원 #이채연\n",
      "\n",
      "#한류 #K-POP #콘서트 #부산 아시아드 경기장 #아이돌 #BOF\n",
      "\n",
      "#부산원아시아페스티벌\n",
      "\n",
      "라인업 - \n",
      "#더윈드 #BAE173 #XODIAC #오마이걸 #이채연 #클라씨 #트레저 #하이라이트 #NCT127 #제로베이스원\n"
     ]
    },
    {
     "name": "stderr",
     "output_type": "stream",
     "text": [
      "Processing Links:  46%|████▋     | 206/444 [43:59<51:14, 12.92s/link]"
     ]
    },
    {
     "name": "stdout",
     "output_type": "stream",
     "text": [
      "Like Count: 15\n",
      "Description Text: \n"
     ]
    },
    {
     "name": "stderr",
     "output_type": "stream",
     "text": [
      "Processing Links:  47%|████▋     | 207/444 [44:11<50:24, 12.76s/link]"
     ]
    },
    {
     "name": "stdout",
     "output_type": "stream",
     "text": [
      "Like Count: 68\n",
      "Description Text: 2018.06.05 舞浜アンフィーシアターで行われた\n",
      "リダのファンミーティングです。\n",
      "\n",
      "終わりの挨拶です(*^^*)\n",
      "リダからのメッセージ素敵です。\n",
      "こちらもスマホでの撮影ですので雰囲気だけになります(^^)\n",
      "\n",
      "無断転載を禁止します。\n",
      "All rights reserved. No reprinting.\n",
      "\n",
      "転載する場合には、必ず作者を明記してください。\n",
      "Make sure to credit the author when reprinted.\n"
     ]
    },
    {
     "name": "stderr",
     "output_type": "stream",
     "text": [
      "Processing Links:  47%|████▋     | 208/444 [44:24<49:50, 12.67s/link]"
     ]
    },
    {
     "name": "stdout",
     "output_type": "stream",
     "text": [
      "Like Count: 59\n",
      "Description Text: 最近、PENTAGONにマッスルマッスルの波がきており、次のカムバで全員シースルーか上半身裸になるんじゃないかと予想しておりますが、皆さんいかがお過ごしでしょうか。\n",
      "\n",
      "元動画\n",
      "   • 펜타곤(PENTAGON) - 펜토리 #141 ('DO or NOT'...  \n",
      "Twitter→\n",
      "  / forevergidai  \n"
     ]
    },
    {
     "name": "stderr",
     "output_type": "stream",
     "text": [
      "Processing Links:  47%|████▋     | 209/444 [44:36<49:45, 12.70s/link]"
     ]
    },
    {
     "name": "stdout",
     "output_type": "stream",
     "text": [
      "Like Count: 66\n",
      "Description Text: \n"
     ]
    },
    {
     "name": "stderr",
     "output_type": "stream",
     "text": [
      "Processing Links:  47%|████▋     | 210/444 [44:49<49:20, 12.65s/link]"
     ]
    },
    {
     "name": "stdout",
     "output_type": "stream",
     "text": [
      "Like Count: 829\n",
      "Description Text: Brave Girls' performance for #Popstival2022. Part 2 of 2.\n",
      "\n",
      "Mad props again to my ride or die buddy Kev Pua for letting me enjoy and live in the moment and recording for me.  I'm the same crazy guy in the red shirt.\n"
     ]
    },
    {
     "name": "stderr",
     "output_type": "stream",
     "text": [
      "Processing Links:  48%|████▊     | 211/444 [45:01<49:06, 12.65s/link]"
     ]
    },
    {
     "name": "stdout",
     "output_type": "stream",
     "text": [
      "Like Count: 44\n",
      "Description Text: This fan animatic is made for PENTAGON and UNIVERSE\n",
      "don't forget to share if you like it!\n",
      "- - - - -\n",
      "Music: DO or NOT – Pentagon (CUBE Entertainment)\n",
      "Art and Storyline: Kezie\n",
      "- - - - -\n",
      "more info\n",
      "email contact: iniemailkezia@gmail.com\n",
      "- - - - -\n",
      "#펜타곤 #PENTAGON #DO_or_NOT #Animatic #Animation #Anime #Illustration #MV\n"
     ]
    },
    {
     "name": "stderr",
     "output_type": "stream",
     "text": [
      "Processing Links:  48%|████▊     | 212/444 [45:50<1:30:16, 23.35s/link]"
     ]
    },
    {
     "name": "stdout",
     "output_type": "stream",
     "text": [
      "Like Count: 4600\n",
      "Description Text: #원아페 #정재현 #factcheck #팩트체크 #영웅 #kickit #jaehyun #jungwoo #doyoung #mark #haechan #taeyong #johnny #nct127  #regular #부산원아시아페스티벌\n"
     ]
    },
    {
     "name": "stderr",
     "output_type": "stream",
     "text": [
      "Processing Links:  48%|████▊     | 213/444 [46:02<1:17:21, 20.10s/link]"
     ]
    },
    {
     "name": "stdout",
     "output_type": "stream",
     "text": [
      "Like Count: 16\n",
      "Description Text: 2023 부산원아시아페스티벌\n",
      "\n",
      "너무잘함❤️\n"
     ]
    },
    {
     "name": "stderr",
     "output_type": "stream",
     "text": [
      "Processing Links:  48%|████▊     | 214/444 [46:15<1:08:23, 17.84s/link]"
     ]
    },
    {
     "name": "stdout",
     "output_type": "stream",
     "text": [
      "Like Count: 60\n",
      "Description Text: \n"
     ]
    },
    {
     "name": "stderr",
     "output_type": "stream",
     "text": [
      "Processing Links:  48%|████▊     | 215/444 [46:28<1:02:10, 16.29s/link]"
     ]
    },
    {
     "name": "stdout",
     "output_type": "stream",
     "text": [
      "Like Count: 10\n",
      "Description Text: 210517 응수씨네 \n",
      "밥 잘 사주는 예쁜 누나というドラマのパロディです。\n",
      "\n",
      "狂うやんこんなもん。\n",
      "ユウトくんは本当にかわいい年下の男の子で、ウソクはちょっと生意気でかっこいい年下の男の子なの解釈一致すぎて血吹く。\n",
      "\n",
      "※意訳・誤訳あります。\n"
     ]
    },
    {
     "name": "stderr",
     "output_type": "stream",
     "text": [
      "Processing Links:  49%|████▊     | 216/444 [46:40<57:46, 15.20s/link]  "
     ]
    },
    {
     "name": "stdout",
     "output_type": "stream",
     "text": [
      "좋아요 수 텍스트를 가져오는 중 오류 발생: Message: no such element: Unable to locate element: {\"method\":\"css selector\",\"selector\":\".yt-spec-button-shape-next--icon-leading[aria-label^=\"나 외에 사용자\"]\"}\n",
      "  (Session info: chrome=123.0.6312.123); For documentation on this error, please visit: https://www.selenium.dev/documentation/webdriver/troubleshooting/errors#no-such-element-exception\n",
      "Stacktrace:\n",
      "\tGetHandleVerifier [0x00007FF61D717032+63090]\n",
      "\t(No symbol) [0x00007FF61D682C82]\n",
      "\t(No symbol) [0x00007FF61D51EC65]\n",
      "\t(No symbol) [0x00007FF61D56499D]\n",
      "\t(No symbol) [0x00007FF61D564ADC]\n",
      "\t(No symbol) [0x00007FF61D5A5B37]\n",
      "\t(No symbol) [0x00007FF61D58701F]\n",
      "\t(No symbol) [0x00007FF61D5A3412]\n",
      "\t(No symbol) [0x00007FF61D586D83]\n",
      "\t(No symbol) [0x00007FF61D5583A8]\n",
      "\t(No symbol) [0x00007FF61D559441]\n",
      "\tGetHandleVerifier [0x00007FF61DB125AD+4238317]\n",
      "\tGetHandleVerifier [0x00007FF61DB4F70D+4488525]\n",
      "\tGetHandleVerifier [0x00007FF61DB479EF+4456495]\n",
      "\tGetHandleVerifier [0x00007FF61D7F0576+953270]\n",
      "\t(No symbol) [0x00007FF61D68E54F]\n",
      "\t(No symbol) [0x00007FF61D689224]\n",
      "\t(No symbol) [0x00007FF61D68935B]\n",
      "\t(No symbol) [0x00007FF61D679B94]\n",
      "\tBaseThreadInitThunk [0x00007FFFE7CF257D+29]\n",
      "\tRtlUserThreadStart [0x00007FFFE8EAAA48+40]\n",
      "\n",
      "Like Count: 0\n",
      "Description Text: #bof #treasure #bonabona #kpop\n"
     ]
    },
    {
     "name": "stderr",
     "output_type": "stream",
     "text": [
      "Processing Links:  49%|████▉     | 217/444 [46:53<54:46, 14.48s/link]"
     ]
    },
    {
     "name": "stdout",
     "output_type": "stream",
     "text": [
      "Like Count: 42\n",
      "Description Text: 231021 부산 원아시아페스티벌 제로베이스원(ZEROBASEONE)\n",
      "⭐🎵ZEROBASEONE - In Bloom, New Kidz on the Block\n",
      "김태래 위주\n",
      "\n",
      "#부산원아시아페스티벌 #제로베이스원 #김태래\n"
     ]
    },
    {
     "name": "stderr",
     "output_type": "stream",
     "text": [
      "Processing Links:  49%|████▉     | 218/444 [47:06<52:23, 13.91s/link]"
     ]
    },
    {
     "name": "stdout",
     "output_type": "stream",
     "text": [
      "Like Count: 12\n",
      "Description Text: Welcome and thank you so much for watching my video! \n",
      "Please remember to like, comment, and subscribe for even more videos in the near future (hopefully lol).\n",
      "\n",
      "You can also show me your loving support on my Patreon.\n",
      "  / giohansanan  \n",
      "P.S. \n",
      "I forgot to tell you guys a little bit about me (hopefully this list should make it up).\n",
      "1. My channel name is my REAL name.\n",
      "2. I am doing this with minimal knowledge.\n",
      "3. I am Thai American with a bit of Chinese and bilingual (hence the accent).\n",
      "4. I am a HUGE fan of K-Pop (it's the only music I listen to everyday).\n",
      "5. I have been getting into a LOT of K-Dramas lately (I may or may not react to those as well on this channel).\n",
      "6. I have been trying to get caught up with Tokusatsu Shows that I missed since my childhood (I'm a such a big geek lol).\n",
      "7. I have been a Gamer for most of my life (I am a PlayStation guy, and yes I do have a PS5 lol).\n",
      "8. I used to be an Anime watcher (I stopped around 2019 because I was overwatching them).\n",
      "9. I love to stay at home \"When the weekend comes!\"\n",
      "10. I am a Cat person as in I am like a cat.\n",
      "\n",
      "Original Video: \n",
      "   • 쿨룩 LIVE ▷트레저(TREASURE/ 지훈, 정우, 예담) 'C...  \n",
      "No Copyright Infringement Intended\n",
      "\n",
      "#TREASURE\n"
     ]
    },
    {
     "name": "stderr",
     "output_type": "stream",
     "text": [
      "Processing Links:  49%|████▉     | 219/444 [47:18<50:57, 13.59s/link]"
     ]
    },
    {
     "name": "stdout",
     "output_type": "stream",
     "text": [
      "Like Count: 2\n",
      "Description Text: \n"
     ]
    },
    {
     "name": "stderr",
     "output_type": "stream",
     "text": [
      "Processing Links:  50%|████▉     | 220/444 [47:31<49:51, 13.36s/link]"
     ]
    },
    {
     "name": "stdout",
     "output_type": "stream",
     "text": [
      "Like Count: 1\n",
      "Description Text: \n"
     ]
    },
    {
     "name": "stderr",
     "output_type": "stream",
     "text": [
      "Processing Links:  50%|████▉     | 221/444 [47:44<48:41, 13.10s/link]"
     ]
    },
    {
     "name": "stdout",
     "output_type": "stream",
     "text": [
      "Like Count: 112\n",
      "Description Text: \n"
     ]
    },
    {
     "name": "stderr",
     "output_type": "stream",
     "text": [
      "Processing Links:  50%|█████     | 222/444 [47:56<47:48, 12.92s/link]"
     ]
    },
    {
     "name": "stdout",
     "output_type": "stream",
     "text": [
      "Like Count: 23\n",
      "Description Text: 유튜브 - @OFFICIAL_CLASSy\n",
      "\n",
      "#CLASS:y  #CLASSy #클라씨 #형서  #채원  #혜주  #리원  #지민  #보은  #선유\n",
      "\n",
      " #한류 #K-POP #콘서트 #부산 아시아드 경기장 #아이돌\n",
      "\n",
      "#부산원아시아페스티벌\n",
      "\n",
      "라인업 - \n",
      "#더윈드 #BAE173 #XODIAC #오마이걸 #이채연 #클라씨 #트레저 #하이라이트 #NCT127 #제로베이스원\n"
     ]
    },
    {
     "name": "stderr",
     "output_type": "stream",
     "text": [
      "Processing Links:  50%|█████     | 223/444 [48:09<47:11, 12.81s/link]"
     ]
    },
    {
     "name": "stdout",
     "output_type": "stream",
     "text": [
      "Like Count: 52\n",
      "Description Text: \n"
     ]
    },
    {
     "name": "stderr",
     "output_type": "stream",
     "text": [
      "Processing Links:  50%|█████     | 224/444 [48:22<46:58, 12.81s/link]"
     ]
    },
    {
     "name": "stdout",
     "output_type": "stream",
     "text": [
      "Like Count: 28\n",
      "Description Text: \n"
     ]
    },
    {
     "name": "stderr",
     "output_type": "stream",
     "text": [
      "Processing Links:  51%|█████     | 225/444 [48:34<46:30, 12.74s/link]"
     ]
    },
    {
     "name": "stdout",
     "output_type": "stream",
     "text": [
      "Like Count: 2\n",
      "Description Text: 210512 응수씨네 \n",
      "내 머리속의 지우개のパロディです。\n",
      "\n",
      "飲まへんのかい。\n",
      "\n",
      "※意訳・誤訳あります。\n"
     ]
    },
    {
     "name": "stderr",
     "output_type": "stream",
     "text": [
      "Processing Links:  51%|█████     | 226/444 [48:47<46:02, 12.67s/link]"
     ]
    },
    {
     "name": "stdout",
     "output_type": "stream",
     "text": [
      "좋아요 수 텍스트를 가져오는 중 오류 발생: Message: no such element: Unable to locate element: {\"method\":\"css selector\",\"selector\":\".yt-spec-button-shape-next--icon-leading[aria-label^=\"나 외에 사용자\"]\"}\n",
      "  (Session info: chrome=123.0.6312.123); For documentation on this error, please visit: https://www.selenium.dev/documentation/webdriver/troubleshooting/errors#no-such-element-exception\n",
      "Stacktrace:\n",
      "\tGetHandleVerifier [0x00007FF61D717032+63090]\n",
      "\t(No symbol) [0x00007FF61D682C82]\n",
      "\t(No symbol) [0x00007FF61D51EC65]\n",
      "\t(No symbol) [0x00007FF61D56499D]\n",
      "\t(No symbol) [0x00007FF61D564ADC]\n",
      "\t(No symbol) [0x00007FF61D5A5B37]\n",
      "\t(No symbol) [0x00007FF61D58701F]\n",
      "\t(No symbol) [0x00007FF61D5A3412]\n",
      "\t(No symbol) [0x00007FF61D586D83]\n",
      "\t(No symbol) [0x00007FF61D5583A8]\n",
      "\t(No symbol) [0x00007FF61D559441]\n",
      "\tGetHandleVerifier [0x00007FF61DB125AD+4238317]\n",
      "\tGetHandleVerifier [0x00007FF61DB4F70D+4488525]\n",
      "\tGetHandleVerifier [0x00007FF61DB479EF+4456495]\n",
      "\tGetHandleVerifier [0x00007FF61D7F0576+953270]\n",
      "\t(No symbol) [0x00007FF61D68E54F]\n",
      "\t(No symbol) [0x00007FF61D689224]\n",
      "\t(No symbol) [0x00007FF61D68935B]\n",
      "\t(No symbol) [0x00007FF61D679B94]\n",
      "\tBaseThreadInitThunk [0x00007FFFE7CF257D+29]\n",
      "\tRtlUserThreadStart [0x00007FFFE8EAAA48+40]\n",
      "\n",
      "Like Count: 0\n",
      "Description Text: DISCLAIMER:\n",
      "\n",
      "Copyright Disclaimer under section 107 of the Copyright Act 1976, allowance is made for “fair use” for purposes such as criticism, comment, news reporting, teaching, scholarship, education and research. Fair use is a use permitted by copyright statute that might otherwise be infringing.\n"
     ]
    },
    {
     "name": "stderr",
     "output_type": "stream",
     "text": [
      "Processing Links:  51%|█████     | 227/444 [48:59<45:55, 12.70s/link]"
     ]
    },
    {
     "name": "stdout",
     "output_type": "stream",
     "text": [
      "좋아요 수 텍스트를 가져오는 중 오류 발생: Message: no such element: Unable to locate element: {\"method\":\"css selector\",\"selector\":\".yt-spec-button-shape-next--icon-leading[aria-label^=\"나 외에 사용자\"]\"}\n",
      "  (Session info: chrome=123.0.6312.123); For documentation on this error, please visit: https://www.selenium.dev/documentation/webdriver/troubleshooting/errors#no-such-element-exception\n",
      "Stacktrace:\n",
      "\tGetHandleVerifier [0x00007FF61D717032+63090]\n",
      "\t(No symbol) [0x00007FF61D682C82]\n",
      "\t(No symbol) [0x00007FF61D51EC65]\n",
      "\t(No symbol) [0x00007FF61D56499D]\n",
      "\t(No symbol) [0x00007FF61D564ADC]\n",
      "\t(No symbol) [0x00007FF61D5A5B37]\n",
      "\t(No symbol) [0x00007FF61D58701F]\n",
      "\t(No symbol) [0x00007FF61D5A3412]\n",
      "\t(No symbol) [0x00007FF61D586D83]\n",
      "\t(No symbol) [0x00007FF61D5583A8]\n",
      "\t(No symbol) [0x00007FF61D559441]\n",
      "\tGetHandleVerifier [0x00007FF61DB125AD+4238317]\n",
      "\tGetHandleVerifier [0x00007FF61DB4F70D+4488525]\n",
      "\tGetHandleVerifier [0x00007FF61DB479EF+4456495]\n",
      "\tGetHandleVerifier [0x00007FF61D7F0576+953270]\n",
      "\t(No symbol) [0x00007FF61D68E54F]\n",
      "\t(No symbol) [0x00007FF61D689224]\n",
      "\t(No symbol) [0x00007FF61D68935B]\n",
      "\t(No symbol) [0x00007FF61D679B94]\n",
      "\tBaseThreadInitThunk [0x00007FFFE7CF257D+29]\n",
      "\tRtlUserThreadStart [0x00007FFFE8EAAA48+40]\n",
      "\n",
      "Like Count: 0\n",
      "Description Text: 펜타곤(PENTAGON) - 'VIOLET' Lyric Animation\n",
      "\n",
      "[ '차가움'과 '따뜻함', 완벽하게 대비되는 두 단어가 공존하는 보라색을 슬프고도 아름다웠던 연인 간의 사랑에 대입해 쓴 곡, 'VIOLET' ]\n",
      "\n",
      "펜타곤의 메인댄서 키노의 최애색이자 직접 작사, 작곡한 \n",
      "'VIOLET'의 가사 + 애니메이션 영상입니다.\n",
      "원곡 뮤직비디오의 스토리를 참고해서 포근하면서도 쓸쓸한 분위기를 담으려고 했습니다 :)\n",
      "\n",
      "\n",
      "\n",
      "🎬 'VIOLET' Official Music Video -  \n",
      "   • PENTAGON(펜타곤) - 'VIOLET' Official Mus...  \n",
      "composed by   키노, 네이슨(NATHAN)\n",
      "lyrics by   키노, 던(DAWN), 유토, 우석(펜타곤)\n",
      "arranged by   네이슨(NATHAN)\n",
      "animation by   이응짖\n"
     ]
    },
    {
     "name": "stderr",
     "output_type": "stream",
     "text": [
      "Processing Links:  51%|█████▏    | 228/444 [49:14<47:18, 13.14s/link]"
     ]
    },
    {
     "name": "stdout",
     "output_type": "stream",
     "text": [
      "Like Count: 211\n",
      "Description Text: \n"
     ]
    },
    {
     "name": "stderr",
     "output_type": "stream",
     "text": [
      "Processing Links:  52%|█████▏    | 229/444 [49:26<46:26, 12.96s/link]"
     ]
    },
    {
     "name": "stdout",
     "output_type": "stream",
     "text": [
      "Like Count: 18\n",
      "Description Text: FLAME SUGA FANPAGE\n"
     ]
    },
    {
     "name": "stderr",
     "output_type": "stream",
     "text": [
      "Processing Links:  52%|█████▏    | 230/444 [49:39<45:51, 12.86s/link]"
     ]
    },
    {
     "name": "stdout",
     "output_type": "stream",
     "text": [
      "Like Count: 471\n",
      "Description Text: 身為韓遊團長的Lillian一直都為大家送上不同的韓流資訊，早前就和韓國觀光公社一同到了釜山同席BOF的開幕典禮，可以連續兩天看到Wanna One和B.A.P之後，還有GOT7、Blackpink、GFRIEND等等的大勢團體，看看當日的盛會吧！\n",
      "\n",
      "♫ Likey - TWICE\n",
      "\n",
      "－－－－－－－－－－－－\n",
      "請大家多多支持，喜歡請訂閱啊！\n",
      "  / lilliansssssss  \n",
      "  / lillianxlillian  \n",
      "Contact: lilliansssssss@gmail.com\n",
      "－－－－－－－－－－－－\n",
      "熱門影片：\n",
      "如何成為韓國練習生？必看懶人包\n",
      "https://goo.gl/vG2aKt\n",
      "\n",
      "韓留日記Season2 | EP8 | 勇闖SM Studio 練習室大公開 \n",
      "https://goo.gl/2gc0kS\n",
      "\n",
      "和李聖經一起SWAG! | 韓星．追星 | Lilliansssssss\n",
      "https://goo.gl/aFNja3\n",
      "\n",
      "EXID Hani簽名會篇 \n",
      "https://goo.gl/CNOamz\n",
      "\n",
      "韓星一天工作時間表大公開！偶像只可睡2小時？\n",
      "https://goo.gl/6vqQWZ\n",
      "\n",
      "【關鍵字】\n",
      "BOF, Busan, Busan One Asia Festival, Wanna One, Blackpink, GFRIEND, APINK, GOT7, 釜山, 韓國觀光公社, KTO, 韓遊團長, 韓留日記, 追星, 韓星, 香港, 記者, KPOP,韓國必去, 韓國旅行, 韓國文化, 韓國自由行, 韓國旅遊, 韓國娛樂\n"
     ]
    },
    {
     "name": "stderr",
     "output_type": "stream",
     "text": [
      "Processing Links:  52%|█████▏    | 231/444 [49:53<46:59, 13.24s/link]"
     ]
    },
    {
     "name": "stdout",
     "output_type": "stream",
     "text": [
      "Like Count: 327\n",
      "Description Text: 150308 THE RED BULLET in Taipei - Compilation (Suga Focus)\n",
      "  / umbrella-7  \n",
      "Take with full credit. Do not edit / crop / remove the logo.\n",
      "BGM: 방탄소년단 - 하루만 (Inst.)\n",
      "-\n",
      "Boy you are my universe.\n"
     ]
    },
    {
     "name": "stderr",
     "output_type": "stream",
     "text": [
      "Processing Links:  52%|█████▏    | 232/444 [50:06<46:26, 13.15s/link]"
     ]
    },
    {
     "name": "stdout",
     "output_type": "stream",
     "text": [
      "Like Count: 12\n",
      "Description Text: \n"
     ]
    },
    {
     "name": "stderr",
     "output_type": "stream",
     "text": [
      "Processing Links:  52%|█████▏    | 233/444 [50:18<45:31, 12.95s/link]"
     ]
    },
    {
     "name": "stdout",
     "output_type": "stream",
     "text": [
      "Like Count: 79\n",
      "Description Text: ただの自己満動画です\n",
      "BTS ソウルコン行ってきたよ～\n"
     ]
    },
    {
     "name": "stderr",
     "output_type": "stream",
     "text": [
      "Processing Links:  53%|█████▎    | 234/444 [50:29<43:26, 12.41s/link]"
     ]
    },
    {
     "name": "stdout",
     "output_type": "stream",
     "text": [
      "Like Count: 11\n",
      "Description Text: \n"
     ]
    },
    {
     "name": "stderr",
     "output_type": "stream",
     "text": [
      "Processing Links:  53%|█████▎    | 235/444 [50:43<43:57, 12.62s/link]"
     ]
    },
    {
     "name": "stdout",
     "output_type": "stream",
     "text": [
      "Like Count: 3\n",
      "Description Text: 2017.9.24(Sun) ＠대전 월드컵경기장 Daejeon Worldcup Stadium\n"
     ]
    },
    {
     "name": "stderr",
     "output_type": "stream",
     "text": [
      "Processing Links:  53%|█████▎    | 236/444 [50:55<43:56, 12.68s/link]"
     ]
    },
    {
     "name": "stdout",
     "output_type": "stream",
     "text": [
      "Like Count: 25\n",
      "Description Text: \n"
     ]
    },
    {
     "name": "stderr",
     "output_type": "stream",
     "text": [
      "Processing Links:  53%|█████▎    | 237/444 [51:08<43:27, 12.60s/link]"
     ]
    },
    {
     "name": "stdout",
     "output_type": "stream",
     "text": [
      "Like Count: 1\n",
      "Description Text: \n"
     ]
    },
    {
     "name": "stderr",
     "output_type": "stream",
     "text": [
      "Processing Links:  54%|█████▎    | 238/444 [51:20<43:14, 12.60s/link]"
     ]
    },
    {
     "name": "stdout",
     "output_type": "stream",
     "text": [
      "Like Count: 6\n",
      "Description Text: 2층 극싸 (N26-28 어드매의 구역)\n",
      "개인 기록용\n",
      "잔떨림, 음향 주의\n",
      "자유동선시 한빈 위주\n",
      "\n",
      "\n",
      "\n",
      "\n",
      "#제로베이스원 #제베원 #ZEROBASEONE #ZB1 #부산원아시아페스티벌 #원아시아페스티벌\n"
     ]
    },
    {
     "name": "stderr",
     "output_type": "stream",
     "text": [
      "Processing Links:  54%|█████▍    | 239/444 [51:33<42:56, 12.57s/link]"
     ]
    },
    {
     "name": "stdout",
     "output_type": "stream",
     "text": [
      "Like Count: 88\n",
      "Description Text: [JHOPE] 161001 BOF 개막식 - 불타오르네\n",
      "218 PROJECT #4 \n",
      "어서와, 뒷태캠은 처음이지?\n"
     ]
    },
    {
     "name": "stderr",
     "output_type": "stream",
     "text": [
      "Processing Links:  54%|█████▍    | 240/444 [51:46<42:49, 12.59s/link]"
     ]
    },
    {
     "name": "stdout",
     "output_type": "stream",
     "text": [
      "좋아요 수 텍스트를 가져오는 중 오류 발생: Message: no such element: Unable to locate element: {\"method\":\"css selector\",\"selector\":\".yt-spec-button-shape-next--icon-leading[aria-label^=\"나 외에 사용자\"]\"}\n",
      "  (Session info: chrome=123.0.6312.123); For documentation on this error, please visit: https://www.selenium.dev/documentation/webdriver/troubleshooting/errors#no-such-element-exception\n",
      "Stacktrace:\n",
      "\tGetHandleVerifier [0x00007FF61D717032+63090]\n",
      "\t(No symbol) [0x00007FF61D682C82]\n",
      "\t(No symbol) [0x00007FF61D51EC65]\n",
      "\t(No symbol) [0x00007FF61D56499D]\n",
      "\t(No symbol) [0x00007FF61D564ADC]\n",
      "\t(No symbol) [0x00007FF61D5A5B37]\n",
      "\t(No symbol) [0x00007FF61D58701F]\n",
      "\t(No symbol) [0x00007FF61D5A3412]\n",
      "\t(No symbol) [0x00007FF61D586D83]\n",
      "\t(No symbol) [0x00007FF61D5583A8]\n",
      "\t(No symbol) [0x00007FF61D559441]\n",
      "\tGetHandleVerifier [0x00007FF61DB125AD+4238317]\n",
      "\tGetHandleVerifier [0x00007FF61DB4F70D+4488525]\n",
      "\tGetHandleVerifier [0x00007FF61DB479EF+4456495]\n",
      "\tGetHandleVerifier [0x00007FF61D7F0576+953270]\n",
      "\t(No symbol) [0x00007FF61D68E54F]\n",
      "\t(No symbol) [0x00007FF61D689224]\n",
      "\t(No symbol) [0x00007FF61D68935B]\n",
      "\t(No symbol) [0x00007FF61D679B94]\n",
      "\tBaseThreadInitThunk [0x00007FFFE7CF257D+29]\n",
      "\tRtlUserThreadStart [0x00007FFFE8EAAA48+40]\n",
      "\n",
      "Like Count: 0\n",
      "Description Text: \n"
     ]
    },
    {
     "name": "stderr",
     "output_type": "stream",
     "text": [
      "Processing Links:  54%|█████▍    | 241/444 [51:58<42:40, 12.61s/link]"
     ]
    },
    {
     "name": "stdout",
     "output_type": "stream",
     "text": [
      "Like Count: 0\n",
      "Description Text: \n"
     ]
    },
    {
     "name": "stderr",
     "output_type": "stream",
     "text": [
      "Processing Links:  55%|█████▍    | 242/444 [52:11<42:26, 12.61s/link]"
     ]
    },
    {
     "name": "stdout",
     "output_type": "stream",
     "text": [
      "Like Count: 0\n",
      "Description Text: #쟈니 #johnny #johnnysuh #BOF #NCT127 #Kickit #영웅 #원아페 #부산원아시아페스티벌 #부산\n"
     ]
    },
    {
     "name": "stderr",
     "output_type": "stream",
     "text": [
      "Processing Links:  55%|█████▍    | 243/444 [52:23<42:15, 12.62s/link]"
     ]
    },
    {
     "name": "stdout",
     "output_type": "stream",
     "text": [
      "Like Count: 15\n",
      "Description Text: 東京　渋谷レモンホールのファンミです\n",
      "キュジョンのダンスはカッコイイ！！\n",
      "2000人と握手をして腕が痛そうでした。腕は痛くないですか？と聞くと大丈夫ですと日本語で答えてくれました（≧∇≦）\n"
     ]
    },
    {
     "name": "stderr",
     "output_type": "stream",
     "text": [
      "Processing Links:  55%|█████▍    | 244/444 [52:36<42:01, 12.61s/link]"
     ]
    },
    {
     "name": "stdout",
     "output_type": "stream",
     "text": [
      "Like Count: 4\n",
      "Description Text: [221021] BRAVE GIRLS: Chit Ma Ba Ram (fancam) Live Performance on Popstival in Manila 2022\n",
      "\n",
      "no copyright infringement intended. all audio are credited to rightful owner\n"
     ]
    },
    {
     "name": "stderr",
     "output_type": "stream",
     "text": [
      "Processing Links:  55%|█████▌    | 245/444 [52:49<41:56, 12.65s/link]"
     ]
    },
    {
     "name": "stdout",
     "output_type": "stream",
     "text": [
      "Like Count: 7\n",
      "Description Text: http://www.toktour.com/\n"
     ]
    },
    {
     "name": "stderr",
     "output_type": "stream",
     "text": [
      "Processing Links:  55%|█████▌    | 246/444 [53:01<41:31, 12.58s/link]"
     ]
    },
    {
     "name": "stdout",
     "output_type": "stream",
     "text": [
      "Like Count: 1\n",
      "Description Text: \n"
     ]
    },
    {
     "name": "stderr",
     "output_type": "stream",
     "text": [
      "Processing Links:  56%|█████▌    | 247/444 [53:14<41:15, 12.56s/link]"
     ]
    },
    {
     "name": "stdout",
     "output_type": "stream",
     "text": [
      "Like Count: 54\n",
      "Description Text: こんときのユンギさんらぶ❤︎ほんとにすき！すきなひといっぱいいますよね〜？笑\n"
     ]
    },
    {
     "name": "stderr",
     "output_type": "stream",
     "text": [
      "Processing Links:  56%|█████▌    | 248/444 [53:27<41:17, 12.64s/link]"
     ]
    },
    {
     "name": "stdout",
     "output_type": "stream",
     "text": [
      "Like Count: 8\n",
      "Description Text: \n"
     ]
    },
    {
     "name": "stderr",
     "output_type": "stream",
     "text": [
      "Processing Links:  56%|█████▌    | 249/444 [53:39<41:00, 12.62s/link]"
     ]
    },
    {
     "name": "stdout",
     "output_type": "stream",
     "text": [
      "Like Count: 11\n",
      "Description Text: 181021 원아페 BOF 파크콘서트 청하 Chungha - Roller Coaster\n",
      "\n",
      "*請夏最後一首是Why Don't You Know\n",
      "忙著往前移動就沒錄到了哦\n"
     ]
    },
    {
     "name": "stderr",
     "output_type": "stream",
     "text": [
      "Processing Links:  56%|█████▋    | 250/444 [53:52<40:53, 12.65s/link]"
     ]
    },
    {
     "name": "stdout",
     "output_type": "stream",
     "text": [
      "Like Count: 2\n",
      "Description Text: \n"
     ]
    },
    {
     "name": "stderr",
     "output_type": "stream",
     "text": [
      "Processing Links:  57%|█████▋    | 251/444 [54:04<40:36, 12.63s/link]"
     ]
    },
    {
     "name": "stdout",
     "output_type": "stream",
     "text": [
      "Like Count: 50\n",
      "Description Text: \n"
     ]
    },
    {
     "name": "stderr",
     "output_type": "stream",
     "text": [
      "Processing Links:  57%|█████▋    | 252/444 [54:18<41:14, 12.89s/link]"
     ]
    },
    {
     "name": "stdout",
     "output_type": "stream",
     "text": [
      "Like Count: 28\n",
      "Description Text: #treasure #bof #kpop #jikjin\n"
     ]
    },
    {
     "name": "stderr",
     "output_type": "stream",
     "text": [
      "Processing Links:  57%|█████▋    | 253/444 [54:31<40:56, 12.86s/link]"
     ]
    },
    {
     "name": "stdout",
     "output_type": "stream",
     "text": [
      "Like Count: 18\n",
      "Description Text: 說明\n"
     ]
    },
    {
     "name": "stderr",
     "output_type": "stream",
     "text": [
      "Processing Links:  57%|█████▋    | 254/444 [54:43<40:31, 12.80s/link]"
     ]
    },
    {
     "name": "stdout",
     "output_type": "stream",
     "text": [
      "Like Count: 0\n",
      "Description Text: \n"
     ]
    },
    {
     "name": "stderr",
     "output_type": "stream",
     "text": [
      "Processing Links:  57%|█████▋    | 255/444 [54:54<38:45, 12.31s/link]"
     ]
    },
    {
     "name": "stdout",
     "output_type": "stream",
     "text": [
      "좋아요 수 텍스트를 가져오는 중 오류 발생: Message: no such element: Unable to locate element: {\"method\":\"css selector\",\"selector\":\".yt-spec-button-shape-next--icon-leading[aria-label^=\"나 외에 사용자\"]\"}\n",
      "  (Session info: chrome=123.0.6312.123); For documentation on this error, please visit: https://www.selenium.dev/documentation/webdriver/troubleshooting/errors#no-such-element-exception\n",
      "Stacktrace:\n",
      "\tGetHandleVerifier [0x00007FF61D717032+63090]\n",
      "\t(No symbol) [0x00007FF61D682C82]\n",
      "\t(No symbol) [0x00007FF61D51EC65]\n",
      "\t(No symbol) [0x00007FF61D56499D]\n",
      "\t(No symbol) [0x00007FF61D564ADC]\n",
      "\t(No symbol) [0x00007FF61D5A5B37]\n",
      "\t(No symbol) [0x00007FF61D58701F]\n",
      "\t(No symbol) [0x00007FF61D5A3412]\n",
      "\t(No symbol) [0x00007FF61D586D83]\n",
      "\t(No symbol) [0x00007FF61D5583A8]\n",
      "\t(No symbol) [0x00007FF61D559441]\n",
      "\tGetHandleVerifier [0x00007FF61DB125AD+4238317]\n",
      "\tGetHandleVerifier [0x00007FF61DB4F70D+4488525]\n",
      "\tGetHandleVerifier [0x00007FF61DB479EF+4456495]\n",
      "\tGetHandleVerifier [0x00007FF61D7F0576+953270]\n",
      "\t(No symbol) [0x00007FF61D68E54F]\n",
      "\t(No symbol) [0x00007FF61D689224]\n",
      "\t(No symbol) [0x00007FF61D68935B]\n",
      "\t(No symbol) [0x00007FF61D679B94]\n",
      "\tBaseThreadInitThunk [0x00007FFFE7CF257D+29]\n",
      "\tRtlUserThreadStart [0x00007FFFE8EAAA48+40]\n",
      "\n",
      "Like Count: 0\n",
      "Description Text: cr. http://nona9on.com/\n"
     ]
    },
    {
     "name": "stderr",
     "output_type": "stream",
     "text": [
      "Processing Links:  58%|█████▊    | 256/444 [55:05<37:16, 11.90s/link]"
     ]
    },
    {
     "name": "stdout",
     "output_type": "stream",
     "text": [
      "Like Count: 249\n",
      "Description Text: 1泊2日の韓国旅行パッキング✈️🇰🇷💕\n",
      "サクッと簡単に動画にしました。\n",
      "手持ちバッグはまた別で動画撮ります。\n"
     ]
    },
    {
     "name": "stderr",
     "output_type": "stream",
     "text": [
      "Processing Links:  58%|█████▊    | 257/444 [55:18<37:48, 12.13s/link]"
     ]
    },
    {
     "name": "stdout",
     "output_type": "stream",
     "text": [
      "Like Count: 1\n",
      "Description Text: \n"
     ]
    },
    {
     "name": "stderr",
     "output_type": "stream",
     "text": [
      "Processing Links:  58%|█████▊    | 258/444 [55:31<38:22, 12.38s/link]"
     ]
    },
    {
     "name": "stdout",
     "output_type": "stream",
     "text": [
      "Like Count: 86\n",
      "Description Text: [OSEN=부산, 이대선 기자] 21일 오후 부산아시아드주경기장에서 ‘부산원아시아페스티벌(BOF)’ K팝 콘서트가 열렸다.\n",
      "\n",
      "트레저가 멋진 무대를 펼치고 있다. 2023.10.21 /sunday@osen.co.kr\n",
      "\n",
      "[사진] 박준형 기자 /soul1014@osen.co.kr\n",
      "\n",
      "O! STAR 구독 클릭! O! STAR Subscribe - https://bit.ly/2UpoAer\n",
      "\n",
      "※ instagram : \n",
      "  / osen_photo  \n",
      "※ Twitter : \n",
      "  / osen_photo  \n"
     ]
    },
    {
     "name": "stderr",
     "output_type": "stream",
     "text": [
      "Processing Links:  58%|█████▊    | 259/444 [55:44<38:16, 12.42s/link]"
     ]
    },
    {
     "name": "stdout",
     "output_type": "stream",
     "text": [
      "Like Count: 142\n",
      "Description Text: \n"
     ]
    },
    {
     "name": "stderr",
     "output_type": "stream",
     "text": [
      "Processing Links:  59%|█████▊    | 260/444 [55:56<38:13, 12.46s/link]"
     ]
    },
    {
     "name": "stdout",
     "output_type": "stream",
     "text": [
      "Like Count: 0\n",
      "Description Text: \n"
     ]
    },
    {
     "name": "stderr",
     "output_type": "stream",
     "text": [
      "Processing Links:  59%|█████▉    | 261/444 [56:09<38:10, 12.52s/link]"
     ]
    },
    {
     "name": "stdout",
     "output_type": "stream",
     "text": [
      "Like Count: 2\n",
      "Description Text: K-POP COVER DANCE EVENT CHEGO vol.21\n",
      "SELENE_B2 TokyoJapan 11.December 2022\n",
      "\n",
      "K-POP COVER DANCE EVENT CHEGO \n",
      "Official Site  https://chego.shuncatdolls1dance.com\n",
      "Twitter \n",
      "  / chego_official  \n",
      "Instagram \n",
      "  / chegostagram  \n",
      "TikTok \n",
      "  / chego_tok  \n",
      "#CLASSy #SHUTDOWN #dancecover\n"
     ]
    },
    {
     "name": "stderr",
     "output_type": "stream",
     "text": [
      "Processing Links:  59%|█████▉    | 262/444 [56:21<38:01, 12.53s/link]"
     ]
    },
    {
     "name": "stdout",
     "output_type": "stream",
     "text": [
      "Like Count: 15\n",
      "Description Text: Sorry for the screaming\n"
     ]
    },
    {
     "name": "stderr",
     "output_type": "stream",
     "text": [
      "Processing Links:  59%|█████▉    | 263/444 [56:34<37:50, 12.55s/link]"
     ]
    },
    {
     "name": "stdout",
     "output_type": "stream",
     "text": [
      "Like Count: 8\n",
      "Description Text: #zerobaseone #thefactmusicawards\n"
     ]
    },
    {
     "name": "stderr",
     "output_type": "stream",
     "text": [
      "Processing Links:  59%|█████▉    | 264/444 [56:47<37:46, 12.59s/link]"
     ]
    },
    {
     "name": "stdout",
     "output_type": "stream",
     "text": [
      "Like Count: 4\n",
      "Description Text:    • TREASURE - ‘B.O.M.B (kaboom ver.)’ DA...  \n",
      "ツイッター(X)\n",
      "  / sthordesuyoro  \n",
      "マシュマロ\n",
      "https://marshmallow-qa.com/sthordesuy...\n",
      "音楽を流しているため、この動画は収益化していません。\n",
      "ダンス歴12年の大学生がkpop、jpopアイドルのダンスを解説したりするチャンネルです！\n",
      "たまにゲーム配信とか雑談配信とかをツイキャスと同時配信します。\n",
      "コメント欄では以下のルールを守ってね\n",
      "・過激な内容を含むコメント(性的・暴力的等)\n",
      "・動画の内容と関係ない人物についてのコメント(特に他Youtuberさんの名前は挙げないでください)\n",
      "・発言を批判、指示？するコメント(例 ～君上手って言ってるけど、全然そんなことないよ。～君についてなんでコメントしてくれないの？など　過激でなければ結構です)\n"
     ]
    },
    {
     "name": "stderr",
     "output_type": "stream",
     "text": [
      "Processing Links:  60%|█████▉    | 265/444 [56:59<37:25, 12.54s/link]"
     ]
    },
    {
     "name": "stdout",
     "output_type": "stream",
     "text": [
      "Like Count: 53\n",
      "Description Text: #부산원아시아페스티벌#케이팝콘서트#사직동\n",
      "#부산아시아드주경기장#BOF#트레져#직진\n",
      "#TREASURE\n"
     ]
    },
    {
     "name": "stderr",
     "output_type": "stream",
     "text": [
      "Processing Links:  60%|█████▉    | 266/444 [57:12<37:14, 12.55s/link]"
     ]
    },
    {
     "name": "stdout",
     "output_type": "stream",
     "text": [
      "Like Count: 1\n",
      "Description Text: \n"
     ]
    },
    {
     "name": "stderr",
     "output_type": "stream",
     "text": [
      "Processing Links:  60%|██████    | 267/444 [57:25<37:28, 12.71s/link]"
     ]
    },
    {
     "name": "stdout",
     "output_type": "stream",
     "text": [
      "Like Count: 3\n",
      "Description Text: \n"
     ]
    },
    {
     "name": "stderr",
     "output_type": "stream",
     "text": [
      "Processing Links:  60%|██████    | 268/444 [57:37<37:15, 12.70s/link]"
     ]
    },
    {
     "name": "stdout",
     "output_type": "stream",
     "text": [
      "Like Count: 11\n",
      "Description Text: Intro al concierto, que lo disfruten...\n"
     ]
    },
    {
     "name": "stderr",
     "output_type": "stream",
     "text": [
      "Processing Links:  61%|██████    | 269/444 [57:50<37:01, 12.69s/link]"
     ]
    },
    {
     "name": "stdout",
     "output_type": "stream",
     "text": [
      "Like Count: 3\n",
      "Description Text: #treasure #지훈 #jihoon\n"
     ]
    },
    {
     "name": "stderr",
     "output_type": "stream",
     "text": [
      "Processing Links:  61%|██████    | 270/444 [58:03<37:17, 12.86s/link]"
     ]
    },
    {
     "name": "stdout",
     "output_type": "stream",
     "text": [
      "Like Count: 51\n",
      "Description Text: #이채연 #leechaeyeon #아이즈원 #izone\n"
     ]
    },
    {
     "name": "stderr",
     "output_type": "stream",
     "text": [
      "Processing Links:  61%|██████    | 271/444 [58:16<36:46, 12.75s/link]"
     ]
    },
    {
     "name": "stdout",
     "output_type": "stream",
     "text": [
      "Like Count: 22\n",
      "Description Text: 提供 韓国観光公社\n",
      "■楽天トラベル韓国特集ページ\n",
      "~何度旅してもあたらしい#だけじゃない韓国~\n",
      "https://travel.rakuten.co.jp/kaigai/p...\n",
      "\n",
      "楽天スーパーポイント山分けのキャンペーンも同時開催してるよん♪\n",
      "「夏休みに行きたい韓国の市場をtwitterでつぶやいて5万ポイント山分け！」\n",
      "キャンペーン期間：2018年6月20日(水)　14:00　～　2018年8月7日（火）23:59\n",
      "ゆるゆるな私をみれます。\n",
      "https://goo.gl/ayQb2L\n",
      "\n",
      "Twitter\n",
      "  / momona_919  \n",
      "Instagram\n",
      "  / momoonaaa  \n",
      "Facebook\n",
      "  / momona-1737390782972835  \n",
      "あ、ファンレターやプレゼント送ってくれる方。\n",
      "住所公開しました。\n",
      "\n",
      "〒107-0062 東京都外苑前郵便局留\n",
      "MIHA株式会社 momona宛\n",
      " \n",
      "で、よろしくお願いいたします。\n"
     ]
    },
    {
     "name": "stderr",
     "output_type": "stream",
     "text": [
      "Processing Links:  61%|██████▏   | 272/444 [59:14<1:15:21, 26.29s/link]"
     ]
    },
    {
     "name": "stdout",
     "output_type": "stream",
     "text": [
      "Like Count: 6200\n",
      "Description Text: 防弾少年団グク出演の「イケメンブロマンス」の撮影地\n",
      "クライミング体験をしたジム「スパイダー」\n"
     ]
    },
    {
     "name": "stderr",
     "output_type": "stream",
     "text": [
      "Processing Links:  61%|██████▏   | 273/444 [59:27<1:03:26, 22.26s/link]"
     ]
    },
    {
     "name": "stdout",
     "output_type": "stream",
     "text": [
      "Like Count: 0\n",
      "Description Text: \n"
     ]
    },
    {
     "name": "stderr",
     "output_type": "stream",
     "text": [
      "Processing Links:  62%|██████▏   | 274/444 [59:39<54:50, 19.35s/link]  "
     ]
    },
    {
     "name": "stdout",
     "output_type": "stream",
     "text": [
      "Like Count: 4\n",
      "Description Text: \n"
     ]
    },
    {
     "name": "stderr",
     "output_type": "stream",
     "text": [
      "Processing Links:  62%|██████▏   | 275/444 [59:52<48:37, 17.27s/link]"
     ]
    },
    {
     "name": "stdout",
     "output_type": "stream",
     "text": [
      "Like Count: 20\n",
      "Description Text: 防弾少年団、韓国歌手初の米・NYスタジアムコンサートチケットが即完売！ Big News TV \n",
      " Reginald Reed  \n",
      "   / @reginaldreed3138  \n"
     ]
    },
    {
     "name": "stderr",
     "output_type": "stream",
     "text": [
      "Processing Links:  62%|██████▏   | 276/444 [1:00:04<44:19, 15.83s/link]"
     ]
    },
    {
     "name": "stdout",
     "output_type": "stream",
     "text": [
      "Like Count: 0\n",
      "Description Text: 韓国イケメンアイドルグループ、TOP SECTRETからメッセージ動画到着！\n"
     ]
    },
    {
     "name": "stderr",
     "output_type": "stream",
     "text": [
      "Processing Links:  62%|██████▏   | 277/444 [1:00:17<41:25, 14.89s/link]"
     ]
    },
    {
     "name": "stdout",
     "output_type": "stream",
     "text": [
      "Like Count: 8\n",
      "Description Text: ネットビジネス裁判官のブログはこちら\n",
      "→ http://bakuronet.com/?p=2217\n",
      "\n",
      "７日間だけのネット通信無料講座はこちら\n",
      "→http://yuumiya.jewel-info.com/\n",
      "\n",
      "\n",
      "\n",
      "\n",
      "ONE ASIA PROJECT, プロダクトローンチ, レビュー, ワンアジアプロジェクト, ワンアジアプロジェクトレビュー, ワンアジアプロジェクト暴露, ワンアジアプロジェクト相談, ワンアジアプロジェクト詐欺, ワンアジアプロジェクト評価, ワンアジアプロジェクト返金, ワンアジアプロジェクト騙された, 暗号通貨 Cyva, 暗号通貨 Cyvaレビュー, 暗号通貨 Cyva暴露, 暗号通貨 Cyva相談, 暗号通貨 Cyva詐欺, 暗号通貨 Cyva評価, 暗号通貨 Cyva返金, 暗号通貨 Cyva騙された, 暴露, 最大1億円の救済金を支援, 最大1億円の救済金を支援レビュー, 最大1億円の救済金を支援暴露, 最大1億円の救済金を支援相談, 最大1億円の救済金を支援詐欺, 最大1億円の救済金を支援評価, 最大1億円の救済金を支援返金, 最大1億円の救済金を支援騙された, 渡邉幸司, 渡邉幸司レビュー, 渡邉幸司暴露, 渡邉幸司相談, 渡邉幸司詐欺, 渡邉幸司評価, 渡邉幸司返金, 渡邉幸司騙された, 無料オファー, 相談, 藤本京, 見るだけで９万円儲かる番組, 見るだけで９万円儲かる番組レビュー, 見るだけで９万円儲かる番組暴露, 見るだけで９万円儲かる番組相談, 見るだけで９万円儲かる番組詐欺, 見るだけで９万円儲かる番組評価, 見るだけで９万円儲かる番組返金, 見るだけで９万円儲かる番組騙された, 詐欺, 評価, 返金, 騙された\n"
     ]
    },
    {
     "name": "stderr",
     "output_type": "stream",
     "text": [
      "Processing Links:  63%|██████▎   | 278/444 [1:00:28<37:50, 13.68s/link]"
     ]
    },
    {
     "name": "stdout",
     "output_type": "stream",
     "text": [
      "좋아요 수 텍스트를 가져오는 중 오류 발생: Message: no such element: Unable to locate element: {\"method\":\"css selector\",\"selector\":\".yt-spec-button-shape-next--icon-leading[aria-label^=\"나 외에 사용자\"]\"}\n",
      "  (Session info: chrome=123.0.6312.123); For documentation on this error, please visit: https://www.selenium.dev/documentation/webdriver/troubleshooting/errors#no-such-element-exception\n",
      "Stacktrace:\n",
      "\tGetHandleVerifier [0x00007FF61D717032+63090]\n",
      "\t(No symbol) [0x00007FF61D682C82]\n",
      "\t(No symbol) [0x00007FF61D51EC65]\n",
      "\t(No symbol) [0x00007FF61D56499D]\n",
      "\t(No symbol) [0x00007FF61D564ADC]\n",
      "\t(No symbol) [0x00007FF61D5A5B37]\n",
      "\t(No symbol) [0x00007FF61D58701F]\n",
      "\t(No symbol) [0x00007FF61D5A3412]\n",
      "\t(No symbol) [0x00007FF61D586D83]\n",
      "\t(No symbol) [0x00007FF61D5583A8]\n",
      "\t(No symbol) [0x00007FF61D559441]\n",
      "\tGetHandleVerifier [0x00007FF61DB125AD+4238317]\n",
      "\tGetHandleVerifier [0x00007FF61DB4F70D+4488525]\n",
      "\tGetHandleVerifier [0x00007FF61DB479EF+4456495]\n",
      "\tGetHandleVerifier [0x00007FF61D7F0576+953270]\n",
      "\t(No symbol) [0x00007FF61D68E54F]\n",
      "\t(No symbol) [0x00007FF61D689224]\n",
      "\t(No symbol) [0x00007FF61D68935B]\n",
      "\t(No symbol) [0x00007FF61D679B94]\n",
      "\tBaseThreadInitThunk [0x00007FFFE7CF257D+29]\n",
      "\tRtlUserThreadStart [0x00007FFFE8EAAA48+40]\n",
      "\n",
      "Like Count: 0\n",
      "Description Text: \n"
     ]
    },
    {
     "name": "stderr",
     "output_type": "stream",
     "text": [
      "Processing Links:  63%|██████▎   | 279/444 [1:00:41<37:02, 13.47s/link]"
     ]
    },
    {
     "name": "stdout",
     "output_type": "stream",
     "text": [
      "Like Count: 2\n",
      "Description Text: for my lovely b9 batchies.  \n",
      "\n",
      "\n",
      "\n",
      "i do not own any of the soundtrack, property and rights for audio go to \n",
      "- Petit Biscuit (Alone)\n"
     ]
    },
    {
     "name": "stderr",
     "output_type": "stream",
     "text": [
      "Processing Links:  63%|██████▎   | 280/444 [1:00:54<36:29, 13.35s/link]"
     ]
    },
    {
     "name": "stdout",
     "output_type": "stream",
     "text": [
      "Like Count: 5\n",
      "Description Text: Idea : @sayshinwon\n",
      "Edit : @haniluvchanggu & @reindeermee\n",
      "Cover pic : @jibijii\n",
      "THANK YOU TO EVERYONE (UNIVERSE) WHO INVOLVED IN THIS PROJECT!\n",
      "\n",
      "Original song by PENTAGON 펜타곤 (Official YouTube Channel)\n"
     ]
    },
    {
     "name": "stderr",
     "output_type": "stream",
     "text": [
      "Processing Links:  63%|██████▎   | 281/444 [1:01:07<35:57, 13.23s/link]"
     ]
    },
    {
     "name": "stdout",
     "output_type": "stream",
     "text": [
      "Like Count: 61\n",
      "Description Text: #키즈댄스 #댄스배우기 #샤인댄스#권동혁 #어린이댄스#펜타곤#do or not\n"
     ]
    },
    {
     "name": "stderr",
     "output_type": "stream",
     "text": [
      "Processing Links:  64%|██████▎   | 282/444 [1:01:18<33:56, 12.57s/link]"
     ]
    },
    {
     "name": "stdout",
     "output_type": "stream",
     "text": [
      "Like Count: 4\n",
      "Description Text: \n"
     ]
    },
    {
     "name": "stderr",
     "output_type": "stream",
     "text": [
      "Processing Links:  64%|██████▎   | 283/444 [1:01:31<34:07, 12.72s/link]"
     ]
    },
    {
     "name": "stdout",
     "output_type": "stream",
     "text": [
      "Like Count: 2\n",
      "Description Text: #부산원아시아페스티벌#케이팝콘서트#사직동\n",
      "#부산아시아드주경기장#BOF#제로베이스원#ZB1\n",
      "#ZEROBASEONE\n"
     ]
    },
    {
     "name": "stderr",
     "output_type": "stream",
     "text": [
      "Processing Links:  64%|██████▍   | 284/444 [1:01:43<33:54, 12.72s/link]"
     ]
    },
    {
     "name": "stdout",
     "output_type": "stream",
     "text": [
      "Like Count: 2\n",
      "Description Text: 재업로드 및 2차가공 금지(DO NOT RE UPLOAD & EDIT & LOGO CROP)\n",
      "#정환 #junghwan #treasure #트레저 #직캠\n"
     ]
    },
    {
     "name": "stderr",
     "output_type": "stream",
     "text": [
      "Processing Links:  64%|██████▍   | 285/444 [1:01:56<33:44, 12.73s/link]"
     ]
    },
    {
     "name": "stdout",
     "output_type": "stream",
     "text": [
      "Like Count: 329\n",
      "Description Text: 練習終わりにエレベーターに乗り込んだPENTAGON。\n",
      "7階から1階に降りるまで色んな質問に答えてくれた動画に\n",
      "日本字幕つけました🥳\n",
      "\n",
      "(サムネに心の声が溢れ出てしまったことを\n",
      "深くお詫び...しようかどうか迷ってます🙃)\n",
      "\n",
      "✏︎ ------------------------------------------------------- ☺︎\n",
      "\n",
      "おすすめ動画(*´ω`σ)σ\n",
      "🆕【答えて❣️PENTAGON❣️①🎤日本語字幕】\n",
      "   • 【答えて❣️PENTAGON❣️①🎤日本語字幕】  \n",
      "🆕【答えて❣️PENTAGON❣️②🎤日本語字幕】\n",
      "   • 【答えて❣️PENTAGON❣️②🎤日本語字幕】  \n",
      "【WE:PENTAGON ロングインタビュー・日本語字幕】\n",
      "   • ペンタゴンをもっと好きになる。日本語字幕【インタビュー・WE:PENTAGON】  \n",
      "【RE:PENTAGON ロングインタビュー・日本語字幕】\n",
      "   • 【RE:PENTAGON ・日本語字幕】  \n",
      "✏︎ ------------------------------------------------------- ☺︎\n",
      "\n",
      "※韓国語は勉強中です。\n",
      "意訳多め＋誤訳があるかもしれません。\n",
      "翻訳・編集はとても大変な作業ですが、\n",
      "ペンタが好きで、ペンタの魅力を\n",
      "もっとたくさんの方に知っていただきたくて\n",
      "翻訳してます😌\n",
      "転載や二次加工、再投稿などは絶対に\n",
      "ご遠慮頂けますよう、ご理解お願い致します。\n",
      "\n",
      "※information※\n",
      "All rights reserved. No reprinting.\n",
      "\n",
      "#ペンタゴン #PENTAGON #エレベーター \n",
      "#フイ #후이 #hui #ホンソク #홍석 #hongseok \n",
      "#シノン #신원 #shinwon #ヨウォン #여원 #yeoone \n",
      "#イェナン #엔안 #yanan #ユウト #ユト #유토 #yuto #安達 \n",
      "#キノ #키노 #kino #ひょんぐ #ウソク #우석 #wooseok \n",
      "#日本語字幕 \n",
      "\n",
      "✏︎ ------------------------------------------------------- ☺︎\n",
      "\n",
      "*TwitterやInstagramにイラスト載せてます☺️\n",
      "よかったらご覧ください💜✨\n",
      "\n",
      "🕊Twitter🕊\n",
      "  / pinokino_980127  \n",
      "  \n",
      "\n",
      "📷Instagram📷\n",
      "  / pinokino980127  \n"
     ]
    },
    {
     "name": "stderr",
     "output_type": "stream",
     "text": [
      "Processing Links:  64%|██████▍   | 286/444 [1:02:09<33:22, 12.68s/link]"
     ]
    },
    {
     "name": "stdout",
     "output_type": "stream",
     "text": [
      "Like Count: 211\n",
      "Description Text: 231021 부산 원아시아페스티벌 TREASURE(트레저) 멘트 박정우 cut\n",
      "\n",
      "#부산원아시아페스티벌 #트레저 #박정우\n"
     ]
    },
    {
     "name": "stderr",
     "output_type": "stream",
     "text": [
      "Processing Links:  65%|██████▍   | 287/444 [1:02:21<33:05, 12.65s/link]"
     ]
    },
    {
     "name": "stdout",
     "output_type": "stream",
     "text": [
      "Like Count: 3\n",
      "Description Text: \n"
     ]
    },
    {
     "name": "stderr",
     "output_type": "stream",
     "text": [
      "Processing Links:  65%|██████▍   | 288/444 [1:02:34<32:41, 12.57s/link]"
     ]
    },
    {
     "name": "stdout",
     "output_type": "stream",
     "text": [
      "Like Count: 48\n",
      "Description Text: \n"
     ]
    },
    {
     "name": "stderr",
     "output_type": "stream",
     "text": [
      "Processing Links:  65%|██████▌   | 289/444 [1:02:46<32:25, 12.55s/link]"
     ]
    },
    {
     "name": "stdout",
     "output_type": "stream",
     "text": [
      "Like Count: 54\n",
      "Description Text: I got a chance to see my boys finally 😍\n",
      "#treasure #kpop #jikjin #bof2023 #busan #korea #트레저 #fancam\n",
      "Music and song in this video doesn’t own by this channel\n"
     ]
    },
    {
     "name": "stderr",
     "output_type": "stream",
     "text": [
      "Processing Links:  65%|██████▌   | 290/444 [1:02:59<32:22, 12.61s/link]"
     ]
    },
    {
     "name": "stdout",
     "output_type": "stream",
     "text": [
      "Like Count: 53\n",
      "Description Text: \n"
     ]
    },
    {
     "name": "stderr",
     "output_type": "stream",
     "text": [
      "Processing Links:  66%|██████▌   | 291/444 [1:03:12<32:10, 12.62s/link]"
     ]
    },
    {
     "name": "stdout",
     "output_type": "stream",
     "text": [
      "Like Count: 21\n",
      "Description Text: どうしても諦めきれず(たくさん良い話があるので\n",
      "大好きなゆにぼすと共有したい！)、\n",
      "泣く泣く静止画という抵抗を試みました..\n",
      "声と動きがあったら最高なんだけど、\n",
      "みんなと共有を選んだので、そこはグッと飲み込んでください😢\n",
      "(元動画を編集しながら泣き泣きだったpinokinoです)\n",
      "\n",
      "✏︎ ------------------------------------------------------- ☺︎\n",
      "\n",
      " #ペンタゴン #PENTAGON #フイ #후이 #hui \n",
      "#ホンソク #홍석 #hongseok #シノン #신원 #shinwon \n",
      "#ヨウォン #여원 #yeoone #イェナン #엔안 #yanan \n",
      "#ユウト #유토 #yuto #安達 #キノ #키노 #kino #ひょんぐ \n",
      "#ウソク #우석 #wooseok #日本語字幕\n"
     ]
    },
    {
     "name": "stderr",
     "output_type": "stream",
     "text": [
      "Processing Links:  66%|██████▌   | 292/444 [1:03:24<31:59, 12.63s/link]"
     ]
    },
    {
     "name": "stdout",
     "output_type": "stream",
     "text": [
      "Like Count: 562\n",
      "Description Text: チャガルマダンの動画でお祝いしてもらいました^^\n",
      "(自分が祝ってもらった動画を自分で編集するの巻き)\n",
      "   • 【男飯!?】リニューアルされた太宗台チャガルマダンで貝焼きリターンズ☆ゲス...  \n"
     ]
    },
    {
     "name": "stderr",
     "output_type": "stream",
     "text": [
      "Processing Links:  66%|██████▌   | 293/444 [1:03:36<31:26, 12.49s/link]"
     ]
    },
    {
     "name": "stdout",
     "output_type": "stream",
     "text": [
      "Like Count: 37\n",
      "Description Text: 2022.9.13\n",
      "국방TV 慰問列車 陸軍第七砲兵旅団\n",
      "\n",
      "2022/10/01\n",
      "国軍の日記念 鋼鉄50師団 パワフルコンサート\n",
      "   • 국군의 날 기념 강철 50사단 파워풀 콘서트  \n",
      "2022/10/01\n",
      "KBS 不朽の名曲2 伝説を歌う\n",
      "   • 브레이브걸스 - 롤린 [불후의 명곡2 전설을 노래하다/Immorta...  \n",
      "KCON2階席\n",
      "別段ブブゴル熱量ない一角にいた\n",
      "判ってたさ\n",
      "登場遅いし案の定休憩タイムになってた\n",
      "盛上りに声出し禁止とか関係ない\n",
      "アチズやケプの時は震度2級で床揺れた\n",
      "イル活真剣なとこは違う\n",
      "悔しいな\n",
      "これが最後かもと必死に振ったペンラ星の1人より\n",
      "直近の将兵チャント\n",
      "\n",
      "KCON 2층석\n",
      "별반 부골 열량이 없는 일각에 있었다.\n",
      "알고 있었어\n",
      "등장이 늦었고 아니나 다를까 휴식시간이 되어있었다.\n",
      "한창때 소리 내기 금지라든지 관계없다\n",
      "아치즈나 케프 때는 진도 2급에서 바닥이 흔들렸다.\n",
      "한결같이 진지한 점은 다르다\n",
      "분한데\n",
      "이게 마지막일지도 모른다고 필사적으로 흔들었던 펜라별 중 한 명이\n",
      "가장 최근의 장병 찬트\n",
      "\n",
      "KCON 2nd Floor Seat\n",
      "I was in a corner where there was no particular heat\n",
      "understanding\n",
      "It was late, and as I expected, it was break time\n",
      "It doesn't matter whether you're not allowed to speak out or not\n",
      "The floor shook with a seismic intensity of 2 at the time of Atiz and Kep\n",
      "Il-katsu is not serious\n",
      "It's frustrating\n",
      "From one of Penra's stars, who desperately shook that this might be the last time\n",
      "the most recent soldier, Chant\n",
      "\n",
      "Rollin' 2017.3.7 RELEASED\n",
      "\n",
      "YouTube\n",
      "   / @cari_bbgirls_com01  \n",
      "Twitter\n",
      "  / caribbeancom01  \n",
      "TikTok\n",
      "  / cari_bbgirls_com01  \n",
      "Instagram\n",
      "  / reels  \n",
      "#브브걸 #bbgirls #ブブゴル #브레이브걸스 #bravegirls\n"
     ]
    },
    {
     "name": "stderr",
     "output_type": "stream",
     "text": [
      "Processing Links:  66%|██████▌   | 294/444 [1:03:49<31:07, 12.45s/link]"
     ]
    },
    {
     "name": "stdout",
     "output_type": "stream",
     "text": [
      "Like Count: 51\n",
      "Description Text: 海雲台にて撮影\n",
      "해운대에서 촬영\n",
      "filmed: Haeundae Beach\n"
     ]
    },
    {
     "name": "stderr",
     "output_type": "stream",
     "text": [
      "Processing Links:  66%|██████▋   | 295/444 [1:04:01<31:01, 12.49s/link]"
     ]
    },
    {
     "name": "stdout",
     "output_type": "stream",
     "text": [
      "Like Count: 7\n",
      "Description Text: \n"
     ]
    },
    {
     "name": "stderr",
     "output_type": "stream",
     "text": [
      "Processing Links:  67%|██████▋   | 296/444 [1:04:14<31:09, 12.63s/link]"
     ]
    },
    {
     "name": "stdout",
     "output_type": "stream",
     "text": [
      "Like Count: 5\n",
      "Description Text: こんばんは〜ぴっぴです\n",
      "安達です\n",
      "\n",
      "@/ぴょん。様の投稿を参考に作らせていただいております！\n",
      "めちゃくちゃ面白い投稿ばかりなので見に行ってください🙇🏻‍♀️\n"
     ]
    },
    {
     "name": "stderr",
     "output_type": "stream",
     "text": [
      "Processing Links:  67%|██████▋   | 297/444 [1:04:28<31:57, 13.04s/link]"
     ]
    },
    {
     "name": "stdout",
     "output_type": "stream",
     "text": [
      "Like Count: 2100\n",
      "Description Text: \n"
     ]
    },
    {
     "name": "stderr",
     "output_type": "stream",
     "text": [
      "Processing Links:  67%|██████▋   | 298/444 [1:04:41<31:21, 12.89s/link]"
     ]
    },
    {
     "name": "stdout",
     "output_type": "stream",
     "text": [
      "Like Count: 0\n",
      "Description Text: 돌고래 주의ㅎㅎ;;;;;\n"
     ]
    },
    {
     "name": "stderr",
     "output_type": "stream",
     "text": [
      "Processing Links:  67%|██████▋   | 299/444 [1:04:53<30:55, 12.80s/link]"
     ]
    },
    {
     "name": "stdout",
     "output_type": "stream",
     "text": [
      "Like Count: 128\n",
      "Description Text: ひょんぐセンイルの日、1/27 0:30amくらいから\n",
      "Vappしてくれて、その時話してくれた日本語と、\n",
      "その日習ったダンスを踊ってくれました😭\n",
      "クタクタで疲れてるのに1時間以上もVappしてくれて..😭\n",
      "\n",
      "その時の日本語がめちゃめちゃカワイイので\n",
      "かっこいいダンスと一緒にご覧ください🥰\n",
      "\n",
      "✏︎ ------------------------------------------------------- ☺︎\n",
      "\n",
      "#ペンタゴン #PENTAGON #キノ \n",
      "#펜타곤 #キノ #kino #ひょんぐ \n",
      "#日本語話す推し #センイル #Vapp\n"
     ]
    },
    {
     "name": "stderr",
     "output_type": "stream",
     "text": [
      "Processing Links:  68%|██████▊   | 300/444 [1:05:07<31:29, 13.12s/link]"
     ]
    },
    {
     "name": "stdout",
     "output_type": "stream",
     "text": [
      "Like Count: 627\n",
      "Description Text: 트위터: \n",
      "  / bts_metoo  \n",
      "인스타: \n",
      "  / bts_metoo  \n"
     ]
    },
    {
     "name": "stderr",
     "output_type": "stream",
     "text": [
      "Processing Links:  68%|██████▊   | 301/444 [1:05:20<30:56, 12.99s/link]"
     ]
    },
    {
     "name": "stdout",
     "output_type": "stream",
     "text": [
      "Like Count: 749\n",
      "Description Text: \n"
     ]
    },
    {
     "name": "stderr",
     "output_type": "stream",
     "text": [
      "Processing Links:  68%|██████▊   | 302/444 [1:05:33<30:40, 12.96s/link]"
     ]
    },
    {
     "name": "stdout",
     "output_type": "stream",
     "text": [
      "Like Count: 8\n",
      "Description Text: こんにちは、めめです🧸\n",
      "\n",
      "\n",
      "#시즌 (Seezn)の#아라TV (アラTV)に、PENTAGONが出演したということで、YouTubeに上がっているハイライトに日本語字幕をつけて上げさせていただきました(＞＜)\n",
      "\n",
      "\n",
      "【元動画→ \n",
      "   • 동영상  \n",
      " 】\n",
      "\n",
      "\n",
      "フルバージョンですが、元動画の概要欄にURLがございます💧\n",
      "\n",
      "\n",
      "→(追記)海外では、フルバージョンを見れないようです😣😣見れないことを今知ったため、上記のように書いておりました💧申し訳ございません🙇‍♀️🙇‍♀️\n",
      "\n",
      "\n",
      "最高画質にしていただけると、楽に見られると思います;;;\n",
      "\n",
      "\n",
      "誤訳や誤字 脱字等、コメント欄にて教えて頂けると嬉しいです🙇‍♀️🙇‍♀️動画内または他の動画等でリクエストがございましたら、コメント欄にてお伝えください(^^)すぐに改善、編集します😊😊\n",
      "\n",
      "\n",
      "ps①.この動画に出ていたアイスは、韓国のバスキンロビンスです😋😋味の名前だけでは想像つきにくいかと思い、URLを貼っておいたので、気になった方は飛んで見てみてください(＞＜)\n",
      "\n",
      "monthly best icecreamの順位載せておきます🌼\n",
      "サイトに飛ぶとすぐ出てくるランキングから探してみてください🌼🌼\n",
      "\n",
      "2位 엄마는 외계인 / 7位 슈팅스타 / 8位 오레오\n",
      "http://m.baskinrobbins.co.kr/menu/lis...\n",
      "\n",
      "\n",
      "ps②.収益化はしていないのですが、著作権の関係で広告がついてしまいました💧申し訳ございません🙇‍♀️🙇‍♀️\n",
      "\n",
      "\n",
      "...............................\n",
      "\n",
      "\n",
      "Twitter... \n",
      "  / wonk__121  \n",
      "Tiktok... https://vt.tiktok.com/ZSJAXM6vC/\n",
      "\n",
      "\n",
      "#PENTAGON #펜타곤 #아라TV #시즌 #아이돌라이브TV #ペンタゴン\n"
     ]
    },
    {
     "name": "stderr",
     "output_type": "stream",
     "text": [
      "Processing Links:  68%|██████▊   | 303/444 [1:05:46<30:39, 13.05s/link]"
     ]
    },
    {
     "name": "stdout",
     "output_type": "stream",
     "text": [
      "Like Count: 220\n",
      "Description Text: \n"
     ]
    },
    {
     "name": "stderr",
     "output_type": "stream",
     "text": [
      "Processing Links:  68%|██████▊   | 304/444 [1:05:59<30:07, 12.91s/link]"
     ]
    },
    {
     "name": "stdout",
     "output_type": "stream",
     "text": [
      "Like Count: 78\n",
      "Description Text: \n"
     ]
    },
    {
     "name": "stderr",
     "output_type": "stream",
     "text": [
      "Processing Links:  69%|██████▊   | 305/444 [1:06:11<29:38, 12.80s/link]"
     ]
    },
    {
     "name": "stdout",
     "output_type": "stream",
     "text": [
      "Like Count: 7\n",
      "Description Text: フィリピン１スラム街と言われるトンドに潜入して美女を探しに行った。\n",
      "散策する中で色々な人と出会った。\n",
      "今回はトンドのスモーキーマウンテンというところに行きました。\n",
      "\n",
      "◆リオのSNS\n",
      "Instagram　→\n",
      "  / hakobiya.rio  \n",
      "Facebook　→　https://www.facebook.com/profile.php?...\n",
      "Twitter　　  →\n",
      "  / hakobiya_rio  \n",
      "◆裏リオチャンネル無修正ver\n",
      "   • 【フィリピンパブ】ダンスショーフルver  \n",
      "■人気動画\n",
      "・【フィリピンパブの聖地】竹の塚リトルマニラへフィリピン国旗の服で潜入してみた\n",
      "   • 【フィリピンパブの聖地】竹の塚リトルマニラへフィリピン国旗の服で...  \n",
      "・【フィリピンパブ】体験入店するフィリピンハーフ女子に密着したらテキーラ祭りになった\n",
      "   • 【フィリピンパブ】体験入店するフィリピンハーフ女子に密着したらテキ...  \n",
      "・【フィリピンパブ】伝統のダンスをフィリピン国旗服で見に行った\n",
      "   • 【フィリピンパブ】伝統のダンスをフィリピン国旗服で見に行った  \n",
      "✉️問合せ先に関してSNSまたは下記からご連絡お願いします\n",
      "hakobiya.riochannel@gmail.com\n",
      "\n",
      "#スラム\n",
      "#スモーキーマウンテン\n",
      "#トンド\n"
     ]
    },
    {
     "name": "stderr",
     "output_type": "stream",
     "text": [
      "Processing Links:  69%|██████▉   | 306/444 [1:06:30<33:36, 14.61s/link]"
     ]
    },
    {
     "name": "stdout",
     "output_type": "stream",
     "text": [
      "Like Count: 2100\n",
      "Description Text: https://freshlive.tv/kobekoreamadan/1...\n"
     ]
    },
    {
     "name": "stderr",
     "output_type": "stream",
     "text": [
      "Processing Links:  69%|██████▉   | 307/444 [1:06:43<32:16, 14.14s/link]"
     ]
    },
    {
     "name": "stdout",
     "output_type": "stream",
     "text": [
      "Like Count: 24\n",
      "Description Text: 2017.10.21 代アニLIVEステーション\n",
      "ケポダンvol.23\n",
      "LIEBE\n",
      "BLACKPINK - '휘파람'(WHISTLE\n"
     ]
    },
    {
     "name": "stderr",
     "output_type": "stream",
     "text": [
      "Processing Links:  69%|██████▉   | 308/444 [1:06:56<30:56, 13.65s/link]"
     ]
    },
    {
     "name": "stdout",
     "output_type": "stream",
     "text": [
      "Like Count: 8\n",
      "Description Text: #한결 #hangyul #bae173 #비에이이173 #kpop #idol #보이그룹 #원아페 #부산 #부산원아시아페스티벌 #원아시아페스티벌 #BOF #GT #퍼포먼스\n"
     ]
    },
    {
     "name": "stderr",
     "output_type": "stream",
     "text": [
      "Processing Links:  70%|██████▉   | 309/444 [1:07:08<30:00, 13.33s/link]"
     ]
    },
    {
     "name": "stdout",
     "output_type": "stream",
     "text": [
      "Like Count: 29\n",
      "Description Text: 2011年8月3日・下関グリーンモールにて行われた韓国ツアー凱旋イベントです。\n",
      "舞踏　藤條虫丸・ふじえだしょうへい・たいち利枝・鳴海姫子\n"
     ]
    },
    {
     "name": "stderr",
     "output_type": "stream",
     "text": [
      "Processing Links:  70%|██████▉   | 310/444 [1:07:21<29:15, 13.10s/link]"
     ]
    },
    {
     "name": "stdout",
     "output_type": "stream",
     "text": [
      "Like Count: 1\n",
      "Description Text: 『DMC フェスティバル 2018』スーパーコンサート今日開幕…Red...\n",
      "   2 0 1 8 / 0 9 / 0 5 ( W e d )   1 6 : 3 0 \n",
      "***************************************************************************\n",
      "•••• 情報\n",
      "•  ソース: https://goo.gl/cZFRSt\n",
      "---------------------------------------------------------------------------\n",
      "動画はコンテンツベースの著作権法を使用することができます合理的な使用公正使用（https://www.youtube.com/yt/copyright/）\n",
      "他の電子新聞のページと提携することに非常に興奮しています。\n",
      "私に電子メールを送ってください\n",
      "見てくれてありがとう\n"
     ]
    },
    {
     "name": "stderr",
     "output_type": "stream",
     "text": [
      "Processing Links:  70%|███████   | 311/444 [1:07:33<28:44, 12.97s/link]"
     ]
    },
    {
     "name": "stdout",
     "output_type": "stream",
     "text": [
      "Like Count: 0\n",
      "Description Text: \n"
     ]
    },
    {
     "name": "stderr",
     "output_type": "stream",
     "text": [
      "Processing Links:  70%|███████   | 312/444 [1:07:46<28:01, 12.74s/link]"
     ]
    },
    {
     "name": "stdout",
     "output_type": "stream",
     "text": [
      "Like Count: 2\n",
      "Description Text:    • 2022 BOF 부산원아시아페스티벌 브레이브걸스  \n",
      "2022/10/22\n",
      "2022 BOF 부산원아시아페스티벌 브레이브걸스\n",
      "\n",
      "KCON2階席\n",
      "別段ブブゴル熱量ない一角にいた\n",
      "判ってたさ\n",
      "登場遅いし案の定休憩タイムになってた\n",
      "盛上りに声出し禁止とか関係ない\n",
      "アチズやケプの時は震度2級で床揺れた\n",
      "イル活真剣なとこは違う\n",
      "悔しいな\n",
      "これが最後かもと必死に振ったペンラ星の1人より\n",
      "直近の将兵チャント\n",
      "\n",
      "KCON 2층석\n",
      "별반 부골 열량이 없는 일각에 있었다.\n",
      "알고 있었어\n",
      "등장이 늦었고 아니나 다를까 휴식시간이 되어있었다.\n",
      "한창때 소리 내기 금지라든지 관계없다\n",
      "아치즈나 케프 때는 진도 2급에서 바닥이 흔들렸다.\n",
      "한결같이 진지한 점은 다르다\n",
      "분한데\n",
      "이게 마지막일지도 모른다고 필사적으로 흔들었던 펜라별 중 한 명이\n",
      "가장 최근의 장병 찬트\n",
      "\n",
      "KCON 2nd Floor Seat\n",
      "I was in a corner where there was no particular heat\n",
      "understanding\n",
      "It was late, and as I expected, it was break time\n",
      "It doesn't matter whether you're not allowed to speak out or not\n",
      "The floor shook with a seismic intensity of 2 at the time of Atiz and Kep\n",
      "Il-katsu is not serious\n",
      "It's frustrating\n",
      "From one of Penra's stars, who desperately shook that this might be the last time\n",
      "the most recent soldier, Chant\n",
      "\n",
      "10/30 2022 부산원아시아페스티벌 | 2022 釜山ワンアジアフェスティバルは\n",
      "10.29梨泰院圧死事故による国家哀悼期間公示に伴い中止\n",
      "\n",
      "YouTube\n",
      "   / @cari_bbgirls_com01  \n",
      "Twitter\n",
      "  / caribbeancom01  \n",
      "TikTok\n",
      "  / cari_bbgirls_com01  \n",
      "Instagram\n",
      "  / reels  \n",
      "#브브걸 #bbgirls #ブブゴル #브레이브걸스 #bravegirls\n"
     ]
    },
    {
     "name": "stderr",
     "output_type": "stream",
     "text": [
      "Processing Links:  70%|███████   | 313/444 [1:07:58<27:26, 12.57s/link]"
     ]
    },
    {
     "name": "stdout",
     "output_type": "stream",
     "text": [
      "Like Count: 11\n",
      "Description Text: #CLASS:y #클라씨 #채원 #CHAEWON#윤채원\n"
     ]
    },
    {
     "name": "stderr",
     "output_type": "stream",
     "text": [
      "Processing Links:  71%|███████   | 314/444 [1:08:11<27:26, 12.66s/link]"
     ]
    },
    {
     "name": "stdout",
     "output_type": "stream",
     "text": [
      "Like Count: 21\n",
      "Description Text: [JHOPE] 161001 BOF 개막식 - 쩔어(세로VER)\n",
      "218 PROJECT #3 FULL 4K\n"
     ]
    },
    {
     "name": "stderr",
     "output_type": "stream",
     "text": [
      "Processing Links:  71%|███████   | 315/444 [1:08:24<27:26, 12.77s/link]"
     ]
    },
    {
     "name": "stdout",
     "output_type": "stream",
     "text": [
      "Like Count: 143\n",
      "Description Text: \n"
     ]
    },
    {
     "name": "stderr",
     "output_type": "stream",
     "text": [
      "Processing Links:  71%|███████   | 316/444 [1:08:37<27:17, 12.79s/link]"
     ]
    },
    {
     "name": "stdout",
     "output_type": "stream",
     "text": [
      "Like Count: 0\n",
      "Description Text: This is one of my favorite. \n",
      "The song and music in this video doesn’t own by this channel. This is just a fancam.\n",
      "#treasure #kpop #darari #korea ##트레저\n"
     ]
    },
    {
     "name": "stderr",
     "output_type": "stream",
     "text": [
      "Processing Links:  71%|███████▏  | 317/444 [1:08:49<26:57, 12.73s/link]"
     ]
    },
    {
     "name": "stdout",
     "output_type": "stream",
     "text": [
      "Like Count: 66\n",
      "Description Text: #이채연 #leechaeyeon #아이즈원 #izone\n"
     ]
    },
    {
     "name": "stderr",
     "output_type": "stream",
     "text": [
      "Processing Links:  72%|███████▏  | 318/444 [1:09:02<26:40, 12.70s/link]"
     ]
    },
    {
     "name": "stdout",
     "output_type": "stream",
     "text": [
      "Like Count: 27\n",
      "Description Text: 230401 B.L.T (BLING LIKE THIS) - TREASURE (트레저) FANCAM | 2023 TREASURE TOUR HELLO IN BANGKOK\n"
     ]
    },
    {
     "name": "stderr",
     "output_type": "stream",
     "text": [
      "Processing Links:  72%|███████▏  | 319/444 [1:09:14<26:28, 12.71s/link]"
     ]
    },
    {
     "name": "stdout",
     "output_type": "stream",
     "text": [
      "Like Count: 8\n",
      "Description Text: #factcheck_불가사의_不可思議 \n",
      "#2023bof\n",
      "#부산원아시아페스티벌 \n",
      "#원아페 #김정우 #nct127\n"
     ]
    },
    {
     "name": "stderr",
     "output_type": "stream",
     "text": [
      "Processing Links:  72%|███████▏  | 320/444 [1:09:27<26:14, 12.70s/link]"
     ]
    },
    {
     "name": "stdout",
     "output_type": "stream",
     "text": [
      "Like Count: 387\n",
      "Description Text: [현장연결] 트럼프 \"무역적자 반드시 해결해야 할 문제…韓 배려 감사\"\n",
      "\n",
      "연합뉴스TV : 02-398-4441(기사문의·제보) 카톡/라인 jebo23 \n",
      "\n",
      "▣ 연합뉴스TV 유튜브 채널 구독\n",
      "https://goo.gl/VuCJMi\n",
      "▣ 대한민국 뉴스의 시작 연합뉴스TV / Yonhap News TV\n",
      "http://www.yonhapnewstv.co.kr/\n"
     ]
    },
    {
     "name": "stderr",
     "output_type": "stream",
     "text": [
      "Processing Links:  72%|███████▏  | 321/444 [1:09:40<26:04, 12.72s/link]"
     ]
    },
    {
     "name": "stdout",
     "output_type": "stream",
     "text": [
      "Like Count: 3\n",
      "Description Text: 다음 영상을 끝으로 길고 길었던 운동 영상은 마무리\n",
      "기다려 주셔서 고맙고 또 감사합니다 꾸벅_\n",
      "\n",
      "✓ Contact \n",
      "Mail : daekeunryu@gmail.com\n",
      "Instagram : @Iamryu_u\n"
     ]
    },
    {
     "name": "stderr",
     "output_type": "stream",
     "text": [
      "Processing Links:  73%|███████▎  | 322/444 [1:09:53<26:18, 12.94s/link]"
     ]
    },
    {
     "name": "stdout",
     "output_type": "stream",
     "text": [
      "Like Count: 12\n",
      "Description Text: \n"
     ]
    },
    {
     "name": "stderr",
     "output_type": "stream",
     "text": [
      "Processing Links:  73%|███████▎  | 323/444 [1:10:06<25:56, 12.86s/link]"
     ]
    },
    {
     "name": "stdout",
     "output_type": "stream",
     "text": [
      "Like Count: 1400\n",
      "Description Text: [221021] BRAVE GIRLS: Chit Ma Ba Ram (fancam) Live Performance on Popstival in Manila 2022\n",
      "\n",
      "no copyright infringement intended. all audio credits to rightful owner\n"
     ]
    },
    {
     "name": "stderr",
     "output_type": "stream",
     "text": [
      "Processing Links:  73%|███████▎  | 324/444 [1:10:19<25:34, 12.79s/link]"
     ]
    },
    {
     "name": "stdout",
     "output_type": "stream",
     "text": [
      "Like Count: 6\n",
      "Description Text: 감사합니다. 구독부탁드려요.\n",
      "[10회반복]복면가왕 146회(180325)-01.울게하소서(김규종, SS501)-잊어버리지마(원곡 Crush)\n"
     ]
    },
    {
     "name": "stderr",
     "output_type": "stream",
     "text": [
      "Processing Links:  73%|███████▎  | 325/444 [1:10:31<25:09, 12.68s/link]"
     ]
    },
    {
     "name": "stdout",
     "output_type": "stream",
     "text": [
      "Like Count: 3\n",
      "Description Text: \n"
     ]
    },
    {
     "name": "stderr",
     "output_type": "stream",
     "text": [
      "Processing Links:  73%|███████▎  | 326/444 [1:10:42<24:03, 12.23s/link]"
     ]
    },
    {
     "name": "stdout",
     "output_type": "stream",
     "text": [
      "Like Count: 0\n",
      "Description Text:    • ☁️DREAM STAGE with Brave Girls🥰 | KCO...  \n",
      "2022/10/07\n",
      "☁️DREAM STAGE with Brave Girls🥰 | KCON 2022 JAPAN\n",
      "\n",
      "イベントギャラ回収が続く\n",
      "10/1百済文化祭では８～10万人集まったと言うしバカには出来ない\n",
      "単独公演についてだが\n",
      "IUとかBTS級以外のKPOPライブ事情を余り聞かない\n",
      "顧客年齢層広い日本のライブ環境とは違う韓国で\n",
      "ブブゴル単コンどれ程稼げるかはやっぱ重要\n",
      "オンニズかっこよ\n",
      "\n",
      "이벤트 개런티 회수가 계속되다\n",
      "10/1 백제문화제에서는 8~10만명이 모였다는데 우습게 볼 수는 없다\n",
      "단독 공연에 대해서 말인데\n",
      "아이유나 BTS급 이외의 케이팝 라이브 사정을 잘 듣지 않는다\n",
      "고객 연령층이 넓은 일본의 라이브 환경과는 다른 한국에서\n",
      "브브걸 단콘 얼마나 버는지는 역시 중요해\n",
      "언니 멋쟁이야\n",
      "\n",
      "continue to collect event alarms\n",
      "At the Baekje Cultural Festival on October 1st, 80,000 to 100,000 people gathered, so I can't be silly\n",
      "It's about solo performances\n",
      "I don't hear much about K-pop live other than IU or BTS\n",
      "In Korea, which is different from the live environment in Japan, where the customer age group is wide\n",
      "After all, how much money BB GIRLS can earn is important\n",
      "It's cool\n",
      "\n",
      "Twitter \n",
      "  / caribbeancom01  \n",
      "TikTok \n",
      "  / caribbeancom01  \n",
      "Instagram \n",
      "  / caribbeancom01  \n",
      "#브브걸 #bbgirls #ブブゴル #브레이브걸스 #bravegirls\n"
     ]
    },
    {
     "name": "stderr",
     "output_type": "stream",
     "text": [
      "Processing Links:  74%|███████▎  | 327/444 [1:10:55<24:03, 12.34s/link]"
     ]
    },
    {
     "name": "stdout",
     "output_type": "stream",
     "text": [
      "Like Count: 12\n",
      "Description Text: Boombayah Dance Cover \n",
      "\n",
      "Dont forget to hit Like and Subscribe 😁\n"
     ]
    },
    {
     "name": "stderr",
     "output_type": "stream",
     "text": [
      "Processing Links:  74%|███████▍  | 328/444 [1:11:06<23:18, 12.05s/link]"
     ]
    },
    {
     "name": "stdout",
     "output_type": "stream",
     "text": [
      "Like Count: 4\n",
      "Description Text: \n"
     ]
    },
    {
     "name": "stderr",
     "output_type": "stream",
     "text": [
      "Processing Links:  74%|███████▍  | 329/444 [1:11:19<23:18, 12.16s/link]"
     ]
    },
    {
     "name": "stdout",
     "output_type": "stream",
     "text": [
      "Like Count: 0\n",
      "Description Text: Slowly getting better at the program. Enjoy some Suga, ya'll!\n",
      "\n",
      "I do NOT own anything in this video. The credits are given in the rest of the description.\n",
      "\n",
      "Music Used: Save Me - BTS (Instrumental) By RYUSERALOVER\n",
      "\n",
      "All clips belong to BigHit Entertainment.\n",
      "\n",
      "Programs Used: Adobe Premiere Pro CC (2017) & Adobe Media Encoder CC (2017)\n"
     ]
    },
    {
     "name": "stderr",
     "output_type": "stream",
     "text": [
      "Processing Links:  74%|███████▍  | 330/444 [1:11:32<23:39, 12.45s/link]"
     ]
    },
    {
     "name": "stdout",
     "output_type": "stream",
     "text": [
      "Like Count: 0\n",
      "Description Text: 여러분 덕분에 좋은 추억 만들었습니다.\n",
      "고마워요~\n",
      "오늘도 찾아주셔서 감사합니다.\n",
      "재미있게  봐주시면 감사하겠습니다\n",
      "구독,좋아요,알림버튼 눌러주세요\n",
      "\n",
      "인스타그램: mimi.son\n",
      "메일: sonmimi75@gmail.com\n",
      "\n",
      "#부산맛집밀키트\n",
      "#밀키트 \n",
      "#싸이버거 \n",
      "#원아시아페스티벌\n",
      "#손미미 \n",
      "#먹방 \n",
      "#MUKBANG \n",
      "#ASMR \n",
      "#손미미먹방 \n",
      "#미미\n",
      "#부산맛집 \n",
      "#부산디저트맛집 \n",
      "#부산빵맛집 \n",
      "#디저트먹방\n",
      "#부산먹방 \n",
      "#부산여행\n",
      "#운동하는먹방\n",
      "#다이어트브이로그\n",
      "#유지어트브이로그\n",
      "#빵먹방 \n",
      "#일상브이로그\n",
      "#운동브이로그\n",
      "#소소한일상\n",
      "\n",
      "Thanks to all of you, we made good memories.\n",
      "Thank you!\n",
      "Thank you for visiting today.\n",
      "Thank you for watching\n",
      "Subscribe, like, and click the notification button\n",
      "\n",
      "Instagram: mimi.son\n",
      "Mail: sonmimi75@gmail.com\n",
      "\n",
      "#Busan Gourmet Meal Kit\n",
      "#milkit\n",
      "#cyberger\n",
      "#One Asia Festival\n",
      "#mimi son\n",
      "#mukbang\n",
      "#MUKBANG\n",
      "#ASMR\n",
      "#Sonmimi Mukbang\n",
      "#Mimi\n",
      "#Busan Restaurant\n",
      "#Busan Dessert Restaurant\n",
      "#Busan Bread Restaurant\n",
      "#dessert mukbang\n",
      "#Busan Mukbang\n",
      "#Busan Travel\n",
      "#Exercise eating room\n",
      "#diet vlog\n",
      "#youjiart vlog\n",
      "#bread\n",
      "#everyday vlog\n",
      "#exercise vlog\n",
      "#small daily life\n",
      "\n",
      "皆さんのおかげで良い思い出作りました。\n",
      "ありがとうございます〜\n",
      "今日も訪ねてくれてありがとう。\n",
      "楽しく見てくれてありがとう。\n",
      "購読、いいね、通知ボタンを押してください\n",
      "\n",
      "Instagram：mimi.son\n",
      "メール: sonmimi75@gmail.com\n",
      "\n",
      "#釜山のミルキット\n",
      "#ミルキット\n",
      "#サイバーガー\n",
      "#ワンアジアフェスティバル\n",
      "#手味\n",
      "#食べる\n",
      "#MUKBANG\n",
      "#ASMR\n",
      "#手味\n",
      "#ミミ\n",
      "#釜山\n",
      "#釜山デザート\n",
      "#釜山パン\n",
      "#デザート\n",
      "#釜山\n",
      "#釜山\n",
      "#運動\n",
      "#ダイエットブログ\n",
      "#ユジエトブログ\n",
      "#パンパン\n",
      "#日常ブログ\n",
      "#運動ブログ\n",
      "#少し日常\n"
     ]
    },
    {
     "name": "stderr",
     "output_type": "stream",
     "text": [
      "Processing Links:  75%|███████▍  | 331/444 [1:11:46<24:20, 12.92s/link]"
     ]
    },
    {
     "name": "stdout",
     "output_type": "stream",
     "text": [
      "Like Count: 97\n",
      "Description Text: REAKSI PENONTON SAAT XODIAC TAMPIL DI ACARA BUSAN ONE ASIA FESTIVAL MENJADI SOROTAN NETIZEN\n",
      "\n",
      "#xodiac #소디엑 #won #wonhyunsik #zayyan #자얀  #sing #씽 #lex #렉스   #beomsoo #범수 #gyumin #규민 #wain #davin #다빈  #secretnumber #시크릿넘버 #dita #디타 #ditakarang #secret #lea #레아   #jinny #진희 #minji #민지 #soodam #수담 #zuu #주  #idol #kpop #reaction #idols #idolkpop #kpopidol #kpopedit #kpopshorts #trending #viral #viralvideo #trendingvideo #shorts #youtubeshorts #shortvideo #short #youtubevideo #youtubeshort #xbliss #소블리스 #speciallove #throwadice #XODIACxTelkomselAwards2023 #ZayyanPulangKampung #TelkomselAwards2023  #XODIACAtTelkomselAwards2023 #XODIACinIndonesia #arirangtv #arirangradio #stage #theshow #secretnumber #minji #jinny #keraton #shopee #XBLISS #pura #indonesiapusaka #gibran #solo #mangkunegaran #GibranRakabumingRaka #indomie #arirangtv #arirangradio #puasa #lebaran #chuseok #lemonade #challenge #yangsan #cultural #festival #busan #busanoneasiafestival \n",
      "\n",
      "Support Channel : Sociabuzz : https://sociabuzz.com/ayana23/support\n",
      "\n",
      "                   Saweria     : https://saweria.co/KPOPSTATION\n",
      "\n",
      "Copyright Disclaimer \n",
      "- Every Video, Audio, Footage, Image etc in this content under terms of Fair Use, Permitted by Copyright Statute.\n",
      "- Every Content in this Channel for purpose such as Education, interpretation, News Report etc.\n"
     ]
    },
    {
     "name": "stderr",
     "output_type": "stream",
     "text": [
      "Processing Links:  75%|███████▍  | 332/444 [1:11:59<24:00, 12.86s/link]"
     ]
    },
    {
     "name": "stdout",
     "output_type": "stream",
     "text": [
      "Like Count: 69\n",
      "Description Text: \n"
     ]
    },
    {
     "name": "stderr",
     "output_type": "stream",
     "text": [
      "Processing Links:  75%|███████▌  | 333/444 [1:12:11<23:40, 12.80s/link]"
     ]
    },
    {
     "name": "stdout",
     "output_type": "stream",
     "text": [
      "Like Count: 2\n",
      "Description Text: \n"
     ]
    },
    {
     "name": "stderr",
     "output_type": "stream",
     "text": [
      "Processing Links:  75%|███████▌  | 334/444 [1:12:24<23:21, 12.74s/link]"
     ]
    },
    {
     "name": "stdout",
     "output_type": "stream",
     "text": [
      "Like Count: 0\n",
      "Description Text: 本チャンネルの動画はすべてオリジナル作品で、再配布は厳しく禁止されています。侵害があった場合は、責任を問われます。 チャンネル登録はこちらへどうぞ↓\n",
      "   / @user-ll6cv5jg5m  \n",
      "【驚愕】森進一と森昌子の本当の離婚理由に一同驚愕…「襟裳岬」で人気を博した演歌歌手の幼少時代の過酷な生活や『婚約不履行』母親との切ない別れに涙が止まらない…\n",
      "   • 【驚愕】森進一と森昌子の本当の離婚理由に一同驚愕…「襟裳岬」で人気を博した...  \n",
      "【驚愕】八代亜紀の切なすぎる熟年離婚と現在に驚きを隠せない...『舟唄』でヒットした演歌歌手の豪邸や本当の病名に一同驚愕...\n",
      "   • 【驚愕】八代亜紀の切なすぎる熟年離婚と現在に驚きを隠せない...『舟唄』で...  \n",
      "【驚愕】三浦友和が山口百恵に言い放った”結婚前の不満”に驚きを隠せない…豪邸を売却するまで落ち込み…現在70歳超えた姿に一同驚愕！\n",
      "   • 【驚愕】三浦友和が山口百恵に言い放った”結婚前の不満”に驚きを隠せない…豪...  \n",
      "【驚愕】沢田研二へ息子から渡された伊藤エミからの遺言に涙が零れ落ちる...『ジュリー』の愛称で知られる歌手が田中裕子と不倫の真相や多額の慰謝料に驚きを隠せない！\n",
      "   • 동영상  \n",
      "【驚愕】桂文枝が\"新婚さん\"を降板され、干された本当の理由が悲惨すぎる....妻・高橋真由美の不倫事件や豪邸売却の真相や耳を疑う年収に一同驚愕！\n",
      "   • 동영상  \n",
      "【驚愕】北島三郎の耳を疑う資産と年収に衝撃...『まつり』で有名な大御所演歌歌手のとんでもない豪邸と弟子の今に一同驚愕！\n",
      "   • 【驚愕】北島三郎の耳を疑う資産と年収に衝撃...『まつり』で有名な大御所演...  \n",
      "【驚愕】吉永小百合が15歳年上の旦那と電撃結婚の真相や現在の姿に一同驚愕…大恋愛をした渡哲也と結婚出来なかった切ない訳と両親との確執に涙が零れた…\n",
      "   • 동영상  \n",
      "【驚愕】五木ひろしの本当の国籍や本名に驚きを隠せない…「夜明けのブルース」がヒットした演歌歌手の子供と妻・和由布子のまさかの病状に震えが止まらない\n",
      "   • 【驚愕】五木ひろしの本当の国籍や本名に驚きを隠せない…「夜明けのブルース」...  \n",
      "【驚愕】仲本工事の本当の死因や老後生活が悲惨すぎる...加藤茶が嫁『純歌』の異常行動へに大激怒！「お前は絶対許さない」\n",
      "   • 동영상  \n",
      "【驚愕】あき竹城が遺した最期の言葉に涙腺崩壊…！『バラエティ』番組で活躍した女優の本当の死因や消えた理由や引退説に一同驚愕！\n",
      "   • 【驚愕】あき竹城が遺した最期の言葉に涙腺崩壊…！『バラエティ』番組で活躍し...  \n",
      "【驚愕】西田敏行の現在は歩行困難や余命宣告の真相に涙が止まらない…！養子だった幼少時代の過酷な生活に一同驚愕...！\n",
      "   • 【驚愕】西田敏行の現在は歩行困難や余命宣告の真相に涙が止まらない…！養子だ...  \n",
      "【驚愕】都はるみの闘病生活や恋人の自殺の真相に涙が止まらない…『アンコ椿は恋の花』で大ヒットを記録した演歌歌手の今の姿に驚きを隠せない！\n",
      "   • 【驚愕】都はるみの闘病生活や恋人の自殺の真相に涙が止まらない…『アンコ椿は...  \n",
      "【驚愕】キャロル解散の真相に震えが止まらない…！矢沢永吉とメンバーの確執…35億円詐欺事件の真実に一同驚愕…！\n",
      "   • 동영상  \n",
      "【驚愕】橋幸夫の本当の離婚理由に震えが止まらない…「御三家」と称された有名な歌手の元妻・橋凡子の４７年間の苦悩や息子の現在に一同驚愕…\n",
      "   • 【驚愕】橋幸夫の本当の離婚理由に震えが止まらない…「御三家」と称された有名...  \n",
      "【驚愕】天地真理のまさかの現在に驚愕…一世を風靡したアイドル歌手が老人ホームに入居している意外な理由に一同騒然…\n",
      "   • 【驚愕】天地真理のまさかの現在に驚愕…一世を風靡したアイドル歌手が老人ホー...  \n",
      "【驚愕】伍代夏子のまさかの現在や夫・杉良太郎との略奪婚の真相に驚きを隠せない…『忍ぶ雨』で人気の演歌歌手を突然襲った病魔と三度改名の理由に涙腺崩壊…\n",
      "   • 【驚愕】伍代夏子のまさかの現在や夫・杉良太郎との略奪婚の真相に驚きを隠せな...  \n",
      "【驚愕】松田聖子が不倫した相手の暴露本内容が生々しすぎる...郷ひろみとの破局理由や神田正輝との離婚理由に一同驚愕！\n",
      "   • 동영상  \n",
      "【驚愕】小金沢昇司の逮捕の真相に驚きが隠せない...！...北島三郎さんの付き人を経てデビューした演歌歌手の破産や表舞台から姿を消した理由に一同驚愕…！\n",
      "   • 동영상  \n",
      "【驚愕】山口百恵の現在の姿や幼少時代の過酷な生活に驚きが隠せない...！夫•三浦友和と結婚後に電撃引退の真相や隠された３番目の子供の正体に一同驚愕...！\n",
      "   • 【驚愕】山口百恵の現在の姿や幼少時代の過酷な生活に驚きが隠せない...！夫...  \n",
      "【驚愕】水木一郎が遺した最期の言葉に涙腺崩壊…！「アニソンの帝王」と愛称される名歌手の本当の死因や晩年の苦しんだ闘病生活に涙が止まらない…\n",
      "   • 【驚愕】水木一郎が遺した最期の言葉に涙腺崩壊…！『マジンガーZ』で知られる...  \n",
      "【驚愕】工藤静香が木村拓哉との3人目の子供を隠す理由や病気の真相に驚きを隠せない...！『慟哭』で知られる元アイドル今の顔が劣化しすぎる真相に一同驚愕...！\n",
      "   • 【驚愕】工藤静香が木村拓哉との3人目の子供を隠す理由や病気の真相に驚きを隠...  \n",
      "【驚愕】小林旭が美空ひばりの自殺未遂の事実を隠してた理由に言葉を失う..『マイトガイ』の愛称で知られる歌手の妻の遺言や５１億円もの借金の正体に一同驚愕...！\n",
      "   • 동영상  \n",
      "【追悼】2022年に亡くなった芸能人・著名人\n",
      "   • 【追悼】2022年に亡くなった芸能人・著名人  \n",
      "【驚愕】萩原健一の妻・いしだあゆみの病気の真相と再婚しない理由に一同驚愕!…『ブルーライトヨコハマ』女優の奇行や逮捕の噂...常人ではありえない私生活に驚きを隠せない…\n",
      "   • 동영상  \n",
      "【驚愕】北島三郎の馬主で稼いだ賞金額や反社会的勢力との関係に一同驚愕...「なみだ船」で有名な演歌歌手の闘病生活や息子の孤独死の真相に耳を疑った...\n",
      "   • 【驚愕】北島三郎の馬主で稼いだ賞金額や反社会的勢力との関係に一同驚愕......  \n",
      "【驚愕】中森明菜が活動再開に向け新ファンクラブ設立発表か？...昭和アイドルの引退真相と金屏風事件の真実に涙腺崩壊...\n",
      "   • 동영상  \n",
      "【驚愕】松原千明が自ら命を絶った原因に涙溢れる…『カネボウ』CMで知られる女優の闘病生活…隠された2度の離婚の内容に一同驚愕…！\n",
      "   • 동영상  \n",
      "【驚愕】山川豊が離婚した奥様に財産の大半を分与した真相に一同驚愕......「自分はワンルーム、妻は豪邸」老後ひとりぼっちで過ごす理由に耳を疑った...\n",
      "   • 【驚愕】山川豊が離婚した奥様に財産の大半を分与した真相に一同驚愕........  \n",
      "【驚愕】榊原郁恵は夫・渡辺徹さんが不倫しても今まで献身の理由に涙腺崩壊…！『夏のお嬢さん』で知られる元アイドルの修羅場やが夫に言い放った酷すぎる一言に一同驚愕…！\n",
      "   • 【驚愕】榊原郁恵は夫・渡辺徹さんが不倫しても今まで献身の理由に涙腺崩壊…！...  \n",
      "【驚愕】坂本九の死因・飛行機事故の真相に驚きを隠せない・・・嫁の柏木由紀子と愛してる娘に残した「遺書」の内容に一同驚愕…！\n",
      "   • 【驚愕】坂本九の死因・飛行機事故の真相に驚きを隠せない・・・嫁の柏木由紀子...  \n",
      "ちあきなおみの現在の職業に驚きを隠せない...紅白出場人気歌手の引退の本当の理由や旦那が遺した最期の言葉に涙腺崩壊...\n",
      "   • 【驚愕】ちあきなおみの現在の職業に驚きを隠せない...紅白出場人気歌手の引...  \n",
      "渡辺徹が遺した最期の言葉に涙腺崩壊…！『太陽にほえろ 』で知られる俳優の本当の病名や死因を隠す真相に一同驚愕！！！\n",
      "   • 【驚愕】渡辺徹が遺した最期のブログに涙腺崩壊…！『太陽にほえろ 』で知られ...  \n",
      "美空ひばりが自○未遂の真相や元夫・小林旭の○○性癖に驚きを隠せない......美空ひばりの息子・加藤和也の破産と家を売却の理由に一同驚愕…！\n",
      "   • 【驚愕】美空ひばりが自○未遂の真相や元夫・小林旭の○○性癖に驚きを隠せない...  \n"
     ]
    },
    {
     "name": "stderr",
     "output_type": "stream",
     "text": [
      "Processing Links:  75%|███████▌  | 335/444 [1:12:36<22:59, 12.66s/link]"
     ]
    },
    {
     "name": "stdout",
     "output_type": "stream",
     "text": [
      "좋아요 수 텍스트를 가져오는 중 오류 발생: Message: no such element: Unable to locate element: {\"method\":\"css selector\",\"selector\":\".yt-spec-button-shape-next--icon-leading[aria-label^=\"나 외에 사용자\"]\"}\n",
      "  (Session info: chrome=123.0.6312.123); For documentation on this error, please visit: https://www.selenium.dev/documentation/webdriver/troubleshooting/errors#no-such-element-exception\n",
      "Stacktrace:\n",
      "\tGetHandleVerifier [0x00007FF61D717032+63090]\n",
      "\t(No symbol) [0x00007FF61D682C82]\n",
      "\t(No symbol) [0x00007FF61D51EC65]\n",
      "\t(No symbol) [0x00007FF61D56499D]\n",
      "\t(No symbol) [0x00007FF61D564ADC]\n",
      "\t(No symbol) [0x00007FF61D5A5B37]\n",
      "\t(No symbol) [0x00007FF61D58701F]\n",
      "\t(No symbol) [0x00007FF61D5A3412]\n",
      "\t(No symbol) [0x00007FF61D586D83]\n",
      "\t(No symbol) [0x00007FF61D5583A8]\n",
      "\t(No symbol) [0x00007FF61D559441]\n",
      "\tGetHandleVerifier [0x00007FF61DB125AD+4238317]\n",
      "\tGetHandleVerifier [0x00007FF61DB4F70D+4488525]\n",
      "\tGetHandleVerifier [0x00007FF61DB479EF+4456495]\n",
      "\tGetHandleVerifier [0x00007FF61D7F0576+953270]\n",
      "\t(No symbol) [0x00007FF61D68E54F]\n",
      "\t(No symbol) [0x00007FF61D689224]\n",
      "\t(No symbol) [0x00007FF61D68935B]\n",
      "\t(No symbol) [0x00007FF61D679B94]\n",
      "\tBaseThreadInitThunk [0x00007FFFE7CF257D+29]\n",
      "\tRtlUserThreadStart [0x00007FFFE8EAAA48+40]\n",
      "\n",
      "Like Count: 0\n",
      "Description Text: \n"
     ]
    },
    {
     "name": "stderr",
     "output_type": "stream",
     "text": [
      "Processing Links:  76%|███████▌  | 336/444 [1:12:49<22:54, 12.73s/link]"
     ]
    },
    {
     "name": "stdout",
     "output_type": "stream",
     "text": [
      "Like Count: 13\n",
      "Description Text: 231021 BOF 'New Kids On The Block' ZEROBASEONE(제로베이스원) 장하오(ZHANGHAO) 4K 직캠\n",
      "\n",
      "#ZHANGHAO #장하오 \n",
      "#ZEROBASEONE #ZB1 #제로베이스원\n",
      "\n",
      "Guns_Rosa_Love\n",
      "© 2023 All Rights Reserved\n",
      "로고크롭/2차 가공 X\n"
     ]
    },
    {
     "name": "stderr",
     "output_type": "stream",
     "text": [
      "Processing Links:  76%|███████▌  | 337/444 [1:13:02<22:36, 12.67s/link]"
     ]
    },
    {
     "name": "stdout",
     "output_type": "stream",
     "text": [
      "Like Count: 45\n",
      "Description Text: Fancam @exanoona\n"
     ]
    },
    {
     "name": "stderr",
     "output_type": "stream",
     "text": [
      "Processing Links:  76%|███████▌  | 338/444 [1:13:14<22:26, 12.71s/link]"
     ]
    },
    {
     "name": "stdout",
     "output_type": "stream",
     "text": [
      "Like Count: 6\n",
      "Description Text: #씨엔블루 #CNBLUE #RE_CODE\n",
      "\n",
      "최근 ‘RE-CODE’로 화려하게 돌아온 3인 체제의 💙씨엔블루💙\n",
      "\n",
      "혜성같이 등장한 멤버들은 초반기 이후'오렌지 마말레이드' 드라마 출연, '패션왕' 같은 TV 프로그램 출연, 홍보대사 발탁 같이 활발한 활동을 이어갔지만, FNC 주식 내부거래 차익 논란, 특례입학 논란, 이종현의 퇴출 등의 사건 사고로 활동이 주춤해지기도 했는데..😥 \n",
      "\n",
      "사건 사고도 많았던 씨엔블루의 역사의 과거 현재 미래📖 루나열전과 같이 알아보시죠🔎\n",
      "\n",
      "그 때 그 시절, 레전드의 시작! \n",
      "현재 진행 중인 그들의 이야기가 궁금하다면? \n",
      "루나열전, 달고나에서 확인하세요!  \n",
      "\n",
      "--------------------------------------------------------------------------------------------------------------------------\n",
      "\n",
      "루나는 달고나 채널에서 아이돌과 배우 등 셀럽을 부르는 용어입니다!\n",
      "루나는 달🌙을 의미하기도 하는데요! 우주에서 반짝반짝 환하게 빛나는 달이 마치 화려한 스타들의 모습과 비슷해서 지어진 이름입니다!✨\n",
      "\n",
      "달콤한 셀럽들이 달달하게 찍어내는 별들의 리그!\n",
      "엔터테인먼트 종합 플랫폼 채널 ‘달고나’입니다.\n",
      "갓 구운 달고나에 여러분들 만의 별을 찍어 보아요 ♥\n",
      "\n",
      "A league of stars that sweet selves shoot sweetly!\n",
      "Entertainment comprehensive platform channel 'Dalgona'\n",
      "Let's stamp your own star into freshly cooked dalgona ♥\n",
      "\n",
      "🌙달고나 인스타그램: \n",
      "  / dalgona.official  \n",
      "🌙달고나 페이스북: \n",
      "  / dalgona.official  \n",
      "🌙달고나 블로그: https://blog.naver.com/dalgona_official\n",
      "🌙달고나 트위터: \n",
      "  / dalgona_twt  \n"
     ]
    },
    {
     "name": "stderr",
     "output_type": "stream",
     "text": [
      "Processing Links:  76%|███████▋  | 339/444 [1:13:30<23:46, 13.59s/link]"
     ]
    },
    {
     "name": "stdout",
     "output_type": "stream",
     "text": [
      "Like Count: 422\n",
      "Description Text: PENTAGON came back to Singapore for their world tour and of course I had to go see them! \n",
      "I don't think I will ever get tired of PENTAGON's antics (during the ments) and their performances! I had a such a good time and I hope they will come back again!\n",
      "(Please excuse my poorly filmed fancams and my cheers)\n",
      "\n",
      "#PENTAGON #펜타곤 \n",
      "\n",
      "NO COPYRIGHT INFRINGEMENT INTENDED\n",
      "All rights reserved by\n",
      "CUBE Entertainment\n"
     ]
    },
    {
     "name": "stderr",
     "output_type": "stream",
     "text": [
      "Processing Links:  77%|███████▋  | 340/444 [1:13:43<23:04, 13.31s/link]"
     ]
    },
    {
     "name": "stdout",
     "output_type": "stream",
     "text": [
      "Like Count: 1\n",
      "Description Text: #BTS #btsarmy #viral #YouTube #youtubeviral #like #share #comment #subscribe #jungkook #jimin #tea #v #suga #jhope #bangtanboys #loveme #fakelove #dynamite #ON\n"
     ]
    },
    {
     "name": "stderr",
     "output_type": "stream",
     "text": [
      "Processing Links:  77%|███████▋  | 341/444 [1:13:55<22:31, 13.13s/link]"
     ]
    },
    {
     "name": "stdout",
     "output_type": "stream",
     "text": [
      "Like Count: 0\n",
      "Description Text: #스트레이키즈(#stray kids)가 신곡 더블 낫(#Double Knot)으로 컴백을했네요\n",
      "이번에도 아이들과 뮤직비디오 같이 시청해봤습니다.\n",
      "제가 아끼는 그룹이 컴백 했으니 조금 이나마 도움이 됐으면 하고 리액션 찍어 봤어요\n",
      "이번에도 실망 시키지 않는 스트레이키즈^^\n",
      "다음주에는 스트레이키즈 직접보러 화명생태공원에\n",
      "2019 부산 원아시아 페스티벌(Busan One Asia Festival) BOF K-POP 콘서트 티켓까지 구매 했거든요\n",
      "작사,작곡,라이브 능력까지 아이돌 같지 않은 아이돌..\n",
      "점점 발전해가는 스트레이키즈 앞으로도 많이 기대 하겠습니다.\n",
      "JYP 소액 주주가^^\n",
      "\n",
      "출처 : (주)제이와이피엔터테인먼트\n",
      "작사 : 방찬 (3RACHA), 창빈(3RACHA), 한 (3RACHA)\n",
      "작곡 : 방찬 (3RACHA), 창빈(3RACHA), 한 (3RACHA), Nick Furlong, DallasK\n",
      "편곡 : DallasK, 방찬 (3RACHA)\n"
     ]
    },
    {
     "name": "stderr",
     "output_type": "stream",
     "text": [
      "Processing Links:  77%|███████▋  | 342/444 [1:14:13<24:20, 14.32s/link]"
     ]
    },
    {
     "name": "stdout",
     "output_type": "stream",
     "text": [
      "Like Count: 693\n",
      "Description Text: カレフェスLIVEおすすめガールズグループ「ワンチャンアリーナLIVEハイライト」と曲: アツアツSummerTimeBlue PVをご案内します。 \n",
      "by  College-festa.\n",
      "\n",
      "カレフェスLIVE歌の祭典Vol.4\n",
      "YouTube\n",
      "   • Calefes LIVE Song Festival2021. Intro...  \n",
      "#女子高生 #生放送 #Jk #学園祭 #文化祭\n",
      "#College_Festa #Gakusai_Summit \n",
      "#일본의_여고생이_만드는_프로그램\n",
      "#日本高中女生的节目\n",
      "カレッジフェスタ放送局は、現役女子高生レポーター達とRinka編集長が手作りで作るで2016年からfreshliveの配信チャンネルから番組スタートしました。\n",
      "2020年10月にfreshliveのサービス終了のため\n",
      "2020年11月から\n",
      "情報誌「GAKUSAI SUMMIT」と連携してYouTubeで生放送開始。\n",
      "\n",
      "◆カレッジフェスタ公式ホームページ\n",
      "お問い合わせ、お仕事のご依頼は、こちらのホームページのお問い合わせホームから\n",
      "→\n",
      "http://college-festa.com/\n",
      "\n",
      "Twitter   \n",
      "  / college_festa  \n",
      " \n",
      "Instagram   \n",
      "  / college_festa  \n",
      "カレッジフェスタ放送局を紹介は、こちらご覧ください。\n",
      "   • College Festa program introduction vi...  \n",
      "   • Introducing the songs and dance of Ri...  \n",
      "女子旅シリーズ\n",
      "韓国釜山ロケ第一弾\n",
      "   • 韓国旅行釜山へ女子旅第1弾インスタ映えスポットを紹介❗️PanStarで行...  \n",
      "韓国釜山ロケ 第ニ弾\n",
      "   • 韓国旅行釜山へ行く女子旅❗️第2弾はインスタ映えグルメと釜山観光スポットを...  \n",
      "韓国釜山ロケ 第三弾\n",
      "   • 韓国旅行釜山へ女子高生達が女子旅レポート第3弾は韓国グルメ、釜山のインスタ...  \n",
      "韓国釜山ロケ 第四弾\n",
      "   • Let's go to Busan❗️第五弾  楽しい釜山を荒武凛香とカレ...  \n",
      "奈良橿原 女子旅\n",
      "   • 歴史ロマン奈良橿原市へ #女子旅❗️Transform into Ninj...  \n",
      "大阪ベイエリア 女子旅\n",
      "   • 大阪港ﾍﾞｲｴﾘｱでインスタ映え見つけた！Rinka編集長と女子高生だけで...  \n",
      "和歌山白浜 女子旅\n",
      "   • 和歌山白浜をロケしたよ。女子高生だけれ作る情報番組ARATAKE_RINK...  \n",
      "釜山ロケ第4弾リニューアル旧視聴者限定\n",
      "   • 韓国釜山bofへ行く女子旅ﾛｹ第4弾！インスタ映えグルメ紹介します。Rin...  \n",
      "滋賀県長浜市を取材しました。\n",
      "   • #女子旅 #滋賀県長浜 散策編！カレフェス「シェトリエ」のメンバーが #長...  \n",
      "滋賀県長浜市　太閤温泉「浜湖月」取材\n",
      "   • 女子旅❗️太閤温泉「浜湖月」(滋賀県長浜市)カレフェス(シェトリエ)のメン...  \n",
      "韓国ソウルを井村乙葉がvlog\n",
      " \n",
      "   • 井村乙葉の韓国留学vlog第一弾は、韓国の学生に人気「Haru film」...  \n",
      "韓国ソウルを井村乙葉がvlog第二弾\n",
      "   • 韓国旅を紹介第二弾！韓国に留学のおとはが今回は、韓国ソウルにあるロッテワー...  \n",
      "カレフェスメンバーが取材しました。\n",
      "お好み焼き門取材しました。\n",
      "   • #荒武凛香 と朱莉が食レポに挑戦！#お好み焼き・鉄板焼き 門へ取材しました...  \n",
      "心斎橋パルコB2\n",
      "韓国酒場K-loversを取材しました。\n",
      "   • 韓国酒場K-LOVERSパルコ心斎橋店をカレフェスメンバーLuka、Air...  \n",
      "ミスターシンのお店でいちごパフェ食べたい\n",
      "   • 동영상  \n",
      "南堀江のK-loversを取材しました。\n",
      "   • 韓国酒場K-LOVERS南堀江店にｶﾚﾌｪｽgirlsﾒﾝﾊﾞｰが韓国ｸﾞ...  \n",
      "ウエノ歯科で\n",
      "カレフェスメンバーホワイトニング体験取材\n",
      "   • ホワイトニング体験取材をAiriとMonicaの初コンビがしました。関東か...  \n",
      "   • #ホワイトニング 体験取材❗️荒武凜香と朱莉 が、芸能人やプロレスラーが来...  \n",
      "   • 芸能人、プロレスラーがホワイトニングで来院される人気歯科！ウエノ歯科さんへ...  \n",
      "KING GYM 全日本プロレスゼウス\n",
      "荒武凜香、北村來嶺彩、Airi、Luka、森田花音、ふう菜\n",
      "   • 全日本プロレスのゼウス選手がジムで出来るヒップアップ、バストアップにARA...  \n",
      "【イベント取材】\n",
      "京阪シティモール天満橋催事イベントを取材しました。井村乙葉、千本ゆずは\n",
      "   • 京阪シティモール天満橋催事マスクショップを千本ゆずは一日店長に、北村來嶺彩...  \n",
      "サークルイベントAGSTOKCを取材荒武凜香\n",
      "   • JC編集長Rinkaが関東の学生サークルAGESTOKCの2017年11月...  \n",
      "ファッションリーダーズをレポートしました。荒武凜香\n",
      "   • Rinkaがファッションリーダーズを取材しました。2017年12月取材カレ...  \n",
      "超十代　イベントに取材しました。荒武凜香、浜村結菜\n",
      "   • #超十代❗️プロデュサー #平藤真治 さんを 荒武凜香編集長と浜村結菜がイ...  \n",
      "大阪プロレス旗揚げ興業を取材しました。朱莉\n",
      "   • 大阪プロレス旗上げ興行にカレフェスメンバーの朱莉が観戦取材しました〜！ミッ...  \n",
      "【LIVE】\n",
      "荒武凜香　ARATAKE RINKA あらたけりんか\n",
      "   • ntroducing ARATAKE_RINKA and college-...  \n",
      "   • ＃荒武凜香 イベント出演! LIVEハイライトです。#おんぷら (アリオ加...  \n",
      "  \n",
      "   • 동영상  \n",
      "    \n",
      "\n",
      "【学園祭】\n",
      "関西大学　統一祭を取材しました。\n",
      "荒武凜香、朱莉\n",
      "   • Rinka編集長と一ノ瀬あかりが憧れのキャンパス関西大学へ行き統一学園祭2...  \n",
      "   • ご紹介したい学園祭は、関西大学統一祭2017をRinka編集長と朱莉が取材...  \n",
      "摂南大学　摂大祭にカレフェスメンバーLIVE\n",
      "   • ゲストはブレイクスルーさん❗️カレフェスGIRLS in摂南大学学園祭セツ...  \n",
      "早稲田祭イベント出演取材\n",
      "荒武凜香出演\n",
      "2016\n",
      "   • 早稲田祭広告研究会2016ゲストおのののかさんにのは編集長と神谷愛梨が取材...  \n",
      "2018\n",
      "   • 和歌山大学「和大祭2019」の模擬店グランプリをカレフェgirlsのRin...  \n",
      "   • ゲスト今井華さんを取材❗️早稲田祭2017を Rinka編集長(荒武凜香)...  \n",
      "慶応義塾大学　学園祭をRinka編集長が取材\n",
      "   • 慶応義塾大学矢上祭2017を中学生編集長Rinkaが取材しました。学祭ステ...  \n",
      "大阪工業大学　城北祭\n",
      "OITコレクション2016 \n",
      "   • 大阪工業大学城北祭OITコレクション2017にカレフェス☆GIRLSが出演...  \n",
      "OITコレクション2018 \n",
      "   • 大阪工業大学城北祭OIT2018にRinka(荒武凜香)と北村來嶺彩が司会...  \n",
      "OITコレクション2019 \n",
      "   • カレフェス in 大阪工業大学城北祭OITコレクション2019でRinka...  \n",
      "阪南大学学園祭2019 \n",
      "A.someD、荒武凜香、北村來嶺彩、松下りおん\n",
      "森田花音、井村乙葉、千本ゆすは\n",
      "   • 阪南大学大学祭2019に荒武凜香が出演❗️イベントで歌う(sings)カレ...  \n",
      "大手前大学 大手前祭後夜祭にゲスト出演しました。夢アド、荒武凜香編集長、朱莉出演\n",
      "   • ゲスト夢アドさん取材❗️大手前大学大手前祭2018の後夜祭のに Rinka...  \n",
      "東京女子大学2019 TGCを取材しました。\n",
      "東京flavor、ブレイクスルー出演\n",
      "   • 東京女子大学VERA祭2018紹介！TGCゲストはブレイクスルー出演❗️東...  \n",
      "甲南大学 摂津祭2019取材しました。\n",
      "   • 甲南大学摂津祭2019にRinka編集長(荒武凜香)と森田花音のコンビが模...  \n",
      "和歌山大学 和大祭イベントに出演\n",
      "荒武凜香、森田花音\n",
      "   • 和歌山大学「和大祭2019」の模擬店グランプリをカレフェgirlsのRin...  \n",
      "神戸女学院大学 岡田山祭2016を取材しました。\n",
      "荒武凜香、浜村結菜\n",
      "   • 神戸女学院大学岡田山祭2016を取材❗️ファッションショーは関西コレクショ...  \n",
      "追手門学院大学　将軍山祭2016\n",
      "ゲストlol\n",
      "   • ゲストlolさん取材！追手門学院大学将軍山祭2016をRinka編集長(荒...  \n",
      "兵庫県立大学　商大祭2018\n",
      "カレフェスメンバー歌う、ゲストSO.ON、REACT\n",
      "   • 兵庫県立大学学園祭「商大祭2018」イベントにカレフェス☆GIRLS出演！...  \n",
      "福岡女学院大学 金浜菜夏美が実行委員会取材\n",
      "   • 金浜菜夏美が福岡女学院大学学祭実行委員会に取材記録です(2016年9月）金...  \n",
      "【映画取材しました】\n",
      "溺れるナイフ\n",
      "   • 映画「溺れるナイフ」出演 小松菜奈さんに荒武凜香と浜村結菜がインタビューし...  \n",
      "小松菜々さんにインタビューしました。\n",
      "イタズラなkiss \n",
      "   • 映画「イタズラなKISS」出演者佐藤寛太さん美沙玲奈さん、灯敦生さんをRi...  \n",
      "佐藤寛太さん、美沙玲奈さん、灯敦生さんにインタビューしました。\n",
      "【番組企画】\n",
      "江野沢愛美さんにインタビューしました\n",
      "   • 江野沢愛美さんプロデュース商品を取材しました。 JKだけで作る情報番組カレ...  \n",
      "関西テレビ演出家木村淳さんにインタビューしました。\n",
      "   • 舞台の素晴らしさ感動を伝えたい「それいゆ」関西テレビ演出家の木村淳さんにR...  \n",
      "超十代　プロデューサー平藤慎二さんにインタビューしました。\n",
      "   • #超十代❗️プロデュサー #平藤真治 さんを 荒武凜香編集長と浜村結菜がイ...  \n",
      "キャスティング会社モルビド竹末浩一さん取材しました\n",
      "   • JC編集長Rinka(荒武凜香)がキャスティング会社に朱莉を直接売り込みし...  \n",
      "【イベント】\n",
      "カレフェスLIVE歌の祭典2021\n",
      "   • Calefes LIVE Song Festival2021. Intro...  \n",
      "金浜菜夏美ライブ\n",
      "   • KANEHAMA NANAMI One-man LIVE in FKUOK...  \n",
      "シェトリエが歌う！\n",
      "   • 「シェトリエ」by college-festaが「ALL I need i...  \n",
      "K-lovers 推しメンgirlsにゲスト出演\n",
      "荒武凜香、北村來嶺彩、井村乙葉、Luka、実果\n",
      "   • カレフェスメンバーが歌う！「All I need is you」作詞作曲N...  \n",
      "サウンドトラベルズナイトに出演\n",
      "北村來嶺彩、朱莉、荒武凜香\n",
      "   • Sound Travelers nightにカレフェスメンバー ＃北村來嶺...  \n",
      "カレフェスLIVE歌の祭典2020\n",
      " \n",
      "   • 【歌の祭典vol.3】女子高生だけで作る情報番組 カレフェスGIRLS【修...  \n",
      "カレフェスLIVE歌の祭典2019\n",
      "   • カレッジフェスタ歌の祭典vol.2は、女子高生だけで作る番組 #荒武凜香 ...  \n",
      "College Festa Broadcasting Station with active high school girl reporters\n",
      " Handmade by Editor-in-Chief Rinka\n",
      " It's an information program like a fluffy girls-only gathering!\n",
      "\n",
      " \"Rinka Editor-in-Chief with Callefes ☆ GIRLS\"\n",
      " College Festa Campus Report\n",
      " Starting from 2016 on the freshlive show\n",
      " From November 2020\n",
      " With the information magazine \"GAKUSAI SUMMIT\" created by active high school girls\n",
      " Live broadcasting started on YouTube in cooperation.\n",
      "\n",
      " ◆ College Festa Official Homepage\n",
      " http://college-festa.com/\n",
      "\n",
      " Twitter \n",
      "  / college_festa  \n",
      " Instagram \n",
      "  / college_festa  \n"
     ]
    },
    {
     "name": "stderr",
     "output_type": "stream",
     "text": [
      "Processing Links:  77%|███████▋  | 343/444 [1:14:25<23:23, 13.90s/link]"
     ]
    },
    {
     "name": "stdout",
     "output_type": "stream",
     "text": [
      "Like Count: 5\n",
      "Description Text: 4주년 기념 업로드(2/2)\n",
      "미모가 난리난다ㅜㅜㅜㅜㅜ\n",
      "\n",
      "Do not reupload,\n",
      "Do not logo crop,\n",
      "파일을 변형해서 재업로드를 원하시는 경우엔\n",
      "출처는 밝히시고 올려주세요ㅜㅜ\n",
      "유튜브 내 재업로드는 자제해주세요..\n"
     ]
    },
    {
     "name": "stderr",
     "output_type": "stream",
     "text": [
      "Processing Links:  77%|███████▋  | 344/444 [1:14:38<22:26, 13.46s/link]"
     ]
    },
    {
     "name": "stdout",
     "output_type": "stream",
     "text": [
      "Like Count: 34\n",
      "Description Text: \n"
     ]
    },
    {
     "name": "stderr",
     "output_type": "stream",
     "text": [
      "Processing Links:  78%|███████▊  | 345/444 [1:14:51<21:49, 13.22s/link]"
     ]
    },
    {
     "name": "stdout",
     "output_type": "stream",
     "text": [
      "Like Count: 165\n",
      "Description Text: \n"
     ]
    },
    {
     "name": "stderr",
     "output_type": "stream",
     "text": [
      "Processing Links:  78%|███████▊  | 346/444 [1:15:01<20:26, 12.52s/link]"
     ]
    },
    {
     "name": "stdout",
     "output_type": "stream",
     "text": [
      "Like Count: 15\n",
      "Description Text: 'BONA BONA' - TREASURE  Dance cover by Divinize\n",
      "\n",
      "-------------------------------\n",
      "\n",
      "BAOJI X TREASURE\n",
      "STEP UP YOUR STYLE\n",
      "\n",
      "BAOJI X RANDOM DANCE BKK\n",
      "\n",
      "@Central World    \n",
      "1-3 September 2023\n",
      "18:20 - 18:55 P.M.\n",
      "\n",
      "(❗️Playlist TREASURE Only❗)\n",
      "#SpecialOnlywithTREASURE 💎\n",
      "#RandomDanceBKK\n",
      "#BAOJIxTREASURE\n",
      "#สมบัติของบาโอจิ\n"
     ]
    },
    {
     "name": "stderr",
     "output_type": "stream",
     "text": [
      "Processing Links:  78%|███████▊  | 347/444 [1:15:14<20:26, 12.64s/link]"
     ]
    },
    {
     "name": "stdout",
     "output_type": "stream",
     "text": [
      "Like Count: 7\n",
      "Description Text: BTS' FAKE LOVE PERFORMANCE in BBMAs 2018!\n",
      "\n",
      "video not mine\n",
      "credits:: watermark\n"
     ]
    },
    {
     "name": "stderr",
     "output_type": "stream",
     "text": [
      "Processing Links:  78%|███████▊  | 348/444 [1:15:27<20:18, 12.69s/link]"
     ]
    },
    {
     "name": "stdout",
     "output_type": "stream",
     "text": [
      "Like Count: 1\n",
      "Description Text: #아시아송페스티벌2023 #asiasongfestival2023 #ASF\n",
      "[Full Version] 2023 Asia Song Festival | KBS WORLD TV 230927\n",
      "\n",
      "Great stages and performances by hot artists from 7 Asian countries are prepared!\n",
      "Your support keeps us moving forward.\n",
      "We hope you'll join us! 👏👏\n",
      "\n",
      "▶ Host : Ministry of Culture, Sports and Tourism\n",
      "▶ Organizer : KOFICE (Korean Foundation for International Cultural Exchange)\n",
      "\n",
      "03:38  [Japan] Salasa\n",
      "12:59  [Japan] CHAI\n",
      "19:54  [Thailand] Fyeqoodgurl\n",
      "28:19  [UAE] Rashed AlNuaimi\n",
      "34:38  [Indonesia] StarBe\n",
      "41:37  [India] Kayan\n",
      "45:31  [Korea] Kep1er\n",
      "52:24 [Vietnam] PHAO\n",
      "1:00:20   [Korea] AB6IX\n",
      "\n",
      "Line Up : #PHAO ( #vietnam  ), #fyeqoodgurl ( #thailand ), #Kayan ( #india ), #RashedAlNuaimi ( #unitedarabemirates), #CHAI ( #japan ), #Salasa ( #japan ), #StarBe ( #indonesia ), #kep1er  ( #korea ), #AB6IX ( #korea )\n",
      "\n",
      "#아시아송페스티벌 #아송페 #축제 #페스티벌 #플레이리스트\n",
      "#여의도 #한강공원 #여의나루 #물빛무대 #음악추천 #9월축제 #서울축제 #서울데이트\n",
      "#ASF #ASF2023 #AsiaSongFestival #asia #song #festival #kofice \n",
      "#travel #korea #seoul #yeouido #hangang #mulbitStage #comingsoon\n",
      "\n",
      "➕ Music Bank\n",
      "2023 : \n",
      "   • 2023 Music Bank 🎤Let's enjoy all toge...  \n",
      "2022 : \n",
      "   • Let's enjoy all together❗️2022 Music ...  \n",
      "2021 : \n",
      "   • 2021 Music Bank 🎤Let's enjoy all toge...  \n",
      "➕ Song Festival\n",
      "2022 : \n",
      "   • 2022 KBS Song Festival  \n",
      "2021 : \n",
      "   • 👑 2021 KBS Song Festival  \n",
      "2020 : \n",
      "   • 2020 Music Bank 🎤Let's enjoy all toge...  \n",
      "➕ Never Stop! Online Compilation Concert\n",
      "Season #2 : \n",
      "   • Never Stop Season #2 : We Wish For Yo...  \n",
      "Season #1 : \n",
      "   • Never Stop Season #1 : Online Compila...  \n",
      "➕ Exclusive\n",
      "BTS Stage : \n",
      "   • BTS Special Stage on KBS WORLD TV  \n",
      "Editor's Pick! : \n",
      "   • Editor's Pick! K-POP PLAYER  \n",
      "➕ LEGEND Video : \n",
      "   • The Best Legendary Contents  \n",
      "➕ Subscribe KBS WORLD TV Official Pages\n",
      "Youtube Subscribe：\n",
      "   / kbsworld  \n",
      "Homepage : http://www.kbsworld.co.kr \n",
      "Facebook : \n",
      "  / kbsworld  \n",
      "Twitter : \n",
      "  / kbsworldtv  \n",
      " \n",
      "Instagram : \n",
      "  / kbsworldtv  \n",
      "Line : https://goo.gl/g5iRQV\n",
      "Android Download : https://bit.ly/3Io5sri\n",
      "IOS Download : https://apple.co/3yQ0n7Z\n"
     ]
    },
    {
     "name": "stderr",
     "output_type": "stream",
     "text": [
      "Processing Links:  79%|███████▊  | 349/444 [1:15:45<22:18, 14.09s/link]"
     ]
    },
    {
     "name": "stdout",
     "output_type": "stream",
     "text": [
      "Like Count: 708\n",
      "Description Text: \n"
     ]
    },
    {
     "name": "stderr",
     "output_type": "stream",
     "text": [
      "Processing Links:  79%|███████▉  | 350/444 [1:15:58<21:39, 13.83s/link]"
     ]
    },
    {
     "name": "stdout",
     "output_type": "stream",
     "text": [
      "Like Count: 0\n",
      "Description Text: 161001 BOF talk cut shot by @noonas2_bts & sub by @lostlaaamb DO NOT RE-UPLOAD 釜山 One Asia Festival 開幕公演でのトークでジミンが釜山の方言を使う .\n",
      "\n",
      "161001 BOF talk cut shot by @noonas2_bts & sub by @lostlaaamb DO NOT RE-UPLOAD 釜山 One Asia Festival 開幕公演でのトークでジミンが釜山の方言を使う .\n",
      "\n",
      "YouTube 日本語字幕 防弾少年団(BTS) '피 땀 눈물 (Blood Sweat & Tears)' MV Teaser Laaamb Lostراك2, في 06 /10 /20162016/10/06公開@lostlaaamb /DO NOT .\n"
     ]
    },
    {
     "name": "stderr",
     "output_type": "stream",
     "text": [
      "Processing Links:  79%|███████▉  | 351/444 [1:16:11<21:21, 13.78s/link]"
     ]
    },
    {
     "name": "stdout",
     "output_type": "stream",
     "text": [
      "Like Count: 3800\n",
      "Description Text: ↓↓↓　仮想通貨法　是非ご確認下さい　↓↓↓\n",
      "\n",
      "「情報通信技術の進展等の環境変化に対応するための銀行法等の一部を改正する法律（平成28年法律第62号）」が平成29年（2017年）4月に施行されました。\n",
      "これを「仮想通貨法」と解釈することにします。\n",
      "\n",
      "ここでは仮想通貨の定義がなされ[1号仮想通貨（資金決済法2条5項1号）]、仮想通貨交換業者でなければ、仮想通貨の売買または交換はできないと定義されています。\n",
      "これを逆に解釈すると、仮想通貨、暗号通貨と言ってても、法律上の仮想通貨に定義されないものは、仮想通貨交換業者を通さなくても売買できるということになります。\n",
      "更に解釈を深めると、仮想通貨交換業者で取り扱っていない仮想通貨は、法律で定義されている仮想通貨ではないということになります。\n",
      "\n",
      "\n",
      "＜1号仮想通貨（資金決済法2条5項1号）＞\n",
      "1.物品の購入・借り受け又はサービスの提供を受ける場合に、これらの代価の弁済のために不特定の者に対して使用できること\n",
      "2.不特定の者を相手方として購入・売却ができる財産的価値であること\n",
      "3.電子機器その他の物に電子的方法により記録されていて、電子情報処理組織を用いて移転することができるもの\n",
      "4.日本および外国の通貨、ならびに通貨建資産でないこと\n",
      "\n",
      "＜2号仮想通貨（資金決済法2条5項2号）＞\n",
      "1.不特定の者を相手方として1号仮想通貨と相互に交換ができる財産的価値であること\n",
      "2.電子情報処理組織を用いて移転することができるもの\n",
      "（物品の購入などができる1号仮想通貨とは異なり、1号仮想通貨と交換ができるものが2号仮想通貨です。）\n",
      "\n",
      "＜仮想通貨交換業者として登録に必要な要件として主なもの＞\n",
      "1.株式会社または外国仮想通貨交換業者（国内に営業所が必要）であること\n",
      "2.外国仮想通貨交換業者は、国内における代表者がいること\n",
      "3.資本金の額が一千万円以上で、純資産額がマイナスでないこと\n",
      "4.仮想通貨交換業を適正かつ確実に遂行する体制の整備が行われていること\n",
      "5.法令遵守のために必要な体制の整備が行われていること\n",
      "6.他に行う事業が公益に反しないこと\n",
      "7.取締役若しくは監査役又は会計参与等が破産や刑に処せられた等の欠格事由がないこと\n",
      "\n",
      "消費者センター経由で確認したところ、プレセールの仮想通貨も扱いは同じとのこと。\n",
      "\n",
      "ところで、Fintech Gate Asia株式会社は仮想通貨交換業者でしょうか？\n",
      "\n",
      "金融庁　仮想通貨の利用者のみなさまへ\n",
      "http://www.fsa.go.jp/policy/virtual_c...\n",
      "仮想通貨交換業者登録一覧\n",
      "http://www.fsa.go.jp/menkyo/menkyoj/k...\n",
      "\n",
      "【ヤヴァイ！】　と思ったら下記の資料と、初めに何がきっかけでこの案件を知ったを思い出して資料にして、下記の資料を添えて、消費者センターや弁護士に相談に行ってください。\n",
      "行動は早いほうが良いです。出来る限り迅速に。\n",
      "https://drive.google.com/file/d/0B_Wi...\n",
      "（右クリックでファイルをダウンロード）\n",
      "\n",
      "\n",
      "\n",
      "以下、メール引用\n",
      "\n",
      "ONE ASIA→１週間で１億円のご案内\n",
      "\n",
      "必ず参加者全員に１週間で「１億円の資産を約束する!!」\n",
      "日本から世界規模で展開する前代未聞のプロジェクトとは？\n",
      "↓\n",
      "http://oneasia2017.com/ssfyue1/\n",
      "\n",
      "はじめまして\n",
      "渡邉幸司(わたなべ こうじ)\n",
      "と言います。\n",
      "\n",
      "今回はONE ASIAという\n",
      "世界規模のプロジェクトへ\n",
      "興味をもって頂いて\n",
      "\n",
      "本当にありがとうございます\n",
      "\n",
      "このプロジェクトであなたに\n",
      "僕がお約束させて頂くことは\n",
      "\n",
      "たった１つだけ。\n",
      "\n",
      "それは１週間(７日後)で\n",
      "１億円を得ていただく。\n",
      "\n",
      "ということです。\n",
      "\n",
      "「１週間で１億円」\n",
      "\n",
      "常識的に考えて見れば\n",
      "かなり非常識な話です。\n",
      "\n",
      "でも、そんな非常識な\n",
      "“１週間で１億円儲ける事”が\n",
      "当たり前になる理由が\n",
      "\n",
      "明確に存在します。\n",
      "\n",
      "興味がある方はまず\n",
      "こちらをご覧ください。\n",
      "↓\n",
      "http://oneasia2017.com/ssfyue1/\n",
      "\n",
      "「１週間で全員が１億円？\n",
      "そんなバカバカしい話...」\n",
      "\n",
      "と、そう思う方が\n",
      "大半だと思います。\n",
      "\n",
      "もちろん僕も確実に１週間で\n",
      "１億円を儲けて頂けるお話を\n",
      "\n",
      "最初から信じて頂けるなんて\n",
      "これっぽっちも思っていません\n",
      "\n",
      "ただ、疑ってでもいい。\n",
      "\n",
      "少しでも１週間で１億円を\n",
      "あなたに得て頂けるお話に\n",
      "少しでも興味があるのなら\n",
      "\n",
      "まずは下記をご覧ください。\n",
      "\n",
      "勉強も時間も努力も不要で\n",
      "今、世界で最も勢いのある\n",
      "\n",
      "世界最先端の手法によって\n",
      "あなたに１週間で１億円を\n",
      "必ず約束できると断言します\n",
      "↓\n",
      "http://oneasia2017.com/ssfyue1/\n",
      "\n",
      "さて、ここで１つ。\n",
      "\n",
      "あなたに宣言をします。\n",
      "\n",
      "-------------------------------\n",
      "僕は長々と内容をひっぱって\n",
      "最終的に高額塾やノウハウや\n",
      "ツールを販売するという事は\n",
      "絶対にしないと断言をします。\n",
      "\n",
      "このONE ASIAというプロジェクトで\n",
      "僕があなたから１円足りともお金を\n",
      "頂く事はないと宣言しますのでその点は\n",
      "安心して見て頂ければと思います。\n",
      "-------------------------------\n",
      "\n",
      "というのも動画でも少し\n",
      "お話をさせて頂きましたが\n",
      "\n",
      "僕は金融業界を中心として\n",
      "ここ２０年間動いてきました。\n",
      "\n",
      "ですから\n",
      "\n",
      "インターネットビジネスというか\n",
      "いわゆるネット商売をされている方のことは\n",
      "あまりよく分からないのですが\n",
      "\n",
      "藤本さんから簡単に聞いた話だと\n",
      "引き延ばすだけ引き延ばして最終的に\n",
      "何十万円もするような塾であったり\n",
      "\n",
      "稼ぐノウハウやFXや株ツールなどを\n",
      "売りつけるという方が多いと聞きます。\n",
      "\n",
      "ですので、まずここでハッキリと\n",
      "画面の前のみなさんに宣言します。\n",
      "\n",
      "僕はONE ASIAという\n",
      "プロジェクトにおいて\n",
      "\n",
      "「あなたに１週間で１億円を\n",
      "確実に手に入れて頂きます。」\n",
      "\n",
      "でも・・・\n",
      "\n",
      "「あなたから僕がお金を頂く事は\n",
      "１円足りともしないと誓います。」\n",
      "\n",
      "\n",
      "僕はあなたに隠さず全て\n",
      "１億円を儲けるための情報を\n",
      "お話をさせて頂きますが\n",
      "\n",
      "あなたから金銭を頂く事は\n",
      "この先ずっと絶対にしない。\n",
      "\n",
      "その前提で興味のある方は\n",
      "ぜひ下記をご覧ください。\n",
      "\n",
      "「ONE ASIA」という\n",
      "プロジェクトについて\n",
      "お話させて頂きました。\n",
      "↓\n",
      "http://oneasia2017.com/ssfyue1/\n",
      "\n",
      "=====================\n",
      "       実は...ONE ASIA は\n",
      "     画面の前のみなさんへ\n",
      "このよう形で公開する予定は\n",
      "   一切ありませんでした。\n",
      "=====================\n",
      "\n",
      "本当はこのONE ASIAは僕が仕事で\n",
      "コンサルティングを担当させて貰っている\n",
      "藤本さんにだけ内緒でお話しして\n",
      "\n",
      "話を進めていこうと思っていました。\n",
      "\n",
      "ただ、藤本さんから\n",
      "\n",
      "「渡邉さん、そんなにすごい話なら\n",
      "ぜひより多くの方に伝えて頂けませんか？」\n",
      "\n",
      "・・・と言われたのがキッカケで\n",
      "こうしてみなさんにもONE ASIAについて\n",
      "お話しさせて頂く事となりました。\n",
      "\n",
      "幸いな事にONE ASIAの仕組み上\n",
      "どれだけたくさんの方が参加されても\n",
      "\n",
      "「１週間で１億円を得て頂く。」\n",
      "\n",
      "という事が実現可能である上に\n",
      "\n",
      "参加者や協賛者の方が\n",
      "「１億円」を手に入れて頂く上で\n",
      "何か特別な作業や操作が不要だったので\n",
      "僕もOKをさせて頂きました。\n",
      "\n",
      "こんなことをいうのもあれですが\n",
      "元々藤本さんへ案内しようと思っていた\n",
      "スーパークローズド級の案件なので\n",
      "\n",
      "その中身と再現性の高さはピカイチです。\n",
      "\n",
      "もちろん一般の方には\n",
      "未だ出回っていないですし\n",
      "これが世界で初めて\n",
      "\n",
      "というよりも本来はまだまだ\n",
      "一般公開しないプロジェクトを\n",
      "内密に動画をご覧のみなさんへ\n",
      "\n",
      "お伝えするという形になります。\n",
      "\n",
      "現段階で参加して１週間で\n",
      "１億円を手に入れるというのは\n",
      "本来は限られた億万長者や\n",
      "\n",
      "金融業界のトップ陣と\n",
      "特殊なコネを持っている人間しか\n",
      "知ることすら出来ない。\n",
      "\n",
      "そういうレベルのプロジェクトが\n",
      "ONE ASIAであるという事をしっかりと\n",
      "今、認識して頂けると幸いです。\n",
      "\n",
      "今はまだ・・・\n",
      "\n",
      "「１週間で１億円なんて（笑）」と\n",
      "今は鼻で笑うようかもしれませんが\n",
      "\n",
      "１週間後にみなさんの手元へ\n",
      "本当に「１億円」が入った時に\n",
      "\n",
      "きっと鳥肌すら立つほどの\n",
      "感動を覚えることかと思います。\n",
      "↓\n",
      "http://oneasia2017.com/ssfyue1/\n",
      "\n",
      "=====================\n",
      "　 さて、ここで少しだけ\n",
      "　僕「渡邉幸司 」について\n",
      "   自己紹介させてください\n",
      "=====================\n",
      "\n",
      "\n",
      "僕の自己紹介なんて\n",
      "興味がないと思いますが\n",
      "\n",
      "一応これからONE ASIAという\n",
      "誰でも１億円は手に入れることができる\n",
      "プロジェクトをご案内させて頂く\n",
      "\n",
      "その案内人として\n",
      "\n",
      "僕がどういう人間なのか\n",
      "少しだけお話しさせてください。\n",
      "\n",
      "まず先ほどもし少しだけ\n",
      "お話をさせて頂きましたが\n",
      "\n",
      "インターネットの世界ではなく\n",
      "金融業界でお仕事をさせて貰って\n",
      "約２０年ほどになります。\n",
      "\n",
      "普段はM&Aや貿易業\n",
      "土地や不動産の売買などを\n",
      "\n",
      "商売としている方のコンサルティングや\n",
      "未公開のスーパークローズド案件の紹介を\n",
      "昔から今までずっとやってきています。\n",
      "\n",
      "もちろん僕自身も\n",
      "金融業界で仕事をさせて貰って\n",
      "もう２０年ですから\n",
      "\n",
      "かなり業界に関しては精通していて\n",
      "ITバブルと呼ばれた時代も経験しましたし\n",
      "\n",
      "SoftBankだったり\n",
      "Yahoo!だったりと\n",
      "\n",
      "わずか数百万円から1億円を\n",
      "超えていった株の売買をし\n",
      "\n",
      "１０億円くらいの資産を作ったりしてきました。\n",
      "\n",
      "また、名前は大きくは出せないのですが\n",
      "\n",
      "海外の巨大財閥グループと\n",
      "太いコネクションを持っていたので\n",
      "\n",
      "その関係で新規公開株でまた\n",
      "莫大な資産を築き上げたり\n",
      "\n",
      "あるいは香港で不動産投資をやったり\n",
      "今ではアフリカの鉱山や資源開発なんかにも\n",
      "かなりのお金を投資したりしています。\n",
      "\n",
      "ようは金融業界というところで\n",
      "かなり長い間経験を積んでいて\n",
      "\n",
      "実績も知識も絶対に人には負けないと\n",
      "自分で自信を持って言えるくらいには\n",
      "金融業界に精通しているという事です。\n",
      "\n",
      "そういう職業的な立場もあって\n",
      "僕の元には世の中一般に出回る前の情報や\n",
      "超一級の案件が回ってきます。\n",
      "\n",
      "それこそわずか１０万円が数百万円\n",
      "数千万円になるような話であったり\n",
      "\n",
      "長期的に毎月１０%とか２０%の利率で\n",
      "資産運用が可能になる話であったり\n",
      "\n",
      "いわゆる実業家や投資家\n",
      "総じて大富豪向けの超一級案件や\n",
      "プロジェクトが回ってくるのです。\n",
      "\n",
      "\n",
      "========================\n",
      "　ただ今回あなたに動画の中で\n",
      "　しっかりとお話をさせて頂く\n",
      "\n",
      "　「１週間で１億円を得る」\n",
      "\n",
      "　 ONE ASIAという世界規模の\n",
      "一大プロジェクトは他のそれとは\n",
      "　   一味も二味も違います。\n",
      "========================\n",
      "\n",
      "はっきりいって異次元。\n",
      "\n",
      "（以下省略）\n",
      "\n",
      "\n",
      "\n",
      "それでは、また。\n",
      "\n",
      "渡邉幸司\n",
      "\n",
      "暗号通貨 Cyva\n"
     ]
    },
    {
     "name": "stderr",
     "output_type": "stream",
     "text": [
      "Processing Links:  79%|███████▉  | 352/444 [1:16:23<20:03, 13.08s/link]"
     ]
    },
    {
     "name": "stdout",
     "output_type": "stream",
     "text": [
      "Like Count: 13\n",
      "Description Text: TREASURE SPECIAL OFFLINE FAN\n",
      "EVENT\n",
      "\n",
      "\n",
      "謎のイベント、BONABONAのスペシャルオフラインイベントに行ってきました！\n",
      "\n",
      "\n",
      "撮影OKなイベントだったため\n",
      "最近購入したGALAXYのスマホと\n",
      "4K撮影できるビデオカメラで\n",
      "TREASUREくんたちを撮ってきました✌🏻🌟\n",
      "コンサートの時とは違う環境だったことや\n",
      "初めて使うスマホとカメラ撮影だったので\n",
      "初めてのことばかりで上手くできてない部分も\n",
      "ありますが良い経験でした＼(^o^)／\n",
      "\n",
      "\n",
      "7:47 字幕「調べるの大丈夫」❌→「調べるの大事」\n",
      "\n",
      "\n",
      "\n",
      "💎Instagram\n",
      "  / liccarat  \n",
      "💎Twitter\n",
      "  / liccarat  \n",
      "💎TikTok\n",
      "⁠⁠⁠⁠⁠⁠⁠⁠⁠⁠⁠⁠@liccarat\n"
     ]
    },
    {
     "name": "stderr",
     "output_type": "stream",
     "text": [
      "Processing Links:  80%|███████▉  | 353/444 [1:16:36<19:39, 12.96s/link]"
     ]
    },
    {
     "name": "stdout",
     "output_type": "stream",
     "text": [
      "Like Count: 86\n",
      "Description Text: \n"
     ]
    },
    {
     "name": "stderr",
     "output_type": "stream",
     "text": [
      "Processing Links:  80%|███████▉  | 354/444 [1:16:48<19:14, 12.83s/link]"
     ]
    },
    {
     "name": "stdout",
     "output_type": "stream",
     "text": [
      "Like Count: 70\n",
      "Description Text: Welcome and thank you so much for watching my video! \n",
      "Please remember to like, comment, and subscribe for even more videos in the near future (hopefully lol).\n",
      "\n",
      "You can also show me your loving support on my Patreon.\n",
      "  / giohansanan  \n",
      "P.S. \n",
      "I forgot to tell you guys a little bit about me (hopefully this list should make it up).\n",
      "1. My channel name is my REAL name.\n",
      "2. I am doing this with minimal knowledge.\n",
      "3. I am Thai American with a bit of Chinese and bilingual (hence the accent).\n",
      "4. I am a HUGE fan of K-Pop (it's the only music I listen to everyday).\n",
      "5. I have been getting into a LOT of K-Dramas lately (I may or may not react to those as well on this channel).\n",
      "6. I have been trying to get caught up with Tokusatsu Shows that I missed since my childhood (I'm a such a big geek lol).\n",
      "7. I have been a Gamer for most of my life (I am a PlayStation guy, and yes I do have a PS5 lol).\n",
      "8. I used to be an Anime watcher (I stopped around 2019 because I was overwatching them).\n",
      "9. I love to stay at home \"When the weekend comes!\"\n",
      "10. I am a Cat person as in I am like a cat.\n",
      "\n",
      "Original Video: \n",
      "   • TREASURE - ‘B.O.M.B (kaboom ver.)’ DA...  \n",
      "No Copyright Infringement Intended\n",
      "\n",
      "#TREASURE #트레저 #BOMB #kaboomver #DANCE_PERFORMANCE_VIDEO #OUTNOW #YG\n"
     ]
    },
    {
     "name": "stderr",
     "output_type": "stream",
     "text": [
      "Processing Links:  80%|███████▉  | 355/444 [1:17:00<18:47, 12.67s/link]"
     ]
    },
    {
     "name": "stdout",
     "output_type": "stream",
     "text": [
      "Like Count: 10\n",
      "Description Text: \n"
     ]
    },
    {
     "name": "stderr",
     "output_type": "stream",
     "text": [
      "Processing Links:  80%|████████  | 356/444 [1:17:13<18:33, 12.66s/link]"
     ]
    },
    {
     "name": "stdout",
     "output_type": "stream",
     "text": [
      "Like Count: 0\n",
      "Description Text: どうもヴァンレックスです。\n",
      "21歳の5人で活動しています。\n",
      "チャンネル登録お願いします！\n",
      "インスタグラムやTiktok・Twitterもやっているのでぜひみてください\n",
      "【インスタグラム】\n",
      "  /   \n",
      "【ツイッター】\n",
      "  / vanrexx6  \n",
      "Tiktokでおなじみ松田家が生み出したペンタゴンダンス。\n",
      "ダンスは奥が深い。ダンスは動く。当たり前のことが当たり前じゃないのがこの世界。\n"
     ]
    },
    {
     "name": "stderr",
     "output_type": "stream",
     "text": [
      "Processing Links:  80%|████████  | 357/444 [1:17:26<18:19, 12.64s/link]"
     ]
    },
    {
     "name": "stdout",
     "output_type": "stream",
     "text": [
      "Like Count: 3\n",
      "Description Text: #LDH #E-girls #アジアソングフェスティバル\n"
     ]
    },
    {
     "name": "stderr",
     "output_type": "stream",
     "text": [
      "Processing Links:  81%|████████  | 358/444 [1:17:48<22:08, 15.45s/link]"
     ]
    },
    {
     "name": "stdout",
     "output_type": "stream",
     "text": [
      "Like Count: 3400\n",
      "Description Text: Treasure performed 3 songs at BOF2023. All are my favorites 😍\n",
      "#Treasure #Bona #kpop #bof2023 #busan #korea #트레저\n"
     ]
    },
    {
     "name": "stderr",
     "output_type": "stream",
     "text": [
      "Processing Links:  81%|████████  | 359/444 [1:18:00<20:44, 14.64s/link]"
     ]
    },
    {
     "name": "stdout",
     "output_type": "stream",
     "text": [
      "Like Count: 64\n",
      "Description Text: 부산 원아페 굿뜨 수고하셧뜹미다\n"
     ]
    },
    {
     "name": "stderr",
     "output_type": "stream",
     "text": [
      "Processing Links:  81%|████████  | 360/444 [1:18:13<19:38, 14.03s/link]"
     ]
    },
    {
     "name": "stdout",
     "output_type": "stream",
     "text": [
      "좋아요 수 텍스트를 가져오는 중 오류 발생: Message: no such element: Unable to locate element: {\"method\":\"css selector\",\"selector\":\".yt-spec-button-shape-next--icon-leading[aria-label^=\"나 외에 사용자\"]\"}\n",
      "  (Session info: chrome=123.0.6312.123); For documentation on this error, please visit: https://www.selenium.dev/documentation/webdriver/troubleshooting/errors#no-such-element-exception\n",
      "Stacktrace:\n",
      "\tGetHandleVerifier [0x00007FF61D717032+63090]\n",
      "\t(No symbol) [0x00007FF61D682C82]\n",
      "\t(No symbol) [0x00007FF61D51EC65]\n",
      "\t(No symbol) [0x00007FF61D56499D]\n",
      "\t(No symbol) [0x00007FF61D564ADC]\n",
      "\t(No symbol) [0x00007FF61D5A5B37]\n",
      "\t(No symbol) [0x00007FF61D58701F]\n",
      "\t(No symbol) [0x00007FF61D5A3412]\n",
      "\t(No symbol) [0x00007FF61D586D83]\n",
      "\t(No symbol) [0x00007FF61D5583A8]\n",
      "\t(No symbol) [0x00007FF61D559441]\n",
      "\tGetHandleVerifier [0x00007FF61DB125AD+4238317]\n",
      "\tGetHandleVerifier [0x00007FF61DB4F70D+4488525]\n",
      "\tGetHandleVerifier [0x00007FF61DB479EF+4456495]\n",
      "\tGetHandleVerifier [0x00007FF61D7F0576+953270]\n",
      "\t(No symbol) [0x00007FF61D68E54F]\n",
      "\t(No symbol) [0x00007FF61D689224]\n",
      "\t(No symbol) [0x00007FF61D68935B]\n",
      "\t(No symbol) [0x00007FF61D679B94]\n",
      "\tBaseThreadInitThunk [0x00007FFFE7CF257D+29]\n",
      "\tRtlUserThreadStart [0x00007FFFE8EAAA48+40]\n",
      "\n",
      "Like Count: 0\n",
      "Description Text: 歡迎追蹤IG 👉🏻 zncu.omg\n",
      "FB粉絲專頁👉🏻 \n",
      "  / zncu.omg  \n",
      "- \n",
      "\n",
      "出發前沒有特別規畫任何行程\n",
      "完全就是跟著感覺走~~~\n",
      "就這麼剛好遇到釜山一年一度的大型活動BOF(BusanOneasiaFestivel)\n",
      "也因為沒有知道這檔活動\n",
      "我們就這樣跟zion.T錯過了 T.T\n",
      "今年一定要好好的規劃一下來去看演唱會啦!!!!!\n",
      "\n",
      "-\n",
      "\n",
      "更多影片看這裡\n",
      "【KPOP歌曲知多少(ft. 台韓酒MIX BOMB) 】\n",
      "   • KPOP歌曲知多少(ft. 台韓酒MIX BOMB) ｜NiHOW忻彤學  \n",
      "【這個時間點絕對可以認識到韓國歐爸！韓國的夜晚就是這樣玩的】\n",
      "   • 這個時間點絕對可以認識到韓國歐爸！韓國的夜晚就是這樣玩的 ｜ 你好忻彤學  \n",
      "【KPOP歌曲】有聽沒懂 - 少女時代 TWICE 歌曲超中二 / SJ 泫雅 神重複的意義? / 2NE1嗆到抓不住!\n",
      "   • 【KPOP歌曲】有聽沒懂 - 少女時代 TWICE 歌曲超中二 / SJ ...  \n",
      "【IZ*ONE 아이즈원 - 라비앙로즈 (La Vie en Rose) MV Reaction】\n",
      "   • IZ*ONE 아이즈원 - 라비앙로즈 (La Vie en Rose) ...  \n",
      "【Get Ready Vlog With Me 在台灣的偶像練習生日常？！台灣經紀公司和錄音室跟韓國一樣豪華嗎？！】\n",
      "   • Get Ready Vlog With Me #在台灣的偶像練習生日常？！...  \n",
      "#釜山 #BUSAN #BOF2018\n"
     ]
    },
    {
     "name": "stderr",
     "output_type": "stream",
     "text": [
      "Processing Links:  81%|████████▏ | 361/444 [1:18:26<18:52, 13.65s/link]"
     ]
    },
    {
     "name": "stdout",
     "output_type": "stream",
     "text": [
      "Like Count: 33\n",
      "Description Text: [8K] 230909 제로베이스원 ZB1 🎧 'New Kidz On The Block' | ZEROBASEONE 제베원 | 그린 리본 마라톤 페스티벌, Green Ribbon Marathon Festival, Green Ribbon Concert @잠실한강공원 트랙구장 | 직캠 fancam by 스핑크스\n",
      "\n",
      "📹 촬영 : Nikon Z9\n",
      "\n",
      "#제로베이스원 #ZEROBASEONE #ZB1\n",
      "\n",
      "✘ DO NOT EDIT,  DO NOT RE-UPLOAD THiS ViDEO !\n"
     ]
    },
    {
     "name": "stderr",
     "output_type": "stream",
     "text": [
      "Processing Links:  82%|████████▏ | 362/444 [1:18:38<18:04, 13.23s/link]"
     ]
    },
    {
     "name": "stdout",
     "output_type": "stream",
     "text": [
      "Like Count: 177\n",
      "Description Text: \n"
     ]
    },
    {
     "name": "stderr",
     "output_type": "stream",
     "text": [
      "Processing Links:  82%|████████▏ | 363/444 [1:18:51<17:49, 13.20s/link]"
     ]
    },
    {
     "name": "stdout",
     "output_type": "stream",
     "text": [
      "Like Count: 0\n",
      "Description Text: 0:00 시작\n",
      "0:45 스튜디오 안에서 유토를 만난 소감\n",
      "1:06 유토와 현석이의 인연의 시작\n",
      "1:30 서로의 첫인상과 현인상의 다른 점은?\n",
      "2:26 서로의 휴대폰 저장명은?\n",
      "2:45 잼난 믹스나인 에피소드\n",
      "3:18 유토의 현석이 폭풍칭찬 예고\n",
      "3:32 shout to 유토 동생\n",
      "3:49 서로의 팀에서 최애곡은?\n",
      "4:54 마무리\n",
      "\n",
      "230731 스테이션제트\n",
      "\n",
      "#온앤오프 #ONF #유 #U #트레저 #TREASURE #최현석 #CHOIHYUNSUK #스테이션제트 #stationz\n"
     ]
    },
    {
     "name": "stderr",
     "output_type": "stream",
     "text": [
      "Processing Links:  82%|████████▏ | 364/444 [1:19:03<17:14, 12.94s/link]"
     ]
    },
    {
     "name": "stdout",
     "output_type": "stream",
     "text": [
      "Like Count: 15\n",
      "Description Text: Twitter @risk1026\n"
     ]
    },
    {
     "name": "stderr",
     "output_type": "stream",
     "text": [
      "Processing Links:  82%|████████▏ | 365/444 [1:19:21<18:43, 14.22s/link]"
     ]
    },
    {
     "name": "stdout",
     "output_type": "stream",
     "text": [
      "Like Count: 1600\n",
      "Description Text: \n"
     ]
    },
    {
     "name": "stderr",
     "output_type": "stream",
     "text": [
      "Processing Links:  82%|████████▏ | 366/444 [1:19:33<17:47, 13.69s/link]"
     ]
    },
    {
     "name": "stdout",
     "output_type": "stream",
     "text": [
      "Like Count: 36\n",
      "Description Text: cr：1j2j6、2JEUN、hana xiajyj、kimparkkimwow、Rumen Radev\n"
     ]
    },
    {
     "name": "stderr",
     "output_type": "stream",
     "text": [
      "Processing Links:  83%|████████▎ | 367/444 [1:19:46<17:19, 13.50s/link]"
     ]
    },
    {
     "name": "stdout",
     "output_type": "stream",
     "text": [
      "Like Count: 8\n",
      "Description Text: 브레이브걸스 (Brave Girls) performing 롤린 (Rollin') at Popstival 2022 Manila Philippines\n",
      "\n",
      "NO COPYRIGHT INFRINGEMENT INTENDED\n",
      "\n",
      "Credit to: Brave Entertainment\n"
     ]
    },
    {
     "name": "stderr",
     "output_type": "stream",
     "text": [
      "Processing Links:  83%|████████▎ | 368/444 [1:19:59<17:00, 13.43s/link]"
     ]
    },
    {
     "name": "stdout",
     "output_type": "stream",
     "text": [
      "Like Count: 16\n",
      "Description Text: - MORE INFO - \n",
      "● facebook: \n",
      "  / stardreamentertainment  \n",
      "● instagram: \n",
      "  / sdegermany  \n"
     ]
    },
    {
     "name": "stderr",
     "output_type": "stream",
     "text": [
      "Processing Links:  83%|████████▎ | 369/444 [1:20:12<16:37, 13.30s/link]"
     ]
    },
    {
     "name": "stdout",
     "output_type": "stream",
     "text": [
      "Like Count: 52\n",
      "Description Text: why did I laugh so much making this\n"
     ]
    },
    {
     "name": "stderr",
     "output_type": "stream",
     "text": [
      "Processing Links:  83%|████████▎ | 370/444 [1:20:25<16:14, 13.17s/link]"
     ]
    },
    {
     "name": "stdout",
     "output_type": "stream",
     "text": [
      "Like Count: 24\n",
      "Description Text: \n"
     ]
    },
    {
     "name": "stderr",
     "output_type": "stream",
     "text": [
      "Processing Links:  84%|████████▎ | 371/444 [1:20:38<15:54, 13.08s/link]"
     ]
    },
    {
     "name": "stdout",
     "output_type": "stream",
     "text": [
      "Like Count: 0\n",
      "Description Text: MBC Show Champion in Manila\n",
      "MOA Arena\n",
      "September 03, 2016\n",
      "\n",
      "Sorry for the shaky shot and all the screaming. The section I sat was the section for ARMYs so... 😆😆\n"
     ]
    },
    {
     "name": "stderr",
     "output_type": "stream",
     "text": [
      "Processing Links:  84%|████████▍ | 372/444 [1:20:51<15:35, 12.99s/link]"
     ]
    },
    {
     "name": "stdout",
     "output_type": "stream",
     "text": [
      "Like Count: 0\n",
      "Description Text: 日本人気ドラマ「孤独のグルメ」韓国屋台にSS501 キム・キュジョンが登場…ソウル編が本日放送 Big News TV \n",
      " Reginald Reed  \n",
      "   / @reginaldreed3138  \n"
     ]
    },
    {
     "name": "stderr",
     "output_type": "stream",
     "text": [
      "Processing Links:  84%|████████▍ | 373/444 [1:21:04<15:14, 12.88s/link]"
     ]
    },
    {
     "name": "stdout",
     "output_type": "stream",
     "text": [
      "Like Count: 5\n",
      "Description Text: \n"
     ]
    },
    {
     "name": "stderr",
     "output_type": "stream",
     "text": [
      "Processing Links:  84%|████████▍ | 374/444 [1:21:16<15:02, 12.89s/link]"
     ]
    },
    {
     "name": "stdout",
     "output_type": "stream",
     "text": [
      "Like Count: 3\n",
      "Description Text: 221021 Brave Girls - Whistle @ POPSTIVAL 2022\n"
     ]
    },
    {
     "name": "stderr",
     "output_type": "stream",
     "text": [
      "Processing Links:  84%|████████▍ | 375/444 [1:21:29<14:44, 12.81s/link]"
     ]
    },
    {
     "name": "stdout",
     "output_type": "stream",
     "text": [
      "Like Count: 27\n",
      "Description Text: \n"
     ]
    },
    {
     "name": "stderr",
     "output_type": "stream",
     "text": [
      "Processing Links:  85%|████████▍ | 376/444 [1:21:42<14:31, 12.81s/link]"
     ]
    },
    {
     "name": "stdout",
     "output_type": "stream",
     "text": [
      "Like Count: 12\n",
      "Description Text: \n"
     ]
    },
    {
     "name": "stderr",
     "output_type": "stream",
     "text": [
      "Processing Links:  85%|████████▍ | 377/444 [1:21:55<14:17, 12.79s/link]"
     ]
    },
    {
     "name": "stdout",
     "output_type": "stream",
     "text": [
      "Like Count: 8\n",
      "Description Text: 主は英語のみで、韓国語は一切できないので、自分が見やすいように、と作っている動画です。英訳から訳しておりますので、ニュアンスに差が生じる事があります。しっかりとした日本語訳で見たい！という方は、たくさんの日本語字幕をあげてくださってる方がいるので、そちらでの視聴をお勧めします。\n",
      "\n",
      "元動画: \n",
      "   • If We're Together, I'm All Good! Want...  \n"
     ]
    },
    {
     "name": "stderr",
     "output_type": "stream",
     "text": [
      "Processing Links:  85%|████████▌ | 378/444 [1:22:07<14:00, 12.74s/link]"
     ]
    },
    {
     "name": "stdout",
     "output_type": "stream",
     "text": [
      "Like Count: 60\n",
      "Description Text: \n"
     ]
    },
    {
     "name": "stderr",
     "output_type": "stream",
     "text": [
      "Processing Links:  85%|████████▌ | 379/444 [1:22:20<13:45, 12.71s/link]"
     ]
    },
    {
     "name": "stdout",
     "output_type": "stream",
     "text": [
      "Like Count: 24\n",
      "Description Text: \n"
     ]
    },
    {
     "name": "stderr",
     "output_type": "stream",
     "text": [
      "Processing Links:  86%|████████▌ | 380/444 [1:22:32<13:29, 12.64s/link]"
     ]
    },
    {
     "name": "stdout",
     "output_type": "stream",
     "text": [
      "Like Count: 341\n",
      "Description Text:   / braveg_yj  \n",
      "#브레이브걸스 #유정 #직캠\n"
     ]
    },
    {
     "name": "stderr",
     "output_type": "stream",
     "text": [
      "Processing Links:  86%|████████▌ | 381/444 [1:22:45<13:15, 12.63s/link]"
     ]
    },
    {
     "name": "stdout",
     "output_type": "stream",
     "text": [
      "Like Count: 367\n",
      "Description Text: \n"
     ]
    },
    {
     "name": "stderr",
     "output_type": "stream",
     "text": [
      "Processing Links:  86%|████████▌ | 382/444 [1:22:58<13:02, 12.62s/link]"
     ]
    },
    {
     "name": "stdout",
     "output_type": "stream",
     "text": [
      "Like Count: 4\n",
      "Description Text: Unboxing Brave Girls new Mini Album \n",
      "\n",
      "Thank You\n",
      "Tracks:\n",
      "\n",
      "1. Thank You \n",
      "2. You and I \n",
      "3. Love is gone\n",
      "4. Can I Love You \n",
      "5. Thank You (remix)\n",
      "\n",
      "#kpop #kpopalbumunboxing #bravegirls #bravegirlsthankyou #thankyou #youandi #loveisgone #caniloveyou #minyoung #yujeong #eunji #yuna\n"
     ]
    },
    {
     "name": "stderr",
     "output_type": "stream",
     "text": [
      "Processing Links:  86%|████████▋ | 383/444 [1:23:10<12:51, 12.65s/link]"
     ]
    },
    {
     "name": "stdout",
     "output_type": "stream",
     "text": [
      "Like Count: 5\n",
      "Description Text: hey guys! hwitaekwondo is back! so sorry to everyone who were waiting for this episode! to everyone who are new and to the ones who have been here from the start,thank you so so much for supporting and I love every single one of you\n",
      "\n",
      "Follow me! \n",
      "tiktok:@hwitaekwondo\n",
      "IG:@hwitaekwondo\n",
      "\n",
      "Love you all! ☺️💕\n",
      "\n",
      "Bai Bai~~\n"
     ]
    },
    {
     "name": "stderr",
     "output_type": "stream",
     "text": [
      "Processing Links:  86%|████████▋ | 384/444 [1:23:23<12:37, 12.63s/link]"
     ]
    },
    {
     "name": "stdout",
     "output_type": "stream",
     "text": [
      "Like Count: 17\n",
      "Description Text: MNET COUNTDOWN IN FRANCE VLOG :\n",
      "   • VLOG : MNET-COUNTDOWN IN FRANCE 20231015  \n",
      "More MNET-COUNTDOWN Videos here :\n",
      "   / @ladybangtanarmy  \n",
      "  \n",
      "\n",
      "#treasure #mnet\n"
     ]
    },
    {
     "name": "stderr",
     "output_type": "stream",
     "text": [
      "Processing Links:  87%|████████▋ | 385/444 [1:23:36<12:25, 12.64s/link]"
     ]
    },
    {
     "name": "stdout",
     "output_type": "stream",
     "text": [
      "Like Count: 9\n",
      "Description Text: \n"
     ]
    },
    {
     "name": "stderr",
     "output_type": "stream",
     "text": [
      "Processing Links:  87%|████████▋ | 386/444 [1:23:48<12:14, 12.66s/link]"
     ]
    },
    {
     "name": "stdout",
     "output_type": "stream",
     "text": [
      "Like Count: 223\n",
      "Description Text: TMI 옆에 있는 분이 누구냐고 물어보셔서 브레이브걸스라고 알려드렸더니 이쁘다고 난리가 나서 기뻤습니다.ㅎㅎ\n"
     ]
    },
    {
     "name": "stderr",
     "output_type": "stream",
     "text": [
      "Processing Links:  87%|████████▋ | 387/444 [1:24:01<11:58, 12.60s/link]"
     ]
    },
    {
     "name": "stdout",
     "output_type": "stream",
     "text": [
      "Like Count: 146\n",
      "Description Text: \n"
     ]
    },
    {
     "name": "stderr",
     "output_type": "stream",
     "text": [
      "Processing Links:  87%|████████▋ | 388/444 [1:24:13<11:45, 12.60s/link]"
     ]
    },
    {
     "name": "stdout",
     "output_type": "stream",
     "text": [
      "Like Count: 9\n",
      "Description Text: 【ENG】가수 김요한, 2021 BOF 위아이로 물들였다!! 모 아님 도 무대장악!!! Kim Yo-han 돌곰별곰TV\n",
      "#김요한#2021BOF#위아이\n",
      "\n",
      "돌곰별곰TV\n",
      "\n",
      "각 나라의 자막은 번역기를 통하여 제공하기 때문에 오역이 많을 수 있습니다.\n",
      "이 점 양해 부탁드리며, 항상 열심히 하는 돌곰별곰TV가 되겠습니다.\n",
      "감사합니다.\n",
      "\n",
      "Automatic translation is used for other languages, so mistranslation can be found. Please understand mistranslation. \n",
      "The customer does not use our product currently and wants to buy ours for the first time. Since they feel the burden because of the price, we have proposed an estimate excluding the monitor to lower the price even a little. DolGom ByulGomTV always works hard for you. \n",
      "Thank you.\n",
      "\n",
      "네이버 파파고 다국어 번역 :\n",
      "\n",
      "Singer Kim Yo-han has been colored with 2021 BOF WEI! Take control of the stage!\n",
      "\n",
      "歌手キム·ヨハン、2021BOFウィーアイに染まった！！ 一か八かの舞台掌握!!!\n",
      "\n",
      "歌手金曜漢，2021 BOF WEAIR被染紅了！ 不是的話也要掌握舞臺！！！\n",
      "\n",
      "컨텐츠 요청 및 문의는 sung8381@gmail.com로 연락주세요.\n",
      "\n",
      "Contact us at sung8381@gmail.com for content requests and inquiries.\n",
      "\n",
      "이미지 출처\n",
      "창작자 mm - https://kor.pngtree.com/freepng/carto...\n"
     ]
    },
    {
     "name": "stderr",
     "output_type": "stream",
     "text": [
      "Processing Links:  88%|████████▊ | 389/444 [1:24:26<11:33, 12.61s/link]"
     ]
    },
    {
     "name": "stdout",
     "output_type": "stream",
     "text": [
      "Like Count: 18\n",
      "Description Text: 11명의 소년들이 ‘Wanna One (워너원)’이라는 이름으로 하나가 되다.\n",
      "워너원의 첫 미니앨범 『1X1=1(TO BE ONE)』\n",
      "\n",
      "타이틀곡 ‘에너제틱(Energetic)’은 워너원과 그들의 팬 '워너블'의 첫 만남처럼, 당신과 내가 만나 서로에게 빠져드는 강렬한 설렘이 곡 전반에 투영돼 있다.\n",
      "\n",
      "11 boys are TO BE ONE as Wanna One!\n",
      "\n",
      "Wanna One first mini album 1X1=1(TO BE ONE)\n",
      "\n",
      "The title song, Energetic, reflects a strong atrraction of you and me as if Wanna One meets Wannable for the first time.\n",
      "\n",
      "More about Wanna One @\n",
      "Official facebook: \n",
      "  / wannaone.official  \n",
      "Official twitter: \n",
      "  / wannaone_twt  \n",
      "Official Instagram: \n",
      "  / wannaone.official  \n",
      "Official fan cafe: https://cafe.daum.net/WannaOneOfficial  \n",
      "Avilable on iTunes, Apple Music : https://itun.es/kr/eg-Mlb\n",
      "Listen on Spotify : http://spoti.fi/2fKqeIA\n",
      "\n",
      "CJ E&M Music은 아시아 No.1 엔터테인먼트 기업인 CJ E&M의 음악사업 브랜드로 음원/음반의 투자/제작/유통부터 콘서트/페스티벌 개최까지 포함하고 있습니다. CJ E&M MUSIC과 함께 하는 K-POP 아티스트들의 신곡과 뮤직비디오, 미공개 독점 영상 등을 이곳 YOUTUBE 채널에서 가장 먼저 만나보세요.\n",
      "\n",
      "CJ E&M Music is a music business brand of CJ E&M, Asia's No.1 entertainment company. CJ E&M Music covers investment, production and distribution of album and also provides the best music festival and concerts. Meet the K-POP artists' brand new music videos and exclusive video clips on the official YouTube of CJ E&M Music.\n"
     ]
    },
    {
     "name": "stderr",
     "output_type": "stream",
     "text": [
      "Processing Links:  88%|████████▊ | 390/444 [1:26:17<37:57, 42.18s/link]"
     ]
    },
    {
     "name": "stdout",
     "output_type": "stream",
     "text": [
      "Like Count: 2640000\n",
      "Description Text: 【ENG】가수 강다니엘, 초동 30만 돌파! 압도적 솔로력 입증! Kang Daniel 돌곰별곰TV\n",
      "#강다니엘#YELLOW#Antidote\n",
      "\n",
      "돌곰별곰TV\n",
      "\n",
      "각 나라의 자막은 번역기를 통하여 제공하기 때문에 오역이 많을 수 있습니다.\n",
      "이 점 양해 부탁드리며, 항상 열심히 하는 돌곰별곰TV가 되겠습니다.\n",
      "감사합니다.\n",
      "\n",
      "Automatic translation is used for other languages, so mistranslation can be found. Please understand mistranslation. \n",
      "The customer does not use our product currently and wants to buy ours for the first time. Since they feel the burden because of the price, we have proposed an estimate excluding the monitor to lower the price even a little. DolGom ByulGomTV always works hard for you. \n",
      "Thank you.\n",
      "\n",
      "네이버 파파고 다국어 번역 :\n",
      "\n",
      "Singer Kang Daniel, over 300,000 hearts! Demonstrate overwhelming soloism!\n",
      "\n",
      "歌手カン·ダニエル、初動30万突破！ 圧倒的なソロ力を立証！\n",
      "\n",
      "歌手姜丹尼爾，初冬突破30萬！ 壓倒性的Solo能力認證！\n",
      "\n",
      "컨텐츠 요청 및 문의는 sung8381@gmail.com로 연락주세요.\n",
      "\n",
      "Contact us at sung8381@gmail.com for content requests and inquiries.\n",
      "\n",
      "이미지 출처\n",
      "창작자 mm - https://kor.pngtree.com/freepng/carto...\n"
     ]
    },
    {
     "name": "stderr",
     "output_type": "stream",
     "text": [
      "Processing Links:  88%|████████▊ | 391/444 [1:26:30<29:24, 33.29s/link]"
     ]
    },
    {
     "name": "stdout",
     "output_type": "stream",
     "text": [
      "Like Count: 258\n",
      "Description Text: ★披露した曲\n",
      "【NCT127】Fact Check（不可思議）\n",
      "   • NCT 127 엔시티 127 'Fact Check (불가사의; 不可...  \n",
      "【BE:FIRST】Mainstream\n",
      "   • BE:FIRST / Mainstream -Music Video-  \n",
      "#NCT127\n",
      "#NCT\n",
      "#イリチル\n",
      "#BEFIRST\n"
     ]
    },
    {
     "name": "stderr",
     "output_type": "stream",
     "text": [
      "Processing Links:  88%|████████▊ | 392/444 [1:26:42<23:25, 27.03s/link]"
     ]
    },
    {
     "name": "stdout",
     "output_type": "stream",
     "text": [
      "Like Count: 240\n",
      "Description Text: \n"
     ]
    },
    {
     "name": "stderr",
     "output_type": "stream",
     "text": [
      "Processing Links:  89%|████████▊ | 393/444 [1:26:55<19:25, 22.85s/link]"
     ]
    },
    {
     "name": "stdout",
     "output_type": "stream",
     "text": [
      "Like Count: 2\n",
      "Description Text: 【ENG】위아이 ‘심플리케이팝' '모 아님 도' 무대 선보이며 ‘완성형 만능돌’ 증명했다! WEI 돌곰별곰TV\n",
      "#위아이#위아이모아님도#WEI\n",
      "\n",
      "돌곰별곰TV\n",
      "\n",
      "각 나라의 자막은 번역기를 통하여 제공하기 때문에 오역이 많을 수 있습니다.\n",
      "이 점 양해 부탁드리며, 항상 열심히 하는 돌곰별곰TV가 되겠습니다.\n",
      "감사합니다.\n",
      "\n",
      "Automatic translation is used for other languages, so mistranslation can be found. Please understand mistranslation. \n",
      "The customer does not use our product currently and wants to buy ours for the first time. Since they feel the burden because of the price, we have proposed an estimate excluding the monitor to lower the price even a little. DolGom ByulGomTV always works hard for you. \n",
      "Thank you.\n",
      "\n",
      "네이버 파파고 다국어 번역 :\n",
      "\n",
      "WeI \"Simply K-pop\" and \"Moi-na-do\" performance proved to be a \"complete all-around idol\"!\n",
      "\n",
      "WIIが「シンプリーK-POP」の「一か八かの賭け」を披露し、「完成型万能ドル」を証明した！\n",
      "\n",
      "W.I的\"簡約K-POP\"和\"不是一切\"的舞臺證明了\"完型型萬能偶像\"！\n",
      "\n",
      "컨텐츠 요청 및 문의는 sung8381@gmail.com로 연락주세요.\n",
      "\n",
      "Contact us at sung8381@gmail.com for content requests and inquiries.\n",
      "\n",
      "이미지 출처\n",
      "창작자 mm - https://kor.pngtree.com/freepng/carto...\n"
     ]
    },
    {
     "name": "stderr",
     "output_type": "stream",
     "text": [
      "Processing Links:  89%|████████▊ | 394/444 [1:27:08<16:27, 19.74s/link]"
     ]
    },
    {
     "name": "stdout",
     "output_type": "stream",
     "text": [
      "Like Count: 5\n",
      "Description Text: Most fun song and choreo of the year hahaha. As always, enjoy the video! :)\n",
      "\n",
      "Don't forget to like and subscribe! Thank you guys! :)\n",
      "\n",
      "\n",
      "Follow me on\n",
      "Twitter: \n",
      "  / jnaamor  \n",
      "Instagram: \n",
      "  / jnaamor  \n",
      "#PENTAGON #펜타곤 #DO_or_NOT\n"
     ]
    },
    {
     "name": "stderr",
     "output_type": "stream",
     "text": [
      "Processing Links:  89%|████████▉ | 395/444 [1:27:21<14:33, 17.83s/link]"
     ]
    },
    {
     "name": "stdout",
     "output_type": "stream",
     "text": [
      "Like Count: 14\n",
      "Description Text: \n"
     ]
    },
    {
     "name": "stderr",
     "output_type": "stream",
     "text": [
      "Processing Links:  89%|████████▉ | 396/444 [1:27:34<12:59, 16.25s/link]"
     ]
    },
    {
     "name": "stdout",
     "output_type": "stream",
     "text": [
      "Like Count: 0\n",
      "Description Text: Adiel Mitchell reacts to [MV] BTS(방탄소년단) _ FIRE (불타오르네)\n",
      "\n",
      "Back at you guys with a highly requested video... BTS - Fire and lemme tell you, I NOW see why is such a popular group!\n",
      "\n",
      "Hope you enjoy!\n",
      "\n",
      "If you like this video, be sure to LIKE this video and SUBSCRIBE for more reaction videos like this! Also, leave a comment down below telling me what video you think I should do next! :D\n",
      "\n",
      "Subscribe Today! ► http://bit.ly/2ebeGb0\n",
      "Follow my Instagram ► \n",
      "  / adiellee  \n",
      "Follow me on Twitter ► \n",
      "  / adiellee  \n",
      "Like me on Facebook ► \n",
      "  / adielmitchellofficial  \n",
      "INQUIRIES: adielleemitchell@gmail.com\n"
     ]
    },
    {
     "name": "stderr",
     "output_type": "stream",
     "text": [
      "Processing Links:  89%|████████▉ | 397/444 [1:28:02<15:33, 19.85s/link]"
     ]
    },
    {
     "name": "stdout",
     "output_type": "stream",
     "text": [
      "Like Count: 1100\n",
      "Description Text: \n"
     ]
    },
    {
     "name": "stderr",
     "output_type": "stream",
     "text": [
      "Processing Links:  90%|████████▉ | 398/444 [1:28:14<13:33, 17.68s/link]"
     ]
    },
    {
     "name": "stdout",
     "output_type": "stream",
     "text": [
      "Like Count: 4\n",
      "Description Text: \n"
     ]
    },
    {
     "name": "stderr",
     "output_type": "stream",
     "text": [
      "Processing Links:  90%|████████▉ | 399/444 [1:28:27<12:12, 16.27s/link]"
     ]
    },
    {
     "name": "stdout",
     "output_type": "stream",
     "text": [
      "Like Count: 1\n",
      "Description Text: 2020年10月18日(日)\n",
      "\n",
      "2020年横浜よさこい祭りは、\n",
      "withコロナの祭りとして、感染予防対策を第一に、会場演舞と動画参加を組み合わせて、メイン会場に大型スクリーンを設置し参加チームの演舞を楽しんでいただきました。またyoutube配信も行い、何処からでも参加でき何処にいても見ることができる祭りを実現させました。\n",
      "当たり前だったことが出来ない今、工夫を凝らしていつものように「元気を発信する！」\n",
      "そんな趣旨に賛同してくれたのは、海外を含め、北海道・石川県・愛知県そして関東圏から17チーム。力強い皆様と大きな一歩を踏み出すことができました。\n",
      "\n",
      "\n",
      "\n",
      "\n",
      "【開催にあたりご協力いただきました事業者様】\n",
      "笹田実業株式会社様\n",
      "株式会社サンフォニックス様\n",
      "セカンドステージ株式会社様\n",
      "SET UP様\n",
      "\n",
      "\n",
      "【制作協力】\n",
      "Chibi Douraku/福重 穣二/鈴木 新一/三橋 耕治/武藤萬二郎/庄司光宏/voy74656/mtrostar/平野洋 （敬称略）\n"
     ]
    },
    {
     "name": "stderr",
     "output_type": "stream",
     "text": [
      "Processing Links:  90%|█████████ | 400/444 [1:28:40<11:10, 15.24s/link]"
     ]
    },
    {
     "name": "stdout",
     "output_type": "stream",
     "text": [
      "Like Count: 13\n",
      "Description Text: Esta canción la puedes encontrar en la sección de anuncios, poco a poco ire subiendo más canciones que aparezcan especiales o extras en el juego\n"
     ]
    },
    {
     "name": "stderr",
     "output_type": "stream",
     "text": [
      "Processing Links:  90%|█████████ | 401/444 [1:28:53<10:23, 14.51s/link]"
     ]
    },
    {
     "name": "stdout",
     "output_type": "stream",
     "text": [
      "Like Count: 0\n",
      "Description Text: 부산국제영화제 개막\n",
      "\n",
      "Welcome to Issues and Insiders.\n",
      "Curtains have gone up on this year's Busan International Film Festival and for details on the event this year I have Critic Kim Nemo here in the studio.\n",
      "Nemo it's a pleasure.\n",
      "\n",
      "\n",
      "1) Nemo, let's begin with some basic details about the 28th Busan International Film Festival including its significance and scale.\n",
      "\n",
      "\n",
      "2) Now in light of the festival's internal struggles and the resulting vacancies in leadership, I hear Parasite's lead actor Song Kang-ho will be hosting the event.\n",
      "Do tell us a bit about his selection and role.\n",
      "\n",
      "\n",
      "3) Right then, let's turn now to the actual lineup of this year's Busan movie fiesta, which opens with Jang Kun-jae's  \"Because I hate Korea\".\n",
      "So, what is it about, and why do you suppose was it chosen as the opener?\n",
      "\n",
      "\n",
      "4) Also, Nemo, do tell us about the film that will bring the curtains down this year. \n",
      "\n",
      "\n",
      "5) And aside from the opener and closer, what other screen productions should we keep our eyes on?\n",
      "\n",
      "\n",
      "6) Nemo, I understand Busan this year also has its best-ever lineup of stars for its Actors' House Program.\n",
      "First then, for the sake of those who may not be familiar with this program, do tell us a bit about it and its 2023 lineup.\n",
      "\n",
      "\n",
      "7) Organizers say tickets for both the opening and closing movies are sold out.\n",
      "That being said, how do you explain the popularity of the Busan International Film Festival?\n",
      "\n",
      "\n",
      "8) Nemo, Hollywood actors and writers have been on strike since this past summer and spring respectively.\n",
      "Is this reality affecting the film festival in Busan?\n",
      "\n",
      "\n",
      "9) Here's a tough question now.\n",
      "What, do you suppose, can be done to allow for productive advances in any country's film industry?\n",
      "\n",
      "\n",
      "10) Are there any ways for Busan to sharpen its edge over the global competition in terms of film festivals?\n",
      "I mean, how can the Busan International Film Festival seek to persevere against local politics and to further boost its global standing?\n",
      "\n",
      "\n",
      "All right.\n",
      "\n",
      "#Busan_International_Film_Festival #BIFF #movie #screen #Cinema #culture #부산국제영화제 #Arirang_News #아리랑뉴스\n",
      "\n",
      "📣 Facebook : \n",
      "  / arirangtvnews  \n",
      "📣 Twitter : \n",
      "  / arirangtvnews  \n",
      "📣 Homepage : https://arirang.com/\n",
      "\n",
      "2023-10-04, 14:30 (KST)\n"
     ]
    },
    {
     "name": "stderr",
     "output_type": "stream",
     "text": [
      "Processing Links:  91%|█████████ | 402/444 [1:29:06<09:49, 14.04s/link]"
     ]
    },
    {
     "name": "stdout",
     "output_type": "stream",
     "text": [
      "Like Count: 20\n",
      "Description Text: November . 2 , 2017\n",
      "\n",
      "Hi Guys ! This is my new Youtube Channel , And I love to make videos for BLACKPINK Cause I'm a Kpop Lover .. This is my only OPINION , And Please Like , Share and SUBSCRIBE my channel ! See Ya' !\n",
      "\n",
      "My Account's Name:\n",
      "\n",
      "Instagram: @frnshsc.pie1126\n",
      "\n",
      "Facebook: @FranshescaMayeOcana\n",
      "\n",
      "Snapchat: @KimTaehSoo\n"
     ]
    },
    {
     "name": "stderr",
     "output_type": "stream",
     "text": [
      "Processing Links:  91%|█████████ | 403/444 [1:29:19<09:19, 13.64s/link]"
     ]
    },
    {
     "name": "stdout",
     "output_type": "stream",
     "text": [
      "Like Count: 10\n",
      "Description Text: \n"
     ]
    },
    {
     "name": "stderr",
     "output_type": "stream",
     "text": [
      "Processing Links:  91%|█████████ | 404/444 [1:29:31<08:54, 13.36s/link]"
     ]
    },
    {
     "name": "stdout",
     "output_type": "stream",
     "text": [
      "Like Count: 3\n",
      "Description Text: 【ENG】그룹 펜타곤, '주간아이돌' 출연해 자작곡 제작 비하인드 공개한다? PENTAGON 돌곰별곰TV \n",
      "#펜타곤#펜타곤주간아이돌#PENTAGON\n",
      "\n",
      "돌곰별곰TV\n",
      "\n",
      "각 나라의 자막은 번역기를 통하여 제공하기 때문에 오역이 많을 수 있습니다.\n",
      "이 점 양해 부탁드리며, 항상 열심히 하는 돌곰별곰TV가 되겠습니다.\n",
      "감사합니다.\n",
      "\n",
      "Automatic translation is used for other languages, so mistranslation can be found. Please understand mistranslation. \n",
      "The customer does not use our product currently and wants to buy ours for the first time. Since they feel the burden because of the price, we have proposed an estimate excluding the monitor to lower the price even a little. DolGom ByulGomTV always works hard for you. \n",
      "Thank you.\n",
      "\n",
      "네이버 파파고 다국어 번역 :\n",
      "\n",
      "The group Pentagon will appear on \"Weekly Idol\" and reveal behind-the-scenes stories of producing their own songs.\n",
      "\n",
      "グループPENTAGONが「週刊アイドル」に出演して 自作曲制作ビハインドを公開する？\n",
      "\n",
      "組合PENTAGON將出演《一週的偶像》，公開自作曲製作幕後故事？\n",
      "\n",
      "컨텐츠 요청 및 문의는 sung8381@gmail.com로 연락주세요.\n",
      "\n",
      "Contact us at sung8381@gmail.com for content requests and inquiries.\n",
      "\n",
      "이미지 출처\n",
      "창작자 mm - https://kor.pngtree.com/freepng/carto...\n"
     ]
    },
    {
     "name": "stderr",
     "output_type": "stream",
     "text": [
      "Processing Links:  91%|█████████ | 405/444 [1:29:44<08:28, 13.05s/link]"
     ]
    },
    {
     "name": "stdout",
     "output_type": "stream",
     "text": [
      "Like Count: 10\n",
      "Description Text: #AB6IX#NUEST#WANNAONE\n",
      "\n",
      "19일 저녁 부산 북구 화명동 화명 운동장에서 ‘2019 부산 원아시아 페스티벌(Busan One Asia Festival 2019) K-POP 콘서트'가 진행됐다.\n",
      "\n",
      "이날 무대에는 골든차일드(Golden Child), 김재환(Kim Jaehwan), 뉴이스트(NU'EST), 더보이즈(The Boyz), 동키즈(Dongkiz), 마마무(Mamamoo), 슈퍼주니어(Super Junior), 스트레이키즈(Stray Kids), 아스트로(ASTRO), 에이티즈(ATEEZ), (여자)아이들((G)I-DLE), 여자친구(GFRIEND), 온앤오프(ONF), 있지(ITZY), 하성운(Ha Sungwoon), AB6IX 등이 올라 공연을 펼쳤다.\n",
      "\n",
      "Leader of global KPOP, STAR K (글로벌 KPOP의 선두주자, STARK) \n",
      "\n",
      "STARK ON SOCIAL\n",
      "http://www.star-k.tv/\n",
      "\n",
      "YouTube: \n",
      "   / stark_official  \n",
      "V LIVE: https://channels.vlive.tv/B6C90D\n",
      "twitter: \n",
      "  / stark__official  \n",
      "Instagram: \n",
      "  / stark__official  \n",
      "Facebook: \n",
      "  / officialstark  \n",
      "★ STARK Subscribe our channel\n",
      "https://www.youtube.com/c/STARK_offic...\n",
      "(provides the fastest entertainment industry issues and KPOP news)\n"
     ]
    },
    {
     "name": "stderr",
     "output_type": "stream",
     "text": [
      "Processing Links:  91%|█████████▏| 406/444 [1:30:07<10:12, 16.11s/link]"
     ]
    },
    {
     "name": "stdout",
     "output_type": "stream",
     "text": [
      "Like Count: 4600\n",
      "Description Text: \n"
     ]
    },
    {
     "name": "stderr",
     "output_type": "stream",
     "text": [
      "Processing Links:  92%|█████████▏| 407/444 [1:30:18<09:03, 14.69s/link]"
     ]
    },
    {
     "name": "stdout",
     "output_type": "stream",
     "text": [
      "Like Count: 12\n",
      "Description Text: TREASURE – B.O.M.B (KABOOM ver.)\n",
      "\n",
      "My heart is going crazy\n",
      "I’m crazy\n",
      "1 2 3 Let’s go\n",
      "\n",
      "너를 볼 때면 난 계속\n",
      "입가에 미소가 막 번지게 돼\n",
      "부디 날 숨 좀 쉬게 해줘\n",
      "Please don’t make me a fool\n",
      "날 떨리게 해\n",
      "\n",
      "눈앞이 전부 캄캄해\n",
      "불을 밝혀줘 Just like that\n",
      "나에게만 Give me give your love\n",
      "\n",
      "온종일 나의 생각 속엔\n",
      "너로 가득 차 Just like this\n",
      "Hey, can you hear my heartbeat?\n",
      "\n",
      "My heart is like BOOM BA RA BI BOMB BOMB\n",
      "Throwing my heart at you\n",
      "Watch out KABOOM BOOM BOOM\n",
      "You’re my love I’m falling\n",
      "\n",
      "Eye to eye just feel me now\n",
      "I want you baby\n",
      "Ooh you make me crazy now\n",
      "\n",
      "My heart is like BOOM BA RA BI BOMB BOMB\n",
      "Throwing my heart at you\n",
      "Watch out KABOOM BOOM BOOM\n",
      "You’re my love I’m falling\n",
      "\n",
      "Eye to eye just feel me now\n",
      "I want you baby\n",
      "Oh I’m running to you baby \n",
      "Want you to love me tonight\n",
      "\n",
      "이 밤이 밝혀진 순간\n",
      "바라봐 줘 내 눈만\n",
      "빛이 나는 네가 내 맘에 자꾸 불을 붙여\n",
      "Help me now\n",
      "\n",
      "난 항상 너를 보면\n",
      "빨라지는 심장의 속도\n",
      "몸이 너에게 반응하네\n",
      "Gotta gotta spark the fire we lit KABOOM\n",
      "\n",
      "눈앞이 전부 캄캄해\n",
      "불을 밝혀줘 Just like that\n",
      "나에게만 Give me give your love\n",
      "\n",
      "온종일 나의 생각 속엔\n",
      "너로 가득 차 Just like this\n",
      "Hey, can you hear my heartbeat?\n",
      "\n",
      "My heart is like BOOM BA RA BI BOMB BOMB\n",
      "Throwing my heart at you\n",
      "Watch out KABOOM BOOM BOOM\n",
      "You’re my love I’m falling\n",
      "\n",
      "Eye to eye just feel me now\n",
      "I want you baby\n",
      "Ooh you make me crazy now\n",
      "\n",
      "My heart is like BOOM BA RA BI BOMB BOMB\n",
      "Throwing my heart at you\n",
      "Watch out KABOOM BOOM BOOM\n",
      "You’re my love I’m falling\n",
      "\n",
      "Eye to eye just feel me now\n",
      "I want you baby\n",
      "Oh I’m running to you baby \n",
      "Want you to love me tonight\n",
      "\n",
      "I wanna know what you do\n",
      "아무리 애를 써도 알 수 없네\n",
      "\n",
      "복잡한 내 마음들도\n",
      "솔직한 마음으로\n",
      "널 향해 나를 터트린다\n",
      "\n",
      "My heart is like BOOM BA RA BI BOMB BOMB\n",
      "(OK just love me like that)\n",
      "Watch out KABOOM BOOM BOOM\n",
      "\n",
      "Eye to eye just feel me now\n",
      "I want you baby\n",
      "Ooh you make me crazy now\n",
      "\n",
      "My heart is like BOOM BA RA BI BOMB BOMB\n",
      "(OK just love me like that)\n",
      "Watch out KABOOM BOOM BOOM\n",
      "\n",
      "Eye to eye just feel me now\n",
      "I want you baby\n",
      "Oh I’m running to you baby \n",
      "Want you to love me tonight\n",
      "\n",
      "#TREASURE #트레저 #BOMB #kaboomver #WHITEver #DANCE_PERFORMANCE_VIDEO #OUTNOW #YG\n",
      "\n",
      "Available @ https://treasure.lnk.to/B.O.M.B_kaboo...\n",
      "\n",
      "More about TREASURE @\n",
      "https://yg-treasure.com\n",
      "   / @treasure  \n",
      "  / yg_treasure_official  \n",
      "  / officialtreasure  \n",
      "  / ygtreasuremaker  \n",
      "  / yg_treasure_tiktok  \n"
     ]
    },
    {
     "name": "stderr",
     "output_type": "stream",
     "text": [
      "Processing Links:  92%|█████████▏| 408/444 [1:32:09<26:06, 43.52s/link]"
     ]
    },
    {
     "name": "stdout",
     "output_type": "stream",
     "text": [
      "Like Count: 180000\n",
      "Description Text: 바람이 분다 - 온앤오프\n"
     ]
    },
    {
     "name": "stderr",
     "output_type": "stream",
     "text": [
      "Processing Links:  92%|█████████▏| 409/444 [1:32:22<20:00, 34.31s/link]"
     ]
    },
    {
     "name": "stdout",
     "output_type": "stream",
     "text": [
      "Like Count: 164\n",
      "Description Text: !!請勿將影片搬運到其他影音平台上營利!! \n",
      "此頻道影片無營利及商業用途，僅方便華語圈粉絲觀看而製作中字!!\n",
      "原影片來源也麻煩多多收看~\n",
      "이 채널의 영상는 상업적으로 이용되지 않다.\n",
      "단순히 중화권 팬들이 보기 위해서 중국어 자막을 제작한다.\n",
      "공식 영상도 많이 시청해주세요~ \n",
      "原影片來源: \n",
      "   • [TOUR DIARY] Brave Girls 1st U.S. TOU...  \n",
      "更多Brave Girls直播中字往這邊走! (記得開啟CC字幕)\n",
      "   / @bg_cloud  \n"
     ]
    },
    {
     "name": "stderr",
     "output_type": "stream",
     "text": [
      "Processing Links:  92%|█████████▏| 410/444 [1:32:35<15:51, 27.99s/link]"
     ]
    },
    {
     "name": "stdout",
     "output_type": "stream",
     "text": [
      "Like Count: 12\n",
      "Description Text: 【ENG】NCT Dream, 데뷔 후 최초! 첫 정규앨범 발매!!! NCT Dream 돌곰별곰TV\n",
      "#엔시티드림#엔시티드림데뷔#NCTDream\n",
      "\n",
      "돌곰별곰TV\n",
      "\n",
      "각 나라의 자막은 번역기를 통하여 제공하기 때문에 오역이 많을 수 있습니다.\n",
      "이 점 양해 부탁드리며, 항상 열심히 하는 돌곰별곰TV가 되겠습니다.\n",
      "감사합니다.\n",
      "\n",
      "Automatic translation is used for other languages, so mistranslation can be found. Please understand mistranslation. \n",
      "The customer does not use our product currently and wants to buy ours for the first time. Since they feel the burden because of the price, we have proposed an estimate excluding the monitor to lower the price even a little. DolGom ByulGomTV always works hard for you. \n",
      "Thank you.\n",
      "\n",
      "네이버 파파고 다국어 번역 :\n",
      "\n",
      "NCT Dream for the first time since our debut! First full-length album released!\n",
      "\n",
      "NCT Dream、デビュー後初！ 初の正規アルバム発売！！！\n",
      "\n",
      "NCT Dream 出道後第一次！ 首張正規專輯發售！！！\n",
      "\n",
      "컨텐츠 요청 및 문의는 sung8381@gmail.com로 연락주세요.\n",
      "\n",
      "Contact us at sung8381@gmail.com for content requests and inquiries.\n",
      "\n",
      "이미지 출처\n",
      "창작자 mm - https://kor.pngtree.com/freepng/carto...\n"
     ]
    },
    {
     "name": "stderr",
     "output_type": "stream",
     "text": [
      "Processing Links:  93%|█████████▎| 411/444 [1:32:48<12:51, 23.39s/link]"
     ]
    },
    {
     "name": "stdout",
     "output_type": "stream",
     "text": [
      "Like Count: 11\n",
      "Description Text: Welcome to Overwatch TV Channel !\n",
      "Overwatch is a team-based shooter from Blizzard Entertainment.\n",
      "Here you can watch  Overwatch tournament ! Enjoy Overwatch English commentary and stick around with my channel to help you get more familiar with your favorite Overwatch pros.Subscribe for more video.Thank you so much !\n",
      "♦ Fanpage : \n",
      "  / overwatchclub1  \n",
      "♦ Subscribe : http://bit.ly/1U7RPx9\n",
      "♦ Google + : http://bit.ly/2dcGCiz\n",
      "♦ Overwatch TV Full Events : http://bit.ly/1qSLJq4\n",
      "- OVERWATCH TV -\n"
     ]
    },
    {
     "name": "stderr",
     "output_type": "stream",
     "text": [
      "Processing Links:  93%|█████████▎| 412/444 [1:33:01<10:46, 20.22s/link]"
     ]
    },
    {
     "name": "stdout",
     "output_type": "stream",
     "text": [
      "Like Count: 2\n",
      "Description Text: \n"
     ]
    },
    {
     "name": "stderr",
     "output_type": "stream",
     "text": [
      "Processing Links:  93%|█████████▎| 413/444 [1:33:14<09:19, 18.04s/link]"
     ]
    },
    {
     "name": "stdout",
     "output_type": "stream",
     "text": [
      "Like Count: 2\n",
      "Description Text: Fanbase dedicada ao grupo PENTAGON (펜타곤) da CUBE Ent. ⬠\n",
      "Notícias, updates, tutoriais e interações ♡ DMs sempre abertas 📨\n",
      "• https://centralpentagon.carrd.co\n",
      "\n",
      "🔒 | No copyright infringement intended. All credits to the rightful owners.\n"
     ]
    },
    {
     "name": "stderr",
     "output_type": "stream",
     "text": [
      "Processing Links:  93%|█████████▎| 414/444 [1:33:27<08:16, 16.55s/link]"
     ]
    },
    {
     "name": "stdout",
     "output_type": "stream",
     "text": [
      "Like Count: 52\n",
      "Description Text: 유튜브  @ZB1_official\n",
      "\n",
      "#성한빈  #김지웅  #장하오  #석매튜  #김태래 #리키  #김규빈  #박건욱  #한유진\n",
      "\n",
      "#한류 #K-POP #콘서트 #부산 아시아드 경기장 #아이돌 #BOF\n",
      "\n",
      "#부산원아시아페스티벌\n",
      "\n",
      "라인업 - \n",
      "#더윈드 #BAE173 #XODIAC #오마이걸 #이채연 #클라씨 #트레저 #하이라이트 #NCT127 #제로베이스원\n"
     ]
    },
    {
     "name": "stderr",
     "output_type": "stream",
     "text": [
      "Processing Links:  93%|█████████▎| 415/444 [1:33:40<07:29, 15.49s/link]"
     ]
    },
    {
     "name": "stdout",
     "output_type": "stream",
     "text": [
      "Like Count: 146\n",
      "Description Text: 2023年4月22日(土)、鹿児島県鹿児島市で開催された「かごしま春祭 大ハンヤ」(ウォーターフロントパーク会場)での「1 Believe FNC」さんの演舞です。\n",
      "\n",
      "祭情報: \n",
      "   • 第21回 かごしま春祭大ハンヤ ( ウォーターフロントパーク会場、他 ) ...  \n",
      "#かごしま春祭大ハンヤ\n",
      "#1BelieveFNC\n",
      "#ワンビリーブエフエヌシー\n"
     ]
    },
    {
     "name": "stderr",
     "output_type": "stream",
     "text": [
      "Processing Links:  94%|█████████▎| 416/444 [1:33:53<06:51, 14.70s/link]"
     ]
    },
    {
     "name": "stdout",
     "output_type": "stream",
     "text": [
      "Like Count: 11\n",
      "Description Text: 국가 : 칠레\n",
      "팀명 : NSG\n",
      "곡명 : BAP-One Shot, Warrior\n"
     ]
    },
    {
     "name": "stderr",
     "output_type": "stream",
     "text": [
      "Processing Links:  94%|█████████▍| 417/444 [1:34:05<06:20, 14.10s/link]"
     ]
    },
    {
     "name": "stdout",
     "output_type": "stream",
     "text": [
      "Like Count: 95\n",
      "Description Text: 제베원 230906 인스타그램 라이브 방송입니다♡\n",
      "자동 번역기능을 써서 틀린 내용이 있을 수 있습니다.🦙\n",
      "\n",
      "#ハンユジン #韓維辰 #한유진 #Woohyun #朴乾旭 #Gunwook #ゴヌク #Jiwoong #ジウン #ZEROBASEONE #ZB1 #제로베이스원 #장하오 #성한빈 #센터즈 #ZHANGHAO #SUNGHANBIN #ジャンハオ #章昊 #成韓彬 #ハンビン #제베원 #한빈 #하오 #케미 #김규빈 #金奎彬 #Gyuvin #ギュビン #규빈 #박건욱 #朴乾旭 #ParkGunwook #ゴヌク #金地雄 #Jiwoong #ジウン #리키 #심리키 #沈泉锐 #ShenQuanrui #션취안루이 #석매튜 #석우현 #hanbin #HAO #haobin\n"
     ]
    },
    {
     "name": "stderr",
     "output_type": "stream",
     "text": [
      "Processing Links:  94%|█████████▍| 418/444 [1:34:21<06:17, 14.52s/link]"
     ]
    },
    {
     "name": "stdout",
     "output_type": "stream",
     "text": [
      "Like Count: 829\n",
      "Description Text: ♬ Available on iTunes, Apple Music : https://apple.co/2M4mzRm\n",
      "     Listen on Spotify : https://spoti.fi/2JfouVz\n",
      "\n",
      "\n",
      "장밋빛 골든에이지를 향한 비상!\n",
      "Wanna One Special Album \"1÷χ=1 (UNDIVIDED)\"\n",
      "\n",
      "'켜줘(Light)'는 \"빛이 되어 날 밝혀주는 너의 마음을 채우겠다\"는 마음과 어떠한 것으로도 나뉠 수 없는 완전한 사랑의 이야기를 담은 곡이다.\n",
      "\n",
      "More About Wanna One @ \n",
      "Official Facebook: \n",
      "  / wannaone.official  \n",
      " \n",
      "Official Twitter: \n",
      "  / wannaone_twt  \n",
      " \n",
      "Official Instagram: \n",
      "  / wannaone.official  \n",
      " \n",
      "Official Post: http://post.naver.com/wannaone_official \n",
      "Official fan cafe: http://cafe.daum.net/WannaOneOfficial\n"
     ]
    },
    {
     "name": "stderr",
     "output_type": "stream",
     "text": [
      "Processing Links:  94%|█████████▍| 419/444 [1:36:10<17:49, 42.77s/link]"
     ]
    },
    {
     "name": "stdout",
     "output_type": "stream",
     "text": [
      "Like Count: 820000\n",
      "Description Text: #뉴온블 #제베원 #ZB1 #BOF #원아페\n"
     ]
    },
    {
     "name": "stderr",
     "output_type": "stream",
     "text": [
      "Processing Links:  95%|█████████▍| 420/444 [1:36:22<13:27, 33.66s/link]"
     ]
    },
    {
     "name": "stdout",
     "output_type": "stream",
     "text": [
      "Like Count: 167\n",
      "Description Text: Introducing some of the best Busan lovers!\n",
      "Here are some foriengers aiming to promote everything about Busan and 2030 BUSAN WORLD EXPO\n",
      "\n",
      "#2030부산월드엑스포 #부산 #엑스포프렌즈 #부산국제교류재단\n",
      "#2030BusanWorldExpo #Busan #ExpoFriends #BFIC\n"
     ]
    },
    {
     "name": "stderr",
     "output_type": "stream",
     "text": [
      "Processing Links:  95%|█████████▍| 421/444 [1:36:34<10:27, 27.27s/link]"
     ]
    },
    {
     "name": "stdout",
     "output_type": "stream",
     "text": [
      "Like Count: 6\n",
      "Description Text: 오프닝 무대 - 모든 참여자들\n"
     ]
    },
    {
     "name": "stderr",
     "output_type": "stream",
     "text": [
      "Processing Links:  95%|█████████▌| 422/444 [1:36:50<08:43, 23.82s/link]"
     ]
    },
    {
     "name": "stdout",
     "output_type": "stream",
     "text": [
      "Like Count: 372\n",
      "Description Text: \n"
     ]
    },
    {
     "name": "stderr",
     "output_type": "stream",
     "text": [
      "Processing Links:  95%|█████████▌| 423/444 [1:37:02<07:06, 20.32s/link]"
     ]
    },
    {
     "name": "stdout",
     "output_type": "stream",
     "text": [
      "Like Count: 0\n",
      "Description Text: Lee Min Ho consoles Song Hye Kyo after her loss at the Busan 2023 (BIFF).\n",
      "In the latest news from BIFF 2023, the movie \"Moving\" emerged as the big winner, while Song Hye Kyo missed out on the Best Actress award. This was undoubtedly a disappointment for her. However, following the event, there were reports that \"Lee Min Ho reached out and offered some words of comfort to Song Hye Kyo.\" The specifics of this interaction remain unclear, but it left a strong impression on the online community. It's worth noting that sometimes, it's simply colleagues sharing words of encouragement with each other. Thank For Watching!\n"
     ]
    },
    {
     "name": "stderr",
     "output_type": "stream",
     "text": [
      "Processing Links:  95%|█████████▌| 424/444 [1:37:15<06:00, 18.03s/link]"
     ]
    },
    {
     "name": "stdout",
     "output_type": "stream",
     "text": [
      "Like Count: 76\n",
      "Description Text: 재업로드 및 2차가공 금지(DO NOT RE UPLOAD & EDIT & LOGO CROP)\n",
      "#정환 #junghwan #treasure #트레저 #직캠\n"
     ]
    },
    {
     "name": "stderr",
     "output_type": "stream",
     "text": [
      "Processing Links:  96%|█████████▌| 425/444 [1:37:27<05:10, 16.36s/link]"
     ]
    },
    {
     "name": "stdout",
     "output_type": "stream",
     "text": [
      "Like Count: 548\n",
      "Description Text: \n"
     ]
    },
    {
     "name": "stderr",
     "output_type": "stream",
     "text": [
      "Processing Links:  96%|█████████▌| 426/444 [1:37:40<04:35, 15.31s/link]"
     ]
    },
    {
     "name": "stdout",
     "output_type": "stream",
     "text": [
      "Like Count: 21\n",
      "Description Text: 『 新村スター広場野外ライブ 』 より\n",
      "\n",
      "HP → https://kandopro.jp/kj-pop/\n",
      "\n",
      "X(twitter) \n",
      "Yepda（from KJ-pop）KJ-pop → \n",
      "  / kjpop_staff  \n",
      "Yepda（from KJ-pop）Korea official → \n",
      "  / yepda_korea  \n",
      "서연(ソヨン) → \n",
      "  / yepda_soyon  \n",
      "아린(アリン) → \n",
      "  / ariniori67390  \n",
      "사란(サラン) → \n",
      "  / yepda_sarang  \n",
      "유경(ユギョン) → \n",
      "  / yepda_riko  \n",
      "instagram \n",
      "Yepda（from KJ-pop）KJ-pop → \n",
      "  / kjpop_idol  \n",
      "// 面白かったらチャンネル登録お願いします///\n",
      "メイン  https://goo.gl/S3aGcL\n",
      "サブ      http://tiny.cc/44ejxz\n"
     ]
    },
    {
     "name": "stderr",
     "output_type": "stream",
     "text": [
      "Processing Links:  96%|█████████▌| 427/444 [1:37:53<04:04, 14.40s/link]"
     ]
    },
    {
     "name": "stdout",
     "output_type": "stream",
     "text": [
      "좋아요 수 텍스트를 가져오는 중 오류 발생: Message: no such element: Unable to locate element: {\"method\":\"css selector\",\"selector\":\".yt-spec-button-shape-next--icon-leading[aria-label^=\"나 외에 사용자\"]\"}\n",
      "  (Session info: chrome=123.0.6312.123); For documentation on this error, please visit: https://www.selenium.dev/documentation/webdriver/troubleshooting/errors#no-such-element-exception\n",
      "Stacktrace:\n",
      "\tGetHandleVerifier [0x00007FF61D717032+63090]\n",
      "\t(No symbol) [0x00007FF61D682C82]\n",
      "\t(No symbol) [0x00007FF61D51EC65]\n",
      "\t(No symbol) [0x00007FF61D56499D]\n",
      "\t(No symbol) [0x00007FF61D564ADC]\n",
      "\t(No symbol) [0x00007FF61D5A5B37]\n",
      "\t(No symbol) [0x00007FF61D58701F]\n",
      "\t(No symbol) [0x00007FF61D5A3412]\n",
      "\t(No symbol) [0x00007FF61D586D83]\n",
      "\t(No symbol) [0x00007FF61D5583A8]\n",
      "\t(No symbol) [0x00007FF61D559441]\n",
      "\tGetHandleVerifier [0x00007FF61DB125AD+4238317]\n",
      "\tGetHandleVerifier [0x00007FF61DB4F70D+4488525]\n",
      "\tGetHandleVerifier [0x00007FF61DB479EF+4456495]\n",
      "\tGetHandleVerifier [0x00007FF61D7F0576+953270]\n",
      "\t(No symbol) [0x00007FF61D68E54F]\n",
      "\t(No symbol) [0x00007FF61D689224]\n",
      "\t(No symbol) [0x00007FF61D68935B]\n",
      "\t(No symbol) [0x00007FF61D679B94]\n",
      "\tBaseThreadInitThunk [0x00007FFFE7CF257D+29]\n",
      "\tRtlUserThreadStart [0x00007FFFE8EAAA48+40]\n",
      "\n",
      "Like Count: 0\n",
      "Description Text: \n"
     ]
    },
    {
     "name": "stderr",
     "output_type": "stream",
     "text": [
      "Processing Links:  96%|█████████▋| 428/444 [1:38:05<03:42, 13.89s/link]"
     ]
    },
    {
     "name": "stdout",
     "output_type": "stream",
     "text": [
      "Like Count: 1300\n",
      "Description Text: \n"
     ]
    },
    {
     "name": "stderr",
     "output_type": "stream",
     "text": [
      "Processing Links:  97%|█████████▋| 429/444 [1:38:18<03:22, 13.49s/link]"
     ]
    },
    {
     "name": "stdout",
     "output_type": "stream",
     "text": [
      "Like Count: 8\n",
      "Description Text: \n"
     ]
    },
    {
     "name": "stderr",
     "output_type": "stream",
     "text": [
      "Processing Links:  97%|█████████▋| 430/444 [1:38:30<03:04, 13.18s/link]"
     ]
    },
    {
     "name": "stdout",
     "output_type": "stream",
     "text": [
      "Like Count: 0\n",
      "Description Text: Japan Expo Malaysia 2023 at Pavilion Bukit Jalil on 2023.08.19\n",
      "0:00:00  Super★Dragon\n",
      "0:33:45  Psychic Fever\n",
      "1:08:17  Ballistik Boyz\n",
      "#Japanexpomalaysia2023\n"
     ]
    },
    {
     "name": "stderr",
     "output_type": "stream",
     "text": [
      "Processing Links:  97%|█████████▋| 431/444 [1:38:45<02:56, 13.54s/link]"
     ]
    },
    {
     "name": "stdout",
     "output_type": "stream",
     "text": [
      "Like Count: 558\n",
      "Description Text: FANCAM) 191019 부산 원아시아페스티벌 BOF 엔딩 스트레이 키즈 Stray Kids\n"
     ]
    },
    {
     "name": "stderr",
     "output_type": "stream",
     "text": [
      "Processing Links:  97%|█████████▋| 432/444 [1:39:05<03:06, 15.55s/link]"
     ]
    },
    {
     "name": "stdout",
     "output_type": "stream",
     "text": [
      "Like Count: 3000\n",
      "Description Text: \n"
     ]
    },
    {
     "name": "stderr",
     "output_type": "stream",
     "text": [
      "Processing Links:  98%|█████████▊| 433/444 [1:39:17<02:40, 14.55s/link]"
     ]
    },
    {
     "name": "stdout",
     "output_type": "stream",
     "text": [
      "좋아요 수 텍스트를 가져오는 중 오류 발생: Message: no such element: Unable to locate element: {\"method\":\"css selector\",\"selector\":\".yt-spec-button-shape-next--icon-leading[aria-label^=\"나 외에 사용자\"]\"}\n",
      "  (Session info: chrome=123.0.6312.123); For documentation on this error, please visit: https://www.selenium.dev/documentation/webdriver/troubleshooting/errors#no-such-element-exception\n",
      "Stacktrace:\n",
      "\tGetHandleVerifier [0x00007FF61D717032+63090]\n",
      "\t(No symbol) [0x00007FF61D682C82]\n",
      "\t(No symbol) [0x00007FF61D51EC65]\n",
      "\t(No symbol) [0x00007FF61D56499D]\n",
      "\t(No symbol) [0x00007FF61D564ADC]\n",
      "\t(No symbol) [0x00007FF61D5A5B37]\n",
      "\t(No symbol) [0x00007FF61D58701F]\n",
      "\t(No symbol) [0x00007FF61D5A3412]\n",
      "\t(No symbol) [0x00007FF61D586D83]\n",
      "\t(No symbol) [0x00007FF61D5583A8]\n",
      "\t(No symbol) [0x00007FF61D559441]\n",
      "\tGetHandleVerifier [0x00007FF61DB125AD+4238317]\n",
      "\tGetHandleVerifier [0x00007FF61DB4F70D+4488525]\n",
      "\tGetHandleVerifier [0x00007FF61DB479EF+4456495]\n",
      "\tGetHandleVerifier [0x00007FF61D7F0576+953270]\n",
      "\t(No symbol) [0x00007FF61D68E54F]\n",
      "\t(No symbol) [0x00007FF61D689224]\n",
      "\t(No symbol) [0x00007FF61D68935B]\n",
      "\t(No symbol) [0x00007FF61D679B94]\n",
      "\tBaseThreadInitThunk [0x00007FFFE7CF257D+29]\n",
      "\tRtlUserThreadStart [0x00007FFFE8EAAA48+40]\n",
      "\n",
      "Like Count: 0\n",
      "Description Text: MCOUNTDOWN IN FRANCE\n",
      "TREASURE (트레저) ALL MOMENTS 🎁💙\n",
      "\n",
      "World No.1 K-POP Chart Show MCOUNTDOWN\n",
      "Every Thur 6PM(KST) Mnet Live on Air\n",
      "매주 목요일 저녁 6시 엠넷 생방송\n",
      "\n",
      "LINEUP\n",
      "#ATEEZ #Dreamcatcher #EL7ZUP #NCTDREAM #PSY #SHOWNU_X_HYUNGWON(MONSTA X) #TAEMIN #TREASURE #ZEROBASEONE\n",
      "\n",
      "-------------------------------------------------------------------------\n",
      "\n",
      "Now you are watching:\n",
      "TREASURE (트레저) ALL MOMENTS 🎁💙 | MCOUNTDOWN IN FRANCE\n",
      "\n",
      "NOTICE:\n",
      "✅ 〈 ARTIST ALL MOMENTS 〉 video is a re-edit video of VOD of the day. Some content may not be available in VOD due to copyright issues. We kindly ask for your understanding. \n",
      "✅ 〈 ARTIST ALL MOMENTS 〉 는 해당 날짜의 VOD를 재편집한 영상입니다. 일부 콘텐츠는 저작권 문제로 인해 VOD에서 제공되지 않을 수 있습니다. 양해 부탁드립니다.\n",
      "\n",
      "-------------------------------------------------------------------------\n",
      "\n",
      "▶ Mnet 유튜브 구독하기: http://www.youtube.com/subscription_c...\n",
      "\n",
      "Like Facebook and Twitter for more k-pop news\n",
      "  / mnetofficial  \n",
      "  / mcountdown  \n",
      "  / mnetkr  \n"
     ]
    },
    {
     "name": "stderr",
     "output_type": "stream",
     "text": [
      "Processing Links:  98%|█████████▊| 434/444 [1:40:51<06:22, 38.25s/link]"
     ]
    },
    {
     "name": "stdout",
     "output_type": "stream",
     "text": [
      "Like Count: 40000\n",
      "Description Text: A 11ª Edição do Concurso K-Pop Festival ocorreu no dia 19 de agosto de 2023 e contou com a presença de 10 finalistas, além de duas apresentações especiais do grupo vencedor da edição anterior e do grupo cover oficial do Centro Cultural Coreano no Brasil.\n",
      "\n",
      "👉 CCCB Website : http://brazil.korean-culture.org/ko\n",
      "👉 CCCB Facebook : \n",
      "  / kccbrazil  \n",
      "👉 CCCB Instagram : \n",
      "  / kccbrazil  \n",
      "👉 CCCB Twitter : \n",
      "  / kcc_brazil  \n"
     ]
    },
    {
     "name": "stderr",
     "output_type": "stream",
     "text": [
      "Processing Links:  98%|█████████▊| 435/444 [1:41:04<04:35, 30.65s/link]"
     ]
    },
    {
     "name": "stdout",
     "output_type": "stream",
     "text": [
      "Like Count: 25\n",
      "Description Text: 20161001 2018 BOF 부산원아시아 개막공연\n",
      "방탄소년단 BTS[4K 직캠]SAVE ME 세이브미@20161001 Rock Music \n",
      "男性偶像团体, 男性アイドルグループ  방탄소년단 BTS 4K FANCAM\n",
      "http://bubleprice.tistory.com\n",
      "After downloading and uploading transformation prohibited.\n"
     ]
    },
    {
     "name": "stderr",
     "output_type": "stream",
     "text": [
      "Processing Links:  98%|█████████▊| 436/444 [1:42:37<06:35, 49.46s/link]"
     ]
    },
    {
     "name": "stdout",
     "output_type": "stream",
     "text": [
      "Like Count: 39000\n",
      "Description Text: \n"
     ]
    },
    {
     "name": "stderr",
     "output_type": "stream",
     "text": [
      "Processing Links:  98%|█████████▊| 437/444 [1:42:49<04:28, 38.35s/link]"
     ]
    },
    {
     "name": "stdout",
     "output_type": "stream",
     "text": [
      "Like Count: 812\n",
      "Description Text: 원수까지 사랑할수 있는 사람\n",
      "마 5:44~45\n",
      "\n",
      "그리스도의 비밀인 4단계회개의 성경책 근거?\n",
      "\n",
      "모든 영혼을 구원하는 것은 하나님의 뜻이며(눅 19:10), 하나님께서는 모든 사람이 다 회개하고 돌아와 구원받기를 원하십니다(딤전 2:4, 벧후 3:9, 롬 2:4). 성경에 만 대와 만세로부터 감추어져 있던 이 비밀(골 1:26, 엡 3:9)을 하나님께서 66권에 그 선지자를 통해서 전해 주셨고(롬 16:25~27), 또한 사도바울에게도 계시로 알게 하셨습니다(엡 3:3). 지금의 문제는 바로 나와 조상이 죄 지은 결과요, 하나님께 자백할 내용입니다(요일 1:9).\n",
      "\n",
      "그리스도피로, 1/4깨닫고, 1/4하나님께 빌고 ,1/4 내 마음에 죄를 지우면(느 9:1~5) 그리스도가 3일만에 사심(눅 24:46~48)과 같이, 요나가 물고기 뱃속에서 산 것(욘 2:9,10)과 같이, 하나님께서 보여주신 하나밖에 없는 요나의 표적(마 12:39)과 같이 살아나서 (호 6:1,2) 4단계회개 마지막 1/4 감사(시 100:4)하며 열매(눅 17:17~19)가 되는 것 입니다. 그러므로 사는 길은 그리스도 비밀 4단계회개 밖에 없습니다.\n",
      "\n",
      "#부산제일교회 #박무수 목사 #노정숙 목사 #4단계회개 #참된 회개\n"
     ]
    },
    {
     "name": "stderr",
     "output_type": "stream",
     "text": [
      "Processing Links:  99%|█████████▊| 438/444 [1:43:01<03:01, 30.21s/link]"
     ]
    },
    {
     "name": "stdout",
     "output_type": "stream",
     "text": [
      "Like Count: 39\n",
      "Description Text: 2016 울산서머페스티벌 '쇼!음악중심'\n",
      "\n",
      "00:00  에이션(with 하이틴) - 여름아 부탁해\n",
      "03:48 김강 - 사랑의 금수저\n",
      "07:02 브레이브걸스 -- HIGH HEELS\n",
      "09:34 비트윈 - 니 여자친구\n",
      "13:45 멜로디데이 - 깔로(COLOR)\n",
      "16:58 스누퍼 - 너=천국\n",
      "20:12 소나무 - 넘나 좋은 것\n",
      "23:20 아스트로 - 숨가빠\n",
      "26:59 조미 - what's your number?\n",
      "29:56 NCT127 - 소방차\n",
      "32:55 에릭남(feat. 진진 of 아스트로) - 못 참겠어\n",
      "36:43 페이 - 괜찮아 괜찮아 fantasy\n",
      "40:09 여자친구 - 너 그리고 나\n",
      "43:23 세븐틴 - 아주 nice\n",
      "47:10 EXID - L.I.E\n",
      "50:46 FT아일랜드 - Take me now\n",
      "55:13 씨스타 - I like that \n",
      "58:59 방탄소년단 - 불타오르네(fire)\n",
      "\n",
      "구독과 알람을 설정하시면\n",
      "울산MBC에서 제작된 더많은 공연을 보실 수 있습니다.\n",
      "많은 댓글과 좋아요를 부탁드립니다.\n",
      "\n",
      "If U love clip, Plz push 'Like' button and leave the reply message.\n",
      "Thank you!!\n",
      "\n",
      "You can see outstanding  concerts which are KPOP,  \n",
      "Korean Traditional Song, Classic, Jazz, Hiphop & Disco in Ulsan, South Korea.!!\n",
      "\n",
      "더 많은 클립 영상을 보시려면 https://bit.ly/2LBQCT6 \n",
      "\n",
      "울산MBC 공식 홈페이지 https://usmbc.co.kr\n",
      "울산MBC뉴스 https://bit.ly/2J5DTVd\n",
      "울트라 https://bit.ly/2v4xsuM\n",
      "반갑다고래야 https://bit.ly/2vq1cDq\n"
     ]
    },
    {
     "name": "stderr",
     "output_type": "stream",
     "text": [
      "Processing Links:  99%|█████████▉| 439/444 [1:43:18<02:12, 26.46s/link]"
     ]
    },
    {
     "name": "stdout",
     "output_type": "stream",
     "text": [
      "좋아요 수 텍스트를 가져오는 중 오류 발생: Message: no such element: Unable to locate element: {\"method\":\"css selector\",\"selector\":\".yt-spec-button-shape-next--icon-leading[aria-label^=\"나 외에 사용자\"]\"}\n",
      "  (Session info: chrome=123.0.6312.123); For documentation on this error, please visit: https://www.selenium.dev/documentation/webdriver/troubleshooting/errors#no-such-element-exception\n",
      "Stacktrace:\n",
      "\tGetHandleVerifier [0x00007FF61D717032+63090]\n",
      "\t(No symbol) [0x00007FF61D682C82]\n",
      "\t(No symbol) [0x00007FF61D51EC65]\n",
      "\t(No symbol) [0x00007FF61D56499D]\n",
      "\t(No symbol) [0x00007FF61D564ADC]\n",
      "\t(No symbol) [0x00007FF61D5A5B37]\n",
      "\t(No symbol) [0x00007FF61D58701F]\n",
      "\t(No symbol) [0x00007FF61D5A3412]\n",
      "\t(No symbol) [0x00007FF61D586D83]\n",
      "\t(No symbol) [0x00007FF61D5583A8]\n",
      "\t(No symbol) [0x00007FF61D559441]\n",
      "\tGetHandleVerifier [0x00007FF61DB125AD+4238317]\n",
      "\tGetHandleVerifier [0x00007FF61DB4F70D+4488525]\n",
      "\tGetHandleVerifier [0x00007FF61DB479EF+4456495]\n",
      "\tGetHandleVerifier [0x00007FF61D7F0576+953270]\n",
      "\t(No symbol) [0x00007FF61D68E54F]\n",
      "\t(No symbol) [0x00007FF61D689224]\n",
      "\t(No symbol) [0x00007FF61D68935B]\n",
      "\t(No symbol) [0x00007FF61D679B94]\n",
      "\tBaseThreadInitThunk [0x00007FFFE7CF257D+29]\n",
      "\tRtlUserThreadStart [0x00007FFFE8EAAA48+40]\n",
      "\n",
      "Like Count: 0\n",
      "Description Text: GFRIEND, ITZY, (G)I-DLE, Mamamoo, NUEST, AB6IX, Super junior, ASTRO, Stray kids \"BOF 원아시아\"\n"
     ]
    },
    {
     "name": "stderr",
     "output_type": "stream",
     "text": [
      "Processing Links:  99%|█████████▉| 440/444 [1:43:40<01:39, 24.96s/link]"
     ]
    },
    {
     "name": "stdout",
     "output_type": "stream",
     "text": [
      "Like Count: 1100\n",
      "Description Text: Hiii guys ~ 💚🐺\n",
      "\n",
      "I had the chance to go to the MCOUNTDOWN in France, it was an amazing moment!!\n",
      "\n",
      "My opinions on the artists:\n",
      "\n",
      "• ATEEZ: 4th time seeing them, they just get more amazing every time and they're so pretty and great, I love them\n",
      "\n",
      "• K-TIGERS: it was one of my dreams to see them with my own eyes someday, they're so talented, it was really impressive\n",
      "\n",
      "• DREAMCATCHER: they didn't sing the songs I know the best but they were really cool and their songs are great\n",
      "\n",
      "• EL7ZUP: they're so cute omg, I love their songs even if it's not really my music style\n",
      "\n",
      "• NCT DREAM: 3rd time seeing them, they did great as always, they're part of my favorite group for many reasons, I love them so much\n",
      "\n",
      "• PSY: 2nd time seeing him, he seems so nice and humble, his songs are bops and so popular, I listen to him very often and with the French crowd it was an unforgettable moment\n",
      "\n",
      "• SHOWNU X HYUNGWON (MONSTA X): as a Monbebe who never had the chance to see the group OT7 or even OT6 in concert I was so happy to see them, I cried because it made me emotional, I finally saw 2 of them\n",
      "\n",
      "• TAEMIN: 2nd time seeing him, said as a joke to the girl next to me \"imagine he sings Move, it would be insane\", haha, he did actually sang it 2 minutes later, and what can I say, it's Taemin, this man is so beautiful\n",
      "\n",
      "• TREASURE: I'm not interested in the group (I was interested during pre debut and right after debut but that's it) BUT I love their songs, I love the vibe\n",
      "\n",
      "• ZEROBASEONE: OMG I SAW ZB1, never thought I would see them that soon (or that I would see them someday) after watching Boys Planet\n",
      "\n",
      "THIS TIME I RECORDED IN 4K 60FPS (took 125GB of my storage but it was worth it)\n",
      "\n",
      "TIMESTAMPS:\n",
      "00:00 TREASURE talking\n",
      "01:36 TREASURE 'HELLO' (snippet)\n",
      "02:04 TREASURE talking\n",
      "03:20 TREASURE '직진 (JIKJIN)'\n",
      "\n",
      "_________________________________________________________________\n",
      "\n",
      "Program used: DaVinci Resolve 18.6.1\n",
      "Recorded with: iPhone 15\n",
      "\n",
      "I do not own these musics\n",
      "All right reserved to owners\n",
      "Concert organized by: MNET\n",
      "\n",
      "_________________________________________________________________\n",
      "\n",
      "Subscribe and don't forget to like and share\n",
      "It helps me a lot\n",
      "\n",
      "Thanks for watching I'll try to post at least a video every month and more if I have time!\n",
      "\n",
      "#mcountdown #mcountdowninparis #mcountdowninfrance #ATEEZ #Dreamcatcher #EL7ZUP #KTigers #NCTDREAM #PSY #SHOWNU #HYUNGWON #MONSTAX #TAEMIN #TREASURE #ZEROBASEONE #mnet #paris #france #ladefense #ladefensearena\n"
     ]
    },
    {
     "name": "stderr",
     "output_type": "stream",
     "text": [
      "Processing Links:  99%|█████████▉| 441/444 [1:43:52<01:03, 21.30s/link]"
     ]
    },
    {
     "name": "stdout",
     "output_type": "stream",
     "text": [
      "Like Count: 342\n",
      "Description Text: #kpop #TREASURE #트레저\n"
     ]
    },
    {
     "name": "stderr",
     "output_type": "stream",
     "text": [
      "Processing Links: 100%|█████████▉| 442/444 [1:44:14<00:42, 21.33s/link]"
     ]
    },
    {
     "name": "stdout",
     "output_type": "stream",
     "text": [
      "Like Count: 4700\n",
      "Description Text: Lying is technically not a virtue, but when you put NCT 127 at a round table and make them trick each other, it makes for great entertainment 🤣\n",
      "\n",
      "Afterwards, you can get your “Fact Check” on Spotify’s K-Pop ON! Playlist! \n",
      "\n",
      "Listen to K-Pop ON! Playlist, only on Spotify 🎧\n",
      "👉👉 https://spotify.link/K-PopON 👈👈\n",
      "\n",
      "Watch K-Pop ON! Video Podcast, only on Spotify 🖥️\n",
      "👉👉 https://spotify.link/kpoponpodcast 👈👈\n",
      "\n",
      "#NCT127 #NCT127_FactCheck #NCT127_FactCheck_불가사의\n"
     ]
    },
    {
     "name": "stderr",
     "output_type": "stream",
     "text": [
      "Processing Links: 100%|█████████▉| 443/444 [1:44:40<00:22, 22.82s/link]"
     ]
    },
    {
     "name": "stdout",
     "output_type": "stream",
     "text": [
      "Like Count: 33000\n",
      "Description Text: よければぜひチャンネル登録よろしくお願いいたします！！\n",
      "Thanks for watching! Please subscribe to the channel if you like!\n",
      "\n",
      "🌍ワールドワイドに顎を外します🌏\n",
      "          \n",
      "毎週 火・木 ・土20:00に動画投稿‼️\n",
      "ーーーーーーーーーーーーーーーーーーーーーーーーーーーーーーーーー\n",
      "アポバラの待合室(サブチャンネル)\n",
      "▶\n",
      "   / @apovara_no_machiaishitu  \n",
      "公式tapnow\n",
      "▶https://tapno.onelink.me/pJnR/3j8t43qi\n",
      "\n",
      "公式Twitter\n",
      "▶\n",
      "  / apollonvariety  \n",
      "公式Instagram\n",
      "▶\n",
      "  / apollonvariety_official  \n",
      "公式グッズ\n",
      "▶https://apovara.official.ec\n",
      "ーーーーーーーーーーーーーーーーーーーーーーーーーーーーーーーーー\n",
      "\n",
      "【メンバー】\n",
      "\n",
      "💖ユート(YUTO)ーーーーーーー\n",
      "●Twitter\n",
      "▸\n",
      "  / yutopiapollon  \n",
      "●Instagram\n",
      "▸\n",
      "  / yuto_yt_1106  \n",
      "💚ジョリ(Jori)ーーーーーーーー\n",
      "●Twitter\n",
      "▸\n",
      "  / jori_apovara  \n",
      "●Instagram\n",
      "▸\n",
      "  / jori_mm  \n",
      "💜カンチー(Kanchi)ーーーーー\n",
      "●Twitter\n",
      "▸\n",
      "  / apovara_kanchii  \n",
      "●Instagram\n",
      "▸\n",
      "  / apovara_kanchii  \n",
      "❤️トイ(ToY)ーーーーーーーーー\n",
      "●Twitter\n",
      "▸\n",
      "  / apovara_toy  \n",
      "●Instagram\n",
      "▸\n",
      "  / toypoo_apovara  \n",
      "#NCT127 #엔시티127 #FactCheck #불가사의 #不可思議\n",
      "#NCT127_FactCheck\n",
      "#NCT127_FactCheck_불가사의\n",
      "#FactCheck_불가사의_不可思議\n",
      "\n",
      "(編集：トイ)\n"
     ]
    },
    {
     "name": "stderr",
     "output_type": "stream",
     "text": [
      "Processing Links: 100%|██████████| 444/444 [1:44:52<00:00, 14.17s/link]"
     ]
    },
    {
     "name": "stdout",
     "output_type": "stream",
     "text": [
      "Like Count: 413\n"
     ]
    },
    {
     "name": "stderr",
     "output_type": "stream",
     "text": [
      "\n"
     ]
    }
   ],
   "source": [
    "for data in tqdm(data_list1, desc=\"Processing Links\", unit=\"link\"):\n",
    "    url = data['URL']\n",
    "    process_link(url)\n",
    "\n",
    "client.close()\n",
    "driver.quit()"
   ]
  }
 ],
 "metadata": {
  "kernelspec": {
   "display_name": "Python 3",
   "language": "python",
   "name": "python3"
  },
  "language_info": {
   "codemirror_mode": {
    "name": "ipython",
    "version": 3
   },
   "file_extension": ".py",
   "mimetype": "text/x-python",
   "name": "python",
   "nbconvert_exporter": "python",
   "pygments_lexer": "ipython3",
   "version": "3.11.4"
  }
 },
 "nbformat": 4,
 "nbformat_minor": 2
}
