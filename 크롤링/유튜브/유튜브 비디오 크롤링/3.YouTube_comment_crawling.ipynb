{
 "cells": [
  {
   "cell_type": "code",
   "execution_count": 46,
   "metadata": {},
   "outputs": [],
   "source": [
    "from selenium import webdriver\n",
    "from selenium.webdriver.common.keys import Keys\n",
    "from selenium.webdriver.common.by import By\n",
    "from pytube import YouTube\n",
    "from pymongo import MongoClient\n",
    "from tqdm import tqdm\n",
    "from selenium.webdriver.support.ui import WebDriverWait\n",
    "from selenium.webdriver.support import expected_conditions as EC\n",
    "from selenium.common.exceptions import NoSuchElementException\n",
    "from selenium.common.exceptions import TimeoutException\n",
    "import time\n",
    "import urllib.request\n",
    "import datetime\n",
    "import copy"
   ]
  },
  {
   "cell_type": "code",
   "execution_count": 47,
   "metadata": {},
   "outputs": [],
   "source": [
    "# MongoDB 클라이언트 및 컬렉션 설정\n",
    "client = MongoClient(host=\"\", port=, username='', password='')\n",
    "db = client['YouTube_crawling']\n",
    "collection = db['OneAsia_YouTube_crawling_2024']\n",
    "data_list = list(collection.find({\"URL\": \"https://www.youtube.com/watch?v=mj2ICcslnbU&pp=ygUe67aA7IKw7JuQ7JWE7Iuc7JWE7Y6Y7Iqk7Yuw67KM\"}, {\"_id\": 1, \"URL\": 1}))"
   ]
  },
  {
   "cell_type": "code",
   "execution_count": 49,
   "metadata": {},
   "outputs": [],
   "source": [
    "data_list1 = copy.deepcopy(data_list)"
   ]
  },
  {
   "cell_type": "code",
   "execution_count": 50,
   "metadata": {},
   "outputs": [],
   "source": [
    "# 날짜 데이터 변환 (유튜브 댓글은 정확한 작성일자를 알 수 없음, 임의로 지정 ex) 1일전 ~ 13일전, 2주전 ~ 3주전... 등 오늘 날짜에서 해당 날짜를 (-), 시간, 분, 초의 경우 오늘 날짜를 할당)\n",
    "def convert_published_time(published_time):\n",
    "    current_date = datetime.datetime.now()\n",
    "\n",
    "    if \"주\" in published_time:\n",
    "        time_unit = int(published_time.split(\"주\")[0])\n",
    "        delta = current_date - datetime.timedelta(weeks=time_unit)\n",
    "    elif \"개월\" in published_time:\n",
    "        time_unit = int(published_time.split(\"개월\")[0])\n",
    "        delta = current_date - datetime.timedelta(days=30 * time_unit)\n",
    "    elif \"년\" in published_time:\n",
    "        time_unit = int(published_time.split(\"년\")[0])\n",
    "        delta = current_date - datetime.timedelta(days=365 * time_unit)\n",
    "    elif \"시간\" in published_time:\n",
    "        time_unit = int(published_time.split(\"시간\")[0])\n",
    "        delta = current_date - datetime.timedelta(hours=time_unit)\n",
    "    elif \"분\" in published_time:\n",
    "        time_unit = int(published_time.split(\"분\")[0])\n",
    "        delta = current_date - datetime.timedelta(minutes=time_unit)\n",
    "    elif \"초\" in published_time:\n",
    "        return current_date.strftime(\"%Y-%m-%d\")\n",
    "    else:\n",
    "        # 1일부터 13일 전까지는 해당 일 수를 현재 날짜에서 (-)\n",
    "        if \"일\" in published_time:\n",
    "            time_unit = int(published_time.split(\"일\")[0])\n",
    "            delta = current_date - datetime.timedelta(days=time_unit)\n",
    "            return delta.strftime(\"%Y-%m-%d\")\n",
    "\n",
    "    return delta.strftime(\"%Y-%m-%d\")"
   ]
  },
  {
   "cell_type": "code",
   "execution_count": 51,
   "metadata": {},
   "outputs": [],
   "source": [
    "# 좋아요 개수를 변환 (ex) 1.3천 → 1300, 1.3만 → 13000 형식으로 변환)\n",
    "def convert_like_count(like_count_text):\n",
    "    if not like_count_text:\n",
    "        return 0\n",
    "    \n",
    "    if '천' in like_count_text:\n",
    "        multiplier = 1000\n",
    "        like_count_text = like_count_text.replace('천', '').strip()\n",
    "        like_count = int(float(like_count_text) * multiplier)\n",
    "    elif '만' in like_count_text:\n",
    "        multiplier = 10000\n",
    "        like_count_text = like_count_text.replace('만', '').strip()\n",
    "        like_count = int(float(like_count_text) * multiplier)\n",
    "    else:\n",
    "        like_count = int(float(like_count_text))\n",
    "    return like_count"
   ]
  },
  {
   "cell_type": "code",
   "execution_count": 52,
   "metadata": {},
   "outputs": [],
   "source": [
    "driver = webdriver.Chrome()"
   ]
  },
  {
   "cell_type": "code",
   "execution_count": 53,
   "metadata": {},
   "outputs": [],
   "source": [
    "def process_link(url):\n",
    "    driver.get(url)\n",
    "\n",
    "    # 맨 아래까지 스크롤\n",
    "    SCROLL_PAUSE_TIME = 1.5\n",
    "    last_height = driver.execute_script(\"return document.documentElement.scrollHeight\")\n",
    "\n",
    "    while True:\n",
    "        driver.execute_script(\"window.scrollTo(0, document.documentElement.scrollHeight);\")\n",
    "        time.sleep(SCROLL_PAUSE_TIME)\n",
    "        new_height = driver.execute_script(\"return document.documentElement.scrollHeight;\")\n",
    "        if new_height == last_height:\n",
    "            break\n",
    "        last_height = new_height\n",
    "\n",
    "    time.sleep(3)\n",
    "\n",
    "    comments = []\n",
    "\n",
    "    # 댓글 요소 찾기\n",
    "    try:\n",
    "        comment_threads = WebDriverWait(driver, 10).until(EC.presence_of_all_elements_located((By.CSS_SELECTOR, 'ytd-comment-thread-renderer')))\n",
    "    except TimeoutException:\n",
    "        # 요소가 나타나지 않을 경우 댓글 개수를 0으로 설정하고 빈 리스트를 할당\n",
    "        comment_count = 0\n",
    "        comments = []\n",
    "    else:\n",
    "        comment_count = 0\n",
    "        for comment_thread in tqdm(comment_threads, desc=\"댓글 수집 중\"):\n",
    "            # 사용자 이름 가져오기\n",
    "            user_name = \"\"\n",
    "            try:\n",
    "                user_name_element = comment_thread.find_element(By.CSS_SELECTOR, 'a#author-text > span')\n",
    "                user_name = user_name_element.text.strip()\n",
    "            except NoSuchElementException:\n",
    "                pass\n",
    "\n",
    "            # 댓글 내용 가져오기\n",
    "            comment_text = \"\"\n",
    "            try:\n",
    "                comment_text_element = comment_thread.find_element(By.CSS_SELECTOR, 'yt-attributed-string#content-text > span')\n",
    "                comment_text = comment_text_element.text.strip()\n",
    "            except NoSuchElementException:\n",
    "                pass\n",
    "\n",
    "            # 댓글 내용과 사용자 이름이 모두 공백이 아닌 경우에만 추가 (text로 변경 불가능한 이모티콘만 댓글에 작성된 경우 가져오지 않음 → 실제 댓글 개수와 차이날 수 있음)\n",
    "            if user_name.strip() and comment_text.strip():\n",
    "                # 작성일자 요소 찾기\n",
    "                try:\n",
    "                    published_time_element = comment_thread.find_element(By.CSS_SELECTOR, 'span#published-time-text')\n",
    "                    published_time = published_time_element.text.strip()\n",
    "                    published_time_formatted = convert_published_time(published_time)\n",
    "                except NoSuchElementException:\n",
    "                    published_time_formatted = \"\"\n",
    "\n",
    "                # 댓글 좋아요 요소 찾기\n",
    "                try:\n",
    "                    like_count_element = comment_thread.find_element(By.CSS_SELECTOR, 'span#vote-count-middle')\n",
    "                    like_count_text = like_count_element.get_attribute(\"innerText\").strip()\n",
    "                    like_count = convert_like_count(like_count_text)\n",
    "                except NoSuchElementException:\n",
    "                    like_count = 0\n",
    "\n",
    "                comments.append({\"사용자 이름\": user_name, \"댓글 내용\": comment_text, \"작성일자\": published_time_formatted, \"댓글 좋아요\": like_count})\n",
    "                comment_count += 1\n",
    "\n",
    "        print(f\"댓글 개수: {comment_count}\")\n",
    "\n",
    "    collection.update_one({\"URL\": url}, {\"$set\": {\n",
    "        \"댓글 개수\": comment_count,\n",
    "        \"댓글\": comments\n",
    "    }})"
   ]
  },
  {
   "cell_type": "code",
   "execution_count": 54,
   "metadata": {},
   "outputs": [
    {
     "name": "stderr",
     "output_type": "stream",
     "text": [
      "댓글 수집 중: 100%|██████████| 30/30 [00:00<00:00, 34.18it/s]\n",
      "링크 처리 중:  50%|█████     | 1/2 [00:11<00:11, 11.53s/it]"
     ]
    },
    {
     "name": "stdout",
     "output_type": "stream",
     "text": [
      "댓글 개수: 30\n"
     ]
    },
    {
     "name": "stderr",
     "output_type": "stream",
     "text": [
      "댓글 수집 중: 100%|██████████| 30/30 [00:00<00:00, 34.38it/s]\n",
      "                                                           \r"
     ]
    },
    {
     "name": "stdout",
     "output_type": "stream",
     "text": [
      "댓글 개수: 30\n"
     ]
    }
   ],
   "source": [
    "for data in tqdm(data_list1, desc=\"링크 처리 중\", leave=False):\n",
    "    url = data['URL']\n",
    "    process_link(url)\n",
    "\n",
    "client.close()\n",
    "driver.quit()"
   ]
  }
 ],
 "metadata": {
  "kernelspec": {
   "display_name": "Python 3",
   "language": "python",
   "name": "python3"
  },
  "language_info": {
   "codemirror_mode": {
    "name": "ipython",
    "version": 3
   },
   "file_extension": ".py",
   "mimetype": "text/x-python",
   "name": "python",
   "nbconvert_exporter": "python",
   "pygments_lexer": "ipython3",
   "version": "3.11.4"
  }
 },
 "nbformat": 4,
 "nbformat_minor": 2
}
