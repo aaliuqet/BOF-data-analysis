{
 "cells": [
  {
   "cell_type": "code",
   "execution_count": 7,
   "metadata": {},
   "outputs": [],
   "source": [
    "from selenium import webdriver\n",
    "from selenium.webdriver.common.keys import Keys\n",
    "from selenium.webdriver.common.by import By\n",
    "from pytube import YouTube\n",
    "from pymongo import MongoClient\n",
    "from tqdm import tqdm\n",
    "from selenium.webdriver.support.ui import WebDriverWait\n",
    "from selenium.webdriver.support import expected_conditions as EC\n",
    "from selenium.webdriver.common.action_chains import ActionChains\n",
    "import time\n",
    "import urllib.request\n",
    "import datetime\n",
    "import copy"
   ]
  },
  {
   "cell_type": "code",
   "execution_count": 8,
   "metadata": {},
   "outputs": [],
   "source": [
    "# MongoDB 클라이언트 및 컬렉션 설정\n",
    "client = MongoClient(host=\"\", port=, username='', password='')\n",
    "db = client['YouTube_crawling']\n",
    "collection = db['OneAsia_YouTube_shorts_crawling']\n",
    "data_list = list(collection.find({\"검색키워드\" : \"Busan One Asia Festival\"}, {\"_id\": 1, \"URL\": 1}))"
   ]
  },
  {
   "cell_type": "code",
   "execution_count": 9,
   "metadata": {},
   "outputs": [],
   "source": [
    "data_list1 = copy.deepcopy(data_list)"
   ]
  },
  {
   "cell_type": "code",
   "execution_count": 10,
   "metadata": {},
   "outputs": [],
   "source": [
    "driver = webdriver.Chrome()"
   ]
  },
  {
   "cell_type": "code",
   "execution_count": 11,
   "metadata": {},
   "outputs": [],
   "source": [
    "def process_link(url):\n",
    "    try:\n",
    "        driver.get(url)\n",
    "\n",
    "        time.sleep(3)\n",
    "\n",
    "        # 페이지가 로드될 때까지 잠시 대기 (필요 시 명시적으로 기다릴 수 있음)\n",
    "        driver.implicitly_wait(10)\n",
    "\n",
    "        # 더보기\n",
    "        more_element = driver.find_element(By.CSS_SELECTOR, 'yt-formatted-string.style-scope.reel-player-header-renderer')\n",
    "        more_element.click()\n",
    "        time.sleep(2)\n",
    "\n",
    "        # 설명 더보기 버튼은 존재하지 않는 경우도 있음 (셜명이 짧을 경우 나타나지 않음)\n",
    "        try:\n",
    "            more_element2 = driver.find_element(By.CSS_SELECTOR, 'yt-formatted-string.more-button.style-scope.ytd-expandable-video-description-body-renderer')\n",
    "            more_element2.click()\n",
    "            time.sleep(2)  # 클릭 후 잠시 대기\n",
    "        except Exception as e:\n",
    "            print(\"버튼 없음:\", e)\n",
    "\n",
    "        # 설명 텍스트 추출\n",
    "        description1_text = \"\"\n",
    "        description2_text = \"\"\n",
    "        \n",
    "        # 설명 요소는 둘 중 하나만 존재함\n",
    "        # 설명1 요소 찾기\n",
    "        try:\n",
    "            description1_element = driver.find_element(By.CSS_SELECTOR, 'div#title.style-scope.ytd-video-description-header-renderer')\n",
    "            description1_text = description1_element.text.strip()\n",
    "        except:\n",
    "            pass\n",
    "        \n",
    "        # 설명2 요소 찾기\n",
    "        if not description1_text:\n",
    "            try:\n",
    "                description2_element = driver.find_element(By.XPATH, '//*[@id=\"description\"]/yt-formatted-string')\n",
    "                description2_text = description2_element.text.strip()\n",
    "            except:\n",
    "                pass\n",
    "\n",
    "        # 사용 가능한 설명 텍스트 설정\n",
    "        description_text = description1_text if description1_text else description2_text\n",
    "\n",
    "        print(\"설명:\", description_text if description_text else \"설명 텍스트가 없습니다.\")\n",
    "\n",
    "        # MongoDB에 적재 (설명1, 설명2 요소가 모두 없는 경우는 공백을 적재)\n",
    "        collection.update_one({\"URL\": url}, {\"$set\": {\n",
    "            \"설명\": description_text if description_text else \"\"\n",
    "        }}, upsert=True)\n",
    "\n",
    "        time.sleep(3)\n",
    "\n",
    "    except Exception as e:\n",
    "        print(\"URL 처리 중 오류 발생:\", e)"
   ]
  },
  {
   "cell_type": "code",
   "execution_count": 12,
   "metadata": {},
   "outputs": [
    {
     "name": "stderr",
     "output_type": "stream",
     "text": [
      "Processing Links:   0%|          | 0/77 [00:00<?, ?link/s]"
     ]
    },
    {
     "name": "stdout",
     "output_type": "stream",
     "text": [
      "버튼 없음: Message: element not interactable\n",
      "  (Session info: chrome=126.0.6478.63)\n",
      "Stacktrace:\n",
      "\tGetHandleVerifier [0x00007FF640AF3E32+31618]\n",
      "\t(No symbol) [0x00007FF640A6B099]\n",
      "\t(No symbol) [0x00007FF6409286B9]\n",
      "\t(No symbol) [0x00007FF6409798B2]\n",
      "\t(No symbol) [0x00007FF64096C281]\n",
      "\t(No symbol) [0x00007FF64099D10A]\n",
      "\t(No symbol) [0x00007FF64096BBA6]\n",
      "\t(No symbol) [0x00007FF64099D320]\n",
      "\t(No symbol) [0x00007FF6409BCA80]\n",
      "\t(No symbol) [0x00007FF64099CEB3]\n",
      "\t(No symbol) [0x00007FF64096A46B]\n",
      "\t(No symbol) [0x00007FF64096B001]\n",
      "\tGetHandleVerifier [0x00007FF640DF9FFD+3202381]\n",
      "\tGetHandleVerifier [0x00007FF640E46A1D+3516269]\n",
      "\tGetHandleVerifier [0x00007FF640E3C490+3473888]\n",
      "\tGetHandleVerifier [0x00007FF640BA5D36+760454]\n",
      "\t(No symbol) [0x00007FF640A76B3F]\n",
      "\t(No symbol) [0x00007FF640A71CD4]\n",
      "\t(No symbol) [0x00007FF640A71E62]\n",
      "\t(No symbol) [0x00007FF640A6120F]\n",
      "\tBaseThreadInitThunk [0x00007FFCB7EA257D+29]\n",
      "\tRtlUserThreadStart [0x00007FFCB9CAAA48+40]\n",
      "\n",
      "설명: cr : Muayxyz\n"
     ]
    },
    {
     "name": "stderr",
     "output_type": "stream",
     "text": [
      "Processing Links:   1%|▏         | 1/77 [00:19<25:11, 19.89s/link]"
     ]
    },
    {
     "name": "stdout",
     "output_type": "stream",
     "text": [
      "버튼 없음: Message: element not interactable\n",
      "  (Session info: chrome=126.0.6478.63)\n",
      "Stacktrace:\n",
      "\tGetHandleVerifier [0x00007FF640AF3E32+31618]\n",
      "\t(No symbol) [0x00007FF640A6B099]\n",
      "\t(No symbol) [0x00007FF6409286B9]\n",
      "\t(No symbol) [0x00007FF6409798B2]\n",
      "\t(No symbol) [0x00007FF64096C281]\n",
      "\t(No symbol) [0x00007FF64099D10A]\n",
      "\t(No symbol) [0x00007FF64096BBA6]\n",
      "\t(No symbol) [0x00007FF64099D320]\n",
      "\t(No symbol) [0x00007FF6409BCA80]\n",
      "\t(No symbol) [0x00007FF64099CEB3]\n",
      "\t(No symbol) [0x00007FF64096A46B]\n",
      "\t(No symbol) [0x00007FF64096B001]\n",
      "\tGetHandleVerifier [0x00007FF640DF9FFD+3202381]\n",
      "\tGetHandleVerifier [0x00007FF640E46A1D+3516269]\n",
      "\tGetHandleVerifier [0x00007FF640E3C490+3473888]\n",
      "\tGetHandleVerifier [0x00007FF640BA5D36+760454]\n",
      "\t(No symbol) [0x00007FF640A76B3F]\n",
      "\t(No symbol) [0x00007FF640A71CD4]\n",
      "\t(No symbol) [0x00007FF640A71E62]\n",
      "\t(No symbol) [0x00007FF640A6120F]\n",
      "\tBaseThreadInitThunk [0x00007FFCB7EA257D+29]\n",
      "\tRtlUserThreadStart [0x00007FFCB9CAAA48+40]\n",
      "\n",
      "설명: #boyfriendbaekhyun \n",
      "#exo #exok #exom #exosaranghaja #weareone #weareexo #exoplanet #baekhyun #byunbaekhyun #sassybaek #baekkie #kkaebsong #kpop #엑소 #백현 #변백현 #깹송 #边伯贤\n"
     ]
    },
    {
     "name": "stderr",
     "output_type": "stream",
     "text": [
      "Processing Links:   3%|▎         | 2/77 [00:40<25:05, 20.08s/link]"
     ]
    },
    {
     "name": "stdout",
     "output_type": "stream",
     "text": [
      "버튼 없음: Message: element not interactable\n",
      "  (Session info: chrome=126.0.6478.63)\n",
      "Stacktrace:\n",
      "\tGetHandleVerifier [0x00007FF640AF3E32+31618]\n",
      "\t(No symbol) [0x00007FF640A6B099]\n",
      "\t(No symbol) [0x00007FF6409286B9]\n",
      "\t(No symbol) [0x00007FF6409798B2]\n",
      "\t(No symbol) [0x00007FF64096C281]\n",
      "\t(No symbol) [0x00007FF64099D10A]\n",
      "\t(No symbol) [0x00007FF64096BBA6]\n",
      "\t(No symbol) [0x00007FF64099D320]\n",
      "\t(No symbol) [0x00007FF6409BCA80]\n",
      "\t(No symbol) [0x00007FF64099CEB3]\n",
      "\t(No symbol) [0x00007FF64096A46B]\n",
      "\t(No symbol) [0x00007FF64096B001]\n",
      "\tGetHandleVerifier [0x00007FF640DF9FFD+3202381]\n",
      "\tGetHandleVerifier [0x00007FF640E46A1D+3516269]\n",
      "\tGetHandleVerifier [0x00007FF640E3C490+3473888]\n",
      "\tGetHandleVerifier [0x00007FF640BA5D36+760454]\n",
      "\t(No symbol) [0x00007FF640A76B3F]\n",
      "\t(No symbol) [0x00007FF640A71CD4]\n",
      "\t(No symbol) [0x00007FF640A71E62]\n",
      "\t(No symbol) [0x00007FF640A6120F]\n",
      "\tBaseThreadInitThunk [0x00007FFCB7EA257D+29]\n",
      "\tRtlUserThreadStart [0x00007FFCB9CAAA48+40]\n",
      "\n",
      "설명: 181028- #HD -  NCT Dream 'Ceremony Busan One Asia Festival (BOF) closing' .\n",
      "#Najaemin #MarkLee .\n"
     ]
    },
    {
     "name": "stderr",
     "output_type": "stream",
     "text": [
      "Processing Links:   4%|▍         | 3/77 [00:59<24:31, 19.89s/link]"
     ]
    },
    {
     "name": "stdout",
     "output_type": "stream",
     "text": [
      "버튼 없음: Message: no such element: Unable to locate element: {\"method\":\"css selector\",\"selector\":\"yt-formatted-string.more-button.style-scope.ytd-expandable-video-description-body-renderer\"}\n",
      "  (Session info: chrome=126.0.6478.63); For documentation on this error, please visit: https://www.selenium.dev/documentation/webdriver/troubleshooting/errors#no-such-element-exception\n",
      "Stacktrace:\n",
      "\tGetHandleVerifier [0x00007FF640AF3E32+31618]\n",
      "\t(No symbol) [0x00007FF640A6B099]\n",
      "\t(No symbol) [0x00007FF64092888A]\n",
      "\t(No symbol) [0x00007FF640978524]\n",
      "\t(No symbol) [0x00007FF64097862C]\n",
      "\t(No symbol) [0x00007FF6409BF787]\n",
      "\t(No symbol) [0x00007FF64099D14F]\n",
      "\t(No symbol) [0x00007FF6409BCA80]\n",
      "\t(No symbol) [0x00007FF64099CEB3]\n",
      "\t(No symbol) [0x00007FF64096A46B]\n",
      "\t(No symbol) [0x00007FF64096B001]\n",
      "\tGetHandleVerifier [0x00007FF640DF9FFD+3202381]\n",
      "\tGetHandleVerifier [0x00007FF640E46A1D+3516269]\n",
      "\tGetHandleVerifier [0x00007FF640E3C490+3473888]\n",
      "\tGetHandleVerifier [0x00007FF640BA5D36+760454]\n",
      "\t(No symbol) [0x00007FF640A76B3F]\n",
      "\t(No symbol) [0x00007FF640A71CD4]\n",
      "\t(No symbol) [0x00007FF640A71E62]\n",
      "\t(No symbol) [0x00007FF640A6120F]\n",
      "\tBaseThreadInitThunk [0x00007FFCB7EA257D+29]\n",
      "\tRtlUserThreadStart [0x00007FFCB9CAAA48+40]\n",
      "\n",
      "설명: BUSAN ONE ASIA FESTIVAL 2023\n"
     ]
    },
    {
     "name": "stderr",
     "output_type": "stream",
     "text": [
      "Processing Links:   5%|▌         | 4/77 [01:19<24:16, 19.95s/link]"
     ]
    },
    {
     "name": "stdout",
     "output_type": "stream",
     "text": [
      "버튼 없음: Message: element not interactable\n",
      "  (Session info: chrome=126.0.6478.63)\n",
      "Stacktrace:\n",
      "\tGetHandleVerifier [0x00007FF640AF3E32+31618]\n",
      "\t(No symbol) [0x00007FF640A6B099]\n",
      "\t(No symbol) [0x00007FF6409286B9]\n",
      "\t(No symbol) [0x00007FF6409798B2]\n",
      "\t(No symbol) [0x00007FF64096C281]\n",
      "\t(No symbol) [0x00007FF64099D10A]\n",
      "\t(No symbol) [0x00007FF64096BBA6]\n",
      "\t(No symbol) [0x00007FF64099D320]\n",
      "\t(No symbol) [0x00007FF6409BCA80]\n",
      "\t(No symbol) [0x00007FF64099CEB3]\n",
      "\t(No symbol) [0x00007FF64096A46B]\n",
      "\t(No symbol) [0x00007FF64096B001]\n",
      "\tGetHandleVerifier [0x00007FF640DF9FFD+3202381]\n",
      "\tGetHandleVerifier [0x00007FF640E46A1D+3516269]\n",
      "\tGetHandleVerifier [0x00007FF640E3C490+3473888]\n",
      "\tGetHandleVerifier [0x00007FF640BA5D36+760454]\n",
      "\t(No symbol) [0x00007FF640A76B3F]\n",
      "\t(No symbol) [0x00007FF640A71CD4]\n",
      "\t(No symbol) [0x00007FF640A71E62]\n",
      "\t(No symbol) [0x00007FF640A6120F]\n",
      "\tBaseThreadInitThunk [0x00007FFCB7EA257D+29]\n",
      "\tRtlUserThreadStart [0x00007FFCB9CAAA48+40]\n",
      "\n",
      "설명: #CHANYEOL #EXO\n"
     ]
    },
    {
     "name": "stderr",
     "output_type": "stream",
     "text": [
      "Processing Links:   6%|▋         | 5/77 [01:39<23:52, 19.90s/link]"
     ]
    },
    {
     "name": "stdout",
     "output_type": "stream",
     "text": [
      "버튼 없음: Message: no such element: Unable to locate element: {\"method\":\"css selector\",\"selector\":\"yt-formatted-string.more-button.style-scope.ytd-expandable-video-description-body-renderer\"}\n",
      "  (Session info: chrome=126.0.6478.63); For documentation on this error, please visit: https://www.selenium.dev/documentation/webdriver/troubleshooting/errors#no-such-element-exception\n",
      "Stacktrace:\n",
      "\tGetHandleVerifier [0x00007FF640AF3E32+31618]\n",
      "\t(No symbol) [0x00007FF640A6B099]\n",
      "\t(No symbol) [0x00007FF64092888A]\n",
      "\t(No symbol) [0x00007FF640978524]\n",
      "\t(No symbol) [0x00007FF64097862C]\n",
      "\t(No symbol) [0x00007FF6409BF787]\n",
      "\t(No symbol) [0x00007FF64099D14F]\n",
      "\t(No symbol) [0x00007FF6409BCA80]\n",
      "\t(No symbol) [0x00007FF64099CEB3]\n",
      "\t(No symbol) [0x00007FF64096A46B]\n",
      "\t(No symbol) [0x00007FF64096B001]\n",
      "\tGetHandleVerifier [0x00007FF640DF9FFD+3202381]\n",
      "\tGetHandleVerifier [0x00007FF640E46A1D+3516269]\n",
      "\tGetHandleVerifier [0x00007FF640E3C490+3473888]\n",
      "\tGetHandleVerifier [0x00007FF640BA5D36+760454]\n",
      "\t(No symbol) [0x00007FF640A76B3F]\n",
      "\t(No symbol) [0x00007FF640A71CD4]\n",
      "\t(No symbol) [0x00007FF640A71E62]\n",
      "\t(No symbol) [0x00007FF640A6120F]\n",
      "\tBaseThreadInitThunk [0x00007FFCB7EA257D+29]\n",
      "\tRtlUserThreadStart [0x00007FFCB9CAAA48+40]\n",
      "\n",
      "설명: Apink Park Bomi @ Busan one Asia Festival\n"
     ]
    },
    {
     "name": "stderr",
     "output_type": "stream",
     "text": [
      "Processing Links:   8%|▊         | 6/77 [01:59<23:24, 19.78s/link]"
     ]
    },
    {
     "name": "stdout",
     "output_type": "stream",
     "text": [
      "버튼 없음: Message: no such element: Unable to locate element: {\"method\":\"css selector\",\"selector\":\"yt-formatted-string.more-button.style-scope.ytd-expandable-video-description-body-renderer\"}\n",
      "  (Session info: chrome=126.0.6478.63); For documentation on this error, please visit: https://www.selenium.dev/documentation/webdriver/troubleshooting/errors#no-such-element-exception\n",
      "Stacktrace:\n",
      "\tGetHandleVerifier [0x00007FF640AF3E32+31618]\n",
      "\t(No symbol) [0x00007FF640A6B099]\n",
      "\t(No symbol) [0x00007FF64092888A]\n",
      "\t(No symbol) [0x00007FF640978524]\n",
      "\t(No symbol) [0x00007FF64097862C]\n",
      "\t(No symbol) [0x00007FF6409BF787]\n",
      "\t(No symbol) [0x00007FF64099D14F]\n",
      "\t(No symbol) [0x00007FF6409BCA80]\n",
      "\t(No symbol) [0x00007FF64099CEB3]\n",
      "\t(No symbol) [0x00007FF64096A46B]\n",
      "\t(No symbol) [0x00007FF64096B001]\n",
      "\tGetHandleVerifier [0x00007FF640DF9FFD+3202381]\n",
      "\tGetHandleVerifier [0x00007FF640E46A1D+3516269]\n",
      "\tGetHandleVerifier [0x00007FF640E3C490+3473888]\n",
      "\tGetHandleVerifier [0x00007FF640BA5D36+760454]\n",
      "\t(No symbol) [0x00007FF640A76B3F]\n",
      "\t(No symbol) [0x00007FF640A71CD4]\n",
      "\t(No symbol) [0x00007FF640A71E62]\n",
      "\t(No symbol) [0x00007FF640A6120F]\n",
      "\tBaseThreadInitThunk [0x00007FFCB7EA257D+29]\n",
      "\tRtlUserThreadStart [0x00007FFCB9CAAA48+40]\n",
      "\n",
      "설명: Busan One Asia festival 2017 - IKON\n"
     ]
    },
    {
     "name": "stderr",
     "output_type": "stream",
     "text": [
      "Processing Links:   9%|▉         | 7/77 [02:18<23:04, 19.78s/link]"
     ]
    },
    {
     "name": "stdout",
     "output_type": "stream",
     "text": [
      "버튼 없음: Message: element not interactable\n",
      "  (Session info: chrome=126.0.6478.63)\n",
      "Stacktrace:\n",
      "\tGetHandleVerifier [0x00007FF640AF3E32+31618]\n",
      "\t(No symbol) [0x00007FF640A6B099]\n",
      "\t(No symbol) [0x00007FF6409286B9]\n",
      "\t(No symbol) [0x00007FF6409798B2]\n",
      "\t(No symbol) [0x00007FF64096C281]\n",
      "\t(No symbol) [0x00007FF64099D10A]\n",
      "\t(No symbol) [0x00007FF64096BBA6]\n",
      "\t(No symbol) [0x00007FF64099D320]\n",
      "\t(No symbol) [0x00007FF6409BCA80]\n",
      "\t(No symbol) [0x00007FF64099CEB3]\n",
      "\t(No symbol) [0x00007FF64096A46B]\n",
      "\t(No symbol) [0x00007FF64096B001]\n",
      "\tGetHandleVerifier [0x00007FF640DF9FFD+3202381]\n",
      "\tGetHandleVerifier [0x00007FF640E46A1D+3516269]\n",
      "\tGetHandleVerifier [0x00007FF640E3C490+3473888]\n",
      "\tGetHandleVerifier [0x00007FF640BA5D36+760454]\n",
      "\t(No symbol) [0x00007FF640A76B3F]\n",
      "\t(No symbol) [0x00007FF640A71CD4]\n",
      "\t(No symbol) [0x00007FF640A71E62]\n",
      "\t(No symbol) [0x00007FF640A6120F]\n",
      "\tBaseThreadInitThunk [0x00007FFCB7EA257D+29]\n",
      "\tRtlUserThreadStart [0x00007FFCB9CAAA48+40]\n",
      "\n",
      "설명: Website @ https://kpopshowvideos.blogspot.com/\n"
     ]
    },
    {
     "name": "stderr",
     "output_type": "stream",
     "text": [
      "Processing Links:  10%|█         | 8/77 [02:38<22:41, 19.73s/link]"
     ]
    },
    {
     "name": "stdout",
     "output_type": "stream",
     "text": [
      "버튼 없음: Message: no such element: Unable to locate element: {\"method\":\"css selector\",\"selector\":\"yt-formatted-string.more-button.style-scope.ytd-expandable-video-description-body-renderer\"}\n",
      "  (Session info: chrome=126.0.6478.63); For documentation on this error, please visit: https://www.selenium.dev/documentation/webdriver/troubleshooting/errors#no-such-element-exception\n",
      "Stacktrace:\n",
      "\tGetHandleVerifier [0x00007FF640AF3E32+31618]\n",
      "\t(No symbol) [0x00007FF640A6B099]\n",
      "\t(No symbol) [0x00007FF64092888A]\n",
      "\t(No symbol) [0x00007FF640978524]\n",
      "\t(No symbol) [0x00007FF64097862C]\n",
      "\t(No symbol) [0x00007FF6409BF787]\n",
      "\t(No symbol) [0x00007FF64099D14F]\n",
      "\t(No symbol) [0x00007FF6409BCA80]\n",
      "\t(No symbol) [0x00007FF64099CEB3]\n",
      "\t(No symbol) [0x00007FF64096A46B]\n",
      "\t(No symbol) [0x00007FF64096B001]\n",
      "\tGetHandleVerifier [0x00007FF640DF9FFD+3202381]\n",
      "\tGetHandleVerifier [0x00007FF640E46A1D+3516269]\n",
      "\tGetHandleVerifier [0x00007FF640E3C490+3473888]\n",
      "\tGetHandleVerifier [0x00007FF640BA5D36+760454]\n",
      "\t(No symbol) [0x00007FF640A76B3F]\n",
      "\t(No symbol) [0x00007FF640A71CD4]\n",
      "\t(No symbol) [0x00007FF640A71E62]\n",
      "\t(No symbol) [0x00007FF640A6120F]\n",
      "\tBaseThreadInitThunk [0x00007FFCB7EA257D+29]\n",
      "\tRtlUserThreadStart [0x00007FFCB9CAAA48+40]\n",
      "\n",
      "설명: 설명 텍스트가 없습니다.\n"
     ]
    },
    {
     "name": "stderr",
     "output_type": "stream",
     "text": [
      "Processing Links:  12%|█▏        | 9/77 [03:18<29:25, 25.96s/link]"
     ]
    },
    {
     "name": "stdout",
     "output_type": "stream",
     "text": [
      "버튼 없음: Message: no such element: Unable to locate element: {\"method\":\"css selector\",\"selector\":\"yt-formatted-string.more-button.style-scope.ytd-expandable-video-description-body-renderer\"}\n",
      "  (Session info: chrome=126.0.6478.63); For documentation on this error, please visit: https://www.selenium.dev/documentation/webdriver/troubleshooting/errors#no-such-element-exception\n",
      "Stacktrace:\n",
      "\tGetHandleVerifier [0x00007FF640AF3E32+31618]\n",
      "\t(No symbol) [0x00007FF640A6B099]\n",
      "\t(No symbol) [0x00007FF64092888A]\n",
      "\t(No symbol) [0x00007FF640978524]\n",
      "\t(No symbol) [0x00007FF64097862C]\n",
      "\t(No symbol) [0x00007FF6409BF787]\n",
      "\t(No symbol) [0x00007FF64099D14F]\n",
      "\t(No symbol) [0x00007FF6409BCA80]\n",
      "\t(No symbol) [0x00007FF64099CEB3]\n",
      "\t(No symbol) [0x00007FF64096A46B]\n",
      "\t(No symbol) [0x00007FF64096B001]\n",
      "\tGetHandleVerifier [0x00007FF640DF9FFD+3202381]\n",
      "\tGetHandleVerifier [0x00007FF640E46A1D+3516269]\n",
      "\tGetHandleVerifier [0x00007FF640E3C490+3473888]\n",
      "\tGetHandleVerifier [0x00007FF640BA5D36+760454]\n",
      "\t(No symbol) [0x00007FF640A76B3F]\n",
      "\t(No symbol) [0x00007FF640A71CD4]\n",
      "\t(No symbol) [0x00007FF640A71E62]\n",
      "\t(No symbol) [0x00007FF640A6120F]\n",
      "\tBaseThreadInitThunk [0x00007FFCB7EA257D+29]\n",
      "\tRtlUserThreadStart [0x00007FFCB9CAAA48+40]\n",
      "\n",
      "설명: the screaming crowd with NCT127 during the Busan One Asia Festival 2023 #nct127 #busankorea\n"
     ]
    },
    {
     "name": "stderr",
     "output_type": "stream",
     "text": [
      "Processing Links:  13%|█▎        | 10/77 [03:37<26:49, 24.03s/link]"
     ]
    },
    {
     "name": "stdout",
     "output_type": "stream",
     "text": [
      "버튼 없음: Message: element not interactable\n",
      "  (Session info: chrome=126.0.6478.63)\n",
      "Stacktrace:\n",
      "\tGetHandleVerifier [0x00007FF640AF3E32+31618]\n",
      "\t(No symbol) [0x00007FF640A6B099]\n",
      "\t(No symbol) [0x00007FF6409286B9]\n",
      "\t(No symbol) [0x00007FF6409798B2]\n",
      "\t(No symbol) [0x00007FF64096C281]\n",
      "\t(No symbol) [0x00007FF64099D10A]\n",
      "\t(No symbol) [0x00007FF64096BBA6]\n",
      "\t(No symbol) [0x00007FF64099D320]\n",
      "\t(No symbol) [0x00007FF6409BCA80]\n",
      "\t(No symbol) [0x00007FF64099CEB3]\n",
      "\t(No symbol) [0x00007FF64096A46B]\n",
      "\t(No symbol) [0x00007FF64096B001]\n",
      "\tGetHandleVerifier [0x00007FF640DF9FFD+3202381]\n",
      "\tGetHandleVerifier [0x00007FF640E46A1D+3516269]\n",
      "\tGetHandleVerifier [0x00007FF640E3C490+3473888]\n",
      "\tGetHandleVerifier [0x00007FF640BA5D36+760454]\n",
      "\t(No symbol) [0x00007FF640A76B3F]\n",
      "\t(No symbol) [0x00007FF640A71CD4]\n",
      "\t(No symbol) [0x00007FF640A71E62]\n",
      "\t(No symbol) [0x00007FF640A6120F]\n",
      "\tBaseThreadInitThunk [0x00007FFCB7EA257D+29]\n",
      "\tRtlUserThreadStart [0x00007FFCB9CAAA48+40]\n",
      "\n",
      "설명: ©\n",
      "Via Cliffordsshugs\n"
     ]
    },
    {
     "name": "stderr",
     "output_type": "stream",
     "text": [
      "Processing Links:  14%|█▍        | 11/77 [03:57<24:55, 22.65s/link]"
     ]
    },
    {
     "name": "stdout",
     "output_type": "stream",
     "text": [
      "버튼 없음: Message: no such element: Unable to locate element: {\"method\":\"css selector\",\"selector\":\"yt-formatted-string.more-button.style-scope.ytd-expandable-video-description-body-renderer\"}\n",
      "  (Session info: chrome=126.0.6478.63); For documentation on this error, please visit: https://www.selenium.dev/documentation/webdriver/troubleshooting/errors#no-such-element-exception\n",
      "Stacktrace:\n",
      "\tGetHandleVerifier [0x00007FF640AF3E32+31618]\n",
      "\t(No symbol) [0x00007FF640A6B099]\n",
      "\t(No symbol) [0x00007FF64092888A]\n",
      "\t(No symbol) [0x00007FF640978524]\n",
      "\t(No symbol) [0x00007FF64097862C]\n",
      "\t(No symbol) [0x00007FF6409BF787]\n",
      "\t(No symbol) [0x00007FF64099D14F]\n",
      "\t(No symbol) [0x00007FF6409BCA80]\n",
      "\t(No symbol) [0x00007FF64099CEB3]\n",
      "\t(No symbol) [0x00007FF64096A46B]\n",
      "\t(No symbol) [0x00007FF64096B001]\n",
      "\tGetHandleVerifier [0x00007FF640DF9FFD+3202381]\n",
      "\tGetHandleVerifier [0x00007FF640E46A1D+3516269]\n",
      "\tGetHandleVerifier [0x00007FF640E3C490+3473888]\n",
      "\tGetHandleVerifier [0x00007FF640BA5D36+760454]\n",
      "\t(No symbol) [0x00007FF640A76B3F]\n",
      "\t(No symbol) [0x00007FF640A71CD4]\n",
      "\t(No symbol) [0x00007FF640A71E62]\n",
      "\t(No symbol) [0x00007FF640A6120F]\n",
      "\tBaseThreadInitThunk [0x00007FFCB7EA257D+29]\n",
      "\tRtlUserThreadStart [0x00007FFCB9CAAA48+40]\n",
      "\n",
      "설명: The Wind(더윈드) - WE GO @ Busan One Asia Festival #더윈드 #thewind #wego\n"
     ]
    },
    {
     "name": "stderr",
     "output_type": "stream",
     "text": [
      "Processing Links:  16%|█▌        | 12/77 [04:17<23:32, 21.74s/link]"
     ]
    },
    {
     "name": "stdout",
     "output_type": "stream",
     "text": [
      "버튼 없음: Message: element not interactable\n",
      "  (Session info: chrome=126.0.6478.63)\n",
      "Stacktrace:\n",
      "\tGetHandleVerifier [0x00007FF640AF3E32+31618]\n",
      "\t(No symbol) [0x00007FF640A6B099]\n",
      "\t(No symbol) [0x00007FF6409286B9]\n",
      "\t(No symbol) [0x00007FF6409798B2]\n",
      "\t(No symbol) [0x00007FF64096C281]\n",
      "\t(No symbol) [0x00007FF64099D10A]\n",
      "\t(No symbol) [0x00007FF64096BBA6]\n",
      "\t(No symbol) [0x00007FF64099D320]\n",
      "\t(No symbol) [0x00007FF6409BCA80]\n",
      "\t(No symbol) [0x00007FF64099CEB3]\n",
      "\t(No symbol) [0x00007FF64096A46B]\n",
      "\t(No symbol) [0x00007FF64096B001]\n",
      "\tGetHandleVerifier [0x00007FF640DF9FFD+3202381]\n",
      "\tGetHandleVerifier [0x00007FF640E46A1D+3516269]\n",
      "\tGetHandleVerifier [0x00007FF640E3C490+3473888]\n",
      "\tGetHandleVerifier [0x00007FF640BA5D36+760454]\n",
      "\t(No symbol) [0x00007FF640A76B3F]\n",
      "\t(No symbol) [0x00007FF640A71CD4]\n",
      "\t(No symbol) [0x00007FF640A71E62]\n",
      "\t(No symbol) [0x00007FF640A6120F]\n",
      "\tBaseThreadInitThunk [0x00007FFCB7EA257D+29]\n",
      "\tRtlUserThreadStart [0x00007FFCB9CAAA48+40]\n",
      "\n",
      "설명: unreleased Dance practice of Kokobop was shown at 2018 BOAF\n",
      "\n",
      "credit: moha_0412\n"
     ]
    },
    {
     "name": "stderr",
     "output_type": "stream",
     "text": [
      "Processing Links:  17%|█▋        | 13/77 [04:37<22:36, 21.19s/link]"
     ]
    },
    {
     "name": "stdout",
     "output_type": "stream",
     "text": [
      "버튼 없음: Message: element not interactable\n",
      "  (Session info: chrome=126.0.6478.63)\n",
      "Stacktrace:\n",
      "\tGetHandleVerifier [0x00007FF640AF3E32+31618]\n",
      "\t(No symbol) [0x00007FF640A6B099]\n",
      "\t(No symbol) [0x00007FF6409286B9]\n",
      "\t(No symbol) [0x00007FF6409798B2]\n",
      "\t(No symbol) [0x00007FF64096C281]\n",
      "\t(No symbol) [0x00007FF64099D10A]\n",
      "\t(No symbol) [0x00007FF64096BBA6]\n",
      "\t(No symbol) [0x00007FF64099D320]\n",
      "\t(No symbol) [0x00007FF6409BCA80]\n",
      "\t(No symbol) [0x00007FF64099CEB3]\n",
      "\t(No symbol) [0x00007FF64096A46B]\n",
      "\t(No symbol) [0x00007FF64096B001]\n",
      "\tGetHandleVerifier [0x00007FF640DF9FFD+3202381]\n",
      "\tGetHandleVerifier [0x00007FF640E46A1D+3516269]\n",
      "\tGetHandleVerifier [0x00007FF640E3C490+3473888]\n",
      "\tGetHandleVerifier [0x00007FF640BA5D36+760454]\n",
      "\t(No symbol) [0x00007FF640A76B3F]\n",
      "\t(No symbol) [0x00007FF640A71CD4]\n",
      "\t(No symbol) [0x00007FF640A71E62]\n",
      "\t(No symbol) [0x00007FF640A6120F]\n",
      "\tBaseThreadInitThunk [0x00007FFCB7EA257D+29]\n",
      "\tRtlUserThreadStart [0x00007FFCB9CAAA48+40]\n",
      "\n",
      "설명: #데이드림 #원아페 #BOF\n"
     ]
    },
    {
     "name": "stderr",
     "output_type": "stream",
     "text": [
      "Processing Links:  18%|█▊        | 14/77 [04:56<21:45, 20.71s/link]"
     ]
    },
    {
     "name": "stdout",
     "output_type": "stream",
     "text": [
      "버튼 없음: Message: no such element: Unable to locate element: {\"method\":\"css selector\",\"selector\":\"yt-formatted-string.more-button.style-scope.ytd-expandable-video-description-body-renderer\"}\n",
      "  (Session info: chrome=126.0.6478.63); For documentation on this error, please visit: https://www.selenium.dev/documentation/webdriver/troubleshooting/errors#no-such-element-exception\n",
      "Stacktrace:\n",
      "\tGetHandleVerifier [0x00007FF640AF3E32+31618]\n",
      "\t(No symbol) [0x00007FF640A6B099]\n",
      "\t(No symbol) [0x00007FF64092888A]\n",
      "\t(No symbol) [0x00007FF640978524]\n",
      "\t(No symbol) [0x00007FF64097862C]\n",
      "\t(No symbol) [0x00007FF6409BF787]\n",
      "\t(No symbol) [0x00007FF64099D14F]\n",
      "\t(No symbol) [0x00007FF6409BCA80]\n",
      "\t(No symbol) [0x00007FF64099CEB3]\n",
      "\t(No symbol) [0x00007FF64096A46B]\n",
      "\t(No symbol) [0x00007FF64096B001]\n",
      "\tGetHandleVerifier [0x00007FF640DF9FFD+3202381]\n",
      "\tGetHandleVerifier [0x00007FF640E46A1D+3516269]\n",
      "\tGetHandleVerifier [0x00007FF640E3C490+3473888]\n",
      "\tGetHandleVerifier [0x00007FF640BA5D36+760454]\n",
      "\t(No symbol) [0x00007FF640A76B3F]\n",
      "\t(No symbol) [0x00007FF640A71CD4]\n",
      "\t(No symbol) [0x00007FF640A71E62]\n",
      "\t(No symbol) [0x00007FF640A6120F]\n",
      "\tBaseThreadInitThunk [0x00007FFCB7EA257D+29]\n",
      "\tRtlUserThreadStart [0x00007FFCB9CAAA48+40]\n",
      "\n",
      "설명: 6 years ago,#namjoon couldn't perform, so#seokjin took over #bts greeting at Busan One Asia Festival\n"
     ]
    },
    {
     "name": "stderr",
     "output_type": "stream",
     "text": [
      "Processing Links:  19%|█▉        | 15/77 [05:16<21:07, 20.45s/link]"
     ]
    },
    {
     "name": "stdout",
     "output_type": "stream",
     "text": [
      "버튼 없음: Message: no such element: Unable to locate element: {\"method\":\"css selector\",\"selector\":\"yt-formatted-string.more-button.style-scope.ytd-expandable-video-description-body-renderer\"}\n",
      "  (Session info: chrome=126.0.6478.63); For documentation on this error, please visit: https://www.selenium.dev/documentation/webdriver/troubleshooting/errors#no-such-element-exception\n",
      "Stacktrace:\n",
      "\tGetHandleVerifier [0x00007FF640AF3E32+31618]\n",
      "\t(No symbol) [0x00007FF640A6B099]\n",
      "\t(No symbol) [0x00007FF64092888A]\n",
      "\t(No symbol) [0x00007FF640978524]\n",
      "\t(No symbol) [0x00007FF64097862C]\n",
      "\t(No symbol) [0x00007FF6409BF787]\n",
      "\t(No symbol) [0x00007FF64099D14F]\n",
      "\t(No symbol) [0x00007FF6409BCA80]\n",
      "\t(No symbol) [0x00007FF64099CEB3]\n",
      "\t(No symbol) [0x00007FF64096A46B]\n",
      "\t(No symbol) [0x00007FF64096B001]\n",
      "\tGetHandleVerifier [0x00007FF640DF9FFD+3202381]\n",
      "\tGetHandleVerifier [0x00007FF640E46A1D+3516269]\n",
      "\tGetHandleVerifier [0x00007FF640E3C490+3473888]\n",
      "\tGetHandleVerifier [0x00007FF640BA5D36+760454]\n",
      "\t(No symbol) [0x00007FF640A76B3F]\n",
      "\t(No symbol) [0x00007FF640A71CD4]\n",
      "\t(No symbol) [0x00007FF640A71E62]\n",
      "\t(No symbol) [0x00007FF640A6120F]\n",
      "\tBaseThreadInitThunk [0x00007FFCB7EA257D+29]\n",
      "\tRtlUserThreadStart [0x00007FFCB9CAAA48+40]\n",
      "\n",
      "설명: 설명 텍스트가 없습니다.\n"
     ]
    },
    {
     "name": "stderr",
     "output_type": "stream",
     "text": [
      "Processing Links:  21%|██        | 16/77 [05:56<26:42, 26.26s/link]"
     ]
    },
    {
     "name": "stdout",
     "output_type": "stream",
     "text": [
      "버튼 없음: Message: no such element: Unable to locate element: {\"method\":\"css selector\",\"selector\":\"yt-formatted-string.more-button.style-scope.ytd-expandable-video-description-body-renderer\"}\n",
      "  (Session info: chrome=126.0.6478.63); For documentation on this error, please visit: https://www.selenium.dev/documentation/webdriver/troubleshooting/errors#no-such-element-exception\n",
      "Stacktrace:\n",
      "\tGetHandleVerifier [0x00007FF640AF3E32+31618]\n",
      "\t(No symbol) [0x00007FF640A6B099]\n",
      "\t(No symbol) [0x00007FF64092888A]\n",
      "\t(No symbol) [0x00007FF640978524]\n",
      "\t(No symbol) [0x00007FF64097862C]\n",
      "\t(No symbol) [0x00007FF6409BF787]\n",
      "\t(No symbol) [0x00007FF64099D14F]\n",
      "\t(No symbol) [0x00007FF6409BCA80]\n",
      "\t(No symbol) [0x00007FF64099CEB3]\n",
      "\t(No symbol) [0x00007FF64096A46B]\n",
      "\t(No symbol) [0x00007FF64096B001]\n",
      "\tGetHandleVerifier [0x00007FF640DF9FFD+3202381]\n",
      "\tGetHandleVerifier [0x00007FF640E46A1D+3516269]\n",
      "\tGetHandleVerifier [0x00007FF640E3C490+3473888]\n",
      "\tGetHandleVerifier [0x00007FF640BA5D36+760454]\n",
      "\t(No symbol) [0x00007FF640A76B3F]\n",
      "\t(No symbol) [0x00007FF640A71CD4]\n",
      "\t(No symbol) [0x00007FF640A71E62]\n",
      "\t(No symbol) [0x00007FF640A6120F]\n",
      "\tBaseThreadInitThunk [0x00007FFCB7EA257D+29]\n",
      "\tRtlUserThreadStart [0x00007FFCB9CAAA48+40]\n",
      "\n",
      "설명: The Wind - ISLAND @ Busan One Asia Festival #더윈드 #thewind #island\n"
     ]
    },
    {
     "name": "stderr",
     "output_type": "stream",
     "text": [
      "Processing Links:  22%|██▏       | 17/77 [06:16<24:21, 24.36s/link]"
     ]
    },
    {
     "name": "stdout",
     "output_type": "stream",
     "text": [
      "버튼 없음: Message: element not interactable\n",
      "  (Session info: chrome=126.0.6478.63)\n",
      "Stacktrace:\n",
      "\tGetHandleVerifier [0x00007FF640AF3E32+31618]\n",
      "\t(No symbol) [0x00007FF640A6B099]\n",
      "\t(No symbol) [0x00007FF6409286B9]\n",
      "\t(No symbol) [0x00007FF6409798B2]\n",
      "\t(No symbol) [0x00007FF64096C281]\n",
      "\t(No symbol) [0x00007FF64099D10A]\n",
      "\t(No symbol) [0x00007FF64096BBA6]\n",
      "\t(No symbol) [0x00007FF64099D320]\n",
      "\t(No symbol) [0x00007FF6409BCA80]\n",
      "\t(No symbol) [0x00007FF64099CEB3]\n",
      "\t(No symbol) [0x00007FF64096A46B]\n",
      "\t(No symbol) [0x00007FF64096B001]\n",
      "\tGetHandleVerifier [0x00007FF640DF9FFD+3202381]\n",
      "\tGetHandleVerifier [0x00007FF640E46A1D+3516269]\n",
      "\tGetHandleVerifier [0x00007FF640E3C490+3473888]\n",
      "\tGetHandleVerifier [0x00007FF640BA5D36+760454]\n",
      "\t(No symbol) [0x00007FF640A76B3F]\n",
      "\t(No symbol) [0x00007FF640A71CD4]\n",
      "\t(No symbol) [0x00007FF640A71E62]\n",
      "\t(No symbol) [0x00007FF640A6120F]\n",
      "\tBaseThreadInitThunk [0x00007FFCB7EA257D+29]\n",
      "\tRtlUserThreadStart [0x00007FFCB9CAAA48+40]\n",
      "\n",
      "설명: The girls are so cute\n"
     ]
    },
    {
     "name": "stderr",
     "output_type": "stream",
     "text": [
      "Processing Links:  23%|██▎       | 18/77 [06:36<22:39, 23.04s/link]"
     ]
    },
    {
     "name": "stdout",
     "output_type": "stream",
     "text": [
      "버튼 없음: Message: no such element: Unable to locate element: {\"method\":\"css selector\",\"selector\":\"yt-formatted-string.more-button.style-scope.ytd-expandable-video-description-body-renderer\"}\n",
      "  (Session info: chrome=126.0.6478.63); For documentation on this error, please visit: https://www.selenium.dev/documentation/webdriver/troubleshooting/errors#no-such-element-exception\n",
      "Stacktrace:\n",
      "\tGetHandleVerifier [0x00007FF640AF3E32+31618]\n",
      "\t(No symbol) [0x00007FF640A6B099]\n",
      "\t(No symbol) [0x00007FF64092888A]\n",
      "\t(No symbol) [0x00007FF640978524]\n",
      "\t(No symbol) [0x00007FF64097862C]\n",
      "\t(No symbol) [0x00007FF6409BF787]\n",
      "\t(No symbol) [0x00007FF64099D14F]\n",
      "\t(No symbol) [0x00007FF6409BCA80]\n",
      "\t(No symbol) [0x00007FF64099CEB3]\n",
      "\t(No symbol) [0x00007FF64096A46B]\n",
      "\t(No symbol) [0x00007FF64096B001]\n",
      "\tGetHandleVerifier [0x00007FF640DF9FFD+3202381]\n",
      "\tGetHandleVerifier [0x00007FF640E46A1D+3516269]\n",
      "\tGetHandleVerifier [0x00007FF640E3C490+3473888]\n",
      "\tGetHandleVerifier [0x00007FF640BA5D36+760454]\n",
      "\t(No symbol) [0x00007FF640A76B3F]\n",
      "\t(No symbol) [0x00007FF640A71CD4]\n",
      "\t(No symbol) [0x00007FF640A71E62]\n",
      "\t(No symbol) [0x00007FF640A6120F]\n",
      "\tBaseThreadInitThunk [0x00007FFCB7EA257D+29]\n",
      "\tRtlUserThreadStart [0x00007FFCB9CAAA48+40]\n",
      "\n",
      "설명: Sung Hanbin at Busan one asia festival 240608 #sunghanbin #busan #festival #zerobaseone #zb1 #bigboy\n"
     ]
    },
    {
     "name": "stderr",
     "output_type": "stream",
     "text": [
      "Processing Links:  25%|██▍       | 19/77 [06:55<21:20, 22.08s/link]"
     ]
    },
    {
     "name": "stdout",
     "output_type": "stream",
     "text": [
      "버튼 없음: Message: element not interactable\n",
      "  (Session info: chrome=126.0.6478.63)\n",
      "Stacktrace:\n",
      "\tGetHandleVerifier [0x00007FF640AF3E32+31618]\n",
      "\t(No symbol) [0x00007FF640A6B099]\n",
      "\t(No symbol) [0x00007FF6409286B9]\n",
      "\t(No symbol) [0x00007FF6409798B2]\n",
      "\t(No symbol) [0x00007FF64096C281]\n",
      "\t(No symbol) [0x00007FF64099D10A]\n",
      "\t(No symbol) [0x00007FF64096BBA6]\n",
      "\t(No symbol) [0x00007FF64099D320]\n",
      "\t(No symbol) [0x00007FF6409BCA80]\n",
      "\t(No symbol) [0x00007FF64099CEB3]\n",
      "\t(No symbol) [0x00007FF64096A46B]\n",
      "\t(No symbol) [0x00007FF64096B001]\n",
      "\tGetHandleVerifier [0x00007FF640DF9FFD+3202381]\n",
      "\tGetHandleVerifier [0x00007FF640E46A1D+3516269]\n",
      "\tGetHandleVerifier [0x00007FF640E3C490+3473888]\n",
      "\tGetHandleVerifier [0x00007FF640BA5D36+760454]\n",
      "\t(No symbol) [0x00007FF640A76B3F]\n",
      "\t(No symbol) [0x00007FF640A71CD4]\n",
      "\t(No symbol) [0x00007FF640A71E62]\n",
      "\t(No symbol) [0x00007FF640A6120F]\n",
      "\tBaseThreadInitThunk [0x00007FFCB7EA257D+29]\n",
      "\tRtlUserThreadStart [0x00007FFCB9CAAA48+40]\n",
      "\n",
      "설명: Website @ https://kpopshowvideos.blogspot.com/\n"
     ]
    },
    {
     "name": "stderr",
     "output_type": "stream",
     "text": [
      "Processing Links:  26%|██▌       | 20/77 [07:15<20:14, 21.32s/link]"
     ]
    },
    {
     "name": "stdout",
     "output_type": "stream",
     "text": [
      "버튼 없음: Message: element not interactable\n",
      "  (Session info: chrome=126.0.6478.63)\n",
      "Stacktrace:\n",
      "\tGetHandleVerifier [0x00007FF640AF3E32+31618]\n",
      "\t(No symbol) [0x00007FF640A6B099]\n",
      "\t(No symbol) [0x00007FF6409286B9]\n",
      "\t(No symbol) [0x00007FF6409798B2]\n",
      "\t(No symbol) [0x00007FF64096C281]\n",
      "\t(No symbol) [0x00007FF64099D10A]\n",
      "\t(No symbol) [0x00007FF64096BBA6]\n",
      "\t(No symbol) [0x00007FF64099D320]\n",
      "\t(No symbol) [0x00007FF6409BCA80]\n",
      "\t(No symbol) [0x00007FF64099CEB3]\n",
      "\t(No symbol) [0x00007FF64096A46B]\n",
      "\t(No symbol) [0x00007FF64096B001]\n",
      "\tGetHandleVerifier [0x00007FF640DF9FFD+3202381]\n",
      "\tGetHandleVerifier [0x00007FF640E46A1D+3516269]\n",
      "\tGetHandleVerifier [0x00007FF640E3C490+3473888]\n",
      "\tGetHandleVerifier [0x00007FF640BA5D36+760454]\n",
      "\t(No symbol) [0x00007FF640A76B3F]\n",
      "\t(No symbol) [0x00007FF640A71CD4]\n",
      "\t(No symbol) [0x00007FF640A71E62]\n",
      "\t(No symbol) [0x00007FF640A6120F]\n",
      "\tBaseThreadInitThunk [0x00007FFCB7EA257D+29]\n",
      "\tRtlUserThreadStart [0x00007FFCB9CAAA48+40]\n",
      "\n",
      "설명: This is so cute, I swear. \n",
      "\n",
      "Video Credits to @Blondetaengs(ig)\n"
     ]
    },
    {
     "name": "stderr",
     "output_type": "stream",
     "text": [
      "Processing Links:  27%|██▋       | 21/77 [07:35<19:29, 20.89s/link]"
     ]
    },
    {
     "name": "stdout",
     "output_type": "stream",
     "text": [
      "버튼 없음: Message: no such element: Unable to locate element: {\"method\":\"css selector\",\"selector\":\"yt-formatted-string.more-button.style-scope.ytd-expandable-video-description-body-renderer\"}\n",
      "  (Session info: chrome=126.0.6478.63); For documentation on this error, please visit: https://www.selenium.dev/documentation/webdriver/troubleshooting/errors#no-such-element-exception\n",
      "Stacktrace:\n",
      "\tGetHandleVerifier [0x00007FF640AF3E32+31618]\n",
      "\t(No symbol) [0x00007FF640A6B099]\n",
      "\t(No symbol) [0x00007FF64092888A]\n",
      "\t(No symbol) [0x00007FF640978524]\n",
      "\t(No symbol) [0x00007FF64097862C]\n",
      "\t(No symbol) [0x00007FF6409BF787]\n",
      "\t(No symbol) [0x00007FF64099D14F]\n",
      "\t(No symbol) [0x00007FF6409BCA80]\n",
      "\t(No symbol) [0x00007FF64099CEB3]\n",
      "\t(No symbol) [0x00007FF64096A46B]\n",
      "\t(No symbol) [0x00007FF64096B001]\n",
      "\tGetHandleVerifier [0x00007FF640DF9FFD+3202381]\n",
      "\tGetHandleVerifier [0x00007FF640E46A1D+3516269]\n",
      "\tGetHandleVerifier [0x00007FF640E3C490+3473888]\n",
      "\tGetHandleVerifier [0x00007FF640BA5D36+760454]\n",
      "\t(No symbol) [0x00007FF640A76B3F]\n",
      "\t(No symbol) [0x00007FF640A71CD4]\n",
      "\t(No symbol) [0x00007FF640A71E62]\n",
      "\t(No symbol) [0x00007FF640A6120F]\n",
      "\tBaseThreadInitThunk [0x00007FFCB7EA257D+29]\n",
      "\tRtlUserThreadStart [0x00007FFCB9CAAA48+40]\n",
      "\n",
      "설명: KangDaniel (wanna one) for Busan One Asia festival 171022\n"
     ]
    },
    {
     "name": "stderr",
     "output_type": "stream",
     "text": [
      "Processing Links:  29%|██▊       | 22/77 [07:54<18:46, 20.48s/link]"
     ]
    },
    {
     "name": "stdout",
     "output_type": "stream",
     "text": [
      "버튼 없음: Message: no such element: Unable to locate element: {\"method\":\"css selector\",\"selector\":\"yt-formatted-string.more-button.style-scope.ytd-expandable-video-description-body-renderer\"}\n",
      "  (Session info: chrome=126.0.6478.63); For documentation on this error, please visit: https://www.selenium.dev/documentation/webdriver/troubleshooting/errors#no-such-element-exception\n",
      "Stacktrace:\n",
      "\tGetHandleVerifier [0x00007FF640AF3E32+31618]\n",
      "\t(No symbol) [0x00007FF640A6B099]\n",
      "\t(No symbol) [0x00007FF64092888A]\n",
      "\t(No symbol) [0x00007FF640978524]\n",
      "\t(No symbol) [0x00007FF64097862C]\n",
      "\t(No symbol) [0x00007FF6409BF787]\n",
      "\t(No symbol) [0x00007FF64099D14F]\n",
      "\t(No symbol) [0x00007FF6409BCA80]\n",
      "\t(No symbol) [0x00007FF64099CEB3]\n",
      "\t(No symbol) [0x00007FF64096A46B]\n",
      "\t(No symbol) [0x00007FF64096B001]\n",
      "\tGetHandleVerifier [0x00007FF640DF9FFD+3202381]\n",
      "\tGetHandleVerifier [0x00007FF640E46A1D+3516269]\n",
      "\tGetHandleVerifier [0x00007FF640E3C490+3473888]\n",
      "\tGetHandleVerifier [0x00007FF640BA5D36+760454]\n",
      "\t(No symbol) [0x00007FF640A76B3F]\n",
      "\t(No symbol) [0x00007FF640A71CD4]\n",
      "\t(No symbol) [0x00007FF640A71E62]\n",
      "\t(No symbol) [0x00007FF640A6120F]\n",
      "\tBaseThreadInitThunk [0x00007FFCB7EA257D+29]\n",
      "\tRtlUserThreadStart [0x00007FFCB9CAAA48+40]\n",
      "\n",
      "설명: TREASURE - DARARI @ BOF 2023 (Busan One Asia Festival) #treasure #darari #트레저 #다라리 #부산 #busan\n"
     ]
    },
    {
     "name": "stderr",
     "output_type": "stream",
     "text": [
      "Processing Links:  30%|██▉       | 23/77 [08:14<18:13, 20.24s/link]"
     ]
    },
    {
     "name": "stdout",
     "output_type": "stream",
     "text": [
      "버튼 없음: Message: no such element: Unable to locate element: {\"method\":\"css selector\",\"selector\":\"yt-formatted-string.more-button.style-scope.ytd-expandable-video-description-body-renderer\"}\n",
      "  (Session info: chrome=126.0.6478.63); For documentation on this error, please visit: https://www.selenium.dev/documentation/webdriver/troubleshooting/errors#no-such-element-exception\n",
      "Stacktrace:\n",
      "\tGetHandleVerifier [0x00007FF640AF3E32+31618]\n",
      "\t(No symbol) [0x00007FF640A6B099]\n",
      "\t(No symbol) [0x00007FF64092888A]\n",
      "\t(No symbol) [0x00007FF640978524]\n",
      "\t(No symbol) [0x00007FF64097862C]\n",
      "\t(No symbol) [0x00007FF6409BF787]\n",
      "\t(No symbol) [0x00007FF64099D14F]\n",
      "\t(No symbol) [0x00007FF6409BCA80]\n",
      "\t(No symbol) [0x00007FF64099CEB3]\n",
      "\t(No symbol) [0x00007FF64096A46B]\n",
      "\t(No symbol) [0x00007FF64096B001]\n",
      "\tGetHandleVerifier [0x00007FF640DF9FFD+3202381]\n",
      "\tGetHandleVerifier [0x00007FF640E46A1D+3516269]\n",
      "\tGetHandleVerifier [0x00007FF640E3C490+3473888]\n",
      "\tGetHandleVerifier [0x00007FF640BA5D36+760454]\n",
      "\t(No symbol) [0x00007FF640A76B3F]\n",
      "\t(No symbol) [0x00007FF640A71CD4]\n",
      "\t(No symbol) [0x00007FF640A71E62]\n",
      "\t(No symbol) [0x00007FF640A6120F]\n",
      "\tBaseThreadInitThunk [0x00007FFCB7EA257D+29]\n",
      "\tRtlUserThreadStart [0x00007FFCB9CAAA48+40]\n",
      "\n",
      "설명: #BUSAN ONE ASIA Festival#트레져 직진#shorts\n"
     ]
    },
    {
     "name": "stderr",
     "output_type": "stream",
     "text": [
      "Processing Links:  31%|███       | 24/77 [08:34<17:43, 20.06s/link]"
     ]
    },
    {
     "name": "stdout",
     "output_type": "stream",
     "text": [
      "버튼 없음: Message: no such element: Unable to locate element: {\"method\":\"css selector\",\"selector\":\"yt-formatted-string.more-button.style-scope.ytd-expandable-video-description-body-renderer\"}\n",
      "  (Session info: chrome=126.0.6478.63); For documentation on this error, please visit: https://www.selenium.dev/documentation/webdriver/troubleshooting/errors#no-such-element-exception\n",
      "Stacktrace:\n",
      "\tGetHandleVerifier [0x00007FF640AF3E32+31618]\n",
      "\t(No symbol) [0x00007FF640A6B099]\n",
      "\t(No symbol) [0x00007FF64092888A]\n",
      "\t(No symbol) [0x00007FF640978524]\n",
      "\t(No symbol) [0x00007FF64097862C]\n",
      "\t(No symbol) [0x00007FF6409BF787]\n",
      "\t(No symbol) [0x00007FF64099D14F]\n",
      "\t(No symbol) [0x00007FF6409BCA80]\n",
      "\t(No symbol) [0x00007FF64099CEB3]\n",
      "\t(No symbol) [0x00007FF64096A46B]\n",
      "\t(No symbol) [0x00007FF64096B001]\n",
      "\tGetHandleVerifier [0x00007FF640DF9FFD+3202381]\n",
      "\tGetHandleVerifier [0x00007FF640E46A1D+3516269]\n",
      "\tGetHandleVerifier [0x00007FF640E3C490+3473888]\n",
      "\tGetHandleVerifier [0x00007FF640BA5D36+760454]\n",
      "\t(No symbol) [0x00007FF640A76B3F]\n",
      "\t(No symbol) [0x00007FF640A71CD4]\n",
      "\t(No symbol) [0x00007FF640A71E62]\n",
      "\t(No symbol) [0x00007FF640A6120F]\n",
      "\tBaseThreadInitThunk [0x00007FFCB7EA257D+29]\n",
      "\tRtlUserThreadStart [0x00007FFCB9CAAA48+40]\n",
      "\n",
      "설명: 설명 텍스트가 없습니다.\n"
     ]
    },
    {
     "name": "stderr",
     "output_type": "stream",
     "text": [
      "Processing Links:  32%|███▏      | 25/77 [09:14<22:31, 26.00s/link]"
     ]
    },
    {
     "name": "stdout",
     "output_type": "stream",
     "text": [
      "버튼 없음: Message: no such element: Unable to locate element: {\"method\":\"css selector\",\"selector\":\"yt-formatted-string.more-button.style-scope.ytd-expandable-video-description-body-renderer\"}\n",
      "  (Session info: chrome=126.0.6478.63); For documentation on this error, please visit: https://www.selenium.dev/documentation/webdriver/troubleshooting/errors#no-such-element-exception\n",
      "Stacktrace:\n",
      "\tGetHandleVerifier [0x00007FF640AF3E32+31618]\n",
      "\t(No symbol) [0x00007FF640A6B099]\n",
      "\t(No symbol) [0x00007FF64092888A]\n",
      "\t(No symbol) [0x00007FF640978524]\n",
      "\t(No symbol) [0x00007FF64097862C]\n",
      "\t(No symbol) [0x00007FF6409BF787]\n",
      "\t(No symbol) [0x00007FF64099D14F]\n",
      "\t(No symbol) [0x00007FF6409BCA80]\n",
      "\t(No symbol) [0x00007FF64099CEB3]\n",
      "\t(No symbol) [0x00007FF64096A46B]\n",
      "\t(No symbol) [0x00007FF64096B001]\n",
      "\tGetHandleVerifier [0x00007FF640DF9FFD+3202381]\n",
      "\tGetHandleVerifier [0x00007FF640E46A1D+3516269]\n",
      "\tGetHandleVerifier [0x00007FF640E3C490+3473888]\n",
      "\tGetHandleVerifier [0x00007FF640BA5D36+760454]\n",
      "\t(No symbol) [0x00007FF640A76B3F]\n",
      "\t(No symbol) [0x00007FF640A71CD4]\n",
      "\t(No symbol) [0x00007FF640A71E62]\n",
      "\t(No symbol) [0x00007FF640A6120F]\n",
      "\tBaseThreadInitThunk [0x00007FFCB7EA257D+29]\n",
      "\tRtlUserThreadStart [0x00007FFCB9CAAA48+40]\n",
      "\n",
      "설명: [IG] 161023 ljy08020 update with Gong Seungyeon at Busan One Asia Festival\n"
     ]
    },
    {
     "name": "stderr",
     "output_type": "stream",
     "text": [
      "Processing Links:  34%|███▍      | 26/77 [09:34<20:34, 24.20s/link]"
     ]
    },
    {
     "name": "stdout",
     "output_type": "stream",
     "text": [
      "버튼 없음: Message: element not interactable\n",
      "  (Session info: chrome=126.0.6478.63)\n",
      "Stacktrace:\n",
      "\tGetHandleVerifier [0x00007FF640AF3E32+31618]\n",
      "\t(No symbol) [0x00007FF640A6B099]\n",
      "\t(No symbol) [0x00007FF6409286B9]\n",
      "\t(No symbol) [0x00007FF6409798B2]\n",
      "\t(No symbol) [0x00007FF64096C281]\n",
      "\t(No symbol) [0x00007FF64099D10A]\n",
      "\t(No symbol) [0x00007FF64096BBA6]\n",
      "\t(No symbol) [0x00007FF64099D320]\n",
      "\t(No symbol) [0x00007FF6409BCA80]\n",
      "\t(No symbol) [0x00007FF64099CEB3]\n",
      "\t(No symbol) [0x00007FF64096A46B]\n",
      "\t(No symbol) [0x00007FF64096B001]\n",
      "\tGetHandleVerifier [0x00007FF640DF9FFD+3202381]\n",
      "\tGetHandleVerifier [0x00007FF640E46A1D+3516269]\n",
      "\tGetHandleVerifier [0x00007FF640E3C490+3473888]\n",
      "\tGetHandleVerifier [0x00007FF640BA5D36+760454]\n",
      "\t(No symbol) [0x00007FF640A76B3F]\n",
      "\t(No symbol) [0x00007FF640A71CD4]\n",
      "\t(No symbol) [0x00007FF640A71E62]\n",
      "\t(No symbol) [0x00007FF640A6120F]\n",
      "\tBaseThreadInitThunk [0x00007FFCB7EA257D+29]\n",
      "\tRtlUserThreadStart [0x00007FFCB9CAAA48+40]\n",
      "\n",
      "설명: Website @ https://kpopshowvideos.blogspot.com/\n"
     ]
    },
    {
     "name": "stderr",
     "output_type": "stream",
     "text": [
      "Processing Links:  35%|███▌      | 27/77 [09:53<18:59, 22.78s/link]"
     ]
    },
    {
     "name": "stdout",
     "output_type": "stream",
     "text": [
      "버튼 없음: Message: no such element: Unable to locate element: {\"method\":\"css selector\",\"selector\":\"yt-formatted-string.more-button.style-scope.ytd-expandable-video-description-body-renderer\"}\n",
      "  (Session info: chrome=126.0.6478.63); For documentation on this error, please visit: https://www.selenium.dev/documentation/webdriver/troubleshooting/errors#no-such-element-exception\n",
      "Stacktrace:\n",
      "\tGetHandleVerifier [0x00007FF640AF3E32+31618]\n",
      "\t(No symbol) [0x00007FF640A6B099]\n",
      "\t(No symbol) [0x00007FF64092888A]\n",
      "\t(No symbol) [0x00007FF640978524]\n",
      "\t(No symbol) [0x00007FF64097862C]\n",
      "\t(No symbol) [0x00007FF6409BF787]\n",
      "\t(No symbol) [0x00007FF64099D14F]\n",
      "\t(No symbol) [0x00007FF6409BCA80]\n",
      "\t(No symbol) [0x00007FF64099CEB3]\n",
      "\t(No symbol) [0x00007FF64096A46B]\n",
      "\t(No symbol) [0x00007FF64096B001]\n",
      "\tGetHandleVerifier [0x00007FF640DF9FFD+3202381]\n",
      "\tGetHandleVerifier [0x00007FF640E46A1D+3516269]\n",
      "\tGetHandleVerifier [0x00007FF640E3C490+3473888]\n",
      "\tGetHandleVerifier [0x00007FF640BA5D36+760454]\n",
      "\t(No symbol) [0x00007FF640A76B3F]\n",
      "\t(No symbol) [0x00007FF640A71CD4]\n",
      "\t(No symbol) [0x00007FF640A71E62]\n",
      "\t(No symbol) [0x00007FF640A6120F]\n",
      "\tBaseThreadInitThunk [0x00007FFCB7EA257D+29]\n",
      "\tRtlUserThreadStart [0x00007FFCB9CAAA48+40]\n",
      "\n",
      "설명: Busan asia song festival 2018 wanna one\n"
     ]
    },
    {
     "name": "stderr",
     "output_type": "stream",
     "text": [
      "Processing Links:  36%|███▋      | 28/77 [10:13<17:56, 21.98s/link]"
     ]
    },
    {
     "name": "stdout",
     "output_type": "stream",
     "text": [
      "버튼 없음: Message: no such element: Unable to locate element: {\"method\":\"css selector\",\"selector\":\"yt-formatted-string.more-button.style-scope.ytd-expandable-video-description-body-renderer\"}\n",
      "  (Session info: chrome=126.0.6478.63); For documentation on this error, please visit: https://www.selenium.dev/documentation/webdriver/troubleshooting/errors#no-such-element-exception\n",
      "Stacktrace:\n",
      "\tGetHandleVerifier [0x00007FF640AF3E32+31618]\n",
      "\t(No symbol) [0x00007FF640A6B099]\n",
      "\t(No symbol) [0x00007FF64092888A]\n",
      "\t(No symbol) [0x00007FF640978524]\n",
      "\t(No symbol) [0x00007FF64097862C]\n",
      "\t(No symbol) [0x00007FF6409BF787]\n",
      "\t(No symbol) [0x00007FF64099D14F]\n",
      "\t(No symbol) [0x00007FF6409BCA80]\n",
      "\t(No symbol) [0x00007FF64099CEB3]\n",
      "\t(No symbol) [0x00007FF64096A46B]\n",
      "\t(No symbol) [0x00007FF64096B001]\n",
      "\tGetHandleVerifier [0x00007FF640DF9FFD+3202381]\n",
      "\tGetHandleVerifier [0x00007FF640E46A1D+3516269]\n",
      "\tGetHandleVerifier [0x00007FF640E3C490+3473888]\n",
      "\tGetHandleVerifier [0x00007FF640BA5D36+760454]\n",
      "\t(No symbol) [0x00007FF640A76B3F]\n",
      "\t(No symbol) [0x00007FF640A71CD4]\n",
      "\t(No symbol) [0x00007FF640A71E62]\n",
      "\t(No symbol) [0x00007FF640A6120F]\n",
      "\tBaseThreadInitThunk [0x00007FFCB7EA257D+29]\n",
      "\tRtlUserThreadStart [0x00007FFCB9CAAA48+40]\n",
      "\n",
      "설명: Busan One Asia Festival 2023 in 50secs compilation #nct127 #treasure #highlights #kpop #concert\n"
     ]
    },
    {
     "name": "stderr",
     "output_type": "stream",
     "text": [
      "Processing Links:  38%|███▊      | 29/77 [10:33<17:02, 21.30s/link]"
     ]
    },
    {
     "name": "stdout",
     "output_type": "stream",
     "text": [
      "버튼 없음: Message: no such element: Unable to locate element: {\"method\":\"css selector\",\"selector\":\"yt-formatted-string.more-button.style-scope.ytd-expandable-video-description-body-renderer\"}\n",
      "  (Session info: chrome=126.0.6478.63); For documentation on this error, please visit: https://www.selenium.dev/documentation/webdriver/troubleshooting/errors#no-such-element-exception\n",
      "Stacktrace:\n",
      "\tGetHandleVerifier [0x00007FF640AF3E32+31618]\n",
      "\t(No symbol) [0x00007FF640A6B099]\n",
      "\t(No symbol) [0x00007FF64092888A]\n",
      "\t(No symbol) [0x00007FF640978524]\n",
      "\t(No symbol) [0x00007FF64097862C]\n",
      "\t(No symbol) [0x00007FF6409BF787]\n",
      "\t(No symbol) [0x00007FF64099D14F]\n",
      "\t(No symbol) [0x00007FF6409BCA80]\n",
      "\t(No symbol) [0x00007FF64099CEB3]\n",
      "\t(No symbol) [0x00007FF64096A46B]\n",
      "\t(No symbol) [0x00007FF64096B001]\n",
      "\tGetHandleVerifier [0x00007FF640DF9FFD+3202381]\n",
      "\tGetHandleVerifier [0x00007FF640E46A1D+3516269]\n",
      "\tGetHandleVerifier [0x00007FF640E3C490+3473888]\n",
      "\tGetHandleVerifier [0x00007FF640BA5D36+760454]\n",
      "\t(No symbol) [0x00007FF640A76B3F]\n",
      "\t(No symbol) [0x00007FF640A71CD4]\n",
      "\t(No symbol) [0x00007FF640A71E62]\n",
      "\t(No symbol) [0x00007FF640A6120F]\n",
      "\tBaseThreadInitThunk [0x00007FFCB7EA257D+29]\n",
      "\tRtlUserThreadStart [0x00007FFCB9CAAA48+40]\n",
      "\n",
      "설명: BAE173 - GT @ BOF 2023 (Busan One Asia Festival) #bae173 #gt #bof #busan\n"
     ]
    },
    {
     "name": "stderr",
     "output_type": "stream",
     "text": [
      "Processing Links:  39%|███▉      | 30/77 [10:53<16:18, 20.82s/link]"
     ]
    },
    {
     "name": "stdout",
     "output_type": "stream",
     "text": [
      "버튼 없음: Message: no such element: Unable to locate element: {\"method\":\"css selector\",\"selector\":\"yt-formatted-string.more-button.style-scope.ytd-expandable-video-description-body-renderer\"}\n",
      "  (Session info: chrome=126.0.6478.63); For documentation on this error, please visit: https://www.selenium.dev/documentation/webdriver/troubleshooting/errors#no-such-element-exception\n",
      "Stacktrace:\n",
      "\tGetHandleVerifier [0x00007FF640AF3E32+31618]\n",
      "\t(No symbol) [0x00007FF640A6B099]\n",
      "\t(No symbol) [0x00007FF64092888A]\n",
      "\t(No symbol) [0x00007FF640978524]\n",
      "\t(No symbol) [0x00007FF64097862C]\n",
      "\t(No symbol) [0x00007FF6409BF787]\n",
      "\t(No symbol) [0x00007FF64099D14F]\n",
      "\t(No symbol) [0x00007FF6409BCA80]\n",
      "\t(No symbol) [0x00007FF64099CEB3]\n",
      "\t(No symbol) [0x00007FF64096A46B]\n",
      "\t(No symbol) [0x00007FF64096B001]\n",
      "\tGetHandleVerifier [0x00007FF640DF9FFD+3202381]\n",
      "\tGetHandleVerifier [0x00007FF640E46A1D+3516269]\n",
      "\tGetHandleVerifier [0x00007FF640E3C490+3473888]\n",
      "\tGetHandleVerifier [0x00007FF640BA5D36+760454]\n",
      "\t(No symbol) [0x00007FF640A76B3F]\n",
      "\t(No symbol) [0x00007FF640A71CD4]\n",
      "\t(No symbol) [0x00007FF640A71E62]\n",
      "\t(No symbol) [0x00007FF640A6120F]\n",
      "\tBaseThreadInitThunk [0x00007FFCB7EA257D+29]\n",
      "\tRtlUserThreadStart [0x00007FFCB9CAAA48+40]\n",
      "\n",
      "설명: Highlights perform Daydream during the 2023 Busan One Asia Festival #worldexpo2030 #BOF2023\n"
     ]
    },
    {
     "name": "stderr",
     "output_type": "stream",
     "text": [
      "Processing Links:  40%|████      | 31/77 [11:12<15:41, 20.46s/link]"
     ]
    },
    {
     "name": "stdout",
     "output_type": "stream",
     "text": [
      "버튼 없음: Message: no such element: Unable to locate element: {\"method\":\"css selector\",\"selector\":\"yt-formatted-string.more-button.style-scope.ytd-expandable-video-description-body-renderer\"}\n",
      "  (Session info: chrome=126.0.6478.63); For documentation on this error, please visit: https://www.selenium.dev/documentation/webdriver/troubleshooting/errors#no-such-element-exception\n",
      "Stacktrace:\n",
      "\tGetHandleVerifier [0x00007FF640AF3E32+31618]\n",
      "\t(No symbol) [0x00007FF640A6B099]\n",
      "\t(No symbol) [0x00007FF64092888A]\n",
      "\t(No symbol) [0x00007FF640978524]\n",
      "\t(No symbol) [0x00007FF64097862C]\n",
      "\t(No symbol) [0x00007FF6409BF787]\n",
      "\t(No symbol) [0x00007FF64099D14F]\n",
      "\t(No symbol) [0x00007FF6409BCA80]\n",
      "\t(No symbol) [0x00007FF64099CEB3]\n",
      "\t(No symbol) [0x00007FF64096A46B]\n",
      "\t(No symbol) [0x00007FF64096B001]\n",
      "\tGetHandleVerifier [0x00007FF640DF9FFD+3202381]\n",
      "\tGetHandleVerifier [0x00007FF640E46A1D+3516269]\n",
      "\tGetHandleVerifier [0x00007FF640E3C490+3473888]\n",
      "\tGetHandleVerifier [0x00007FF640BA5D36+760454]\n",
      "\t(No symbol) [0x00007FF640A76B3F]\n",
      "\t(No symbol) [0x00007FF640A71CD4]\n",
      "\t(No symbol) [0x00007FF640A71E62]\n",
      "\t(No symbol) [0x00007FF640A6120F]\n",
      "\tBaseThreadInitThunk [0x00007FFCB7EA257D+29]\n",
      "\tRtlUserThreadStart [0x00007FFCB9CAAA48+40]\n",
      "\n",
      "설명: [FANCAM] 161023 Ment - Xiumin Chen Baekhyun EXO { Busan One Asia Festival }\n"
     ]
    },
    {
     "name": "stderr",
     "output_type": "stream",
     "text": [
      "Processing Links:  42%|████▏     | 32/77 [11:32<15:12, 20.29s/link]"
     ]
    },
    {
     "name": "stdout",
     "output_type": "stream",
     "text": [
      "버튼 없음: Message: element not interactable\n",
      "  (Session info: chrome=126.0.6478.63)\n",
      "Stacktrace:\n",
      "\tGetHandleVerifier [0x00007FF640AF3E32+31618]\n",
      "\t(No symbol) [0x00007FF640A6B099]\n",
      "\t(No symbol) [0x00007FF6409286B9]\n",
      "\t(No symbol) [0x00007FF6409798B2]\n",
      "\t(No symbol) [0x00007FF64096C281]\n",
      "\t(No symbol) [0x00007FF64099D10A]\n",
      "\t(No symbol) [0x00007FF64096BBA6]\n",
      "\t(No symbol) [0x00007FF64099D320]\n",
      "\t(No symbol) [0x00007FF6409BCA80]\n",
      "\t(No symbol) [0x00007FF64099CEB3]\n",
      "\t(No symbol) [0x00007FF64096A46B]\n",
      "\t(No symbol) [0x00007FF64096B001]\n",
      "\tGetHandleVerifier [0x00007FF640DF9FFD+3202381]\n",
      "\tGetHandleVerifier [0x00007FF640E46A1D+3516269]\n",
      "\tGetHandleVerifier [0x00007FF640E3C490+3473888]\n",
      "\tGetHandleVerifier [0x00007FF640BA5D36+760454]\n",
      "\t(No symbol) [0x00007FF640A76B3F]\n",
      "\t(No symbol) [0x00007FF640A71CD4]\n",
      "\t(No symbol) [0x00007FF640A71E62]\n",
      "\t(No symbol) [0x00007FF640A6120F]\n",
      "\tBaseThreadInitThunk [0x00007FFCB7EA257D+29]\n",
      "\tRtlUserThreadStart [0x00007FFCB9CAAA48+40]\n",
      "\n",
      "설명: 171022 원아페 젝스키스 팬클럽 옐키 응원 떼창 -BOF One Asia Festival Sechs Kies YELLOWKIES-\n"
     ]
    },
    {
     "name": "stderr",
     "output_type": "stream",
     "text": [
      "Processing Links:  43%|████▎     | 33/77 [11:52<14:46, 20.14s/link]"
     ]
    },
    {
     "name": "stdout",
     "output_type": "stream",
     "text": [
      "버튼 없음: Message: element not interactable\n",
      "  (Session info: chrome=126.0.6478.63)\n",
      "Stacktrace:\n",
      "\tGetHandleVerifier [0x00007FF640AF3E32+31618]\n",
      "\t(No symbol) [0x00007FF640A6B099]\n",
      "\t(No symbol) [0x00007FF6409286B9]\n",
      "\t(No symbol) [0x00007FF6409798B2]\n",
      "\t(No symbol) [0x00007FF64096C281]\n",
      "\t(No symbol) [0x00007FF64099D10A]\n",
      "\t(No symbol) [0x00007FF64096BBA6]\n",
      "\t(No symbol) [0x00007FF64099D320]\n",
      "\t(No symbol) [0x00007FF6409BCA80]\n",
      "\t(No symbol) [0x00007FF64099CEB3]\n",
      "\t(No symbol) [0x00007FF64096A46B]\n",
      "\t(No symbol) [0x00007FF64096B001]\n",
      "\tGetHandleVerifier [0x00007FF640DF9FFD+3202381]\n",
      "\tGetHandleVerifier [0x00007FF640E46A1D+3516269]\n",
      "\tGetHandleVerifier [0x00007FF640E3C490+3473888]\n",
      "\tGetHandleVerifier [0x00007FF640BA5D36+760454]\n",
      "\t(No symbol) [0x00007FF640A76B3F]\n",
      "\t(No symbol) [0x00007FF640A71CD4]\n",
      "\t(No symbol) [0x00007FF640A71E62]\n",
      "\t(No symbol) [0x00007FF640A6120F]\n",
      "\tBaseThreadInitThunk [0x00007FFCB7EA257D+29]\n",
      "\tRtlUserThreadStart [0x00007FFCB9CAAA48+40]\n",
      "\n",
      "설명: 181028-  NCT Dream 'Ceremony Busan One Asia Festival (BOF) closing' .\n"
     ]
    },
    {
     "name": "stderr",
     "output_type": "stream",
     "text": [
      "Processing Links:  44%|████▍     | 34/77 [12:12<14:19, 19.99s/link]"
     ]
    },
    {
     "name": "stdout",
     "output_type": "stream",
     "text": [
      "버튼 없음: Message: no such element: Unable to locate element: {\"method\":\"css selector\",\"selector\":\"yt-formatted-string.more-button.style-scope.ytd-expandable-video-description-body-renderer\"}\n",
      "  (Session info: chrome=126.0.6478.63); For documentation on this error, please visit: https://www.selenium.dev/documentation/webdriver/troubleshooting/errors#no-such-element-exception\n",
      "Stacktrace:\n",
      "\tGetHandleVerifier [0x00007FF640AF3E32+31618]\n",
      "\t(No symbol) [0x00007FF640A6B099]\n",
      "\t(No symbol) [0x00007FF64092888A]\n",
      "\t(No symbol) [0x00007FF640978524]\n",
      "\t(No symbol) [0x00007FF64097862C]\n",
      "\t(No symbol) [0x00007FF6409BF787]\n",
      "\t(No symbol) [0x00007FF64099D14F]\n",
      "\t(No symbol) [0x00007FF6409BCA80]\n",
      "\t(No symbol) [0x00007FF64099CEB3]\n",
      "\t(No symbol) [0x00007FF64096A46B]\n",
      "\t(No symbol) [0x00007FF64096B001]\n",
      "\tGetHandleVerifier [0x00007FF640DF9FFD+3202381]\n",
      "\tGetHandleVerifier [0x00007FF640E46A1D+3516269]\n",
      "\tGetHandleVerifier [0x00007FF640E3C490+3473888]\n",
      "\tGetHandleVerifier [0x00007FF640BA5D36+760454]\n",
      "\t(No symbol) [0x00007FF640A76B3F]\n",
      "\t(No symbol) [0x00007FF640A71CD4]\n",
      "\t(No symbol) [0x00007FF640A71E62]\n",
      "\t(No symbol) [0x00007FF640A6120F]\n",
      "\tBaseThreadInitThunk [0x00007FFCB7EA257D+29]\n",
      "\tRtlUserThreadStart [0x00007FFCB9CAAA48+40]\n",
      "\n",
      "설명: 181020 EXO - Power Dance Practice was Shown at Busan One Asia Festival 2018\n"
     ]
    },
    {
     "name": "stderr",
     "output_type": "stream",
     "text": [
      "Processing Links:  45%|████▌     | 35/77 [12:31<13:57, 19.93s/link]"
     ]
    },
    {
     "name": "stdout",
     "output_type": "stream",
     "text": [
      "버튼 없음: Message: element not interactable\n",
      "  (Session info: chrome=126.0.6478.63)\n",
      "Stacktrace:\n",
      "\tGetHandleVerifier [0x00007FF640AF3E32+31618]\n",
      "\t(No symbol) [0x00007FF640A6B099]\n",
      "\t(No symbol) [0x00007FF6409286B9]\n",
      "\t(No symbol) [0x00007FF6409798B2]\n",
      "\t(No symbol) [0x00007FF64096C281]\n",
      "\t(No symbol) [0x00007FF64099D10A]\n",
      "\t(No symbol) [0x00007FF64096BBA6]\n",
      "\t(No symbol) [0x00007FF64099D320]\n",
      "\t(No symbol) [0x00007FF6409BCA80]\n",
      "\t(No symbol) [0x00007FF64099CEB3]\n",
      "\t(No symbol) [0x00007FF64096A46B]\n",
      "\t(No symbol) [0x00007FF64096B001]\n",
      "\tGetHandleVerifier [0x00007FF640DF9FFD+3202381]\n",
      "\tGetHandleVerifier [0x00007FF640E46A1D+3516269]\n",
      "\tGetHandleVerifier [0x00007FF640E3C490+3473888]\n",
      "\tGetHandleVerifier [0x00007FF640BA5D36+760454]\n",
      "\t(No symbol) [0x00007FF640A76B3F]\n",
      "\t(No symbol) [0x00007FF640A71CD4]\n",
      "\t(No symbol) [0x00007FF640A71E62]\n",
      "\t(No symbol) [0x00007FF640A6120F]\n",
      "\tBaseThreadInitThunk [0x00007FFCB7EA257D+29]\n",
      "\tRtlUserThreadStart [0x00007FFCB9CAAA48+40]\n",
      "\n",
      "설명: XODIAC, NCT 127, TREASURE, MASUK DALAM LINE UP BUSAN ONE ASIA FESTIVAL #xodiac #nct127 #treasure #busan #asia #one #festival #2023 #oktober2023 #lineup \n",
      "\n",
      "link: https://www.instagram.com/p/CvyO7aWyuk2/?igshid=MzRlODBiNWFlZA==\n"
     ]
    },
    {
     "name": "stderr",
     "output_type": "stream",
     "text": [
      "Processing Links:  47%|████▋     | 36/77 [12:51<13:31, 19.80s/link]"
     ]
    },
    {
     "name": "stdout",
     "output_type": "stream",
     "text": [
      "버튼 없음: Message: element not interactable\n",
      "  (Session info: chrome=126.0.6478.63)\n",
      "Stacktrace:\n",
      "\tGetHandleVerifier [0x00007FF640AF3E32+31618]\n",
      "\t(No symbol) [0x00007FF640A6B099]\n",
      "\t(No symbol) [0x00007FF6409286B9]\n",
      "\t(No symbol) [0x00007FF6409798B2]\n",
      "\t(No symbol) [0x00007FF64096C281]\n",
      "\t(No symbol) [0x00007FF64099D10A]\n",
      "\t(No symbol) [0x00007FF64096BBA6]\n",
      "\t(No symbol) [0x00007FF64099D320]\n",
      "\t(No symbol) [0x00007FF6409BCA80]\n",
      "\t(No symbol) [0x00007FF64099CEB3]\n",
      "\t(No symbol) [0x00007FF64096A46B]\n",
      "\t(No symbol) [0x00007FF64096B001]\n",
      "\tGetHandleVerifier [0x00007FF640DF9FFD+3202381]\n",
      "\tGetHandleVerifier [0x00007FF640E46A1D+3516269]\n",
      "\tGetHandleVerifier [0x00007FF640E3C490+3473888]\n",
      "\tGetHandleVerifier [0x00007FF640BA5D36+760454]\n",
      "\t(No symbol) [0x00007FF640A76B3F]\n",
      "\t(No symbol) [0x00007FF640A71CD4]\n",
      "\t(No symbol) [0x00007FF640A71E62]\n",
      "\t(No symbol) [0x00007FF640A6120F]\n",
      "\tBaseThreadInitThunk [0x00007FFCB7EA257D+29]\n",
      "\tRtlUserThreadStart [0x00007FFCB9CAAA48+40]\n",
      "\n",
      "설명: #xodiacofficial #lemonade #ocjnewbies #zayyan #onlyfun #xblissborneo #kpop #koreapop\n"
     ]
    },
    {
     "name": "stderr",
     "output_type": "stream",
     "text": [
      "Processing Links:  48%|████▊     | 37/77 [13:11<13:11, 19.80s/link]"
     ]
    },
    {
     "name": "stdout",
     "output_type": "stream",
     "text": [
      "버튼 없음: Message: element not interactable\n",
      "  (Session info: chrome=126.0.6478.63)\n",
      "Stacktrace:\n",
      "\tGetHandleVerifier [0x00007FF640AF3E32+31618]\n",
      "\t(No symbol) [0x00007FF640A6B099]\n",
      "\t(No symbol) [0x00007FF6409286B9]\n",
      "\t(No symbol) [0x00007FF6409798B2]\n",
      "\t(No symbol) [0x00007FF64096C281]\n",
      "\t(No symbol) [0x00007FF64099D10A]\n",
      "\t(No symbol) [0x00007FF64096BBA6]\n",
      "\t(No symbol) [0x00007FF64099D320]\n",
      "\t(No symbol) [0x00007FF6409BCA80]\n",
      "\t(No symbol) [0x00007FF64099CEB3]\n",
      "\t(No symbol) [0x00007FF64096A46B]\n",
      "\t(No symbol) [0x00007FF64096B001]\n",
      "\tGetHandleVerifier [0x00007FF640DF9FFD+3202381]\n",
      "\tGetHandleVerifier [0x00007FF640E46A1D+3516269]\n",
      "\tGetHandleVerifier [0x00007FF640E3C490+3473888]\n",
      "\tGetHandleVerifier [0x00007FF640BA5D36+760454]\n",
      "\t(No symbol) [0x00007FF640A76B3F]\n",
      "\t(No symbol) [0x00007FF640A71CD4]\n",
      "\t(No symbol) [0x00007FF640A71E62]\n",
      "\t(No symbol) [0x00007FF640A6120F]\n",
      "\tBaseThreadInitThunk [0x00007FFCB7EA257D+29]\n",
      "\tRtlUserThreadStart [0x00007FFCB9CAAA48+40]\n",
      "\n",
      "설명: Please Do Not Edit &  Do Not Re-upload\n",
      "ห้ามรีอัพโหลด!!!!!!!!!!!!!!!!!!!!!!!!!!!\n"
     ]
    },
    {
     "name": "stderr",
     "output_type": "stream",
     "text": [
      "Processing Links:  49%|████▉     | 38/77 [13:31<12:54, 19.85s/link]"
     ]
    },
    {
     "name": "stdout",
     "output_type": "stream",
     "text": [
      "설명: ten insta live NCT U make a wish unit wins 1st place on show champion lucas live insta Instagram 201005 Mnet Kr update NCT WORLD 2.0 TEASER Oct 15th (1st ep), every Thursday 7.50pm kst #nct2020 #NCT2020 #Nct2020 nct 2020 Nct 2020 NCT 2020 SHOTARO SUNGCHAN shotaro sungchan #nct2020 #NCT2020 #shotaro #sungchan #SHOTARO #SUNGCHAN wayv live weibo live #weibo #yizibo yizibo #wayvweibo SuperM Instagram live SuperM GMA GMA kpop group NCT Taeyong NCT Mark NCT Lucas NCT Ten WayV Ten WayV Lucas Shinee taemin SHINee Taemin shinee taemin IG LIVE NCT Kai EXO Baekhyun EXO Baekhyun SuperM Kai SuperM WayV Kun Lucas Winwin Sicheng Yukhei Yangyang Hendery Ten Xiaojun Superm Nct NCT EXO NCTzen Red velvet Kpop Comeback #wayv #WayV #nct #NCTSuperm comeback SuperM Comeback Superm comeback 2020 Kai comeback Nct comeback Wayv Lucas Ten wayvMark superm SUPERM MARK NCT Instagram live EXO Instagram live WayV Instagram live Kpop Superm Nct dream Nct 127 nct NCT NCT U wayv WayV nct kpop bts exo twice blackpink nctdream redvelvet got7 straykids wayv itzy txt nctzen nctu seventeen haechan taeyong ateez jaehyun mamamoo monstax jaemin superm mark jeno korea ikon jisung yuta doyoung jungkook chenle gidle jimin lucas ten jungwoo taeil winwin kpopedit everglow johnny shinee taehyung gfriend superjunior nct edit suga bigbang jin kun v yangyang snsd izone\n",
      "#nct #NCT #haechan #haechannct #HAECHAN #NCTHAECHAN #HAECHANNCT #superm #SuperM super car Super Car todoroki taeyong Superm SuperM rolling stone Instagram ig updateMembers of superm share their turning point on access online (interview SuperM superm) #superm #accessonline chenle #yuwin #nct #nctzen nct 2020 #mnet lucas insta live make a wish unit inkigayo lucas Instagram live #lucas nct new reality show wayv as disney princess princesses #jaehyun #JAEHYUN #JAEHYUNNCT #JaehyunNCT cha min ho minho cha jaehyun actor #jaehyunactor #jaehyunkissingcam #mark #Mark #MarkNCT #MARKNCT mnet MNET insta story update hendery #hendery #Hendery #HENDERYNCT #HENDERYWAYV #WAYV #WayV #wayv #lucas #LUCAS #LUCASWAYV #LucasWayV'Pick your live mates' NCT #johnny #JOHNNYnct dream detenidos en chile\n",
      "cha min ho minho cha jaehyun actor lucas insta live make a wish unit inkigayo lucas Instagram livesuper car Super Car todoroki taeyong Superm SuperM rolling stone Instagram ig updateMembers of superm share their turning point on access online (interview SuperM superm)comeback SuperM Comeback Superm comeback 2020 Kai comeback Nct comeback Wayv Lucas Ten wayvMark superm SUPERM MARK NCT Instagram live EXO Instagram live WayV Instagram live Kpop Superm Nct dream Nct 127 nct NCT NCT U wayv WayV nct kpop bts exo twice blackpink nctdream redvelvet got7 straykids wayv itzy txt nctzen nctu seventeen haechan taeyong ateez jaehyun mamamoo monstax jaemin superm mark jeno korea ikon jisung yuta doyoung jungkook chenle gidle jimin lucas ten jungwoo taeil winwin kpopedit everglow johnny shinee taehyung gfriend superjunior nct edit suga bigbang jin kun v yangyang snsd izoneSuperM Instagram live SuperM GMA GMA kpop group NCT Taeyong NCT Mark NCT Lucas NCT Ten WayV Ten WayV Lucas Shinee taemin SHINee Taemin shinee taemin IG LIVE NCT Kai EXO Baekhyun EXO Baekhyun SuperM Kai SuperM WayV Kun Lucas Winwin Sicheng Yukhei Yangyang Hendery Ten Xiaojun Superm Nct NCT EXO NCTzen Red velvet Kpop Comeback inkigayo aespa 90s love work it #nct #nct2020 #NCT #jaehyun #ot23 도영이 도영 라이브 full live doyoung 2021 엔시티 127 유 feel special twice sana momo mina tzuyu nayeon jeongyeon jihyo chaeyoung dahyun blackpink lisa naeun jennie jisoo rose rosè rosé rosie jugyeong suho seojun eunwoo gayeong haruto watanbe choi hyunsuk kim junkyu jungyu mashiho yoon jaehyuck park jeongwoo jungwoo bang yedam so junghwan yoshinori hamada asahi park jihoon kim doyoung iz one jang wonyoung wonyong sakura miyawaki kim minju kim chaewon ahn yujin lee chaeyeon nako yabuki jo yuri choi yena kwon eunbi hitomi honda kang hyewon ‘The Daily Show’ To Air Daytime Special Featuring KPop Band NCT 127 Late-night veteran the daily show with Trevor Noah is waking up a bit early.\n",
      "The Comedy Central series is launching its first ever daytime special – The Daily Show with Trevor Noah Presents: Remotely Educational.\n",
      "The show, which will premiere on Wednesday March 10 at 8:30am and be repeated during The Daily Show’s normal 11pm slot, will feature Trevor Noah and team offer remote-learning classes that skip calculus and grammar in favor of lessons that students will actually need in life wayv ten yangyang jungwoo jeno nct space nct voice live vlive voice chat twt twitter taeyong instagram live full youtube original kpop evolution\n"
     ]
    },
    {
     "name": "stderr",
     "output_type": "stream",
     "text": [
      "Processing Links:  51%|█████     | 39/77 [13:43<11:06, 17.53s/link]"
     ]
    },
    {
     "name": "stdout",
     "output_type": "stream",
     "text": [
      "버튼 없음: Message: no such element: Unable to locate element: {\"method\":\"css selector\",\"selector\":\"yt-formatted-string.more-button.style-scope.ytd-expandable-video-description-body-renderer\"}\n",
      "  (Session info: chrome=126.0.6478.63); For documentation on this error, please visit: https://www.selenium.dev/documentation/webdriver/troubleshooting/errors#no-such-element-exception\n",
      "Stacktrace:\n",
      "\tGetHandleVerifier [0x00007FF640AF3E32+31618]\n",
      "\t(No symbol) [0x00007FF640A6B099]\n",
      "\t(No symbol) [0x00007FF64092888A]\n",
      "\t(No symbol) [0x00007FF640978524]\n",
      "\t(No symbol) [0x00007FF64097862C]\n",
      "\t(No symbol) [0x00007FF6409BF787]\n",
      "\t(No symbol) [0x00007FF64099D14F]\n",
      "\t(No symbol) [0x00007FF6409BCA80]\n",
      "\t(No symbol) [0x00007FF64099CEB3]\n",
      "\t(No symbol) [0x00007FF64096A46B]\n",
      "\t(No symbol) [0x00007FF64096B001]\n",
      "\tGetHandleVerifier [0x00007FF640DF9FFD+3202381]\n",
      "\tGetHandleVerifier [0x00007FF640E46A1D+3516269]\n",
      "\tGetHandleVerifier [0x00007FF640E3C490+3473888]\n",
      "\tGetHandleVerifier [0x00007FF640BA5D36+760454]\n",
      "\t(No symbol) [0x00007FF640A76B3F]\n",
      "\t(No symbol) [0x00007FF640A71CD4]\n",
      "\t(No symbol) [0x00007FF640A71E62]\n",
      "\t(No symbol) [0x00007FF640A6120F]\n",
      "\tBaseThreadInitThunk [0x00007FFCB7EA257D+29]\n",
      "\tRtlUserThreadStart [0x00007FFCB9CAAA48+40]\n",
      "\n",
      "설명: BUSAN ONE ASIA FESTIVAL 2024 #zerobaseone #0-1 #bof2024 #zb1\n"
     ]
    },
    {
     "name": "stderr",
     "output_type": "stream",
     "text": [
      "Processing Links:  52%|█████▏    | 40/77 [14:02<11:11, 18.15s/link]"
     ]
    },
    {
     "name": "stdout",
     "output_type": "stream",
     "text": [
      "버튼 없음: Message: no such element: Unable to locate element: {\"method\":\"css selector\",\"selector\":\"yt-formatted-string.more-button.style-scope.ytd-expandable-video-description-body-renderer\"}\n",
      "  (Session info: chrome=126.0.6478.63); For documentation on this error, please visit: https://www.selenium.dev/documentation/webdriver/troubleshooting/errors#no-such-element-exception\n",
      "Stacktrace:\n",
      "\tGetHandleVerifier [0x00007FF640AF3E32+31618]\n",
      "\t(No symbol) [0x00007FF640A6B099]\n",
      "\t(No symbol) [0x00007FF64092888A]\n",
      "\t(No symbol) [0x00007FF640978524]\n",
      "\t(No symbol) [0x00007FF64097862C]\n",
      "\t(No symbol) [0x00007FF6409BF787]\n",
      "\t(No symbol) [0x00007FF64099D14F]\n",
      "\t(No symbol) [0x00007FF6409BCA80]\n",
      "\t(No symbol) [0x00007FF64099CEB3]\n",
      "\t(No symbol) [0x00007FF64096A46B]\n",
      "\t(No symbol) [0x00007FF64096B001]\n",
      "\tGetHandleVerifier [0x00007FF640DF9FFD+3202381]\n",
      "\tGetHandleVerifier [0x00007FF640E46A1D+3516269]\n",
      "\tGetHandleVerifier [0x00007FF640E3C490+3473888]\n",
      "\tGetHandleVerifier [0x00007FF640BA5D36+760454]\n",
      "\t(No symbol) [0x00007FF640A76B3F]\n",
      "\t(No symbol) [0x00007FF640A71CD4]\n",
      "\t(No symbol) [0x00007FF640A71E62]\n",
      "\t(No symbol) [0x00007FF640A6120F]\n",
      "\tBaseThreadInitThunk [0x00007FFCB7EA257D+29]\n",
      "\tRtlUserThreadStart [0x00007FFCB9CAAA48+40]\n",
      "\n",
      "설명: #bae173 intro prod during the Busan One Asia Festival 2023 #busan #bof2023 #worldexpo2030\n"
     ]
    },
    {
     "name": "stderr",
     "output_type": "stream",
     "text": [
      "Processing Links:  53%|█████▎    | 41/77 [14:22<11:08, 18.56s/link]"
     ]
    },
    {
     "name": "stdout",
     "output_type": "stream",
     "text": [
      "버튼 없음: Message: element not interactable\n",
      "  (Session info: chrome=126.0.6478.63)\n",
      "Stacktrace:\n",
      "\tGetHandleVerifier [0x00007FF640AF3E32+31618]\n",
      "\t(No symbol) [0x00007FF640A6B099]\n",
      "\t(No symbol) [0x00007FF6409286B9]\n",
      "\t(No symbol) [0x00007FF6409798B2]\n",
      "\t(No symbol) [0x00007FF64096C281]\n",
      "\t(No symbol) [0x00007FF64099D10A]\n",
      "\t(No symbol) [0x00007FF64096BBA6]\n",
      "\t(No symbol) [0x00007FF64099D320]\n",
      "\t(No symbol) [0x00007FF6409BCA80]\n",
      "\t(No symbol) [0x00007FF64099CEB3]\n",
      "\t(No symbol) [0x00007FF64096A46B]\n",
      "\t(No symbol) [0x00007FF64096B001]\n",
      "\tGetHandleVerifier [0x00007FF640DF9FFD+3202381]\n",
      "\tGetHandleVerifier [0x00007FF640E46A1D+3516269]\n",
      "\tGetHandleVerifier [0x00007FF640E3C490+3473888]\n",
      "\tGetHandleVerifier [0x00007FF640BA5D36+760454]\n",
      "\t(No symbol) [0x00007FF640A76B3F]\n",
      "\t(No symbol) [0x00007FF640A71CD4]\n",
      "\t(No symbol) [0x00007FF640A71E62]\n",
      "\t(No symbol) [0x00007FF640A6120F]\n",
      "\tBaseThreadInitThunk [0x00007FFCB7EA257D+29]\n",
      "\tRtlUserThreadStart [0x00007FFCB9CAAA48+40]\n",
      "\n",
      "설명: #부산원아시아페스티벌 #하이라이트 #alone \n",
      "2023 BUSAN ONE ASIA FESTIVAL K-POP CONCERT\n"
     ]
    },
    {
     "name": "stderr",
     "output_type": "stream",
     "text": [
      "Processing Links:  55%|█████▍    | 42/77 [14:42<11:05, 19.02s/link]"
     ]
    },
    {
     "name": "stdout",
     "output_type": "stream",
     "text": [
      "버튼 없음: Message: no such element: Unable to locate element: {\"method\":\"css selector\",\"selector\":\"yt-formatted-string.more-button.style-scope.ytd-expandable-video-description-body-renderer\"}\n",
      "  (Session info: chrome=126.0.6478.63); For documentation on this error, please visit: https://www.selenium.dev/documentation/webdriver/troubleshooting/errors#no-such-element-exception\n",
      "Stacktrace:\n",
      "\tGetHandleVerifier [0x00007FF640AF3E32+31618]\n",
      "\t(No symbol) [0x00007FF640A6B099]\n",
      "\t(No symbol) [0x00007FF64092888A]\n",
      "\t(No symbol) [0x00007FF640978524]\n",
      "\t(No symbol) [0x00007FF64097862C]\n",
      "\t(No symbol) [0x00007FF6409BF787]\n",
      "\t(No symbol) [0x00007FF64099D14F]\n",
      "\t(No symbol) [0x00007FF6409BCA80]\n",
      "\t(No symbol) [0x00007FF64099CEB3]\n",
      "\t(No symbol) [0x00007FF64096A46B]\n",
      "\t(No symbol) [0x00007FF64096B001]\n",
      "\tGetHandleVerifier [0x00007FF640DF9FFD+3202381]\n",
      "\tGetHandleVerifier [0x00007FF640E46A1D+3516269]\n",
      "\tGetHandleVerifier [0x00007FF640E3C490+3473888]\n",
      "\tGetHandleVerifier [0x00007FF640BA5D36+760454]\n",
      "\t(No symbol) [0x00007FF640A76B3F]\n",
      "\t(No symbol) [0x00007FF640A71CD4]\n",
      "\t(No symbol) [0x00007FF640A71E62]\n",
      "\t(No symbol) [0x00007FF640A6120F]\n",
      "\tBaseThreadInitThunk [0x00007FFCB7EA257D+29]\n",
      "\tRtlUserThreadStart [0x00007FFCB9CAAA48+40]\n",
      "\n",
      "설명: Xodiac dalam iklan Busan One Asia Festival 2023#xodiac #nct127 #treasure #ohmygirl #highlight\n"
     ]
    },
    {
     "name": "stderr",
     "output_type": "stream",
     "text": [
      "Processing Links:  56%|█████▌    | 43/77 [15:02<10:53, 19.22s/link]"
     ]
    },
    {
     "name": "stdout",
     "output_type": "stream",
     "text": [
      "버튼 없음: Message: element not interactable\n",
      "  (Session info: chrome=126.0.6478.63)\n",
      "Stacktrace:\n",
      "\tGetHandleVerifier [0x00007FF640AF3E32+31618]\n",
      "\t(No symbol) [0x00007FF640A6B099]\n",
      "\t(No symbol) [0x00007FF6409286B9]\n",
      "\t(No symbol) [0x00007FF6409798B2]\n",
      "\t(No symbol) [0x00007FF64096C281]\n",
      "\t(No symbol) [0x00007FF64099D10A]\n",
      "\t(No symbol) [0x00007FF64096BBA6]\n",
      "\t(No symbol) [0x00007FF64099D320]\n",
      "\t(No symbol) [0x00007FF6409BCA80]\n",
      "\t(No symbol) [0x00007FF64099CEB3]\n",
      "\t(No symbol) [0x00007FF64096A46B]\n",
      "\t(No symbol) [0x00007FF64096B001]\n",
      "\tGetHandleVerifier [0x00007FF640DF9FFD+3202381]\n",
      "\tGetHandleVerifier [0x00007FF640E46A1D+3516269]\n",
      "\tGetHandleVerifier [0x00007FF640E3C490+3473888]\n",
      "\tGetHandleVerifier [0x00007FF640BA5D36+760454]\n",
      "\t(No symbol) [0x00007FF640A76B3F]\n",
      "\t(No symbol) [0x00007FF640A71CD4]\n",
      "\t(No symbol) [0x00007FF640A71E62]\n",
      "\t(No symbol) [0x00007FF640A6120F]\n",
      "\tBaseThreadInitThunk [0x00007FFCB7EA257D+29]\n",
      "\tRtlUserThreadStart [0x00007FFCB9CAAA48+40]\n",
      "\n",
      "설명: DAVIN XODIAC SAAT DI BUSAN ONE ASIA FESTIVAL #davin #xodiac #busan #one #asia #festival #2023  #231021 \n",
      "cr xodiac_members\n",
      "link : \n",
      "https://twitter.com/XODIAC_MEMBERS/status/1716110249248358832?t=apw0E0unFQI2GLt6gmVjEQ&s=19\n"
     ]
    },
    {
     "name": "stderr",
     "output_type": "stream",
     "text": [
      "Processing Links:  57%|█████▋    | 44/77 [15:21<10:38, 19.34s/link]"
     ]
    },
    {
     "name": "stdout",
     "output_type": "stream",
     "text": [
      "버튼 없음: Message: no such element: Unable to locate element: {\"method\":\"css selector\",\"selector\":\"yt-formatted-string.more-button.style-scope.ytd-expandable-video-description-body-renderer\"}\n",
      "  (Session info: chrome=126.0.6478.63); For documentation on this error, please visit: https://www.selenium.dev/documentation/webdriver/troubleshooting/errors#no-such-element-exception\n",
      "Stacktrace:\n",
      "\tGetHandleVerifier [0x00007FF640AF3E32+31618]\n",
      "\t(No symbol) [0x00007FF640A6B099]\n",
      "\t(No symbol) [0x00007FF64092888A]\n",
      "\t(No symbol) [0x00007FF640978524]\n",
      "\t(No symbol) [0x00007FF64097862C]\n",
      "\t(No symbol) [0x00007FF6409BF787]\n",
      "\t(No symbol) [0x00007FF64099D14F]\n",
      "\t(No symbol) [0x00007FF6409BCA80]\n",
      "\t(No symbol) [0x00007FF64099CEB3]\n",
      "\t(No symbol) [0x00007FF64096A46B]\n",
      "\t(No symbol) [0x00007FF64096B001]\n",
      "\tGetHandleVerifier [0x00007FF640DF9FFD+3202381]\n",
      "\tGetHandleVerifier [0x00007FF640E46A1D+3516269]\n",
      "\tGetHandleVerifier [0x00007FF640E3C490+3473888]\n",
      "\tGetHandleVerifier [0x00007FF640BA5D36+760454]\n",
      "\t(No symbol) [0x00007FF640A76B3F]\n",
      "\t(No symbol) [0x00007FF640A71CD4]\n",
      "\t(No symbol) [0x00007FF640A71E62]\n",
      "\t(No symbol) [0x00007FF640A6120F]\n",
      "\tBaseThreadInitThunk [0x00007FFCB7EA257D+29]\n",
      "\tRtlUserThreadStart [0x00007FFCB9CAAA48+40]\n",
      "\n",
      "설명: MARK LIVE VOICE WOAH🔥🔥231021 Busan One Asia Festival #nct127 #sijeuni #fyp #busanoneasiafestival\n"
     ]
    },
    {
     "name": "stderr",
     "output_type": "stream",
     "text": [
      "Processing Links:  58%|█████▊    | 45/77 [15:41<10:24, 19.53s/link]"
     ]
    },
    {
     "name": "stdout",
     "output_type": "stream",
     "text": [
      "버튼 없음: Message: element not interactable\n",
      "  (Session info: chrome=126.0.6478.63)\n",
      "Stacktrace:\n",
      "\tGetHandleVerifier [0x00007FF640AF3E32+31618]\n",
      "\t(No symbol) [0x00007FF640A6B099]\n",
      "\t(No symbol) [0x00007FF6409286B9]\n",
      "\t(No symbol) [0x00007FF6409798B2]\n",
      "\t(No symbol) [0x00007FF64096C281]\n",
      "\t(No symbol) [0x00007FF64099D10A]\n",
      "\t(No symbol) [0x00007FF64096BBA6]\n",
      "\t(No symbol) [0x00007FF64099D320]\n",
      "\t(No symbol) [0x00007FF6409BCA80]\n",
      "\t(No symbol) [0x00007FF64099CEB3]\n",
      "\t(No symbol) [0x00007FF64096A46B]\n",
      "\t(No symbol) [0x00007FF64096B001]\n",
      "\tGetHandleVerifier [0x00007FF640DF9FFD+3202381]\n",
      "\tGetHandleVerifier [0x00007FF640E46A1D+3516269]\n",
      "\tGetHandleVerifier [0x00007FF640E3C490+3473888]\n",
      "\tGetHandleVerifier [0x00007FF640BA5D36+760454]\n",
      "\t(No symbol) [0x00007FF640A76B3F]\n",
      "\t(No symbol) [0x00007FF640A71CD4]\n",
      "\t(No symbol) [0x00007FF640A71E62]\n",
      "\t(No symbol) [0x00007FF640A6120F]\n",
      "\tBaseThreadInitThunk [0x00007FFCB7EA257D+29]\n",
      "\tRtlUserThreadStart [0x00007FFCB9CAAA48+40]\n",
      "\n",
      "설명: 2021年5月8日 19:00〜\n",
      "Busan One Asia Festival\n",
      "VLIVE(無料配信)\n",
      "\n",
      "#MAMAMOO\n",
      "\n",
      "VLIVEURL:http://vlive.tv/video/246869\n"
     ]
    },
    {
     "name": "stderr",
     "output_type": "stream",
     "text": [
      "Processing Links:  60%|█████▉    | 46/77 [16:01<10:05, 19.52s/link]"
     ]
    },
    {
     "name": "stdout",
     "output_type": "stream",
     "text": [
      "버튼 없음: Message: no such element: Unable to locate element: {\"method\":\"css selector\",\"selector\":\"yt-formatted-string.more-button.style-scope.ytd-expandable-video-description-body-renderer\"}\n",
      "  (Session info: chrome=126.0.6478.63); For documentation on this error, please visit: https://www.selenium.dev/documentation/webdriver/troubleshooting/errors#no-such-element-exception\n",
      "Stacktrace:\n",
      "\tGetHandleVerifier [0x00007FF640AF3E32+31618]\n",
      "\t(No symbol) [0x00007FF640A6B099]\n",
      "\t(No symbol) [0x00007FF64092888A]\n",
      "\t(No symbol) [0x00007FF640978524]\n",
      "\t(No symbol) [0x00007FF64097862C]\n",
      "\t(No symbol) [0x00007FF6409BF787]\n",
      "\t(No symbol) [0x00007FF64099D14F]\n",
      "\t(No symbol) [0x00007FF6409BCA80]\n",
      "\t(No symbol) [0x00007FF64099CEB3]\n",
      "\t(No symbol) [0x00007FF64096A46B]\n",
      "\t(No symbol) [0x00007FF64096B001]\n",
      "\tGetHandleVerifier [0x00007FF640DF9FFD+3202381]\n",
      "\tGetHandleVerifier [0x00007FF640E46A1D+3516269]\n",
      "\tGetHandleVerifier [0x00007FF640E3C490+3473888]\n",
      "\tGetHandleVerifier [0x00007FF640BA5D36+760454]\n",
      "\t(No symbol) [0x00007FF640A76B3F]\n",
      "\t(No symbol) [0x00007FF640A71CD4]\n",
      "\t(No symbol) [0x00007FF640A71E62]\n",
      "\t(No symbol) [0x00007FF640A6120F]\n",
      "\tBaseThreadInitThunk [0x00007FFCB7EA257D+29]\n",
      "\tRtlUserThreadStart [0x00007FFCB9CAAA48+40]\n",
      "\n",
      "설명: #BUSAN ONE ASIA Festival#제베원 우주먼지#shorts\n"
     ]
    },
    {
     "name": "stderr",
     "output_type": "stream",
     "text": [
      "Processing Links:  61%|██████    | 47/77 [16:20<09:46, 19.54s/link]"
     ]
    },
    {
     "name": "stdout",
     "output_type": "stream",
     "text": [
      "버튼 없음: Message: no such element: Unable to locate element: {\"method\":\"css selector\",\"selector\":\"yt-formatted-string.more-button.style-scope.ytd-expandable-video-description-body-renderer\"}\n",
      "  (Session info: chrome=126.0.6478.63); For documentation on this error, please visit: https://www.selenium.dev/documentation/webdriver/troubleshooting/errors#no-such-element-exception\n",
      "Stacktrace:\n",
      "\tGetHandleVerifier [0x00007FF640AF3E32+31618]\n",
      "\t(No symbol) [0x00007FF640A6B099]\n",
      "\t(No symbol) [0x00007FF64092888A]\n",
      "\t(No symbol) [0x00007FF640978524]\n",
      "\t(No symbol) [0x00007FF64097862C]\n",
      "\t(No symbol) [0x00007FF6409BF787]\n",
      "\t(No symbol) [0x00007FF64099D14F]\n",
      "\t(No symbol) [0x00007FF6409BCA80]\n",
      "\t(No symbol) [0x00007FF64099CEB3]\n",
      "\t(No symbol) [0x00007FF64096A46B]\n",
      "\t(No symbol) [0x00007FF64096B001]\n",
      "\tGetHandleVerifier [0x00007FF640DF9FFD+3202381]\n",
      "\tGetHandleVerifier [0x00007FF640E46A1D+3516269]\n",
      "\tGetHandleVerifier [0x00007FF640E3C490+3473888]\n",
      "\tGetHandleVerifier [0x00007FF640BA5D36+760454]\n",
      "\t(No symbol) [0x00007FF640A76B3F]\n",
      "\t(No symbol) [0x00007FF640A71CD4]\n",
      "\t(No symbol) [0x00007FF640A71E62]\n",
      "\t(No symbol) [0x00007FF640A6120F]\n",
      "\tBaseThreadInitThunk [0x00007FFCB7EA257D+29]\n",
      "\tRtlUserThreadStart [0x00007FFCB9CAAA48+40]\n",
      "\n",
      "설명: BTS Rehearsing for the Busan Concert🔥💜 Are u all ready for it?\n"
     ]
    },
    {
     "name": "stderr",
     "output_type": "stream",
     "text": [
      "Processing Links:  62%|██████▏   | 48/77 [16:40<09:30, 19.68s/link]"
     ]
    },
    {
     "name": "stdout",
     "output_type": "stream",
     "text": [
      "설명: ❤ K-POP 콘서트 (유료) - 10.19(토) : 화명생태공원\n",
      "(주요라인업: 뉴이스트,아스트로,마마무,하성운,잇지 등)\n",
      "\n",
      "❤ 힙합 매시업 콘서트 - 10.20(일) : 센텀 영화의 전당 야외무대\n",
      "(2019 라인업: 사이먼도미닉,펀치넬로,후디)\n",
      "\n",
      "❤ 패밀리 파크 콘서트(무료) - 10.25(금) : 화명생태공원 \n",
      "(주요라인업: 거미,강다니엘,에일리,러블리즈 등)\n",
      "\n",
      "❤ 뮤직레이블onBOF(오디션프로그램) - 10.20(일)결선무대: 해운대 구남로\n",
      "\n",
      "❤ Made in Busan 문화공연 - 10. 24(목) - 26(토) : 경성대 예노소극장\n"
     ]
    },
    {
     "name": "stderr",
     "output_type": "stream",
     "text": [
      "Processing Links:  64%|██████▎   | 49/77 [16:52<08:03, 17.26s/link]"
     ]
    },
    {
     "name": "stdout",
     "output_type": "stream",
     "text": [
      "버튼 없음: Message: no such element: Unable to locate element: {\"method\":\"css selector\",\"selector\":\"yt-formatted-string.more-button.style-scope.ytd-expandable-video-description-body-renderer\"}\n",
      "  (Session info: chrome=126.0.6478.63); For documentation on this error, please visit: https://www.selenium.dev/documentation/webdriver/troubleshooting/errors#no-such-element-exception\n",
      "Stacktrace:\n",
      "\tGetHandleVerifier [0x00007FF640AF3E32+31618]\n",
      "\t(No symbol) [0x00007FF640A6B099]\n",
      "\t(No symbol) [0x00007FF64092888A]\n",
      "\t(No symbol) [0x00007FF640978524]\n",
      "\t(No symbol) [0x00007FF64097862C]\n",
      "\t(No symbol) [0x00007FF6409BF787]\n",
      "\t(No symbol) [0x00007FF64099D14F]\n",
      "\t(No symbol) [0x00007FF6409BCA80]\n",
      "\t(No symbol) [0x00007FF64099CEB3]\n",
      "\t(No symbol) [0x00007FF64096A46B]\n",
      "\t(No symbol) [0x00007FF64096B001]\n",
      "\tGetHandleVerifier [0x00007FF640DF9FFD+3202381]\n",
      "\tGetHandleVerifier [0x00007FF640E46A1D+3516269]\n",
      "\tGetHandleVerifier [0x00007FF640E3C490+3473888]\n",
      "\tGetHandleVerifier [0x00007FF640BA5D36+760454]\n",
      "\t(No symbol) [0x00007FF640A76B3F]\n",
      "\t(No symbol) [0x00007FF640A71CD4]\n",
      "\t(No symbol) [0x00007FF640A71E62]\n",
      "\t(No symbol) [0x00007FF640A6120F]\n",
      "\tBaseThreadInitThunk [0x00007FFCB7EA257D+29]\n",
      "\tRtlUserThreadStart [0x00007FFCB9CAAA48+40]\n",
      "\n",
      "설명: XODIAC - ONLY FUN on BUSAN ONE FESTIVAL 2023 #XODIAC #ONLYFUN Cr : Twitter : yee_mog\n"
     ]
    },
    {
     "name": "stderr",
     "output_type": "stream",
     "text": [
      "Processing Links:  65%|██████▍   | 50/77 [17:11<08:04, 17.95s/link]"
     ]
    },
    {
     "name": "stdout",
     "output_type": "stream",
     "text": [
      "버튼 없음: Message: no such element: Unable to locate element: {\"method\":\"css selector\",\"selector\":\"yt-formatted-string.more-button.style-scope.ytd-expandable-video-description-body-renderer\"}\n",
      "  (Session info: chrome=126.0.6478.63); For documentation on this error, please visit: https://www.selenium.dev/documentation/webdriver/troubleshooting/errors#no-such-element-exception\n",
      "Stacktrace:\n",
      "\tGetHandleVerifier [0x00007FF640AF3E32+31618]\n",
      "\t(No symbol) [0x00007FF640A6B099]\n",
      "\t(No symbol) [0x00007FF64092888A]\n",
      "\t(No symbol) [0x00007FF640978524]\n",
      "\t(No symbol) [0x00007FF64097862C]\n",
      "\t(No symbol) [0x00007FF6409BF787]\n",
      "\t(No symbol) [0x00007FF64099D14F]\n",
      "\t(No symbol) [0x00007FF6409BCA80]\n",
      "\t(No symbol) [0x00007FF64099CEB3]\n",
      "\t(No symbol) [0x00007FF64096A46B]\n",
      "\t(No symbol) [0x00007FF64096B001]\n",
      "\tGetHandleVerifier [0x00007FF640DF9FFD+3202381]\n",
      "\tGetHandleVerifier [0x00007FF640E46A1D+3516269]\n",
      "\tGetHandleVerifier [0x00007FF640E3C490+3473888]\n",
      "\tGetHandleVerifier [0x00007FF640BA5D36+760454]\n",
      "\t(No symbol) [0x00007FF640A76B3F]\n",
      "\t(No symbol) [0x00007FF640A71CD4]\n",
      "\t(No symbol) [0x00007FF640A71E62]\n",
      "\t(No symbol) [0x00007FF640A6120F]\n",
      "\tBaseThreadInitThunk [0x00007FFCB7EA257D+29]\n",
      "\tRtlUserThreadStart [0x00007FFCB9CAAA48+40]\n",
      "\n",
      "설명: 2023 Busan One Asia Festival kpop concert #nct127 #treasure #highlights #thewind #zerobaseone\n"
     ]
    },
    {
     "name": "stderr",
     "output_type": "stream",
     "text": [
      "Processing Links:  66%|██████▌   | 51/77 [17:31<07:59, 18.45s/link]"
     ]
    },
    {
     "name": "stdout",
     "output_type": "stream",
     "text": [
      "버튼 없음: Message: no such element: Unable to locate element: {\"method\":\"css selector\",\"selector\":\"yt-formatted-string.more-button.style-scope.ytd-expandable-video-description-body-renderer\"}\n",
      "  (Session info: chrome=126.0.6478.63); For documentation on this error, please visit: https://www.selenium.dev/documentation/webdriver/troubleshooting/errors#no-such-element-exception\n",
      "Stacktrace:\n",
      "\tGetHandleVerifier [0x00007FF640AF3E32+31618]\n",
      "\t(No symbol) [0x00007FF640A6B099]\n",
      "\t(No symbol) [0x00007FF64092888A]\n",
      "\t(No symbol) [0x00007FF640978524]\n",
      "\t(No symbol) [0x00007FF64097862C]\n",
      "\t(No symbol) [0x00007FF6409BF787]\n",
      "\t(No symbol) [0x00007FF64099D14F]\n",
      "\t(No symbol) [0x00007FF6409BCA80]\n",
      "\t(No symbol) [0x00007FF64099CEB3]\n",
      "\t(No symbol) [0x00007FF64096A46B]\n",
      "\t(No symbol) [0x00007FF64096B001]\n",
      "\tGetHandleVerifier [0x00007FF640DF9FFD+3202381]\n",
      "\tGetHandleVerifier [0x00007FF640E46A1D+3516269]\n",
      "\tGetHandleVerifier [0x00007FF640E3C490+3473888]\n",
      "\tGetHandleVerifier [0x00007FF640BA5D36+760454]\n",
      "\t(No symbol) [0x00007FF640A76B3F]\n",
      "\t(No symbol) [0x00007FF640A71CD4]\n",
      "\t(No symbol) [0x00007FF640A71E62]\n",
      "\t(No symbol) [0x00007FF640A6120F]\n",
      "\tBaseThreadInitThunk [0x00007FFCB7EA257D+29]\n",
      "\tRtlUserThreadStart [0x00007FFCB9CAAA48+40]\n",
      "\n",
      "설명: Wanna one - energetic / BOAF 2017\n"
     ]
    },
    {
     "name": "stderr",
     "output_type": "stream",
     "text": [
      "Processing Links:  68%|██████▊   | 52/77 [17:51<07:50, 18.82s/link]"
     ]
    },
    {
     "name": "stdout",
     "output_type": "stream",
     "text": [
      "버튼 없음: Message: element not interactable\n",
      "  (Session info: chrome=126.0.6478.63)\n",
      "Stacktrace:\n",
      "\tGetHandleVerifier [0x00007FF640AF3E32+31618]\n",
      "\t(No symbol) [0x00007FF640A6B099]\n",
      "\t(No symbol) [0x00007FF6409286B9]\n",
      "\t(No symbol) [0x00007FF6409798B2]\n",
      "\t(No symbol) [0x00007FF64096C281]\n",
      "\t(No symbol) [0x00007FF64099D10A]\n",
      "\t(No symbol) [0x00007FF64096BBA6]\n",
      "\t(No symbol) [0x00007FF64099D320]\n",
      "\t(No symbol) [0x00007FF6409BCA80]\n",
      "\t(No symbol) [0x00007FF64099CEB3]\n",
      "\t(No symbol) [0x00007FF64096A46B]\n",
      "\t(No symbol) [0x00007FF64096B001]\n",
      "\tGetHandleVerifier [0x00007FF640DF9FFD+3202381]\n",
      "\tGetHandleVerifier [0x00007FF640E46A1D+3516269]\n",
      "\tGetHandleVerifier [0x00007FF640E3C490+3473888]\n",
      "\tGetHandleVerifier [0x00007FF640BA5D36+760454]\n",
      "\t(No symbol) [0x00007FF640A76B3F]\n",
      "\t(No symbol) [0x00007FF640A71CD4]\n",
      "\t(No symbol) [0x00007FF640A71E62]\n",
      "\t(No symbol) [0x00007FF640A6120F]\n",
      "\tBaseThreadInitThunk [0x00007FFCB7EA257D+29]\n",
      "\tRtlUserThreadStart [0x00007FFCB9CAAA48+40]\n",
      "\n",
      "설명: #부산원아시아페스티벌 #하이라이트 #데이드림\n",
      "2023 BUSAN ONE ASIA FESTIVAL K-POP CONCERT\n"
     ]
    },
    {
     "name": "stderr",
     "output_type": "stream",
     "text": [
      "Processing Links:  69%|██████▉   | 53/77 [18:11<07:38, 19.11s/link]"
     ]
    },
    {
     "name": "stdout",
     "output_type": "stream",
     "text": [
      "설명: OPPA LEE DONGHAE BUSAN BOF FESTIVAL #동해 #DONGHAE 08-06-2024\n",
      "\n",
      "240608 부산 원아페 BOF\n",
      "\n",
      "하품연기하는 이 강아띠 머야 🐶\n",
      "\n",
      "#동해 #DONGHAE\n",
      "\n",
      "แปลจาก เกาหลี\n",
      "\n",
      "240608 ปูซาน One Ape BOF ลูกสุนัขตัวนี้กำลังหาว 🐶\n",
      "\n",
      "#동해 #DONGHAE\n",
      "\n",
      "#동해 #DONGHAE\n",
      "\n",
      "#동해 #DONGHAE\n",
      "#leedonghae \n",
      "\n",
      "\n",
      "\n",
      "Cr. 𝐻𝐴𝐸𝑀𝑂𝑂𝑁\n"
     ]
    },
    {
     "name": "stderr",
     "output_type": "stream",
     "text": [
      "Processing Links:  70%|███████   | 54/77 [18:22<06:28, 16.87s/link]"
     ]
    },
    {
     "name": "stdout",
     "output_type": "stream",
     "text": [
      "버튼 없음: Message: element not interactable\n",
      "  (Session info: chrome=126.0.6478.63)\n",
      "Stacktrace:\n",
      "\tGetHandleVerifier [0x00007FF640AF3E32+31618]\n",
      "\t(No symbol) [0x00007FF640A6B099]\n",
      "\t(No symbol) [0x00007FF6409286B9]\n",
      "\t(No symbol) [0x00007FF6409798B2]\n",
      "\t(No symbol) [0x00007FF64096C281]\n",
      "\t(No symbol) [0x00007FF64099D10A]\n",
      "\t(No symbol) [0x00007FF64096BBA6]\n",
      "\t(No symbol) [0x00007FF64099D320]\n",
      "\t(No symbol) [0x00007FF6409BCA80]\n",
      "\t(No symbol) [0x00007FF64099CEB3]\n",
      "\t(No symbol) [0x00007FF64096A46B]\n",
      "\t(No symbol) [0x00007FF64096B001]\n",
      "\tGetHandleVerifier [0x00007FF640DF9FFD+3202381]\n",
      "\tGetHandleVerifier [0x00007FF640E46A1D+3516269]\n",
      "\tGetHandleVerifier [0x00007FF640E3C490+3473888]\n",
      "\tGetHandleVerifier [0x00007FF640BA5D36+760454]\n",
      "\t(No symbol) [0x00007FF640A76B3F]\n",
      "\t(No symbol) [0x00007FF640A71CD4]\n",
      "\t(No symbol) [0x00007FF640A71E62]\n",
      "\t(No symbol) [0x00007FF640A6120F]\n",
      "\tBaseThreadInitThunk [0x00007FFCB7EA257D+29]\n",
      "\tRtlUserThreadStart [0x00007FFCB9CAAA48+40]\n",
      "\n",
      "설명: #ビリー #Billlie #빌리 #문수아 #수현 #하람 #츠키 #션 #시윤 #하루나\n",
      "\n",
      "✔ 이 영상은 수익창출을 하지 않습니다\n",
      "✔ 모든 저작권은 원본 영상/음악 원작자에게 있습니다\n",
      "\n",
      "✔ This video does not generate revenue\n",
      "✔ All copyrights are with the original video/music author\n",
      "\n",
      "✔ この映像は収益創出をしません\n",
      "✔すべての著作権は原本映像/音楽原作者にあります\n"
     ]
    },
    {
     "name": "stderr",
     "output_type": "stream",
     "text": [
      "Processing Links:  71%|███████▏  | 55/77 [18:42<06:29, 17.69s/link]"
     ]
    },
    {
     "name": "stdout",
     "output_type": "stream",
     "text": [
      "버튼 없음: Message: no such element: Unable to locate element: {\"method\":\"css selector\",\"selector\":\"yt-formatted-string.more-button.style-scope.ytd-expandable-video-description-body-renderer\"}\n",
      "  (Session info: chrome=126.0.6478.63); For documentation on this error, please visit: https://www.selenium.dev/documentation/webdriver/troubleshooting/errors#no-such-element-exception\n",
      "Stacktrace:\n",
      "\tGetHandleVerifier [0x00007FF640AF3E32+31618]\n",
      "\t(No symbol) [0x00007FF640A6B099]\n",
      "\t(No symbol) [0x00007FF64092888A]\n",
      "\t(No symbol) [0x00007FF640978524]\n",
      "\t(No symbol) [0x00007FF64097862C]\n",
      "\t(No symbol) [0x00007FF6409BF787]\n",
      "\t(No symbol) [0x00007FF64099D14F]\n",
      "\t(No symbol) [0x00007FF6409BCA80]\n",
      "\t(No symbol) [0x00007FF64099CEB3]\n",
      "\t(No symbol) [0x00007FF64096A46B]\n",
      "\t(No symbol) [0x00007FF64096B001]\n",
      "\tGetHandleVerifier [0x00007FF640DF9FFD+3202381]\n",
      "\tGetHandleVerifier [0x00007FF640E46A1D+3516269]\n",
      "\tGetHandleVerifier [0x00007FF640E3C490+3473888]\n",
      "\tGetHandleVerifier [0x00007FF640BA5D36+760454]\n",
      "\t(No symbol) [0x00007FF640A76B3F]\n",
      "\t(No symbol) [0x00007FF640A71CD4]\n",
      "\t(No symbol) [0x00007FF640A71E62]\n",
      "\t(No symbol) [0x00007FF640A6120F]\n",
      "\tBaseThreadInitThunk [0x00007FFCB7EA257D+29]\n",
      "\tRtlUserThreadStart [0x00007FFCB9CAAA48+40]\n",
      "\n",
      "설명: 181020 부산원아페BOF- 강다니엘 오프닝 멘트\n"
     ]
    },
    {
     "name": "stderr",
     "output_type": "stream",
     "text": [
      "Processing Links:  73%|███████▎  | 56/77 [19:01<06:23, 18.26s/link]"
     ]
    },
    {
     "name": "stdout",
     "output_type": "stream",
     "text": [
      "버튼 없음: Message: no such element: Unable to locate element: {\"method\":\"css selector\",\"selector\":\"yt-formatted-string.more-button.style-scope.ytd-expandable-video-description-body-renderer\"}\n",
      "  (Session info: chrome=126.0.6478.63); For documentation on this error, please visit: https://www.selenium.dev/documentation/webdriver/troubleshooting/errors#no-such-element-exception\n",
      "Stacktrace:\n",
      "\tGetHandleVerifier [0x00007FF640AF3E32+31618]\n",
      "\t(No symbol) [0x00007FF640A6B099]\n",
      "\t(No symbol) [0x00007FF64092888A]\n",
      "\t(No symbol) [0x00007FF640978524]\n",
      "\t(No symbol) [0x00007FF64097862C]\n",
      "\t(No symbol) [0x00007FF6409BF787]\n",
      "\t(No symbol) [0x00007FF64099D14F]\n",
      "\t(No symbol) [0x00007FF6409BCA80]\n",
      "\t(No symbol) [0x00007FF64099CEB3]\n",
      "\t(No symbol) [0x00007FF64096A46B]\n",
      "\t(No symbol) [0x00007FF64096B001]\n",
      "\tGetHandleVerifier [0x00007FF640DF9FFD+3202381]\n",
      "\tGetHandleVerifier [0x00007FF640E46A1D+3516269]\n",
      "\tGetHandleVerifier [0x00007FF640E3C490+3473888]\n",
      "\tGetHandleVerifier [0x00007FF640BA5D36+760454]\n",
      "\t(No symbol) [0x00007FF640A76B3F]\n",
      "\t(No symbol) [0x00007FF640A71CD4]\n",
      "\t(No symbol) [0x00007FF640A71E62]\n",
      "\t(No symbol) [0x00007FF640A6120F]\n",
      "\tBaseThreadInitThunk [0x00007FFCB7EA257D+29]\n",
      "\tRtlUserThreadStart [0x00007FFCB9CAAA48+40]\n",
      "\n",
      "설명: 설명 텍스트가 없습니다.\n"
     ]
    },
    {
     "name": "stderr",
     "output_type": "stream",
     "text": [
      "Processing Links:  74%|███████▍  | 57/77 [19:42<08:16, 24.82s/link]"
     ]
    },
    {
     "name": "stdout",
     "output_type": "stream",
     "text": [
      "버튼 없음: Message: no such element: Unable to locate element: {\"method\":\"css selector\",\"selector\":\"yt-formatted-string.more-button.style-scope.ytd-expandable-video-description-body-renderer\"}\n",
      "  (Session info: chrome=126.0.6478.63); For documentation on this error, please visit: https://www.selenium.dev/documentation/webdriver/troubleshooting/errors#no-such-element-exception\n",
      "Stacktrace:\n",
      "\tGetHandleVerifier [0x00007FF640AF3E32+31618]\n",
      "\t(No symbol) [0x00007FF640A6B099]\n",
      "\t(No symbol) [0x00007FF64092888A]\n",
      "\t(No symbol) [0x00007FF640978524]\n",
      "\t(No symbol) [0x00007FF64097862C]\n",
      "\t(No symbol) [0x00007FF6409BF787]\n",
      "\t(No symbol) [0x00007FF64099D14F]\n",
      "\t(No symbol) [0x00007FF6409BCA80]\n",
      "\t(No symbol) [0x00007FF64099CEB3]\n",
      "\t(No symbol) [0x00007FF64096A46B]\n",
      "\t(No symbol) [0x00007FF64096B001]\n",
      "\tGetHandleVerifier [0x00007FF640DF9FFD+3202381]\n",
      "\tGetHandleVerifier [0x00007FF640E46A1D+3516269]\n",
      "\tGetHandleVerifier [0x00007FF640E3C490+3473888]\n",
      "\tGetHandleVerifier [0x00007FF640BA5D36+760454]\n",
      "\t(No symbol) [0x00007FF640A76B3F]\n",
      "\t(No symbol) [0x00007FF640A71CD4]\n",
      "\t(No symbol) [0x00007FF640A71E62]\n",
      "\t(No symbol) [0x00007FF640A6120F]\n",
      "\tBaseThreadInitThunk [0x00007FFCB7EA257D+29]\n",
      "\tRtlUserThreadStart [0x00007FFCB9CAAA48+40]\n",
      "\n",
      "설명: Busan One Asia Festival 2023 | Akhirnya bisa liat LIVE HIGHLIGHT, NCT 127, OH MY GIRL #부산원아시아페스티벌\n"
     ]
    },
    {
     "name": "stderr",
     "output_type": "stream",
     "text": [
      "Processing Links:  75%|███████▌  | 58/77 [20:01<07:22, 23.27s/link]"
     ]
    },
    {
     "name": "stdout",
     "output_type": "stream",
     "text": [
      "버튼 없음: Message: no such element: Unable to locate element: {\"method\":\"css selector\",\"selector\":\"yt-formatted-string.more-button.style-scope.ytd-expandable-video-description-body-renderer\"}\n",
      "  (Session info: chrome=126.0.6478.63); For documentation on this error, please visit: https://www.selenium.dev/documentation/webdriver/troubleshooting/errors#no-such-element-exception\n",
      "Stacktrace:\n",
      "\tGetHandleVerifier [0x00007FF640AF3E32+31618]\n",
      "\t(No symbol) [0x00007FF640A6B099]\n",
      "\t(No symbol) [0x00007FF64092888A]\n",
      "\t(No symbol) [0x00007FF640978524]\n",
      "\t(No symbol) [0x00007FF64097862C]\n",
      "\t(No symbol) [0x00007FF6409BF787]\n",
      "\t(No symbol) [0x00007FF64099D14F]\n",
      "\t(No symbol) [0x00007FF6409BCA80]\n",
      "\t(No symbol) [0x00007FF64099CEB3]\n",
      "\t(No symbol) [0x00007FF64096A46B]\n",
      "\t(No symbol) [0x00007FF64096B001]\n",
      "\tGetHandleVerifier [0x00007FF640DF9FFD+3202381]\n",
      "\tGetHandleVerifier [0x00007FF640E46A1D+3516269]\n",
      "\tGetHandleVerifier [0x00007FF640E3C490+3473888]\n",
      "\tGetHandleVerifier [0x00007FF640BA5D36+760454]\n",
      "\t(No symbol) [0x00007FF640A76B3F]\n",
      "\t(No symbol) [0x00007FF640A71CD4]\n",
      "\t(No symbol) [0x00007FF640A71E62]\n",
      "\t(No symbol) [0x00007FF640A6120F]\n",
      "\tBaseThreadInitThunk [0x00007FFCB7EA257D+29]\n",
      "\tRtlUserThreadStart [0x00007FFCB9CAAA48+40]\n",
      "\n",
      "설명: 20161001 BOF - BTS V [FANCAM]\n"
     ]
    },
    {
     "name": "stderr",
     "output_type": "stream",
     "text": [
      "Processing Links:  77%|███████▋  | 59/77 [20:21<06:41, 22.29s/link]"
     ]
    },
    {
     "name": "stdout",
     "output_type": "stream",
     "text": [
      "버튼 없음: Message: no such element: Unable to locate element: {\"method\":\"css selector\",\"selector\":\"yt-formatted-string.more-button.style-scope.ytd-expandable-video-description-body-renderer\"}\n",
      "  (Session info: chrome=126.0.6478.63); For documentation on this error, please visit: https://www.selenium.dev/documentation/webdriver/troubleshooting/errors#no-such-element-exception\n",
      "Stacktrace:\n",
      "\tGetHandleVerifier [0x00007FF640AF3E32+31618]\n",
      "\t(No symbol) [0x00007FF640A6B099]\n",
      "\t(No symbol) [0x00007FF64092888A]\n",
      "\t(No symbol) [0x00007FF640978524]\n",
      "\t(No symbol) [0x00007FF64097862C]\n",
      "\t(No symbol) [0x00007FF6409BF787]\n",
      "\t(No symbol) [0x00007FF64099D14F]\n",
      "\t(No symbol) [0x00007FF6409BCA80]\n",
      "\t(No symbol) [0x00007FF64099CEB3]\n",
      "\t(No symbol) [0x00007FF64096A46B]\n",
      "\t(No symbol) [0x00007FF64096B001]\n",
      "\tGetHandleVerifier [0x00007FF640DF9FFD+3202381]\n",
      "\tGetHandleVerifier [0x00007FF640E46A1D+3516269]\n",
      "\tGetHandleVerifier [0x00007FF640E3C490+3473888]\n",
      "\tGetHandleVerifier [0x00007FF640BA5D36+760454]\n",
      "\t(No symbol) [0x00007FF640A76B3F]\n",
      "\t(No symbol) [0x00007FF640A71CD4]\n",
      "\t(No symbol) [0x00007FF640A71E62]\n",
      "\t(No symbol) [0x00007FF640A6120F]\n",
      "\tBaseThreadInitThunk [0x00007FFCB7EA257D+29]\n",
      "\tRtlUserThreadStart [0x00007FFCB9CAAA48+40]\n",
      "\n",
      "설명: Tampil dng lagu terbaru mrka di Busan One Asia Festival 2023 yg berjudul “Only Fun” #xodiacofficial\n"
     ]
    },
    {
     "name": "stderr",
     "output_type": "stream",
     "text": [
      "Processing Links:  78%|███████▊  | 60/77 [20:41<06:05, 21.47s/link]"
     ]
    },
    {
     "name": "stdout",
     "output_type": "stream",
     "text": [
      "설명: 📍 Korea Selatan\n",
      "✈️ To Be Announced\n",
      "📅 19 Oktober 2023\n",
      "🏷 Harga Per Pax\n",
      "🏷 Dewasa | Anak IDR 22.000k\n",
      "🏨 Busan : Hanwha Resort Haeundae Hotel 3★ / setaraf\n",
      "🏨 Seoul : Skypark Dongdaemun Hotel 3★ / setaraf\n",
      "🧒 Child friendly\n",
      "🧓 Senior friendly\n",
      "🌉 Gwanggalli Beach\n",
      "🌉 Haeundae Beach\n",
      "🌉 Blue Line Park\n",
      "🌉 Biff Square\n",
      "🌉 Kangtong Market\n",
      "🌉 Busan One Asia Festival\n",
      "🌉 Gamcheon Culture Village\n",
      "🌉 Gosean Mungwang Maple Tree Trail\n",
      "🌉 Haneul Park\n",
      "🌉 Gwangjang Tradional Market\n",
      "🌉 Gyeongbok Palace\n",
      "🌉 Myeongdong Street\n",
      "🌉 Nami Island\n",
      "🌉 GOTO Underground Shopping Street\n",
      "🌉 Yeoido Han River Park\n",
      "✔️ Tiket Pesawat (To Be Announced)\n",
      "✔️ Akomodasi hotel 3★\n",
      "✔️ Acara Tour \n",
      "✔️ Makan sesuai itinerary\n",
      "✔️ 1 Air minum botol / pax / day\n",
      "✔️ Asuransi perjalanan\n",
      "❌ Visa Korea Individual : IDR 1.150k / pax\n",
      "❌ Tipping Tour Leader, Lokal Guide, Driver : IDR 1.150k / pax\n",
      "❌ Tipping Porter Hotel, Mini Bar, Laundry, Telepon, Kelebihan Bagasi dll\n",
      "#seoul\n",
      "#busan\n",
      "#koreaselatan\n",
      "#korsel\n",
      "#southkorea\n",
      "#sic\n",
      "#grouptour\n",
      "#seatincoach\n",
      "#liburan\n",
      "#holiday\n",
      "#packagetour\n",
      "#tourpackage\n",
      "#tour\n",
      "#pakettour\n",
      "#tur\n",
      "#pakettur\n",
      "#travel\n",
      "#travelling\n",
      "#travelagency\n",
      "#travelagent\n",
      "#dayskun\n",
      "#dayskuntour\n",
      "#bandung\n",
      "#indonesia\n"
     ]
    },
    {
     "name": "stderr",
     "output_type": "stream",
     "text": [
      "Processing Links:  79%|███████▉  | 61/77 [20:53<04:57, 18.59s/link]"
     ]
    },
    {
     "name": "stdout",
     "output_type": "stream",
     "text": [
      "버튼 없음: Message: no such element: Unable to locate element: {\"method\":\"css selector\",\"selector\":\"yt-formatted-string.more-button.style-scope.ytd-expandable-video-description-body-renderer\"}\n",
      "  (Session info: chrome=126.0.6478.63); For documentation on this error, please visit: https://www.selenium.dev/documentation/webdriver/troubleshooting/errors#no-such-element-exception\n",
      "Stacktrace:\n",
      "\tGetHandleVerifier [0x00007FF640AF3E32+31618]\n",
      "\t(No symbol) [0x00007FF640A6B099]\n",
      "\t(No symbol) [0x00007FF64092888A]\n",
      "\t(No symbol) [0x00007FF640978524]\n",
      "\t(No symbol) [0x00007FF64097862C]\n",
      "\t(No symbol) [0x00007FF6409BF787]\n",
      "\t(No symbol) [0x00007FF64099D14F]\n",
      "\t(No symbol) [0x00007FF6409BCA80]\n",
      "\t(No symbol) [0x00007FF64099CEB3]\n",
      "\t(No symbol) [0x00007FF64096A46B]\n",
      "\t(No symbol) [0x00007FF64096B001]\n",
      "\tGetHandleVerifier [0x00007FF640DF9FFD+3202381]\n",
      "\tGetHandleVerifier [0x00007FF640E46A1D+3516269]\n",
      "\tGetHandleVerifier [0x00007FF640E3C490+3473888]\n",
      "\tGetHandleVerifier [0x00007FF640BA5D36+760454]\n",
      "\t(No symbol) [0x00007FF640A76B3F]\n",
      "\t(No symbol) [0x00007FF640A71CD4]\n",
      "\t(No symbol) [0x00007FF640A71E62]\n",
      "\t(No symbol) [0x00007FF640A6120F]\n",
      "\tBaseThreadInitThunk [0x00007FFCB7EA257D+29]\n",
      "\tRtlUserThreadStart [0x00007FFCB9CAAA48+40]\n",
      "\n",
      "설명: 161033 EXO Busan one AsiaFestival\n"
     ]
    },
    {
     "name": "stderr",
     "output_type": "stream",
     "text": [
      "Processing Links:  81%|████████  | 62/77 [21:13<04:45, 19.04s/link]"
     ]
    },
    {
     "name": "stdout",
     "output_type": "stream",
     "text": [
      "버튼 없음: Message: no such element: Unable to locate element: {\"method\":\"css selector\",\"selector\":\"yt-formatted-string.more-button.style-scope.ytd-expandable-video-description-body-renderer\"}\n",
      "  (Session info: chrome=126.0.6478.63); For documentation on this error, please visit: https://www.selenium.dev/documentation/webdriver/troubleshooting/errors#no-such-element-exception\n",
      "Stacktrace:\n",
      "\tGetHandleVerifier [0x00007FF640AF3E32+31618]\n",
      "\t(No symbol) [0x00007FF640A6B099]\n",
      "\t(No symbol) [0x00007FF64092888A]\n",
      "\t(No symbol) [0x00007FF640978524]\n",
      "\t(No symbol) [0x00007FF64097862C]\n",
      "\t(No symbol) [0x00007FF6409BF787]\n",
      "\t(No symbol) [0x00007FF64099D14F]\n",
      "\t(No symbol) [0x00007FF6409BCA80]\n",
      "\t(No symbol) [0x00007FF64099CEB3]\n",
      "\t(No symbol) [0x00007FF64096A46B]\n",
      "\t(No symbol) [0x00007FF64096B001]\n",
      "\tGetHandleVerifier [0x00007FF640DF9FFD+3202381]\n",
      "\tGetHandleVerifier [0x00007FF640E46A1D+3516269]\n",
      "\tGetHandleVerifier [0x00007FF640E3C490+3473888]\n",
      "\tGetHandleVerifier [0x00007FF640BA5D36+760454]\n",
      "\t(No symbol) [0x00007FF640A76B3F]\n",
      "\t(No symbol) [0x00007FF640A71CD4]\n",
      "\t(No symbol) [0x00007FF640A71E62]\n",
      "\t(No symbol) [0x00007FF640A6120F]\n",
      "\tBaseThreadInitThunk [0x00007FFCB7EA257D+29]\n",
      "\tRtlUserThreadStart [0x00007FFCB9CAAA48+40]\n",
      "\n",
      "설명: Harubby at the Busan one asia festival #harubby #treasure\n"
     ]
    },
    {
     "name": "stderr",
     "output_type": "stream",
     "text": [
      "Processing Links:  82%|████████▏ | 63/77 [21:32<04:29, 19.23s/link]"
     ]
    },
    {
     "name": "stdout",
     "output_type": "stream",
     "text": [
      "버튼 없음: Message: element not interactable\n",
      "  (Session info: chrome=126.0.6478.63)\n",
      "Stacktrace:\n",
      "\tGetHandleVerifier [0x00007FF640AF3E32+31618]\n",
      "\t(No symbol) [0x00007FF640A6B099]\n",
      "\t(No symbol) [0x00007FF6409286B9]\n",
      "\t(No symbol) [0x00007FF6409798B2]\n",
      "\t(No symbol) [0x00007FF64096C281]\n",
      "\t(No symbol) [0x00007FF64099D10A]\n",
      "\t(No symbol) [0x00007FF64096BBA6]\n",
      "\t(No symbol) [0x00007FF64099D320]\n",
      "\t(No symbol) [0x00007FF6409BCA80]\n",
      "\t(No symbol) [0x00007FF64099CEB3]\n",
      "\t(No symbol) [0x00007FF64096A46B]\n",
      "\t(No symbol) [0x00007FF64096B001]\n",
      "\tGetHandleVerifier [0x00007FF640DF9FFD+3202381]\n",
      "\tGetHandleVerifier [0x00007FF640E46A1D+3516269]\n",
      "\tGetHandleVerifier [0x00007FF640E3C490+3473888]\n",
      "\tGetHandleVerifier [0x00007FF640BA5D36+760454]\n",
      "\t(No symbol) [0x00007FF640A76B3F]\n",
      "\t(No symbol) [0x00007FF640A71CD4]\n",
      "\t(No symbol) [0x00007FF640A71E62]\n",
      "\t(No symbol) [0x00007FF640A6120F]\n",
      "\tBaseThreadInitThunk [0x00007FFCB7EA257D+29]\n",
      "\tRtlUserThreadStart [0x00007FFCB9CAAA48+40]\n",
      "\n",
      "설명: #busan #kangdaniel\n"
     ]
    },
    {
     "name": "stderr",
     "output_type": "stream",
     "text": [
      "Processing Links:  83%|████████▎ | 64/77 [21:52<04:11, 19.38s/link]"
     ]
    },
    {
     "name": "stdout",
     "output_type": "stream",
     "text": [
      "버튼 없음: Message: no such element: Unable to locate element: {\"method\":\"css selector\",\"selector\":\"yt-formatted-string.more-button.style-scope.ytd-expandable-video-description-body-renderer\"}\n",
      "  (Session info: chrome=126.0.6478.63); For documentation on this error, please visit: https://www.selenium.dev/documentation/webdriver/troubleshooting/errors#no-such-element-exception\n",
      "Stacktrace:\n",
      "\tGetHandleVerifier [0x00007FF640AF3E32+31618]\n",
      "\t(No symbol) [0x00007FF640A6B099]\n",
      "\t(No symbol) [0x00007FF64092888A]\n",
      "\t(No symbol) [0x00007FF640978524]\n",
      "\t(No symbol) [0x00007FF64097862C]\n",
      "\t(No symbol) [0x00007FF6409BF787]\n",
      "\t(No symbol) [0x00007FF64099D14F]\n",
      "\t(No symbol) [0x00007FF6409BCA80]\n",
      "\t(No symbol) [0x00007FF64099CEB3]\n",
      "\t(No symbol) [0x00007FF64096A46B]\n",
      "\t(No symbol) [0x00007FF64096B001]\n",
      "\tGetHandleVerifier [0x00007FF640DF9FFD+3202381]\n",
      "\tGetHandleVerifier [0x00007FF640E46A1D+3516269]\n",
      "\tGetHandleVerifier [0x00007FF640E3C490+3473888]\n",
      "\tGetHandleVerifier [0x00007FF640BA5D36+760454]\n",
      "\t(No symbol) [0x00007FF640A76B3F]\n",
      "\t(No symbol) [0x00007FF640A71CD4]\n",
      "\t(No symbol) [0x00007FF640A71E62]\n",
      "\t(No symbol) [0x00007FF640A6120F]\n",
      "\tBaseThreadInitThunk [0x00007FFCB7EA257D+29]\n",
      "\tRtlUserThreadStart [0x00007FFCB9CAAA48+40]\n",
      "\n",
      "설명: Oh My Girl member looks like Jun JiHyun during the Busan One Asia Festival 2023 #ohmygirl #junjihyun\n"
     ]
    },
    {
     "name": "stderr",
     "output_type": "stream",
     "text": [
      "Processing Links:  84%|████████▍ | 65/77 [22:12<03:53, 19.45s/link]"
     ]
    },
    {
     "name": "stdout",
     "output_type": "stream",
     "text": [
      "버튼 없음: Message: no such element: Unable to locate element: {\"method\":\"css selector\",\"selector\":\"yt-formatted-string.more-button.style-scope.ytd-expandable-video-description-body-renderer\"}\n",
      "  (Session info: chrome=126.0.6478.63); For documentation on this error, please visit: https://www.selenium.dev/documentation/webdriver/troubleshooting/errors#no-such-element-exception\n",
      "Stacktrace:\n",
      "\tGetHandleVerifier [0x00007FF640AF3E32+31618]\n",
      "\t(No symbol) [0x00007FF640A6B099]\n",
      "\t(No symbol) [0x00007FF64092888A]\n",
      "\t(No symbol) [0x00007FF640978524]\n",
      "\t(No symbol) [0x00007FF64097862C]\n",
      "\t(No symbol) [0x00007FF6409BF787]\n",
      "\t(No symbol) [0x00007FF64099D14F]\n",
      "\t(No symbol) [0x00007FF6409BCA80]\n",
      "\t(No symbol) [0x00007FF64099CEB3]\n",
      "\t(No symbol) [0x00007FF64096A46B]\n",
      "\t(No symbol) [0x00007FF64096B001]\n",
      "\tGetHandleVerifier [0x00007FF640DF9FFD+3202381]\n",
      "\tGetHandleVerifier [0x00007FF640E46A1D+3516269]\n",
      "\tGetHandleVerifier [0x00007FF640E3C490+3473888]\n",
      "\tGetHandleVerifier [0x00007FF640BA5D36+760454]\n",
      "\t(No symbol) [0x00007FF640A76B3F]\n",
      "\t(No symbol) [0x00007FF640A71CD4]\n",
      "\t(No symbol) [0x00007FF640A71E62]\n",
      "\t(No symbol) [0x00007FF640A6120F]\n",
      "\tBaseThreadInitThunk [0x00007FFCB7EA257D+29]\n",
      "\tRtlUserThreadStart [0x00007FFCB9CAAA48+40]\n",
      "\n",
      "설명: Busan One Asia Festival #god #busan #asiancity #busanstadium #kpop #kpopshorts\n"
     ]
    },
    {
     "name": "stderr",
     "output_type": "stream",
     "text": [
      "Processing Links:  86%|████████▌ | 66/77 [22:31<03:34, 19.53s/link]"
     ]
    },
    {
     "name": "stdout",
     "output_type": "stream",
     "text": [
      "버튼 없음: Message: no such element: Unable to locate element: {\"method\":\"css selector\",\"selector\":\"yt-formatted-string.more-button.style-scope.ytd-expandable-video-description-body-renderer\"}\n",
      "  (Session info: chrome=126.0.6478.63); For documentation on this error, please visit: https://www.selenium.dev/documentation/webdriver/troubleshooting/errors#no-such-element-exception\n",
      "Stacktrace:\n",
      "\tGetHandleVerifier [0x00007FF640AF3E32+31618]\n",
      "\t(No symbol) [0x00007FF640A6B099]\n",
      "\t(No symbol) [0x00007FF64092888A]\n",
      "\t(No symbol) [0x00007FF640978524]\n",
      "\t(No symbol) [0x00007FF64097862C]\n",
      "\t(No symbol) [0x00007FF6409BF787]\n",
      "\t(No symbol) [0x00007FF64099D14F]\n",
      "\t(No symbol) [0x00007FF6409BCA80]\n",
      "\t(No symbol) [0x00007FF64099CEB3]\n",
      "\t(No symbol) [0x00007FF64096A46B]\n",
      "\t(No symbol) [0x00007FF64096B001]\n",
      "\tGetHandleVerifier [0x00007FF640DF9FFD+3202381]\n",
      "\tGetHandleVerifier [0x00007FF640E46A1D+3516269]\n",
      "\tGetHandleVerifier [0x00007FF640E3C490+3473888]\n",
      "\tGetHandleVerifier [0x00007FF640BA5D36+760454]\n",
      "\t(No symbol) [0x00007FF640A76B3F]\n",
      "\t(No symbol) [0x00007FF640A71CD4]\n",
      "\t(No symbol) [0x00007FF640A71E62]\n",
      "\t(No symbol) [0x00007FF640A6120F]\n",
      "\tBaseThreadInitThunk [0x00007FFCB7EA257D+29]\n",
      "\tRtlUserThreadStart [0x00007FFCB9CAAA48+40]\n",
      "\n",
      "설명: 설명 텍스트가 없습니다.\n"
     ]
    },
    {
     "name": "stderr",
     "output_type": "stream",
     "text": [
      "Processing Links:  87%|████████▋ | 67/77 [23:11<04:15, 25.55s/link]"
     ]
    },
    {
     "name": "stdout",
     "output_type": "stream",
     "text": [
      "버튼 없음: Message: no such element: Unable to locate element: {\"method\":\"css selector\",\"selector\":\"yt-formatted-string.more-button.style-scope.ytd-expandable-video-description-body-renderer\"}\n",
      "  (Session info: chrome=126.0.6478.63); For documentation on this error, please visit: https://www.selenium.dev/documentation/webdriver/troubleshooting/errors#no-such-element-exception\n",
      "Stacktrace:\n",
      "\tGetHandleVerifier [0x00007FF640AF3E32+31618]\n",
      "\t(No symbol) [0x00007FF640A6B099]\n",
      "\t(No symbol) [0x00007FF64092888A]\n",
      "\t(No symbol) [0x00007FF640978524]\n",
      "\t(No symbol) [0x00007FF64097862C]\n",
      "\t(No symbol) [0x00007FF6409BF787]\n",
      "\t(No symbol) [0x00007FF64099D14F]\n",
      "\t(No symbol) [0x00007FF6409BCA80]\n",
      "\t(No symbol) [0x00007FF64099CEB3]\n",
      "\t(No symbol) [0x00007FF64096A46B]\n",
      "\t(No symbol) [0x00007FF64096B001]\n",
      "\tGetHandleVerifier [0x00007FF640DF9FFD+3202381]\n",
      "\tGetHandleVerifier [0x00007FF640E46A1D+3516269]\n",
      "\tGetHandleVerifier [0x00007FF640E3C490+3473888]\n",
      "\tGetHandleVerifier [0x00007FF640BA5D36+760454]\n",
      "\t(No symbol) [0x00007FF640A76B3F]\n",
      "\t(No symbol) [0x00007FF640A71CD4]\n",
      "\t(No symbol) [0x00007FF640A71E62]\n",
      "\t(No symbol) [0x00007FF640A6120F]\n",
      "\tBaseThreadInitThunk [0x00007FFCB7EA257D+29]\n",
      "\tRtlUserThreadStart [0x00007FFCB9CAAA48+40]\n",
      "\n",
      "설명: IKON at BOAF 2017\n"
     ]
    },
    {
     "name": "stderr",
     "output_type": "stream",
     "text": [
      "Processing Links:  88%|████████▊ | 68/77 [23:32<03:37, 24.14s/link]"
     ]
    },
    {
     "name": "stdout",
     "output_type": "stream",
     "text": [
      "버튼 없음: Message: element not interactable\n",
      "  (Session info: chrome=126.0.6478.63)\n",
      "Stacktrace:\n",
      "\tGetHandleVerifier [0x00007FF640AF3E32+31618]\n",
      "\t(No symbol) [0x00007FF640A6B099]\n",
      "\t(No symbol) [0x00007FF6409286B9]\n",
      "\t(No symbol) [0x00007FF6409798B2]\n",
      "\t(No symbol) [0x00007FF64096C281]\n",
      "\t(No symbol) [0x00007FF64099D10A]\n",
      "\t(No symbol) [0x00007FF64096BBA6]\n",
      "\t(No symbol) [0x00007FF64099D320]\n",
      "\t(No symbol) [0x00007FF6409BCA80]\n",
      "\t(No symbol) [0x00007FF64099CEB3]\n",
      "\t(No symbol) [0x00007FF64096A46B]\n",
      "\t(No symbol) [0x00007FF64096B001]\n",
      "\tGetHandleVerifier [0x00007FF640DF9FFD+3202381]\n",
      "\tGetHandleVerifier [0x00007FF640E46A1D+3516269]\n",
      "\tGetHandleVerifier [0x00007FF640E3C490+3473888]\n",
      "\tGetHandleVerifier [0x00007FF640BA5D36+760454]\n",
      "\t(No symbol) [0x00007FF640A76B3F]\n",
      "\t(No symbol) [0x00007FF640A71CD4]\n",
      "\t(No symbol) [0x00007FF640A71E62]\n",
      "\t(No symbol) [0x00007FF640A6120F]\n",
      "\tBaseThreadInitThunk [0x00007FFCB7EA257D+29]\n",
      "\tRtlUserThreadStart [0x00007FFCB9CAAA48+40]\n",
      "\n",
      "설명: XODIAC MASUK LINE UP BUSAN ONE ASIA FESTIVAL #xodiac #busan #one #asia #festival #oktober2023  #2023 \n",
      "\n",
      "link : https://www.instagram.com/p/Cvy-tqmJuA2/?igshid=MzRlODBiNWFlZA==\n"
     ]
    },
    {
     "name": "stderr",
     "output_type": "stream",
     "text": [
      "Processing Links:  90%|████████▉ | 69/77 [23:52<03:02, 22.81s/link]"
     ]
    },
    {
     "name": "stdout",
     "output_type": "stream",
     "text": [
      "버튼 없음: Message: no such element: Unable to locate element: {\"method\":\"css selector\",\"selector\":\"yt-formatted-string.more-button.style-scope.ytd-expandable-video-description-body-renderer\"}\n",
      "  (Session info: chrome=126.0.6478.63); For documentation on this error, please visit: https://www.selenium.dev/documentation/webdriver/troubleshooting/errors#no-such-element-exception\n",
      "Stacktrace:\n",
      "\tGetHandleVerifier [0x00007FF640AF3E32+31618]\n",
      "\t(No symbol) [0x00007FF640A6B099]\n",
      "\t(No symbol) [0x00007FF64092888A]\n",
      "\t(No symbol) [0x00007FF640978524]\n",
      "\t(No symbol) [0x00007FF64097862C]\n",
      "\t(No symbol) [0x00007FF6409BF787]\n",
      "\t(No symbol) [0x00007FF64099D14F]\n",
      "\t(No symbol) [0x00007FF6409BCA80]\n",
      "\t(No symbol) [0x00007FF64099CEB3]\n",
      "\t(No symbol) [0x00007FF64096A46B]\n",
      "\t(No symbol) [0x00007FF64096B001]\n",
      "\tGetHandleVerifier [0x00007FF640DF9FFD+3202381]\n",
      "\tGetHandleVerifier [0x00007FF640E46A1D+3516269]\n",
      "\tGetHandleVerifier [0x00007FF640E3C490+3473888]\n",
      "\tGetHandleVerifier [0x00007FF640BA5D36+760454]\n",
      "\t(No symbol) [0x00007FF640A76B3F]\n",
      "\t(No symbol) [0x00007FF640A71CD4]\n",
      "\t(No symbol) [0x00007FF640A71E62]\n",
      "\t(No symbol) [0x00007FF640A6120F]\n",
      "\tBaseThreadInitThunk [0x00007FFCB7EA257D+29]\n",
      "\tRtlUserThreadStart [0x00007FFCB9CAAA48+40]\n",
      "\n",
      "설명: 부산 원아시아 페스티벌 멜로망스_선물\n"
     ]
    },
    {
     "name": "stderr",
     "output_type": "stream",
     "text": [
      "Processing Links:  91%|█████████ | 70/77 [24:12<02:34, 22.02s/link]"
     ]
    },
    {
     "name": "stdout",
     "output_type": "stream",
     "text": [
      "버튼 없음: Message: no such element: Unable to locate element: {\"method\":\"css selector\",\"selector\":\"yt-formatted-string.more-button.style-scope.ytd-expandable-video-description-body-renderer\"}\n",
      "  (Session info: chrome=126.0.6478.63); For documentation on this error, please visit: https://www.selenium.dev/documentation/webdriver/troubleshooting/errors#no-such-element-exception\n",
      "Stacktrace:\n",
      "\tGetHandleVerifier [0x00007FF640AF3E32+31618]\n",
      "\t(No symbol) [0x00007FF640A6B099]\n",
      "\t(No symbol) [0x00007FF64092888A]\n",
      "\t(No symbol) [0x00007FF640978524]\n",
      "\t(No symbol) [0x00007FF64097862C]\n",
      "\t(No symbol) [0x00007FF6409BF787]\n",
      "\t(No symbol) [0x00007FF64099D14F]\n",
      "\t(No symbol) [0x00007FF6409BCA80]\n",
      "\t(No symbol) [0x00007FF64099CEB3]\n",
      "\t(No symbol) [0x00007FF64096A46B]\n",
      "\t(No symbol) [0x00007FF64096B001]\n",
      "\tGetHandleVerifier [0x00007FF640DF9FFD+3202381]\n",
      "\tGetHandleVerifier [0x00007FF640E46A1D+3516269]\n",
      "\tGetHandleVerifier [0x00007FF640E3C490+3473888]\n",
      "\tGetHandleVerifier [0x00007FF640BA5D36+760454]\n",
      "\t(No symbol) [0x00007FF640A76B3F]\n",
      "\t(No symbol) [0x00007FF640A71CD4]\n",
      "\t(No symbol) [0x00007FF640A71E62]\n",
      "\t(No symbol) [0x00007FF640A6120F]\n",
      "\tBaseThreadInitThunk [0x00007FFCB7EA257D+29]\n",
      "\tRtlUserThreadStart [0x00007FFCB9CAAA48+40]\n",
      "\n",
      "설명: 설명 텍스트가 없습니다.\n"
     ]
    },
    {
     "name": "stderr",
     "output_type": "stream",
     "text": [
      "Processing Links:  92%|█████████▏| 71/77 [24:52<02:44, 27.38s/link]"
     ]
    },
    {
     "name": "stdout",
     "output_type": "stream",
     "text": [
      "버튼 없음: Message: no such element: Unable to locate element: {\"method\":\"css selector\",\"selector\":\"yt-formatted-string.more-button.style-scope.ytd-expandable-video-description-body-renderer\"}\n",
      "  (Session info: chrome=126.0.6478.63); For documentation on this error, please visit: https://www.selenium.dev/documentation/webdriver/troubleshooting/errors#no-such-element-exception\n",
      "Stacktrace:\n",
      "\tGetHandleVerifier [0x00007FF640AF3E32+31618]\n",
      "\t(No symbol) [0x00007FF640A6B099]\n",
      "\t(No symbol) [0x00007FF64092888A]\n",
      "\t(No symbol) [0x00007FF640978524]\n",
      "\t(No symbol) [0x00007FF64097862C]\n",
      "\t(No symbol) [0x00007FF6409BF787]\n",
      "\t(No symbol) [0x00007FF64099D14F]\n",
      "\t(No symbol) [0x00007FF6409BCA80]\n",
      "\t(No symbol) [0x00007FF64099CEB3]\n",
      "\t(No symbol) [0x00007FF64096A46B]\n",
      "\t(No symbol) [0x00007FF64096B001]\n",
      "\tGetHandleVerifier [0x00007FF640DF9FFD+3202381]\n",
      "\tGetHandleVerifier [0x00007FF640E46A1D+3516269]\n",
      "\tGetHandleVerifier [0x00007FF640E3C490+3473888]\n",
      "\tGetHandleVerifier [0x00007FF640BA5D36+760454]\n",
      "\t(No symbol) [0x00007FF640A76B3F]\n",
      "\t(No symbol) [0x00007FF640A71CD4]\n",
      "\t(No symbol) [0x00007FF640A71E62]\n",
      "\t(No symbol) [0x00007FF640A6120F]\n",
      "\tBaseThreadInitThunk [0x00007FFCB7EA257D+29]\n",
      "\tRtlUserThreadStart [0x00007FFCB9CAAA48+40]\n",
      "\n",
      "설명: GOT7 - never ever/ BOAF 2017\n"
     ]
    },
    {
     "name": "stderr",
     "output_type": "stream",
     "text": [
      "Processing Links:  94%|█████████▎| 72/77 [25:11<02:05, 25.11s/link]"
     ]
    },
    {
     "name": "stdout",
     "output_type": "stream",
     "text": [
      "버튼 없음: Message: element not interactable\n",
      "  (Session info: chrome=126.0.6478.63)\n",
      "Stacktrace:\n",
      "\tGetHandleVerifier [0x00007FF640AF3E32+31618]\n",
      "\t(No symbol) [0x00007FF640A6B099]\n",
      "\t(No symbol) [0x00007FF6409286B9]\n",
      "\t(No symbol) [0x00007FF6409798B2]\n",
      "\t(No symbol) [0x00007FF64096C281]\n",
      "\t(No symbol) [0x00007FF64099D10A]\n",
      "\t(No symbol) [0x00007FF64096BBA6]\n",
      "\t(No symbol) [0x00007FF64099D320]\n",
      "\t(No symbol) [0x00007FF6409BCA80]\n",
      "\t(No symbol) [0x00007FF64099CEB3]\n",
      "\t(No symbol) [0x00007FF64096A46B]\n",
      "\t(No symbol) [0x00007FF64096B001]\n",
      "\tGetHandleVerifier [0x00007FF640DF9FFD+3202381]\n",
      "\tGetHandleVerifier [0x00007FF640E46A1D+3516269]\n",
      "\tGetHandleVerifier [0x00007FF640E3C490+3473888]\n",
      "\tGetHandleVerifier [0x00007FF640BA5D36+760454]\n",
      "\t(No symbol) [0x00007FF640A76B3F]\n",
      "\t(No symbol) [0x00007FF640A71CD4]\n",
      "\t(No symbol) [0x00007FF640A71E62]\n",
      "\t(No symbol) [0x00007FF640A6120F]\n",
      "\tBaseThreadInitThunk [0x00007FFCB7EA257D+29]\n",
      "\tRtlUserThreadStart [0x00007FFCB9CAAA48+40]\n",
      "\n",
      "설명: 2023.10.21\n",
      "부산 원아시아 페스티벌 \n",
      "Busan One Asia Festival (BOF)\n",
      "부산 아시아드 주경기장\n",
      "\n",
      "#오마이걸 #OHMYGIRL #승희\n"
     ]
    },
    {
     "name": "stderr",
     "output_type": "stream",
     "text": [
      "Processing Links:  95%|█████████▍| 73/77 [25:31<01:33, 23.47s/link]"
     ]
    },
    {
     "name": "stdout",
     "output_type": "stream",
     "text": [
      "설명: OPPA LEE DONGHAE BUSAN BOF FESTIVAL #동해 #DONGHAE 08-06-2024\n",
      "\n",
      "240608 부산 원아페 동해 엔딩 \n",
      "\n",
      "이 웃음을 보고 행복해질수밖에 없죠 \n",
      "나의 최고의 아티스트 🫶\n",
      "\n",
      "#동해 #DONGHAE \n",
      "#SUPERJUNIOR_DNE \n",
      "#슈퍼주니어_DnE\n",
      "\n",
      "#슈퍼주니어 #SUPERJUNIOR \n",
      "#슈퍼주니어DnE #SUPERJUNIORDnE \n",
      "#DnE #슈퍼주니어_DnE #SUPERJUNIOR_DNE \n",
      "#동해 #DONGHAE \n",
      "\n",
      "#동해 #DONGHAE \n",
      "\n",
      "#동해 #DONGHAE \n",
      "#leedonghae\n",
      "\n",
      "\n",
      "\n",
      "Cr. Tiffany\n"
     ]
    },
    {
     "name": "stderr",
     "output_type": "stream",
     "text": [
      "Processing Links:  96%|█████████▌| 74/77 [25:43<00:59, 19.92s/link]"
     ]
    },
    {
     "name": "stdout",
     "output_type": "stream",
     "text": [
      "버튼 없음: Message: element not interactable\n",
      "  (Session info: chrome=126.0.6478.63)\n",
      "Stacktrace:\n",
      "\tGetHandleVerifier [0x00007FF640AF3E32+31618]\n",
      "\t(No symbol) [0x00007FF640A6B099]\n",
      "\t(No symbol) [0x00007FF6409286B9]\n",
      "\t(No symbol) [0x00007FF6409798B2]\n",
      "\t(No symbol) [0x00007FF64096C281]\n",
      "\t(No symbol) [0x00007FF64099D10A]\n",
      "\t(No symbol) [0x00007FF64096BBA6]\n",
      "\t(No symbol) [0x00007FF64099D320]\n",
      "\t(No symbol) [0x00007FF6409BCA80]\n",
      "\t(No symbol) [0x00007FF64099CEB3]\n",
      "\t(No symbol) [0x00007FF64096A46B]\n",
      "\t(No symbol) [0x00007FF64096B001]\n",
      "\tGetHandleVerifier [0x00007FF640DF9FFD+3202381]\n",
      "\tGetHandleVerifier [0x00007FF640E46A1D+3516269]\n",
      "\tGetHandleVerifier [0x00007FF640E3C490+3473888]\n",
      "\tGetHandleVerifier [0x00007FF640BA5D36+760454]\n",
      "\t(No symbol) [0x00007FF640A76B3F]\n",
      "\t(No symbol) [0x00007FF640A71CD4]\n",
      "\t(No symbol) [0x00007FF640A71E62]\n",
      "\t(No symbol) [0x00007FF640A6120F]\n",
      "\tBaseThreadInitThunk [0x00007FFCB7EA257D+29]\n",
      "\tRtlUserThreadStart [0x00007FFCB9CAAA48+40]\n",
      "\n",
      "설명: Xodiac comeback stage only fun\n"
     ]
    },
    {
     "name": "stderr",
     "output_type": "stream",
     "text": [
      "Processing Links:  97%|█████████▋| 75/77 [26:02<00:39, 19.83s/link]"
     ]
    },
    {
     "name": "stdout",
     "output_type": "stream",
     "text": [
      "버튼 없음: Message: no such element: Unable to locate element: {\"method\":\"css selector\",\"selector\":\"yt-formatted-string.more-button.style-scope.ytd-expandable-video-description-body-renderer\"}\n",
      "  (Session info: chrome=126.0.6478.63); For documentation on this error, please visit: https://www.selenium.dev/documentation/webdriver/troubleshooting/errors#no-such-element-exception\n",
      "Stacktrace:\n",
      "\tGetHandleVerifier [0x00007FF640AF3E32+31618]\n",
      "\t(No symbol) [0x00007FF640A6B099]\n",
      "\t(No symbol) [0x00007FF64092888A]\n",
      "\t(No symbol) [0x00007FF640978524]\n",
      "\t(No symbol) [0x00007FF64097862C]\n",
      "\t(No symbol) [0x00007FF6409BF787]\n",
      "\t(No symbol) [0x00007FF64099D14F]\n",
      "\t(No symbol) [0x00007FF6409BCA80]\n",
      "\t(No symbol) [0x00007FF64099CEB3]\n",
      "\t(No symbol) [0x00007FF64096A46B]\n",
      "\t(No symbol) [0x00007FF64096B001]\n",
      "\tGetHandleVerifier [0x00007FF640DF9FFD+3202381]\n",
      "\tGetHandleVerifier [0x00007FF640E46A1D+3516269]\n",
      "\tGetHandleVerifier [0x00007FF640E3C490+3473888]\n",
      "\tGetHandleVerifier [0x00007FF640BA5D36+760454]\n",
      "\t(No symbol) [0x00007FF640A76B3F]\n",
      "\t(No symbol) [0x00007FF640A71CD4]\n",
      "\t(No symbol) [0x00007FF640A71E62]\n",
      "\t(No symbol) [0x00007FF640A6120F]\n",
      "\tBaseThreadInitThunk [0x00007FFCB7EA257D+29]\n",
      "\tRtlUserThreadStart [0x00007FFCB9CAAA48+40]\n",
      "\n",
      "설명: Jenlisa so sweet in BOF Festival #blackpink #jennie #lisa\n"
     ]
    },
    {
     "name": "stderr",
     "output_type": "stream",
     "text": [
      "Processing Links:  99%|█████████▊| 76/77 [26:22<00:19, 19.78s/link]"
     ]
    },
    {
     "name": "stdout",
     "output_type": "stream",
     "text": [
      "버튼 없음: Message: no such element: Unable to locate element: {\"method\":\"css selector\",\"selector\":\"yt-formatted-string.more-button.style-scope.ytd-expandable-video-description-body-renderer\"}\n",
      "  (Session info: chrome=126.0.6478.63); For documentation on this error, please visit: https://www.selenium.dev/documentation/webdriver/troubleshooting/errors#no-such-element-exception\n",
      "Stacktrace:\n",
      "\tGetHandleVerifier [0x00007FF640AF3E32+31618]\n",
      "\t(No symbol) [0x00007FF640A6B099]\n",
      "\t(No symbol) [0x00007FF64092888A]\n",
      "\t(No symbol) [0x00007FF640978524]\n",
      "\t(No symbol) [0x00007FF64097862C]\n",
      "\t(No symbol) [0x00007FF6409BF787]\n",
      "\t(No symbol) [0x00007FF64099D14F]\n",
      "\t(No symbol) [0x00007FF6409BCA80]\n",
      "\t(No symbol) [0x00007FF64099CEB3]\n",
      "\t(No symbol) [0x00007FF64096A46B]\n",
      "\t(No symbol) [0x00007FF64096B001]\n",
      "\tGetHandleVerifier [0x00007FF640DF9FFD+3202381]\n",
      "\tGetHandleVerifier [0x00007FF640E46A1D+3516269]\n",
      "\tGetHandleVerifier [0x00007FF640E3C490+3473888]\n",
      "\tGetHandleVerifier [0x00007FF640BA5D36+760454]\n",
      "\t(No symbol) [0x00007FF640A76B3F]\n",
      "\t(No symbol) [0x00007FF640A71CD4]\n",
      "\t(No symbol) [0x00007FF640A71E62]\n",
      "\t(No symbol) [0x00007FF640A6120F]\n",
      "\tBaseThreadInitThunk [0x00007FFCB7EA257D+29]\n",
      "\tRtlUserThreadStart [0x00007FFCB9CAAA48+40]\n",
      "\n",
      "설명: NOWDAYS PERFORMED IN BUSAN ONE ASIA FESTIVAL #kpop #nowadays #busankorea\n"
     ]
    },
    {
     "name": "stderr",
     "output_type": "stream",
     "text": [
      "Processing Links: 100%|██████████| 77/77 [26:42<00:00, 20.81s/link]\n"
     ]
    }
   ],
   "source": [
    "for data in tqdm(data_list1, desc=\"Processing Links\", unit=\"link\"):\n",
    "    url = data['URL']\n",
    "    process_link(url)\n",
    "\n",
    "client.close()\n",
    "driver.quit()"
   ]
  }
 ],
 "metadata": {
  "kernelspec": {
   "display_name": "Python 3",
   "language": "python",
   "name": "python3"
  },
  "language_info": {
   "codemirror_mode": {
    "name": "ipython",
    "version": 3
   },
   "file_extension": ".py",
   "mimetype": "text/x-python",
   "name": "python",
   "nbconvert_exporter": "python",
   "pygments_lexer": "ipython3",
   "version": "3.11.4"
  }
 },
 "nbformat": 4,
 "nbformat_minor": 2
}
