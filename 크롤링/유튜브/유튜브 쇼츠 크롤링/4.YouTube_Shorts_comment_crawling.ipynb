{
 "cells": [
  {
   "cell_type": "code",
   "execution_count": 9,
   "metadata": {},
   "outputs": [],
   "source": [
    "from selenium import webdriver\n",
    "from selenium.webdriver.common.keys import Keys\n",
    "from selenium.webdriver.common.by import By\n",
    "from selenium.webdriver.support.ui import WebDriverWait\n",
    "from selenium.webdriver.support import expected_conditions as EC\n",
    "from selenium.webdriver.common.action_chains import ActionChains\n",
    "from selenium.common.exceptions import NoSuchElementException\n",
    "from selenium.common.exceptions import TimeoutException\n",
    "from pytube import YouTube\n",
    "from pymongo import MongoClient\n",
    "from tqdm import tqdm\n",
    "import time\n",
    "import datetime\n",
    "import copy"
   ]
  },
  {
   "cell_type": "code",
   "execution_count": 10,
   "metadata": {},
   "outputs": [],
   "source": [
    "# MongoDB 클라이언트 및 컬렉션 설정\n",
    "client = MongoClient(host=\"\", port=, username='', password='')\n",
    "db = client['YouTube_crawling']\n",
    "collection = db['OneAsia_YouTube_shorts_crawling']\n",
    "data_list = list(collection.find({\"검색키워드\" : \"Busan One Asia Festival\"}, {\"_id\": 1, \"URL\": 1}))"
   ]
  },
  {
   "cell_type": "code",
   "execution_count": 11,
   "metadata": {},
   "outputs": [],
   "source": [
    "data_list1 = copy.deepcopy(data_list)"
   ]
  },
  {
   "cell_type": "code",
   "execution_count": 12,
   "metadata": {},
   "outputs": [],
   "source": [
    "driver = webdriver.Chrome()"
   ]
  },
  {
   "cell_type": "code",
   "execution_count": 13,
   "metadata": {},
   "outputs": [],
   "source": [
    "# 날짜 데이터 변환 (유튜브 댓글은 정확한 작성일자를 알 수 없음, 임의로 지정 ex) 1일전 ~ 13일전, 2주전 ~ 3주전... 등 오늘 날짜에서 해당 날짜를 (-), 시간, 분, 초의 경우 오늘 날짜를 할당)\n",
    "def convert_published_time(published_time):\n",
    "    current_date = datetime.datetime.now()\n",
    "\n",
    "    if \"주\" in published_time:\n",
    "        time_unit = int(published_time.split(\"주\")[0])\n",
    "        delta = current_date - datetime.timedelta(weeks=time_unit)\n",
    "    elif \"개월\" in published_time:\n",
    "        time_unit = int(published_time.split(\"개월\")[0])\n",
    "        delta = current_date - datetime.timedelta(days=30 * time_unit)\n",
    "    elif \"년\" in published_time:\n",
    "        time_unit = int(published_time.split(\"년\")[0])\n",
    "        delta = current_date - datetime.timedelta(days=365 * time_unit)\n",
    "    elif \"시간\" in published_time:\n",
    "        time_unit = int(published_time.split(\"시간\")[0])\n",
    "        delta = current_date - datetime.timedelta(hours=time_unit)\n",
    "    elif \"분\" in published_time:\n",
    "        time_unit = int(published_time.split(\"분\")[0])\n",
    "        delta = current_date - datetime.timedelta(minutes=time_unit)\n",
    "    elif \"초\" in published_time:\n",
    "        return current_date.strftime(\"%Y-%m-%d\")\n",
    "    else:\n",
    "        # 1일부터 13일 전까지는 해당 일 수를 현재 날짜에서 (-)\n",
    "        if \"일\" in published_time:\n",
    "            time_unit = int(published_time.split(\"일\")[0])\n",
    "            delta = current_date - datetime.timedelta(days=time_unit)\n",
    "            return delta.strftime(\"%Y-%m-%d\")\n",
    "\n",
    "    return delta.strftime(\"%Y-%m-%d\")"
   ]
  },
  {
   "cell_type": "code",
   "execution_count": 14,
   "metadata": {},
   "outputs": [],
   "source": [
    "# 좋아요 개수를 변환 (ex) 1.3천 → 1300, 1.3만 → 13000 형식으로 변환)\n",
    "def convert_like_count(like_count_text):\n",
    "    if not like_count_text:\n",
    "        return 0\n",
    "    \n",
    "    if '천' in like_count_text:\n",
    "        multiplier = 1000\n",
    "        like_count_text = like_count_text.replace('천', '').strip()\n",
    "        like_count = int(float(like_count_text) * multiplier)\n",
    "    elif '만' in like_count_text:\n",
    "        multiplier = 10000\n",
    "        like_count_text = like_count_text.replace('만', '').strip()\n",
    "        like_count = int(float(like_count_text) * multiplier)\n",
    "    else:\n",
    "        like_count = int(float(like_count_text))\n",
    "    return like_count"
   ]
  },
  {
   "cell_type": "code",
   "execution_count": 15,
   "metadata": {},
   "outputs": [],
   "source": [
    "def process_link(url):\n",
    "        driver.get(url)\n",
    "\n",
    "        time.sleep(3)\n",
    "\n",
    "        # 댓글 버튼 요소 찾기\n",
    "        comment_button = WebDriverWait(driver, 10).until(EC.visibility_of_element_located((By.XPATH, '//button[contains(@aria-label, \"댓글\")]')))\n",
    "        comment_button.click()\n",
    "        time.sleep(3)\n",
    "\n",
    "        # 댓글 창 내부의 스크롤 대상 요소 찾기\n",
    "        comment_section = WebDriverWait(driver, 10).until(EC.presence_of_element_located((By.CSS_SELECTOR, 'ytd-comments #contents')))\n",
    "    \n",
    "        # 맨 아래까지 스크롤\n",
    "        last_height = driver.execute_script(\"return arguments[0].scrollHeight;\", comment_section)\n",
    "        while True:\n",
    "            driver.execute_script(\"arguments[0].scrollTo(0, arguments[1]);\", comment_section, last_height)\n",
    "            time.sleep(1)\n",
    "            new_height = driver.execute_script(\"return arguments[0].scrollHeight;\", comment_section)\n",
    "            if new_height == last_height:\n",
    "                break\n",
    "            last_height = new_height\n",
    "\n",
    "        time.sleep(3)\n",
    "\n",
    "        comments = []\n",
    "\n",
    "        # 댓글 요소 찾기\n",
    "        try:\n",
    "            comment_threads = WebDriverWait(driver, 10).until(EC.presence_of_all_elements_located((By.CSS_SELECTOR, 'ytd-comment-thread-renderer')))\n",
    "        except TimeoutException:\n",
    "            # 요소가 나타나지 않을 경우 댓글 개수를 0으로 설정하고 빈 리스트를 할당\n",
    "            comment_count = 0\n",
    "            comments = []\n",
    "        else:\n",
    "            comment_count = 0\n",
    "\n",
    "            for comment_thread in tqdm(comment_threads, desc=\"댓글 수집 중\"):\n",
    "                # 사용자 이름 요소 찾기\n",
    "                user_name = \"\"\n",
    "                try:\n",
    "                    user_name_element = comment_thread.find_element(By.CSS_SELECTOR, 'a#author-text > span')\n",
    "                    user_name = user_name_element.text.strip()\n",
    "                except NoSuchElementException:\n",
    "                    pass\n",
    "\n",
    "                # 댓글 내용 가져오기\n",
    "                comment_text = \"\"\n",
    "                try:\n",
    "                    comment_text_element = comment_thread.find_element(By.CSS_SELECTOR, 'span.yt-core-attributed-string')\n",
    "                    comment_text = comment_text_element.text.strip()\n",
    "                except NoSuchElementException:\n",
    "                    pass\n",
    "\n",
    "                # 댓글 내용과 사용자 이름이 모두 공백이 아닌 경우에만 추가 (text로 변경 불가능한 이모티콘만 댓글에 작성된 경우 가져오지 않음 → 실제 댓글 개수와 차이날 수 있음)\n",
    "                if user_name.strip() and comment_text.strip():\n",
    "                    # 작성일자 요소 찾기\n",
    "                    try:\n",
    "                        date_element = comment_thread.find_element(By.CSS_SELECTOR, 'span#published-time-text')\n",
    "                        published_time = date_element.text.strip()\n",
    "                        published_time_formatted = convert_published_time(published_time)\n",
    "                    except NoSuchElementException:\n",
    "                        published_time_formatted = \"\"\n",
    "\n",
    "                    # 댓글 좋아요 요소 찾기\n",
    "                    try:\n",
    "                        like_count_element = comment_thread.find_element(By.CSS_SELECTOR, 'span#vote-count-middle')\n",
    "                        like_count_text = like_count_element.get_attribute(\"innerText\").strip()\n",
    "                        like_count = convert_like_count(like_count_text)\n",
    "                    except NoSuchElementException:\n",
    "                        like_count = 0\n",
    "\n",
    "                    comments.append({\"사용자 이름\": user_name, \"댓글 내용\": comment_text, \"작성일자\": published_time_formatted, \"댓글 좋아요\": like_count})\n",
    "                    comment_count += 1\n",
    "\n",
    "            print(f\"댓글 개수: {comment_count}\")\n",
    "\n",
    "        collection.update_one({\"URL\": url}, {\"$set\": {\n",
    "        \"댓글 개수\": comment_count,\n",
    "        \"댓글\": comments\n",
    "    }})"
   ]
  },
  {
   "cell_type": "code",
   "execution_count": 16,
   "metadata": {},
   "outputs": [
    {
     "name": "stderr",
     "output_type": "stream",
     "text": [
      "댓글 수집 중: 100%|██████████| 4/4 [00:00<00:00, 31.29it/s]k/s]\n",
      "Processing Links:   1%|▏         | 1/76 [00:11<14:48, 11.85s/link]"
     ]
    },
    {
     "name": "stdout",
     "output_type": "stream",
     "text": [
      "댓글 개수: 4\n"
     ]
    },
    {
     "name": "stderr",
     "output_type": "stream",
     "text": [
      "댓글 수집 중: 100%|██████████| 1/1 [00:00<00:00, 22.67it/s]21.83s/link]\n",
      "Processing Links:   8%|▊         | 6/76 [01:55<21:47, 18.69s/link]"
     ]
    },
    {
     "name": "stdout",
     "output_type": "stream",
     "text": [
      "댓글 개수: 1\n"
     ]
    },
    {
     "name": "stderr",
     "output_type": "stream",
     "text": [
      "댓글 수집 중: 100%|██████████| 1/1 [00:00<00:00, 22.05it/s]19.92s/link]\n",
      "Processing Links:  11%|█         | 8/76 [02:29<19:46, 17.45s/link]"
     ]
    },
    {
     "name": "stdout",
     "output_type": "stream",
     "text": [
      "댓글 개수: 1\n"
     ]
    },
    {
     "name": "stderr",
     "output_type": "stream",
     "text": [
      "댓글 수집 중: 100%|██████████| 1/1 [00:00<00:00, 32.61it/s]\n",
      "Processing Links:  12%|█▏        | 9/76 [02:42<17:42, 15.86s/link]"
     ]
    },
    {
     "name": "stdout",
     "output_type": "stream",
     "text": [
      "댓글 개수: 1\n"
     ]
    },
    {
     "name": "stderr",
     "output_type": "stream",
     "text": [
      "댓글 수집 중: 100%|██████████| 1/1 [00:00<00:00, 31.54it/s]\n",
      "Processing Links:  13%|█▎        | 10/76 [02:54<16:20, 14.85s/link]"
     ]
    },
    {
     "name": "stdout",
     "output_type": "stream",
     "text": [
      "댓글 개수: 1\n"
     ]
    },
    {
     "name": "stderr",
     "output_type": "stream",
     "text": [
      "댓글 수집 중: 100%|██████████| 1/1 [00:00<00:00, 22.19it/s] 18.69s/link]\n",
      "Processing Links:  17%|█▋        | 13/76 [03:51<17:37, 16.79s/link]"
     ]
    },
    {
     "name": "stdout",
     "output_type": "stream",
     "text": [
      "댓글 개수: 1\n"
     ]
    },
    {
     "name": "stderr",
     "output_type": "stream",
     "text": [
      "댓글 수집 중: 100%|██████████| 1/1 [00:00<00:00, 29.64it/s]\n",
      "Processing Links:  18%|█▊        | 14/76 [04:03<15:49, 15.31s/link]"
     ]
    },
    {
     "name": "stdout",
     "output_type": "stream",
     "text": [
      "댓글 개수: 1\n"
     ]
    },
    {
     "name": "stderr",
     "output_type": "stream",
     "text": [
      "댓글 수집 중: 100%|██████████| 2/2 [00:00<00:00, 32.98it/s]\n",
      "Processing Links:  20%|█▉        | 15/76 [04:16<14:42, 14.47s/link]"
     ]
    },
    {
     "name": "stdout",
     "output_type": "stream",
     "text": [
      "댓글 개수: 2\n"
     ]
    },
    {
     "name": "stderr",
     "output_type": "stream",
     "text": [
      "댓글 수집 중: 100%|██████████| 2/2 [00:00<00:00, 42.41it/s] 16.84s/link]\n",
      "Processing Links:  22%|██▏       | 17/76 [04:50<15:03, 15.31s/link]"
     ]
    },
    {
     "name": "stdout",
     "output_type": "stream",
     "text": [
      "댓글 개수: 0\n"
     ]
    },
    {
     "name": "stderr",
     "output_type": "stream",
     "text": [
      "댓글 수집 중: 100%|██████████| 7/7 [00:00<00:00, 26.81it/s] 19.85s/link]\n",
      "Processing Links:  28%|██▊       | 21/76 [06:09<16:15, 17.74s/link]"
     ]
    },
    {
     "name": "stdout",
     "output_type": "stream",
     "text": [
      "댓글 개수: 7\n"
     ]
    },
    {
     "name": "stderr",
     "output_type": "stream",
     "text": [
      "댓글 수집 중: 100%|██████████| 1/1 [00:00<00:00, 23.22it/s] 21.22s/link]\n",
      "Processing Links:  34%|███▍      | 26/76 [07:51<15:33, 18.68s/link]"
     ]
    },
    {
     "name": "stdout",
     "output_type": "stream",
     "text": [
      "댓글 개수: 1\n"
     ]
    },
    {
     "name": "stderr",
     "output_type": "stream",
     "text": [
      "댓글 수집 중: 100%|██████████| 1/1 [00:00<00:00, 22.48it/s] 20.57s/link]\n",
      "Processing Links:  38%|███▊      | 29/76 [08:48<14:03, 17.94s/link]"
     ]
    },
    {
     "name": "stdout",
     "output_type": "stream",
     "text": [
      "댓글 개수: 1\n"
     ]
    },
    {
     "name": "stderr",
     "output_type": "stream",
     "text": [
      "댓글 수집 중: 100%|██████████| 6/6 [00:00<00:00, 30.19it/s] 20.84s/link]\n",
      "Processing Links:  43%|████▎     | 33/76 [10:07<13:02, 18.20s/link]"
     ]
    },
    {
     "name": "stdout",
     "output_type": "stream",
     "text": [
      "댓글 개수: 6\n"
     ]
    },
    {
     "name": "stderr",
     "output_type": "stream",
     "text": [
      "댓글 수집 중: 100%|██████████| 12/12 [00:00<00:00, 28.34it/s]0.26s/link]\n",
      "Processing Links:  47%|████▋     | 36/76 [11:04<11:56, 17.92s/link]"
     ]
    },
    {
     "name": "stdout",
     "output_type": "stream",
     "text": [
      "댓글 개수: 12\n"
     ]
    },
    {
     "name": "stderr",
     "output_type": "stream",
     "text": [
      "댓글 수집 중: 100%|██████████| 1/1 [00:00<00:00, 34.88it/s]\n",
      "Processing Links:  49%|████▊     | 37/76 [11:16<10:30, 16.16s/link]"
     ]
    },
    {
     "name": "stdout",
     "output_type": "stream",
     "text": [
      "댓글 개수: 1\n"
     ]
    },
    {
     "name": "stderr",
     "output_type": "stream",
     "text": [
      "댓글 수집 중: 100%|██████████| 28/28 [00:00<00:00, 32.08it/s]0.79s/link]\n",
      "Processing Links:  55%|█████▌    | 42/76 [12:59<10:37, 18.74s/link]"
     ]
    },
    {
     "name": "stdout",
     "output_type": "stream",
     "text": [
      "댓글 개수: 26\n"
     ]
    },
    {
     "name": "stderr",
     "output_type": "stream",
     "text": [
      "댓글 수집 중: 100%|██████████| 15/15 [00:00<00:00, 35.67it/s]\n",
      "Processing Links:  57%|█████▋    | 43/76 [13:11<09:15, 16.83s/link]"
     ]
    },
    {
     "name": "stdout",
     "output_type": "stream",
     "text": [
      "댓글 개수: 14\n"
     ]
    },
    {
     "name": "stderr",
     "output_type": "stream",
     "text": [
      "댓글 수집 중: 100%|██████████| 5/5 [00:00<00:00, 33.83it/s]\n",
      "Processing Links:  58%|█████▊    | 44/76 [13:23<08:13, 15.42s/link]"
     ]
    },
    {
     "name": "stdout",
     "output_type": "stream",
     "text": [
      "댓글 개수: 5\n"
     ]
    },
    {
     "name": "stderr",
     "output_type": "stream",
     "text": [
      "댓글 수집 중: 100%|██████████| 1/1 [00:00<00:00, 24.35it/s] 20.80s/link]\n",
      "Processing Links:  64%|██████▍   | 49/76 [15:06<08:13, 18.30s/link]"
     ]
    },
    {
     "name": "stdout",
     "output_type": "stream",
     "text": [
      "댓글 개수: 1\n"
     ]
    },
    {
     "name": "stderr",
     "output_type": "stream",
     "text": [
      "댓글 수집 중: 100%|██████████| 5/5 [00:00<00:00, 32.44it/s]\n",
      "Processing Links:  66%|██████▌   | 50/76 [15:18<07:10, 16.56s/link]"
     ]
    },
    {
     "name": "stdout",
     "output_type": "stream",
     "text": [
      "댓글 개수: 5\n"
     ]
    },
    {
     "name": "stderr",
     "output_type": "stream",
     "text": [
      "댓글 수집 중: 100%|██████████| 1/1 [00:00<00:00, 57.52it/s]\n",
      "Processing Links:  67%|██████▋   | 51/76 [15:30<06:21, 15.24s/link]"
     ]
    },
    {
     "name": "stdout",
     "output_type": "stream",
     "text": [
      "댓글 개수: 0\n"
     ]
    },
    {
     "name": "stderr",
     "output_type": "stream",
     "text": [
      "댓글 수집 중: 100%|██████████| 5/5 [00:00<00:00, 32.04it/s] 17.33s/link]\n",
      "Processing Links:  70%|██████▉   | 53/76 [16:05<06:02, 15.78s/link]"
     ]
    },
    {
     "name": "stdout",
     "output_type": "stream",
     "text": [
      "댓글 개수: 4\n"
     ]
    },
    {
     "name": "stderr",
     "output_type": "stream",
     "text": [
      "댓글 수집 중: 100%|██████████| 2/2 [00:00<00:00, 29.21it/s]\n",
      "Processing Links:  71%|███████   | 54/76 [16:17<05:22, 14.66s/link]"
     ]
    },
    {
     "name": "stdout",
     "output_type": "stream",
     "text": [
      "댓글 개수: 2\n"
     ]
    },
    {
     "name": "stderr",
     "output_type": "stream",
     "text": [
      "댓글 수집 중: 100%|██████████| 2/2 [00:00<00:00, 28.99it/s]\n",
      "Processing Links:  72%|███████▏  | 55/76 [16:29<04:50, 13.85s/link]"
     ]
    },
    {
     "name": "stdout",
     "output_type": "stream",
     "text": [
      "댓글 개수: 2\n"
     ]
    },
    {
     "name": "stderr",
     "output_type": "stream",
     "text": [
      "댓글 수집 중: 100%|██████████| 1/1 [00:00<00:00, 29.92it/s]\n",
      "Processing Links:  74%|███████▎  | 56/76 [16:41<04:30, 13.50s/link]"
     ]
    },
    {
     "name": "stdout",
     "output_type": "stream",
     "text": [
      "댓글 개수: 1\n"
     ]
    },
    {
     "name": "stderr",
     "output_type": "stream",
     "text": [
      "댓글 수집 중: 100%|██████████| 4/4 [00:00<00:00, 39.49it/s] 21.11s/link]\n",
      "Processing Links:  82%|████████▏ | 62/76 [18:47<04:18, 18.47s/link]"
     ]
    },
    {
     "name": "stdout",
     "output_type": "stream",
     "text": [
      "댓글 개수: 2\n"
     ]
    },
    {
     "name": "stderr",
     "output_type": "stream",
     "text": [
      "댓글 수집 중: 100%|██████████| 1/1 [00:00<00:00, 22.04it/s] 19.66s/link]\n",
      "Processing Links:  84%|████████▍ | 64/76 [19:21<03:28, 17.38s/link]"
     ]
    },
    {
     "name": "stdout",
     "output_type": "stream",
     "text": [
      "댓글 개수: 1\n"
     ]
    },
    {
     "name": "stderr",
     "output_type": "stream",
     "text": [
      "댓글 수집 중: 100%|██████████| 3/3 [00:00<00:00, 25.75it/s] 18.96s/link]\n",
      "Processing Links:  87%|████████▋ | 66/76 [19:56<02:49, 16.95s/link]"
     ]
    },
    {
     "name": "stdout",
     "output_type": "stream",
     "text": [
      "댓글 개수: 2\n"
     ]
    },
    {
     "name": "stderr",
     "output_type": "stream",
     "text": [
      "댓글 수집 중: 100%|██████████| 11/11 [00:00<00:00, 32.37it/s]8.48s/link]\n",
      "Processing Links:  89%|████████▉ | 68/76 [20:30<02:13, 16.67s/link]"
     ]
    },
    {
     "name": "stdout",
     "output_type": "stream",
     "text": [
      "댓글 개수: 10\n"
     ]
    },
    {
     "name": "stderr",
     "output_type": "stream",
     "text": [
      "댓글 수집 중: 100%|██████████| 1/1 [00:00<00:00, 24.46it/s] 18.44s/link]\n",
      "Processing Links:  92%|█████████▏| 70/76 [21:05<01:39, 16.61s/link]"
     ]
    },
    {
     "name": "stdout",
     "output_type": "stream",
     "text": [
      "댓글 개수: 1\n"
     ]
    },
    {
     "name": "stderr",
     "output_type": "stream",
     "text": [
      "댓글 수집 중: 100%|██████████| 22/22 [00:00<00:00, 32.35it/s]8.34s/link]\n",
      "Processing Links:  95%|█████████▍| 72/76 [21:42<01:07, 16.99s/link]"
     ]
    },
    {
     "name": "stdout",
     "output_type": "stream",
     "text": [
      "댓글 개수: 22\n"
     ]
    },
    {
     "name": "stderr",
     "output_type": "stream",
     "text": [
      "댓글 수집 중: 100%|██████████| 2/2 [00:00<00:00, 32.05it/s]\n",
      "Processing Links:  96%|█████████▌| 73/76 [21:54<00:46, 15.52s/link]"
     ]
    },
    {
     "name": "stdout",
     "output_type": "stream",
     "text": [
      "댓글 개수: 2\n"
     ]
    },
    {
     "name": "stderr",
     "output_type": "stream",
     "text": [
      "댓글 수집 중: 100%|██████████| 9/9 [00:00<00:00, 37.04it/s]\n",
      "Processing Links:  97%|█████████▋| 74/76 [22:06<00:29, 14.58s/link]"
     ]
    },
    {
     "name": "stdout",
     "output_type": "stream",
     "text": [
      "댓글 개수: 8\n"
     ]
    },
    {
     "name": "stderr",
     "output_type": "stream",
     "text": [
      "댓글 수집 중: 100%|██████████| 1/1 [00:00<00:00, 32.50it/s]\n",
      "Processing Links:  99%|█████████▊| 75/76 [22:18<00:13, 13.82s/link]"
     ]
    },
    {
     "name": "stdout",
     "output_type": "stream",
     "text": [
      "댓글 개수: 1\n"
     ]
    },
    {
     "name": "stderr",
     "output_type": "stream",
     "text": [
      "Processing Links: 100%|██████████| 76/76 [22:41<00:00, 17.91s/link]\n"
     ]
    }
   ],
   "source": [
    "for data in tqdm(data_list1, desc=\"Processing Links\", unit=\"link\"):\n",
    "    url = data['URL']\n",
    "    process_link(url)\n",
    "\n",
    "client.close()\n",
    "driver.quit()"
   ]
  }
 ],
 "metadata": {
  "kernelspec": {
   "display_name": "Python 3",
   "language": "python",
   "name": "python3"
  },
  "language_info": {
   "codemirror_mode": {
    "name": "ipython",
    "version": 3
   },
   "file_extension": ".py",
   "mimetype": "text/x-python",
   "name": "python",
   "nbconvert_exporter": "python",
   "pygments_lexer": "ipython3",
   "version": "3.11.4"
  }
 },
 "nbformat": 4,
 "nbformat_minor": 2
}
