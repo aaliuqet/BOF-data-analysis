{
 "cells": [
  {
   "cell_type": "code",
   "execution_count": 57,
   "metadata": {},
   "outputs": [],
   "source": [
    "from selenium import webdriver\n",
    "from selenium.webdriver.common.keys import Keys\n",
    "from selenium.webdriver.common.by import By\n",
    "from pytube import YouTube\n",
    "from pymongo import MongoClient\n",
    "from tqdm import tqdm\n",
    "from selenium.webdriver.support.ui import WebDriverWait\n",
    "from selenium.webdriver.support import expected_conditions as EC\n",
    "import time\n",
    "import urllib.request\n",
    "import datetime\n",
    "import copy"
   ]
  },
  {
   "cell_type": "code",
   "execution_count": 58,
   "metadata": {},
   "outputs": [],
   "source": [
    "# MongoDB 클라이언트 및 컬렉션 설정\n",
    "client = MongoClient(host=\"\", port=, username='', password='')\n",
    "db = client['YouTube_crawling']\n",
    "collection = db['OneAsia_YouTube_shorts_crawling']\n",
    "data_list = list(collection.find({\"검색키워드\" : \"釜山ワンアジアフェスティバル\"}, {\"_id\": 1, \"URL\": 1}))"
   ]
  },
  {
   "cell_type": "code",
   "execution_count": 59,
   "metadata": {},
   "outputs": [],
   "source": [
    "data_list1 = copy.deepcopy(data_list)"
   ]
  },
  {
   "cell_type": "code",
   "execution_count": 60,
   "metadata": {},
   "outputs": [],
   "source": [
    "driver = webdriver.Chrome()"
   ]
  },
  {
   "cell_type": "code",
   "execution_count": 61,
   "metadata": {},
   "outputs": [],
   "source": [
    "# 좋아요 개수를 변환 (ex) 1.3천 → 1300, 1.3만 → 13000 형식으로 변환)\n",
    "def convert_like_count(like_count_text):\n",
    "    if '천' in like_count_text:\n",
    "        count = int(float(like_count_text.replace('천', '')) * 1000)\n",
    "    elif '만' in like_count_text:\n",
    "        count = int(float(like_count_text.replace('만', '')) * 10000)\n",
    "    else:\n",
    "        count = int(like_count_text)\n",
    "    return count"
   ]
  },
  {
   "cell_type": "code",
   "execution_count": 62,
   "metadata": {},
   "outputs": [],
   "source": [
    "def process_link(url):\n",
    "    try:\n",
    "        driver.get(url)\n",
    "\n",
    "        time.sleep(3)\n",
    "\n",
    "        # 좋아요 개수 가져오기\n",
    "        try:\n",
    "            like_count_span = WebDriverWait(driver, 10).until(\n",
    "                EC.presence_of_element_located((By.CSS_SELECTOR, \"div[aria-hidden='true'] span.yt-core-attributed-string\"))\n",
    "            )\n",
    "    \n",
    "            # 좋아요 개수를 추출합니다.\n",
    "            like_count_text = like_count_span.text\n",
    "            like_count = convert_like_count(like_count_text)\n",
    "\n",
    "        except Exception as e:\n",
    "            # 좋아요 개수를 찾을 수 없으면 0을 할당\n",
    "            like_count = 0\n",
    "\n",
    "        print(f\"Like count: {like_count}\")\n",
    "\n",
    "        # Mongodb에 적재\n",
    "        collection.update_one({\"URL\": url}, {\"$set\": {\n",
    "            \"좋아요\": like_count\n",
    "        }})\n",
    "\n",
    "        time.sleep(3)\n",
    "\n",
    "    except Exception as e:\n",
    "        print(\"URL 처리 중 오류 발생:\", e)"
   ]
  },
  {
   "cell_type": "code",
   "execution_count": 63,
   "metadata": {},
   "outputs": [
    {
     "name": "stderr",
     "output_type": "stream",
     "text": [
      "Processing Links:   0%|          | 0/10 [00:00<?, ?link/s]"
     ]
    },
    {
     "name": "stdout",
     "output_type": "stream",
     "text": [
      "Like count: 3\n"
     ]
    },
    {
     "name": "stderr",
     "output_type": "stream",
     "text": [
      "Processing Links:  10%|█         | 1/10 [00:08<01:14,  8.31s/link]"
     ]
    },
    {
     "name": "stdout",
     "output_type": "stream",
     "text": [
      "Like count: 7\n"
     ]
    },
    {
     "name": "stderr",
     "output_type": "stream",
     "text": [
      "Processing Links:  20%|██        | 2/10 [00:15<01:01,  7.74s/link]"
     ]
    },
    {
     "name": "stdout",
     "output_type": "stream",
     "text": [
      "Like count: 22\n"
     ]
    },
    {
     "name": "stderr",
     "output_type": "stream",
     "text": [
      "Processing Links:  30%|███       | 3/10 [00:23<00:53,  7.59s/link]"
     ]
    },
    {
     "name": "stdout",
     "output_type": "stream",
     "text": [
      "Like count: 27\n"
     ]
    },
    {
     "name": "stderr",
     "output_type": "stream",
     "text": [
      "Processing Links:  40%|████      | 4/10 [00:30<00:45,  7.62s/link]"
     ]
    },
    {
     "name": "stdout",
     "output_type": "stream",
     "text": [
      "Like count: 1\n"
     ]
    },
    {
     "name": "stderr",
     "output_type": "stream",
     "text": [
      "Processing Links:  50%|█████     | 5/10 [00:38<00:37,  7.56s/link]"
     ]
    },
    {
     "name": "stdout",
     "output_type": "stream",
     "text": [
      "Like count: 3\n"
     ]
    },
    {
     "name": "stderr",
     "output_type": "stream",
     "text": [
      "Processing Links:  60%|██████    | 6/10 [00:45<00:30,  7.56s/link]"
     ]
    },
    {
     "name": "stdout",
     "output_type": "stream",
     "text": [
      "Like count: 3\n"
     ]
    },
    {
     "name": "stderr",
     "output_type": "stream",
     "text": [
      "Processing Links:  70%|███████   | 7/10 [00:53<00:22,  7.47s/link]"
     ]
    },
    {
     "name": "stdout",
     "output_type": "stream",
     "text": [
      "Like count: 37\n"
     ]
    },
    {
     "name": "stderr",
     "output_type": "stream",
     "text": [
      "Processing Links:  80%|████████  | 8/10 [01:00<00:15,  7.53s/link]"
     ]
    },
    {
     "name": "stdout",
     "output_type": "stream",
     "text": [
      "Like count: 70\n"
     ]
    },
    {
     "name": "stderr",
     "output_type": "stream",
     "text": [
      "Processing Links:  90%|█████████ | 9/10 [01:08<00:07,  7.49s/link]"
     ]
    },
    {
     "name": "stdout",
     "output_type": "stream",
     "text": [
      "Like count: 530\n"
     ]
    },
    {
     "name": "stderr",
     "output_type": "stream",
     "text": [
      "Processing Links: 100%|██████████| 10/10 [01:15<00:00,  7.54s/link]\n"
     ]
    }
   ],
   "source": [
    "for data in tqdm(data_list1, desc=\"Processing Links\", unit=\"link\"):\n",
    "    url = data['URL']\n",
    "    process_link(url)\n",
    "\n",
    "client.close()\n",
    "driver.quit()"
   ]
  }
 ],
 "metadata": {
  "kernelspec": {
   "display_name": "Python 3",
   "language": "python",
   "name": "python3"
  },
  "language_info": {
   "codemirror_mode": {
    "name": "ipython",
    "version": 3
   },
   "file_extension": ".py",
   "mimetype": "text/x-python",
   "name": "python",
   "nbconvert_exporter": "python",
   "pygments_lexer": "ipython3",
   "version": "3.11.4"
  }
 },
 "nbformat": 4,
 "nbformat_minor": 2
}
