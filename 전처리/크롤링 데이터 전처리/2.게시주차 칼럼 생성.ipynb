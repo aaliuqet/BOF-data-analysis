{
 "cells": [
  {
   "cell_type": "code",
   "execution_count": 16,
   "metadata": {},
   "outputs": [],
   "source": [
    "from pymongo import MongoClient\n",
    "import copy\n",
    "from tqdm import tqdm\n",
    "from datetime import datetime"
   ]
  },
  {
   "cell_type": "code",
   "execution_count": 17,
   "metadata": {},
   "outputs": [],
   "source": [
    "# MongoDB 클라이언트 및 컬렉션 설정\n",
    "client = MongoClient(host=\"\", port=, username='', password='')\n",
    "db = client['BOF2024_crawling']\n",
    "collection = db['tiktok_crawling']\n",
    "data_list = list(collection.find({\"검색키워드\": \"BOF 釜山\"}, {\"_id\": 1, \"검색키워드\": 1, \"업로드 날짜\" : 1}))\n",
    "client.close()"
   ]
  },
  {
   "cell_type": "code",
   "execution_count": 18,
   "metadata": {},
   "outputs": [],
   "source": [
    "data_list1 = copy.deepcopy(data_list)"
   ]
  },
  {
   "cell_type": "code",
   "execution_count": 19,
   "metadata": {},
   "outputs": [
    {
     "name": "stderr",
     "output_type": "stream",
     "text": [
      "100%|██████████| 52/52 [00:00<?, ?it/s]\n"
     ]
    }
   ],
   "source": [
    "# 업로드 날짜를 기준으로 업로드 주차를 생성\n",
    "for data in tqdm(data_list1): \n",
    "    \n",
    "    year = int(data['업로드 날짜'][:4])\n",
    "    month = int(data['업로드 날짜'][5:7])  \n",
    "    day = int(data['업로드 날짜'][8:10])   \n",
    "\n",
    "    if month == 1:  \n",
    "        day = day + 7\n",
    "        if day > 31:\n",
    "            day = 31\n",
    "        dt = datetime(year, month, day)\n",
    "        data['업로드주차'] = '{}년 {}주차'.format(year, dt.isocalendar()[1] - 1)\n",
    "\n",
    "    elif month == 12:\n",
    "        day = day - 7\n",
    "        if day < 1:\n",
    "            day = 1\n",
    "        dt = datetime(year, month, day)\n",
    "        data['업로드주차'] = '{}년 {}주차'.format(year, dt.isocalendar()[1] + 1)\n",
    "        \n",
    "    else:\n",
    "        dt = datetime(year, month, day)\n",
    "        data['업로드주차'] = '{}년 {}주차'.format(year, dt.isocalendar()[1])"
   ]
  },
  {
   "cell_type": "code",
   "execution_count": 20,
   "metadata": {},
   "outputs": [
    {
     "name": "stderr",
     "output_type": "stream",
     "text": [
      "100%|██████████| 52/52 [00:00<00:00, 99.69it/s] \n"
     ]
    }
   ],
   "source": [
    "# MongoDB 접속\n",
    "client = MongoClient(host=\"1.234.51.110\", port=38019, username='clawling', password='goodtime**95')\n",
    "db = client['BOF2024_crawling']\n",
    "collection = db['tiktok_crawling']\n",
    "\n",
    "# 게시주차 업데이트\n",
    "for data in tqdm(data_list1):\n",
    "    if '업로드주차' in data:\n",
    "        collection.update_one({\"_id\": data[\"_id\"]}, {\"$set\": {\"업로드주차\": data['업로드주차']}})\n",
    "client.close()"
   ]
  }
 ],
 "metadata": {
  "kernelspec": {
   "display_name": "Python 3",
   "language": "python",
   "name": "python3"
  },
  "language_info": {
   "codemirror_mode": {
    "name": "ipython",
    "version": 3
   },
   "file_extension": ".py",
   "mimetype": "text/x-python",
   "name": "python",
   "nbconvert_exporter": "python",
   "pygments_lexer": "ipython3",
   "version": "3.11.4"
  }
 },
 "nbformat": 4,
 "nbformat_minor": 2
}
