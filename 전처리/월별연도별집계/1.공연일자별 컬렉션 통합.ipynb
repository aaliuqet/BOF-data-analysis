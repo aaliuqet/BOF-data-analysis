{
 "cells": [
  {
   "cell_type": "code",
   "execution_count": 101,
   "metadata": {},
   "outputs": [],
   "source": [
    "from pymongo import MongoClient\n",
    "import copy\n",
    "from tqdm import tqdm"
   ]
  },
  {
   "cell_type": "code",
   "execution_count": 102,
   "metadata": {},
   "outputs": [],
   "source": [
    "# MongoDB 클라이언트 및 컬렉션 설정\n",
    "client = MongoClient(host=\"\", port=, username='', password='')\n",
    "db = client['YouTube_crawling']\n",
    "collection = db['OneAsia_YouTube_crawling_copy1']\n",
    "data_list_a = list(collection.find({\"검색키워드\" : \"Busan One Asia Festival\"}, {\"제목\" : 1, \"URL\" : 1, \"채널명\" : 1, \"조회수\" : 1, \"업로드 날짜\" : 1, \"검색키워드\" : 1, \"설명\" : 1, \"좋아요\" : 1, \"댓글\" : 1, \"댓글 개수\" : 1, \"출연진\" : 1, \"공연일자\" : 1}))    # 필요한 데이터의 내용\n",
    "client.close()"
   ]
  },
  {
   "cell_type": "code",
   "execution_count": 103,
   "metadata": {},
   "outputs": [],
   "source": [
    "data_list1 = copy.deepcopy(data_list_a)"
   ]
  },
  {
   "cell_type": "code",
   "execution_count": 104,
   "metadata": {},
   "outputs": [],
   "source": [
    "# 업데이트 해줄 통합 컬렉션 설정\n",
    "client = MongoClient(host=\"1.234.51.110\", port=38019, username='clawling', password='goodtime**95')\n",
    "db = client['OneAsia2024']\n",
    "collection = db['youtube_oneasia_crawling_english_year']"
   ]
  },
  {
   "cell_type": "code",
   "execution_count": 105,
   "metadata": {},
   "outputs": [],
   "source": [
    "for month in ['2016', '2017', '2018', '2019', '2021', '2022', '2023']:\n",
    "    # 초기 변수 설정\n",
    "    new_data = {}       # 전체 데이터\n",
    "\n",
    "    youtube_video = []     # 유튜브 데이터\n",
    "    youtube_num = 0        # 유튜브 언급량 데이터\n",
    "    cast_count = {}        # 출연진별 언급량 카운트\n",
    "\n",
    "    # 언급량과 유튜브 데이터 생성\n",
    "    for data in data_list1:\n",
    "        if data['공연일자'][:4] == month: \n",
    "            # 키워드별로 데이터를 찾는다.\n",
    "            if 'Busan One Asia Festival' in data['검색키워드'] : #바꿔줘야할 검색키워드 부분\n",
    "                youtube_data = {}\n",
    "                youtube_data['제목'] = data['제목']\n",
    "                youtube_data['채널명'] = data['채널명']\n",
    "                youtube_data['URL'] = data['URL']\n",
    "                youtube_data['조회수'] = data['조회수']\n",
    "                youtube_data['업로드 날짜'] = data['업로드 날짜']\n",
    "                youtube_data['좋아요'] = data['좋아요']\n",
    "                youtube_data['설명'] = data['설명']\n",
    "                youtube_data['댓글'] = data['댓글']\n",
    "                youtube_data['댓글 개수'] = data['댓글 개수']\n",
    "                \n",
    "                # 출연진 정보가 있는 경우\n",
    "                if '출연진' in data and data['출연진'] != \"\":\n",
    "                    cast_list = data['출연진'].split(\",\") # 출연진을 쉼표로 나눠서 리스트로 변환\n",
    "                    for cast in cast_list:\n",
    "                        # 출연진별로 언급량 카운트\n",
    "                        if cast.strip() in cast_count:\n",
    "                            cast_count[cast.strip()] += 1\n",
    "                        else:\n",
    "                            cast_count[cast.strip()] = 1\n",
    "\n",
    "                youtube_num += 1\n",
    "                youtube_video.append(youtube_data)\n",
    "\n",
    "    # 출연진별 언급량을 출연진목록 배열에 추가\n",
    "    cast_list = []\n",
    "    for cast, count in cast_count.items():\n",
    "        cast_info = {\n",
    "            \"출연진\": cast,\n",
    "            \"출연진언급량\": count\n",
    "        }\n",
    "        cast_list.append(cast_info)\n",
    "\n",
    "    new_data['_id'] = 'BusanOneAsiaFestival' + month\n",
    "    new_data['기준년월'] = month                            \n",
    "    new_data['유튜브'] = youtube_video                      \n",
    "    new_data['키워드'] = 'BusanOneAsiaFestival' # 키워드 설정해줘야 함        \n",
    "    new_data['유튜브언급량'] = youtube_num                        \n",
    "    new_data['출연진목록'] = cast_list\n",
    "\n",
    "    collection.insert_one(new_data)  \n"
   ]
  },
  {
   "cell_type": "code",
   "execution_count": 106,
   "metadata": {},
   "outputs": [],
   "source": [
    "client.close()"
   ]
  }
 ],
 "metadata": {
  "kernelspec": {
   "display_name": "Python 3",
   "language": "python",
   "name": "python3"
  },
  "language_info": {
   "codemirror_mode": {
    "name": "ipython",
    "version": 3
   },
   "file_extension": ".py",
   "mimetype": "text/x-python",
   "name": "python",
   "nbconvert_exporter": "python",
   "pygments_lexer": "ipython3",
   "version": "3.11.4"
  }
 },
 "nbformat": 4,
 "nbformat_minor": 2
}
